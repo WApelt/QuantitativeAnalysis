{
 "cells": [
  {
   "cell_type": "markdown",
   "metadata": {},
   "source": [
    " # Tutorial Data Handling\n",
    " # Table of Contents\n",
    " 1. [Introduction](#introduction)\n",
    " 2. [Data Input and Output](#data)\n",
    " 3. [Descriptive Statistics](#descriptive)\n",
    " 4. [Plotting](#plot)\n",
    " 5. [Queries](#filter)\n",
    " 6. [Mutations](#small)\n",
    " 7. [Appendix](#documentation)\n",
    "\n",
    "\n",
    "\n",
    "\n",
    "   "
   ]
  },
  {
   "cell_type": "markdown",
   "metadata": {},
   "source": [
    "# TODO\n",
    "3. write Change of Column Types in a Dataframe \n",
    "6. Pull request an Arnau Valladares-Esteban schicken\n"
   ]
  },
  {
   "cell_type": "markdown",
   "metadata": {},
   "source": [
    "<a id=\"introduction\"></a> \n",
    " # Introduction\n",
    "This tutorial covers the topic of **Basics of Data Handling**. We will give an overview of how to get, prepare, and illustrate your data in such a way that you can go on and perform potentially statistical analysis. \n",
    "The importance of Data Handling has numerous arguments, however one striking argument is that your data handling is the base for all further operations you will perform on your data. Meaning, if your base is not correctly build-up all further operations are doomed to be hazardous to your objective of performing a sound analysis on your data.\n",
    "Therefore it makes sense to actively confront oneself with the in's and out's of data handling. Additionally, as it is a recurring work that has to be performed the time gains achieved when improving your data handling can be quite substantial. "
   ]
  },
  {
   "cell_type": "code",
   "execution_count": 1,
   "metadata": {},
   "outputs": [
    {
     "name": "stdout",
     "output_type": "stream",
     "text": [
      "\u001b[32m\u001b[1m  Updating\u001b[22m\u001b[39m registry at `C:\\Users\\A\\.julia\\registries\\General`\n",
      "\u001b[32m\u001b[1m  Updating\u001b[22m\u001b[39m git-repo `https://github.com/JuliaRegistries/General.git`\n",
      "\u001b[2K\u001b[?25h[1mFetching:\u001b[22m\u001b[39m [========================================>]  100.0 %.0 %>                                   ]  11.1 %                               ]  20.4 %]  35.8 %.2 %\u001b[36m\u001b[1mFetching:\u001b[22m\u001b[39m [=======================>                 ]  56.8 %        ]  79.6 % [========================================>]  98.1 %"
     ]
    },
    {
     "ename": "Pkg.Types.PkgError",
     "evalue": "The following package names could not be resolved:\n * DataFrame (not found in project, manifest or registry)\nPlease specify by known `name=uuid`.",
     "output_type": "error",
     "traceback": [
      "The following package names could not be resolved:\n * DataFrame (not found in project, manifest or registry)\nPlease specify by known `name=uuid`.",
      "",
      "Stacktrace:",
      " [1] pkgerror(::String) at C:\\cygwin\\home\\Administrator\\buildbot\\worker\\package_win64\\build\\usr\\share\\julia\\stdlib\\v1.1\\Pkg\\src\\Types.jl:120",
      " [2] #ensure_resolved#72(::Bool, ::Function, ::Pkg.Types.EnvCache, ::Array{Pkg.Types.PackageSpec,1}) at C:\\cygwin\\home\\Administrator\\buildbot\\worker\\package_win64\\build\\usr\\share\\julia\\stdlib\\v1.1\\Pkg\\src\\Types.jl:1010",
      " [3] #ensure_resolved at .\\none:0 [inlined]",
      " [4] #add_or_develop#15(::Symbol, ::Bool, ::Base.Iterators.Pairs{Union{},Union{},Tuple{},NamedTuple{(),Tuple{}}}, ::Function, ::Pkg.Types.Context, ::Array{Pkg.Types.PackageSpec,1}) at C:\\cygwin\\home\\Administrator\\buildbot\\worker\\package_win64\\build\\usr\\share\\julia\\stdlib\\v1.1\\Pkg\\src\\API.jl:49",
      " [5] #add_or_develop at .\\none:0 [inlined]",
      " [6] #add_or_develop#14 at C:\\cygwin\\home\\Administrator\\buildbot\\worker\\package_win64\\build\\usr\\share\\julia\\stdlib\\v1.1\\Pkg\\src\\API.jl:31 [inlined]",
      " [7] #add_or_develop at .\\none:0 [inlined]",
      " [8] #add_or_develop#13 at C:\\cygwin\\home\\Administrator\\buildbot\\worker\\package_win64\\build\\usr\\share\\julia\\stdlib\\v1.1\\Pkg\\src\\API.jl:29 [inlined]",
      " [9] #add_or_develop at .\\none:0 [inlined]",
      " [10] #add_or_develop#12(::Base.Iterators.Pairs{Symbol,Symbol,Tuple{Symbol},NamedTuple{(:mode,),Tuple{Symbol}}}, ::Function, ::String) at C:\\cygwin\\home\\Administrator\\buildbot\\worker\\package_win64\\build\\usr\\share\\julia\\stdlib\\v1.1\\Pkg\\src\\API.jl:28",
      " [11] add(::String) at .\\none:0",
      " [12] top-level scope at In[1]:3"
     ]
    }
   ],
   "source": [
    "# Installing all the Packages we use later\n",
    "using Pkg\n",
    "Pkg.add(\"DataFrames\")\n",
    "Pkg.add(\"VegaDatasets\")\n",
    "Pkg.add(\"FileIO\")\n",
    "Pkg.add(\"CSV\")\n",
    "Pkg.add(\"ExcelFiles\")\n",
    "Pkg.add(\"Query\")\n",
    "Pkg.add(\"StatsKit\")\n",
    "Pkg.add(\"JSON\")"
   ]
  },
  {
   "cell_type": "markdown",
   "metadata": {},
   "source": [
    "<a id=\"data\"></a>\n",
    "# Data Input and Output\n",
    "To do any data related task we first have to get the data into the Julia enviroment. In this section we cover some of the options currently available.\n",
    "First of all we can enter the data manually into Julia. As we will later work with the classical Iris dataset we show how we could enter at least part of that data manually. First we create an empty DataFrame with the correct structure and column types. Then with the vcat() function we add one entry into this dataframe.  "
   ]
  },
  {
   "cell_type": "code",
   "execution_count": 2,
   "metadata": {},
   "outputs": [
    {
     "ename": "UndefVarError",
     "evalue": "UndefVarError: DataFrame not defined",
     "output_type": "error",
     "traceback": [
      "UndefVarError: DataFrame not defined",
      "",
      "Stacktrace:",
      " [1] top-level scope at In[2]:1"
     ]
    }
   ],
   "source": [
    "using(DataFrames)\n",
    "# Create an empty DataFrame \n",
    "df = DataFrame(petalLength=Float64[], \n",
    "    sepalWidth=Float64[], \n",
    "    sepalLength=Float64[], \n",
    "    petalWidth=Float64[], \n",
    "    species=String[])\n",
    "# Add one entry to the DataFrame\n",
    "df = vcat(df, DataFrame(petalLength=1.4, sepalWidth = 3.5, sepalLength =5.1, petalWidth = 0.2, species =\"setosa\"))"
   ]
  },
  {
   "cell_type": "markdown",
   "metadata": {},
   "source": [
    "As we can see this code created a DataFrame with measurements for one iris flower. It is clear that although it would be possible to enter as many observations as we want that way that this is not a good way to do it. Even if we collect data our selfs we would normaly prefer to enter it either in to excel or a statistical package instead of the process shown above. So as a practical advise only use the manual entry of data for parameters other then that use import function developed for julia.\n",
    "\n",
    "## Data import and Export\n",
    "\n",
    "For Data Import and Export we use the FileIO package which is a Meta Package supporting many different Fileformats. The advantage is that it creates a common syntax of load(\"filename\") and save(\"filename\", object).  To make the example reproduceable for everyone we use a Dataset provided in the VegaDatasets Package. Therefore we also have a slightly unorthodox order. We export this dataset first and show how to save it as a csv file and as an xlsx file. And then import it back to Julia to show how this can be done. In the code below we first load the Iris Dataset then we pipe the dataset into the save function and enter the filename. Depending on the fileformat additional options can be available. For example you could specify a delimiter for the csv file but in general the standard options work well."
   ]
  },
  {
   "cell_type": "code",
   "execution_count": 3,
   "metadata": {
    "scrolled": true
   },
   "outputs": [],
   "source": [
    "using VegaDatasets\n",
    "using DataFrames\n",
    "using FileIO\n",
    "using Query\n",
    "iris = dataset(\"Iris\")\n",
    "iris |> save(\"iris.csv\")\n",
    "iris |> save(\"iris.xlsx\")\n"
   ]
  },
  {
   "cell_type": "markdown",
   "metadata": {},
   "source": [
    "As you can see this gets quite repetitive so we will not show how to save or load other fileformats. To export data in a different file format you would  have to change the file ending. Be aware that the FileIO package does not provide IO functionality for  Fileformats but uses other packages to do that. So for every fileformat you need you have to install a specific package. In the case of a csv-file it is the CSV package for XLSX it is ExcelFiles.<br>\n",
    "After we created a csv-file and an xlsx-file we show how to import those. The Basic syntax is load(\"filename\"). For Excel the Excel file we have to specify which Sheet we want to import. It is possible to restrict the Imported Area in the Excel file with following command \"Sheetname!Area\" as you can see in the code below. If no restriction is given the whole sheet is imported."
   ]
  },
  {
   "cell_type": "code",
   "execution_count": 4,
   "metadata": {},
   "outputs": [
    {
     "data": {
      "text/html": [
       "<table class=\"data-frame\"><thead><tr><th></th><th>petalLength</th><th>sepalWidth</th></tr><tr><th></th><th>Float64</th><th>Float64</th></tr></thead><tbody><p>3 rows × 2 columns</p><tr><th>1</th><td>1.4</td><td>3.5</td></tr><tr><th>2</th><td>1.4</td><td>3.0</td></tr><tr><th>3</th><td>1.3</td><td>3.2</td></tr></tbody></table>"
      ],
      "text/latex": [
       "\\begin{tabular}{r|cc}\n",
       "\t& petalLength & sepalWidth\\\\\n",
       "\t\\hline\n",
       "\t& Float64 & Float64\\\\\n",
       "\t\\hline\n",
       "\t1 & 1.4 & 3.5 \\\\\n",
       "\t2 & 1.4 & 3.0 \\\\\n",
       "\t3 & 1.3 & 3.2 \\\\\n",
       "\\end{tabular}\n"
      ],
      "text/plain": [
       "3×2 DataFrame\n",
       "│ Row │ petalLength │ sepalWidth │\n",
       "│     │ \u001b[90mFloat64\u001b[39m     │ \u001b[90mFloat64\u001b[39m    │\n",
       "├─────┼─────────────┼────────────┤\n",
       "│ 1   │ 1.4         │ 3.5        │\n",
       "│ 2   │ 1.4         │ 3.0        │\n",
       "│ 3   │ 1.3         │ 3.2        │"
      ]
     },
     "execution_count": 4,
     "metadata": {},
     "output_type": "execute_result"
    }
   ],
   "source": [
    "iris = DataFrame(load(\"iris.csv\"))\n",
    "irissmall = DataFrame(load(\"iris.xlsx\", \"Sheet1!A1:B4\"))"
   ]
  },
  {
   "cell_type": "markdown",
   "metadata": {},
   "source": [
    "If you want to work Import or Export Data to SPSS, STATA or SAS the StatFiles package supports also those datafiles. The Syntax to save and load stays the same as shown above."
   ]
  },
  {
   "cell_type": "markdown",
   "metadata": {},
   "source": [
    "## Ask for input\n",
    "For some applications it might be great if we can get the user of the program to enter values into julia. This is possible using the readline() function. We use a simple \"program\" that calculates savings to illustrate this."
   ]
  },
  {
   "cell_type": "code",
   "execution_count": 5,
   "metadata": {},
   "outputs": [
    {
     "name": "stdout",
     "output_type": "stream",
     "text": [
      "How many years are you saving?\n",
      "stdin> 10\n",
      "Anual interest rate eg 0.05 for 5%\n",
      "stdin> 10\n",
      "How much do you save every month?\n",
      "stdin> 10\n",
      "At the end of 10 years you saved 1.432012909412e12\n"
     ]
    }
   ],
   "source": [
    "println(\"How many years are you saving?\")\n",
    "years = parse(Int8,readline())\n",
    "println(\"Anual interest rate eg 0.05 for 5%\")\n",
    "interest_rate = parse(Float64,readline())\n",
    "println(\"How much do you save every month?\")\n",
    "monthly_amount = parse(Float64,readline())\n",
    "q= (1+interest_rate)^(1/12)\n",
    "amount = round(monthly_amount*q*(q^(12*years)-1)/(q-1))\n",
    "println(\"At the end of \", years, \" years you saved \", amount)"
   ]
  },
  {
   "cell_type": "markdown",
   "metadata": {},
   "source": [
    "<a id=\"descriptive\"></a>\n",
    "# Descriptive Statistics\n",
    "After importing our data we should try to get a feeling for our data. <br />\n",
    "A first start is to look at the descriptive statistics. Therefore we use the package \"Statskit\". <br />\n",
    "The package StatsKit is helpful because it is a Meta-Packages that includes a lot of different packages that come in handy when calculating Descriptive Statistics\n",
    "The first thing we want to do is to get an overview of our data. Not quantitavely, but in a qualitative way. \n",
    "That means we want to see what the type of our data is, the names of our columns, and the size of of the dataset that we are working with. <br />\n",
    "Further we can use the function describe() to see if there is any data missing, the data types in our columns. "
   ]
  },
  {
   "cell_type": "code",
   "execution_count": 6,
   "metadata": {},
   "outputs": [
    {
     "name": "stdout",
     "output_type": "stream",
     "text": [
      "DataFrame\n",
      "Symbol[:petalLength, :sepalWidth, :sepalLength, :petalWidth, :species]\n",
      "(150, 5)\n"
     ]
    }
   ],
   "source": [
    "using FileIO\n",
    "using Query\n",
    "using VegaDatasets\n",
    "using DataStructures\n",
    "using StatsKit\n",
    "using JSON\n",
    "cars=dataset(\"cars\")\n",
    "println(typeof(iris))\n",
    "println(names(iris))\n",
    "println(size(iris))"
   ]
  },
  {
   "cell_type": "markdown",
   "metadata": {},
   "source": [
    "Calculate the descriptive statistics for our different columns. Hereby we use the function calculatemoments to be able to easily add or remove different statistics that we want to calculate for our dataset. By building our function calculatemoments we increase the flexibility of our finale dataframe \"Descriptive Statistics\"."
   ]
  },
  {
   "cell_type": "code",
   "execution_count": 7,
   "metadata": {},
   "outputs": [
    {
     "name": "stdout",
     "output_type": "stream",
     "text": [
      "5×8 DataFrame\n",
      "│ Row │ variable    │ mean    │ min    │ median │ max       │ nunique │ nmissing │ eltype   │\n",
      "│     │ \u001b[90mSymbol\u001b[39m      │ \u001b[90mUnion…\u001b[39m  │ \u001b[90mAny\u001b[39m    │ \u001b[90mUnion…\u001b[39m │ \u001b[90mAny\u001b[39m       │ \u001b[90mUnion…\u001b[39m  │ \u001b[90mNothing\u001b[39m  │ \u001b[90mDataType\u001b[39m │\n",
      "├─────┼─────────────┼─────────┼────────┼────────┼───────────┼─────────┼──────────┼──────────┤\n",
      "│ 1   │ petalLength │ 3.758   │ 1.0    │ 4.35   │ 6.9       │         │          │ Float64  │\n",
      "│ 2   │ sepalWidth  │ 3.05733 │ 2.0    │ 3.0    │ 4.4       │         │          │ Float64  │\n",
      "│ 3   │ sepalLength │ 5.84333 │ 4.3    │ 5.8    │ 7.9       │         │          │ Float64  │\n",
      "│ 4   │ petalWidth  │ 1.19933 │ 0.1    │ 1.3    │ 2.5       │         │          │ Float64  │\n",
      "│ 5   │ species     │         │ setosa │        │ virginica │ 3       │          │ String   │\n"
     ]
    },
    {
     "data": {
      "text/html": [
       "<table class=\"data-frame\"><thead><tr><th></th><th>Variable</th><th>Mean</th><th>Variance</th><th>Skewness</th><th>Kurtosis</th><th>Minimum</th><th>Maximum</th><th>Median</th></tr><tr><th></th><th>Symbol</th><th>Float64</th><th>Float64</th><th>Float64</th><th>Float64</th><th>Float64</th><th>Float64</th><th>Float64</th></tr></thead><tbody><p>4 rows × 8 columns</p><tr><th>1</th><td>petalLength</td><td>3.758</td><td>3.11628</td><td>-0.272128</td><td>-1.39554</td><td>1.0</td><td>6.9</td><td>4.35</td></tr><tr><th>2</th><td>sepalWidth</td><td>3.05733</td><td>0.189979</td><td>0.315767</td><td>0.180976</td><td>2.0</td><td>4.4</td><td>3.0</td></tr><tr><th>3</th><td>sepalLength</td><td>5.84333</td><td>0.685694</td><td>0.311753</td><td>-0.573568</td><td>4.3</td><td>7.9</td><td>5.8</td></tr><tr><th>4</th><td>petalWidth</td><td>1.19933</td><td>0.581006</td><td>-0.101934</td><td>-1.33607</td><td>0.1</td><td>2.5</td><td>1.3</td></tr></tbody></table>"
      ],
      "text/latex": [
       "\\begin{tabular}{r|cccccccc}\n",
       "\t& Variable & Mean & Variance & Skewness & Kurtosis & Minimum & Maximum & Median\\\\\n",
       "\t\\hline\n",
       "\t& Symbol & Float64 & Float64 & Float64 & Float64 & Float64 & Float64 & Float64\\\\\n",
       "\t\\hline\n",
       "\t1 & petalLength & 3.758 & 3.11628 & -0.272128 & -1.39554 & 1.0 & 6.9 & 4.35 \\\\\n",
       "\t2 & sepalWidth & 3.05733 & 0.189979 & 0.315767 & 0.180976 & 2.0 & 4.4 & 3.0 \\\\\n",
       "\t3 & sepalLength & 5.84333 & 0.685694 & 0.311753 & -0.573568 & 4.3 & 7.9 & 5.8 \\\\\n",
       "\t4 & petalWidth & 1.19933 & 0.581006 & -0.101934 & -1.33607 & 0.1 & 2.5 & 1.3 \\\\\n",
       "\\end{tabular}\n"
      ],
      "text/plain": [
       "4×8 DataFrame. Omitted printing of 2 columns\n",
       "│ Row │ Variable    │ Mean    │ Variance │ Skewness  │ Kurtosis  │ Minimum │\n",
       "│     │ \u001b[90mSymbol\u001b[39m      │ \u001b[90mFloat64\u001b[39m │ \u001b[90mFloat64\u001b[39m  │ \u001b[90mFloat64\u001b[39m   │ \u001b[90mFloat64\u001b[39m   │ \u001b[90mFloat64\u001b[39m │\n",
       "├─────┼─────────────┼─────────┼──────────┼───────────┼───────────┼─────────┤\n",
       "│ 1   │ petalLength │ 3.758   │ 3.11628  │ -0.272128 │ -1.39554  │ 1.0     │\n",
       "│ 2   │ sepalWidth  │ 3.05733 │ 0.189979 │ 0.315767  │ 0.180976  │ 2.0     │\n",
       "│ 3   │ sepalLength │ 5.84333 │ 0.685694 │ 0.311753  │ -0.573568 │ 4.3     │\n",
       "│ 4   │ petalWidth  │ 1.19933 │ 0.581006 │ -0.101934 │ -1.33607  │ 0.1     │"
      ]
     },
     "execution_count": 7,
     "metadata": {},
     "output_type": "execute_result"
    }
   ],
   "source": [
    "descriptive_statistics=describe(iris)\n",
    "println(descriptive_statistics)\n",
    "moments=[mean,var,skewness,kurtosis, minimum, maximum, median]\n",
    "function calculatemoments(data,moments)\n",
    "    mymoments_array=zeros(Float64,0)\n",
    "    for column in eachcol(data)\n",
    "        push!(mymoments_array,moments(column[:]))\n",
    "    end\n",
    "    return(mymoments_array)\n",
    "end\n",
    "allmoments=OrderedDict()\n",
    "for i in moments\n",
    "    allmoments[i]=calculatemoments(iris[1:4],i)\n",
    "end\n",
    "dataframe_moments=DataFrame(collect(values(allmoments)))\n",
    "dataframe_moments=rename!(dataframe_moments, f => t \n",
    "    for (f, t) =\n",
    "       zip([:x1, :x2, :x3, :x4, :x5, :x6, :x7],     \n",
    "       [:Mean, :Variance, :Skewness, :Kurtosis,:Minimum, :Maximum, :Median]))\n",
    "dataframe_moments=hcat(descriptive_statistics[1:4,:1],dataframe_moments)\n",
    "dataframe_moments=rename!(dataframe_moments, :x1=>:Variable)"
   ]
  },
  {
   "cell_type": "markdown",
   "metadata": {},
   "source": [
    "<a id=\"plot\"></a>\n",
    "# Plotting\n",
    "\n",
    "\n",
    "After importing a dataset and creating descriptive statistics a further usefull tool to explore data are graphs. In this section of the tutorial we show how to create basic plots using the VegaLite Package. It allows to create a huge variate of typically needed plots. We can obviously not cover all of them in this tutorial but instead focus on plot types we think are most usefull for everyone. If you wan't to do a different plot chances are good that you can find a example in the official documentation which can be found here. [http://fredo-dedup.github.io/VegaLite.jl/stable/]. We continue to use the Iris dataset to illustrate plotting. VegaLite is not limited to a specific data type as long as the data is in tabular form VegaLite can create plots out of them.\n",
    "\n",
    "## Scatterplot\n",
    "First of all we show how to create a scatterplot. We start with a basic version and then show some of the fundamental additional options which are usefull for most plots you create.\n",
    "\n",
    "As can be seen in the code below we select a dataset and pipe it into the @vplot function. Then we define the shape which VegaLite should use to plot the data for a scatterplot this is the :point. If we do not specify x and y-axis all columns ar plotted which leads in most cases to a useless plot. As we wan't to check the size of petals we specify petalLength and petalWidth as x and y_axis respectivly"
   ]
  },
  {
   "cell_type": "code",
   "execution_count": 8,
   "metadata": {},
   "outputs": [
    {
     "data": {
      "application/vnd.vegalite.v2+json": {
       "data": {
        "values": [
         {
          "petalLength": 1.4,
          "petalWidth": 0.2,
          "sepalLength": 5.1,
          "sepalWidth": 3.5,
          "species": "setosa"
         },
         {
          "petalLength": 1.4,
          "petalWidth": 0.2,
          "sepalLength": 4.9,
          "sepalWidth": 3,
          "species": "setosa"
         },
         {
          "petalLength": 1.3,
          "petalWidth": 0.2,
          "sepalLength": 4.7,
          "sepalWidth": 3.2,
          "species": "setosa"
         },
         {
          "petalLength": 1.5,
          "petalWidth": 0.2,
          "sepalLength": 4.6,
          "sepalWidth": 3.1,
          "species": "setosa"
         },
         {
          "petalLength": 1.4,
          "petalWidth": 0.2,
          "sepalLength": 5,
          "sepalWidth": 3.6,
          "species": "setosa"
         },
         {
          "petalLength": 1.7,
          "petalWidth": 0.4,
          "sepalLength": 5.4,
          "sepalWidth": 3.9,
          "species": "setosa"
         },
         {
          "petalLength": 1.4,
          "petalWidth": 0.3,
          "sepalLength": 4.6,
          "sepalWidth": 3.4,
          "species": "setosa"
         },
         {
          "petalLength": 1.5,
          "petalWidth": 0.2,
          "sepalLength": 5,
          "sepalWidth": 3.4,
          "species": "setosa"
         },
         {
          "petalLength": 1.4,
          "petalWidth": 0.2,
          "sepalLength": 4.4,
          "sepalWidth": 2.9,
          "species": "setosa"
         },
         {
          "petalLength": 1.5,
          "petalWidth": 0.1,
          "sepalLength": 4.9,
          "sepalWidth": 3.1,
          "species": "setosa"
         },
         {
          "petalLength": 1.5,
          "petalWidth": 0.2,
          "sepalLength": 5.4,
          "sepalWidth": 3.7,
          "species": "setosa"
         },
         {
          "petalLength": 1.6,
          "petalWidth": 0.2,
          "sepalLength": 4.8,
          "sepalWidth": 3.4,
          "species": "setosa"
         },
         {
          "petalLength": 1.4,
          "petalWidth": 0.1,
          "sepalLength": 4.8,
          "sepalWidth": 3,
          "species": "setosa"
         },
         {
          "petalLength": 1.1,
          "petalWidth": 0.1,
          "sepalLength": 4.3,
          "sepalWidth": 3,
          "species": "setosa"
         },
         {
          "petalLength": 1.2,
          "petalWidth": 0.2,
          "sepalLength": 5.8,
          "sepalWidth": 4,
          "species": "setosa"
         },
         {
          "petalLength": 1.5,
          "petalWidth": 0.4,
          "sepalLength": 5.7,
          "sepalWidth": 4.4,
          "species": "setosa"
         },
         {
          "petalLength": 1.3,
          "petalWidth": 0.4,
          "sepalLength": 5.4,
          "sepalWidth": 3.9,
          "species": "setosa"
         },
         {
          "petalLength": 1.4,
          "petalWidth": 0.3,
          "sepalLength": 5.1,
          "sepalWidth": 3.5,
          "species": "setosa"
         },
         {
          "petalLength": 1.7,
          "petalWidth": 0.3,
          "sepalLength": 5.7,
          "sepalWidth": 3.8,
          "species": "setosa"
         },
         {
          "petalLength": 1.5,
          "petalWidth": 0.3,
          "sepalLength": 5.1,
          "sepalWidth": 3.8,
          "species": "setosa"
         },
         {
          "petalLength": 1.7,
          "petalWidth": 0.2,
          "sepalLength": 5.4,
          "sepalWidth": 3.4,
          "species": "setosa"
         },
         {
          "petalLength": 1.5,
          "petalWidth": 0.4,
          "sepalLength": 5.1,
          "sepalWidth": 3.7,
          "species": "setosa"
         },
         {
          "petalLength": 1,
          "petalWidth": 0.2,
          "sepalLength": 4.6,
          "sepalWidth": 3.6,
          "species": "setosa"
         },
         {
          "petalLength": 1.7,
          "petalWidth": 0.5,
          "sepalLength": 5.1,
          "sepalWidth": 3.3,
          "species": "setosa"
         },
         {
          "petalLength": 1.9,
          "petalWidth": 0.2,
          "sepalLength": 4.8,
          "sepalWidth": 3.4,
          "species": "setosa"
         },
         {
          "petalLength": 1.6,
          "petalWidth": 0.2,
          "sepalLength": 5,
          "sepalWidth": 3,
          "species": "setosa"
         },
         {
          "petalLength": 1.6,
          "petalWidth": 0.4,
          "sepalLength": 5,
          "sepalWidth": 3.4,
          "species": "setosa"
         },
         {
          "petalLength": 1.5,
          "petalWidth": 0.2,
          "sepalLength": 5.2,
          "sepalWidth": 3.5,
          "species": "setosa"
         },
         {
          "petalLength": 1.4,
          "petalWidth": 0.2,
          "sepalLength": 5.2,
          "sepalWidth": 3.4,
          "species": "setosa"
         },
         {
          "petalLength": 1.6,
          "petalWidth": 0.2,
          "sepalLength": 4.7,
          "sepalWidth": 3.2,
          "species": "setosa"
         },
         {
          "petalLength": 1.6,
          "petalWidth": 0.2,
          "sepalLength": 4.8,
          "sepalWidth": 3.1,
          "species": "setosa"
         },
         {
          "petalLength": 1.5,
          "petalWidth": 0.4,
          "sepalLength": 5.4,
          "sepalWidth": 3.4,
          "species": "setosa"
         },
         {
          "petalLength": 1.5,
          "petalWidth": 0.1,
          "sepalLength": 5.2,
          "sepalWidth": 4.1,
          "species": "setosa"
         },
         {
          "petalLength": 1.4,
          "petalWidth": 0.2,
          "sepalLength": 5.5,
          "sepalWidth": 4.2,
          "species": "setosa"
         },
         {
          "petalLength": 1.5,
          "petalWidth": 0.2,
          "sepalLength": 4.9,
          "sepalWidth": 3.1,
          "species": "setosa"
         },
         {
          "petalLength": 1.2,
          "petalWidth": 0.2,
          "sepalLength": 5,
          "sepalWidth": 3.2,
          "species": "setosa"
         },
         {
          "petalLength": 1.3,
          "petalWidth": 0.2,
          "sepalLength": 5.5,
          "sepalWidth": 3.5,
          "species": "setosa"
         },
         {
          "petalLength": 1.4,
          "petalWidth": 0.1,
          "sepalLength": 4.9,
          "sepalWidth": 3.6,
          "species": "setosa"
         },
         {
          "petalLength": 1.3,
          "petalWidth": 0.2,
          "sepalLength": 4.4,
          "sepalWidth": 3,
          "species": "setosa"
         },
         {
          "petalLength": 1.5,
          "petalWidth": 0.2,
          "sepalLength": 5.1,
          "sepalWidth": 3.4,
          "species": "setosa"
         },
         {
          "petalLength": 1.3,
          "petalWidth": 0.3,
          "sepalLength": 5,
          "sepalWidth": 3.5,
          "species": "setosa"
         },
         {
          "petalLength": 1.3,
          "petalWidth": 0.3,
          "sepalLength": 4.5,
          "sepalWidth": 2.3,
          "species": "setosa"
         },
         {
          "petalLength": 1.3,
          "petalWidth": 0.2,
          "sepalLength": 4.4,
          "sepalWidth": 3.2,
          "species": "setosa"
         },
         {
          "petalLength": 1.6,
          "petalWidth": 0.6,
          "sepalLength": 5,
          "sepalWidth": 3.5,
          "species": "setosa"
         },
         {
          "petalLength": 1.9,
          "petalWidth": 0.4,
          "sepalLength": 5.1,
          "sepalWidth": 3.8,
          "species": "setosa"
         },
         {
          "petalLength": 1.4,
          "petalWidth": 0.3,
          "sepalLength": 4.8,
          "sepalWidth": 3,
          "species": "setosa"
         },
         {
          "petalLength": 1.6,
          "petalWidth": 0.2,
          "sepalLength": 5.1,
          "sepalWidth": 3.8,
          "species": "setosa"
         },
         {
          "petalLength": 1.4,
          "petalWidth": 0.2,
          "sepalLength": 4.6,
          "sepalWidth": 3.2,
          "species": "setosa"
         },
         {
          "petalLength": 1.5,
          "petalWidth": 0.2,
          "sepalLength": 5.3,
          "sepalWidth": 3.7,
          "species": "setosa"
         },
         {
          "petalLength": 1.4,
          "petalWidth": 0.2,
          "sepalLength": 5,
          "sepalWidth": 3.3,
          "species": "setosa"
         },
         {
          "petalLength": 4.7,
          "petalWidth": 1.4,
          "sepalLength": 7,
          "sepalWidth": 3.2,
          "species": "versicolor"
         },
         {
          "petalLength": 4.5,
          "petalWidth": 1.5,
          "sepalLength": 6.4,
          "sepalWidth": 3.2,
          "species": "versicolor"
         },
         {
          "petalLength": 4.9,
          "petalWidth": 1.5,
          "sepalLength": 6.9,
          "sepalWidth": 3.1,
          "species": "versicolor"
         },
         {
          "petalLength": 4,
          "petalWidth": 1.3,
          "sepalLength": 5.5,
          "sepalWidth": 2.3,
          "species": "versicolor"
         },
         {
          "petalLength": 4.6,
          "petalWidth": 1.5,
          "sepalLength": 6.5,
          "sepalWidth": 2.8,
          "species": "versicolor"
         },
         {
          "petalLength": 4.5,
          "petalWidth": 1.3,
          "sepalLength": 5.7,
          "sepalWidth": 2.8,
          "species": "versicolor"
         },
         {
          "petalLength": 4.7,
          "petalWidth": 1.6,
          "sepalLength": 6.3,
          "sepalWidth": 3.3,
          "species": "versicolor"
         },
         {
          "petalLength": 3.3,
          "petalWidth": 1,
          "sepalLength": 4.9,
          "sepalWidth": 2.4,
          "species": "versicolor"
         },
         {
          "petalLength": 4.6,
          "petalWidth": 1.3,
          "sepalLength": 6.6,
          "sepalWidth": 2.9,
          "species": "versicolor"
         },
         {
          "petalLength": 3.9,
          "petalWidth": 1.4,
          "sepalLength": 5.2,
          "sepalWidth": 2.7,
          "species": "versicolor"
         },
         {
          "petalLength": 3.5,
          "petalWidth": 1,
          "sepalLength": 5,
          "sepalWidth": 2,
          "species": "versicolor"
         },
         {
          "petalLength": 4.2,
          "petalWidth": 1.5,
          "sepalLength": 5.9,
          "sepalWidth": 3,
          "species": "versicolor"
         },
         {
          "petalLength": 4,
          "petalWidth": 1,
          "sepalLength": 6,
          "sepalWidth": 2.2,
          "species": "versicolor"
         },
         {
          "petalLength": 4.7,
          "petalWidth": 1.4,
          "sepalLength": 6.1,
          "sepalWidth": 2.9,
          "species": "versicolor"
         },
         {
          "petalLength": 3.6,
          "petalWidth": 1.3,
          "sepalLength": 5.6,
          "sepalWidth": 2.9,
          "species": "versicolor"
         },
         {
          "petalLength": 4.4,
          "petalWidth": 1.4,
          "sepalLength": 6.7,
          "sepalWidth": 3.1,
          "species": "versicolor"
         },
         {
          "petalLength": 4.5,
          "petalWidth": 1.5,
          "sepalLength": 5.6,
          "sepalWidth": 3,
          "species": "versicolor"
         },
         {
          "petalLength": 4.1,
          "petalWidth": 1,
          "sepalLength": 5.8,
          "sepalWidth": 2.7,
          "species": "versicolor"
         },
         {
          "petalLength": 4.5,
          "petalWidth": 1.5,
          "sepalLength": 6.2,
          "sepalWidth": 2.2,
          "species": "versicolor"
         },
         {
          "petalLength": 3.9,
          "petalWidth": 1.1,
          "sepalLength": 5.6,
          "sepalWidth": 2.5,
          "species": "versicolor"
         },
         {
          "petalLength": 4.8,
          "petalWidth": 1.8,
          "sepalLength": 5.9,
          "sepalWidth": 3.2,
          "species": "versicolor"
         },
         {
          "petalLength": 4,
          "petalWidth": 1.3,
          "sepalLength": 6.1,
          "sepalWidth": 2.8,
          "species": "versicolor"
         },
         {
          "petalLength": 4.9,
          "petalWidth": 1.5,
          "sepalLength": 6.3,
          "sepalWidth": 2.5,
          "species": "versicolor"
         },
         {
          "petalLength": 4.7,
          "petalWidth": 1.2,
          "sepalLength": 6.1,
          "sepalWidth": 2.8,
          "species": "versicolor"
         },
         {
          "petalLength": 4.3,
          "petalWidth": 1.3,
          "sepalLength": 6.4,
          "sepalWidth": 2.9,
          "species": "versicolor"
         },
         {
          "petalLength": 4.4,
          "petalWidth": 1.4,
          "sepalLength": 6.6,
          "sepalWidth": 3,
          "species": "versicolor"
         },
         {
          "petalLength": 4.8,
          "petalWidth": 1.4,
          "sepalLength": 6.8,
          "sepalWidth": 2.8,
          "species": "versicolor"
         },
         {
          "petalLength": 5,
          "petalWidth": 1.7,
          "sepalLength": 6.7,
          "sepalWidth": 3,
          "species": "versicolor"
         },
         {
          "petalLength": 4.5,
          "petalWidth": 1.5,
          "sepalLength": 6,
          "sepalWidth": 2.9,
          "species": "versicolor"
         },
         {
          "petalLength": 3.5,
          "petalWidth": 1,
          "sepalLength": 5.7,
          "sepalWidth": 2.6,
          "species": "versicolor"
         },
         {
          "petalLength": 3.8,
          "petalWidth": 1.1,
          "sepalLength": 5.5,
          "sepalWidth": 2.4,
          "species": "versicolor"
         },
         {
          "petalLength": 3.7,
          "petalWidth": 1,
          "sepalLength": 5.5,
          "sepalWidth": 2.4,
          "species": "versicolor"
         },
         {
          "petalLength": 3.9,
          "petalWidth": 1.2,
          "sepalLength": 5.8,
          "sepalWidth": 2.7,
          "species": "versicolor"
         },
         {
          "petalLength": 5.1,
          "petalWidth": 1.6,
          "sepalLength": 6,
          "sepalWidth": 2.7,
          "species": "versicolor"
         },
         {
          "petalLength": 4.5,
          "petalWidth": 1.5,
          "sepalLength": 5.4,
          "sepalWidth": 3,
          "species": "versicolor"
         },
         {
          "petalLength": 4.5,
          "petalWidth": 1.6,
          "sepalLength": 6,
          "sepalWidth": 3.4,
          "species": "versicolor"
         },
         {
          "petalLength": 4.7,
          "petalWidth": 1.5,
          "sepalLength": 6.7,
          "sepalWidth": 3.1,
          "species": "versicolor"
         },
         {
          "petalLength": 4.4,
          "petalWidth": 1.3,
          "sepalLength": 6.3,
          "sepalWidth": 2.3,
          "species": "versicolor"
         },
         {
          "petalLength": 4.1,
          "petalWidth": 1.3,
          "sepalLength": 5.6,
          "sepalWidth": 3,
          "species": "versicolor"
         },
         {
          "petalLength": 4,
          "petalWidth": 1.3,
          "sepalLength": 5.5,
          "sepalWidth": 2.5,
          "species": "versicolor"
         },
         {
          "petalLength": 4.4,
          "petalWidth": 1.2,
          "sepalLength": 5.5,
          "sepalWidth": 2.6,
          "species": "versicolor"
         },
         {
          "petalLength": 4.6,
          "petalWidth": 1.4,
          "sepalLength": 6.1,
          "sepalWidth": 3,
          "species": "versicolor"
         },
         {
          "petalLength": 4,
          "petalWidth": 1.2,
          "sepalLength": 5.8,
          "sepalWidth": 2.6,
          "species": "versicolor"
         },
         {
          "petalLength": 3.3,
          "petalWidth": 1,
          "sepalLength": 5,
          "sepalWidth": 2.3,
          "species": "versicolor"
         },
         {
          "petalLength": 4.2,
          "petalWidth": 1.3,
          "sepalLength": 5.6,
          "sepalWidth": 2.7,
          "species": "versicolor"
         },
         {
          "petalLength": 4.2,
          "petalWidth": 1.2,
          "sepalLength": 5.7,
          "sepalWidth": 3,
          "species": "versicolor"
         },
         {
          "petalLength": 4.2,
          "petalWidth": 1.3,
          "sepalLength": 5.7,
          "sepalWidth": 2.9,
          "species": "versicolor"
         },
         {
          "petalLength": 4.3,
          "petalWidth": 1.3,
          "sepalLength": 6.2,
          "sepalWidth": 2.9,
          "species": "versicolor"
         },
         {
          "petalLength": 3,
          "petalWidth": 1.1,
          "sepalLength": 5.1,
          "sepalWidth": 2.5,
          "species": "versicolor"
         },
         {
          "petalLength": 4.1,
          "petalWidth": 1.3,
          "sepalLength": 5.7,
          "sepalWidth": 2.8,
          "species": "versicolor"
         },
         {
          "petalLength": 6,
          "petalWidth": 2.5,
          "sepalLength": 6.3,
          "sepalWidth": 3.3,
          "species": "virginica"
         },
         {
          "petalLength": 5.1,
          "petalWidth": 1.9,
          "sepalLength": 5.8,
          "sepalWidth": 2.7,
          "species": "virginica"
         },
         {
          "petalLength": 5.9,
          "petalWidth": 2.1,
          "sepalLength": 7.1,
          "sepalWidth": 3,
          "species": "virginica"
         },
         {
          "petalLength": 5.6,
          "petalWidth": 1.8,
          "sepalLength": 6.3,
          "sepalWidth": 2.9,
          "species": "virginica"
         },
         {
          "petalLength": 5.8,
          "petalWidth": 2.2,
          "sepalLength": 6.5,
          "sepalWidth": 3,
          "species": "virginica"
         },
         {
          "petalLength": 6.6,
          "petalWidth": 2.1,
          "sepalLength": 7.6,
          "sepalWidth": 3,
          "species": "virginica"
         },
         {
          "petalLength": 4.5,
          "petalWidth": 1.7,
          "sepalLength": 4.9,
          "sepalWidth": 2.5,
          "species": "virginica"
         },
         {
          "petalLength": 6.3,
          "petalWidth": 1.8,
          "sepalLength": 7.3,
          "sepalWidth": 2.9,
          "species": "virginica"
         },
         {
          "petalLength": 5.8,
          "petalWidth": 1.8,
          "sepalLength": 6.7,
          "sepalWidth": 2.5,
          "species": "virginica"
         },
         {
          "petalLength": 6.1,
          "petalWidth": 2.5,
          "sepalLength": 7.2,
          "sepalWidth": 3.6,
          "species": "virginica"
         },
         {
          "petalLength": 5.1,
          "petalWidth": 2,
          "sepalLength": 6.5,
          "sepalWidth": 3.2,
          "species": "virginica"
         },
         {
          "petalLength": 5.3,
          "petalWidth": 1.9,
          "sepalLength": 6.4,
          "sepalWidth": 2.7,
          "species": "virginica"
         },
         {
          "petalLength": 5.5,
          "petalWidth": 2.1,
          "sepalLength": 6.8,
          "sepalWidth": 3,
          "species": "virginica"
         },
         {
          "petalLength": 5,
          "petalWidth": 2,
          "sepalLength": 5.7,
          "sepalWidth": 2.5,
          "species": "virginica"
         },
         {
          "petalLength": 5.1,
          "petalWidth": 2.4,
          "sepalLength": 5.8,
          "sepalWidth": 2.8,
          "species": "virginica"
         },
         {
          "petalLength": 5.3,
          "petalWidth": 2.3,
          "sepalLength": 6.4,
          "sepalWidth": 3.2,
          "species": "virginica"
         },
         {
          "petalLength": 5.5,
          "petalWidth": 1.8,
          "sepalLength": 6.5,
          "sepalWidth": 3,
          "species": "virginica"
         },
         {
          "petalLength": 6.7,
          "petalWidth": 2.2,
          "sepalLength": 7.7,
          "sepalWidth": 3.8,
          "species": "virginica"
         },
         {
          "petalLength": 6.9,
          "petalWidth": 2.3,
          "sepalLength": 7.7,
          "sepalWidth": 2.6,
          "species": "virginica"
         },
         {
          "petalLength": 5,
          "petalWidth": 1.5,
          "sepalLength": 6,
          "sepalWidth": 2.2,
          "species": "virginica"
         },
         {
          "petalLength": 5.7,
          "petalWidth": 2.3,
          "sepalLength": 6.9,
          "sepalWidth": 3.2,
          "species": "virginica"
         },
         {
          "petalLength": 4.9,
          "petalWidth": 2,
          "sepalLength": 5.6,
          "sepalWidth": 2.8,
          "species": "virginica"
         },
         {
          "petalLength": 6.7,
          "petalWidth": 2,
          "sepalLength": 7.7,
          "sepalWidth": 2.8,
          "species": "virginica"
         },
         {
          "petalLength": 4.9,
          "petalWidth": 1.8,
          "sepalLength": 6.3,
          "sepalWidth": 2.7,
          "species": "virginica"
         },
         {
          "petalLength": 5.7,
          "petalWidth": 2.1,
          "sepalLength": 6.7,
          "sepalWidth": 3.3,
          "species": "virginica"
         },
         {
          "petalLength": 6,
          "petalWidth": 1.8,
          "sepalLength": 7.2,
          "sepalWidth": 3.2,
          "species": "virginica"
         },
         {
          "petalLength": 4.8,
          "petalWidth": 1.8,
          "sepalLength": 6.2,
          "sepalWidth": 2.8,
          "species": "virginica"
         },
         {
          "petalLength": 4.9,
          "petalWidth": 1.8,
          "sepalLength": 6.1,
          "sepalWidth": 3,
          "species": "virginica"
         },
         {
          "petalLength": 5.6,
          "petalWidth": 2.1,
          "sepalLength": 6.4,
          "sepalWidth": 2.8,
          "species": "virginica"
         },
         {
          "petalLength": 5.8,
          "petalWidth": 1.6,
          "sepalLength": 7.2,
          "sepalWidth": 3,
          "species": "virginica"
         },
         {
          "petalLength": 6.1,
          "petalWidth": 1.9,
          "sepalLength": 7.4,
          "sepalWidth": 2.8,
          "species": "virginica"
         },
         {
          "petalLength": 6.4,
          "petalWidth": 2,
          "sepalLength": 7.9,
          "sepalWidth": 3.8,
          "species": "virginica"
         },
         {
          "petalLength": 5.6,
          "petalWidth": 2.2,
          "sepalLength": 6.4,
          "sepalWidth": 2.8,
          "species": "virginica"
         },
         {
          "petalLength": 5.1,
          "petalWidth": 1.5,
          "sepalLength": 6.3,
          "sepalWidth": 2.8,
          "species": "virginica"
         },
         {
          "petalLength": 5.6,
          "petalWidth": 1.4,
          "sepalLength": 6.1,
          "sepalWidth": 2.6,
          "species": "virginica"
         },
         {
          "petalLength": 6.1,
          "petalWidth": 2.3,
          "sepalLength": 7.7,
          "sepalWidth": 3,
          "species": "virginica"
         },
         {
          "petalLength": 5.6,
          "petalWidth": 2.4,
          "sepalLength": 6.3,
          "sepalWidth": 3.4,
          "species": "virginica"
         },
         {
          "petalLength": 5.5,
          "petalWidth": 1.8,
          "sepalLength": 6.4,
          "sepalWidth": 3.1,
          "species": "virginica"
         },
         {
          "petalLength": 4.8,
          "petalWidth": 1.8,
          "sepalLength": 6,
          "sepalWidth": 3,
          "species": "virginica"
         },
         {
          "petalLength": 5.4,
          "petalWidth": 2.1,
          "sepalLength": 6.9,
          "sepalWidth": 3.1,
          "species": "virginica"
         },
         {
          "petalLength": 5.6,
          "petalWidth": 2.4,
          "sepalLength": 6.7,
          "sepalWidth": 3.1,
          "species": "virginica"
         },
         {
          "petalLength": 5.1,
          "petalWidth": 2.3,
          "sepalLength": 6.9,
          "sepalWidth": 3.1,
          "species": "virginica"
         },
         {
          "petalLength": 5.1,
          "petalWidth": 1.9,
          "sepalLength": 5.8,
          "sepalWidth": 2.7,
          "species": "virginica"
         },
         {
          "petalLength": 5.9,
          "petalWidth": 2.3,
          "sepalLength": 6.8,
          "sepalWidth": 3.2,
          "species": "virginica"
         },
         {
          "petalLength": 5.7,
          "petalWidth": 2.5,
          "sepalLength": 6.7,
          "sepalWidth": 3.3,
          "species": "virginica"
         },
         {
          "petalLength": 5.2,
          "petalWidth": 2.3,
          "sepalLength": 6.7,
          "sepalWidth": 3,
          "species": "virginica"
         },
         {
          "petalLength": 5,
          "petalWidth": 1.9,
          "sepalLength": 6.3,
          "sepalWidth": 2.5,
          "species": "virginica"
         },
         {
          "petalLength": 5.2,
          "petalWidth": 2,
          "sepalLength": 6.5,
          "sepalWidth": 3,
          "species": "virginica"
         },
         {
          "petalLength": 5.4,
          "petalWidth": 2.3,
          "sepalLength": 6.2,
          "sepalWidth": 3.4,
          "species": "virginica"
         },
         {
          "petalLength": 5.1,
          "petalWidth": 1.8,
          "sepalLength": 5.9,
          "sepalWidth": 3,
          "species": "virginica"
         }
        ]
       },
       "encoding": {
        "x": {
         "field": "petalLength",
         "type": "quantitative"
        },
        "y": {
         "field": "petalWidth",
         "type": "quantitative"
        }
       },
       "mark": "point"
      },
      "image/png": "[encoded data removed]",
      "image/svg+xml": [
       "<?xml version=\"1.0\" encoding=\"utf-8\"?>\n",
       "<!DOCTYPE svg PUBLIC \"-//W3C//DTD SVG 1.1//EN\" \"http://www.w3.org/Graphics/SVG/1.1/DTD/svg11.dtd\">\n",
       "<svg class=\"marks\" width=\"261\" height=\"245\" viewBox=\"0 0 261 245\" version=\"1.1\" xmlns=\"http://www.w3.org/2000/svg\" xmlns:xlink=\"http://www.w3.org/1999/xlink\"><g transform=\"translate(54,5)\"><g class=\"mark-group role-frame root\"><g transform=\"translate(0,0)\"><path class=\"background\" d=\"M0.5,0.5h200v200h-200Z\" style=\"fill: none; stroke: #ddd;\"></path><g><g class=\"mark-group role-axis\"><g transform=\"translate(0.5,200.5)\"><path class=\"background\" d=\"M0,0h0v0h0Z\" style=\"pointer-events: none; fill: none;\"></path><g><g class=\"mark-rule role-axis-grid\" style=\"pointer-events: none;\"><line transform=\"translate(0,-200)\" x2=\"0\" y2=\"200\" style=\"fill: none; stroke: #ddd; stroke-width: 1; opacity: 1;\"></line><line transform=\"translate(29,-200)\" x2=\"0\" y2=\"200\" style=\"fill: none; stroke: #ddd; stroke-width: 1; opacity: 1;\"></line><line transform=\"translate(57,-200)\" x2=\"0\" y2=\"200\" style=\"fill: none; stroke: #ddd; stroke-width: 1; opacity: 1;\"></line><line transform=\"translate(86,-200)\" x2=\"0\" y2=\"200\" style=\"fill: none; stroke: #ddd; stroke-width: 1; opacity: 1;\"></line><line transform=\"translate(114,-200)\" x2=\"0\" y2=\"200\" style=\"fill: none; stroke: #ddd; stroke-width: 1; opacity: 1;\"></line><line transform=\"translate(143,-200)\" x2=\"0\" y2=\"200\" style=\"fill: none; stroke: #ddd; stroke-width: 1; opacity: 1;\"></line><line transform=\"translate(171,-200)\" x2=\"0\" y2=\"200\" style=\"fill: none; stroke: #ddd; stroke-width: 1; opacity: 1;\"></line><line transform=\"translate(200,-200)\" x2=\"0\" y2=\"200\" style=\"fill: none; stroke: #ddd; stroke-width: 1; opacity: 1;\"></line></g></g></g></g><g class=\"mark-group role-axis\"><g transform=\"translate(0.5,0.5)\"><path class=\"background\" d=\"M0,0h0v0h0Z\" style=\"pointer-events: none; fill: none;\"></path><g><g class=\"mark-rule role-axis-grid\" style=\"pointer-events: none;\"><line transform=\"translate(0,200)\" x2=\"200\" y2=\"0\" style=\"fill: none; stroke: #ddd; stroke-width: 1; opacity: 1;\"></line><line transform=\"translate(0,162)\" x2=\"200\" y2=\"0\" style=\"fill: none; stroke: #ddd; stroke-width: 1; opacity: 1;\"></line><line transform=\"translate(0,123)\" x2=\"200\" y2=\"0\" style=\"fill: none; stroke: #ddd; stroke-width: 1; opacity: 1;\"></line><line transform=\"translate(0,85)\" x2=\"200\" y2=\"0\" style=\"fill: none; stroke: #ddd; stroke-width: 1; opacity: 1;\"></line><line transform=\"translate(0,46)\" x2=\"200\" y2=\"0\" style=\"fill: none; stroke: #ddd; stroke-width: 1; opacity: 1;\"></line><line transform=\"translate(0,8)\" x2=\"200\" y2=\"0\" style=\"fill: none; stroke: #ddd; stroke-width: 1; opacity: 1;\"></line></g></g></g></g><g class=\"mark-symbol role-mark marks\"><path transform=\"translate(40,184.6153846153846)\" d=\"M2.7386127875258306,0A2.7386127875258306,2.7386127875258306,0,1,1,-2.7386127875258306,0A2.7386127875258306,2.7386127875258306,0,1,1,2.7386127875258306,0\" style=\"fill: none; stroke: #4c78a8; stroke-width: 2; opacity: 0.7;\"></path><path transform=\"translate(40,184.6153846153846)\" d=\"M2.7386127875258306,0A2.7386127875258306,2.7386127875258306,0,1,1,-2.7386127875258306,0A2.7386127875258306,2.7386127875258306,0,1,1,2.7386127875258306,0\" style=\"fill: none; stroke: #4c78a8; stroke-width: 2; opacity: 0.7;\"></path><path transform=\"translate(37.142857142857146,184.6153846153846)\" d=\"M2.7386127875258306,0A2.7386127875258306,2.7386127875258306,0,1,1,-2.7386127875258306,0A2.7386127875258306,2.7386127875258306,0,1,1,2.7386127875258306,0\" style=\"fill: none; stroke: #4c78a8; stroke-width: 2; opacity: 0.7;\"></path><path transform=\"translate(42.857142857142854,184.6153846153846)\" d=\"M2.7386127875258306,0A2.7386127875258306,2.7386127875258306,0,1,1,-2.7386127875258306,0A2.7386127875258306,2.7386127875258306,0,1,1,2.7386127875258306,0\" style=\"fill: none; stroke: #4c78a8; stroke-width: 2; opacity: 0.7;\"></path><path transform=\"translate(40,184.6153846153846)\" d=\"M2.7386127875258306,0A2.7386127875258306,2.7386127875258306,0,1,1,-2.7386127875258306,0A2.7386127875258306,2.7386127875258306,0,1,1,2.7386127875258306,0\" style=\"fill: none; stroke: #4c78a8; stroke-width: 2; opacity: 0.7;\"></path><path transform=\"translate(48.57142857142857,169.23076923076923)\" d=\"M2.7386127875258306,0A2.7386127875258306,2.7386127875258306,0,1,1,-2.7386127875258306,0A2.7386127875258306,2.7386127875258306,0,1,1,2.7386127875258306,0\" style=\"fill: none; stroke: #4c78a8; stroke-width: 2; opacity: 0.7;\"></path><path transform=\"translate(40,176.92307692307693)\" d=\"M2.7386127875258306,0A2.7386127875258306,2.7386127875258306,0,1,1,-2.7386127875258306,0A2.7386127875258306,2.7386127875258306,0,1,1,2.7386127875258306,0\" style=\"fill: none; stroke: #4c78a8; stroke-width: 2; opacity: 0.7;\"></path><path transform=\"translate(42.857142857142854,184.6153846153846)\" d=\"M2.7386127875258306,0A2.7386127875258306,2.7386127875258306,0,1,1,-2.7386127875258306,0A2.7386127875258306,2.7386127875258306,0,1,1,2.7386127875258306,0\" style=\"fill: none; stroke: #4c78a8; stroke-width: 2; opacity: 0.7;\"></path><path transform=\"translate(40,184.6153846153846)\" d=\"M2.7386127875258306,0A2.7386127875258306,2.7386127875258306,0,1,1,-2.7386127875258306,0A2.7386127875258306,2.7386127875258306,0,1,1,2.7386127875258306,0\" style=\"fill: none; stroke: #4c78a8; stroke-width: 2; opacity: 0.7;\"></path><path transform=\"translate(42.857142857142854,192.30769230769232)\" d=\"M2.7386127875258306,0A2.7386127875258306,2.7386127875258306,0,1,1,-2.7386127875258306,0A2.7386127875258306,2.7386127875258306,0,1,1,2.7386127875258306,0\" style=\"fill: none; stroke: #4c78a8; stroke-width: 2; opacity: 0.7;\"></path><path transform=\"translate(42.857142857142854,184.6153846153846)\" d=\"M2.7386127875258306,0A2.7386127875258306,2.7386127875258306,0,1,1,-2.7386127875258306,0A2.7386127875258306,2.7386127875258306,0,1,1,2.7386127875258306,0\" style=\"fill: none; stroke: #4c78a8; stroke-width: 2; opacity: 0.7;\"></path><path transform=\"translate(45.714285714285715,184.6153846153846)\" d=\"M2.7386127875258306,0A2.7386127875258306,2.7386127875258306,0,1,1,-2.7386127875258306,0A2.7386127875258306,2.7386127875258306,0,1,1,2.7386127875258306,0\" style=\"fill: none; stroke: #4c78a8; stroke-width: 2; opacity: 0.7;\"></path><path transform=\"translate(40,192.30769230769232)\" d=\"M2.7386127875258306,0A2.7386127875258306,2.7386127875258306,0,1,1,-2.7386127875258306,0A2.7386127875258306,2.7386127875258306,0,1,1,2.7386127875258306,0\" style=\"fill: none; stroke: #4c78a8; stroke-width: 2; opacity: 0.7;\"></path><path transform=\"translate(31.428571428571434,192.30769230769232)\" d=\"M2.7386127875258306,0A2.7386127875258306,2.7386127875258306,0,1,1,-2.7386127875258306,0A2.7386127875258306,2.7386127875258306,0,1,1,2.7386127875258306,0\" style=\"fill: none; stroke: #4c78a8; stroke-width: 2; opacity: 0.7;\"></path><path transform=\"translate(34.285714285714285,184.6153846153846)\" d=\"M2.7386127875258306,0A2.7386127875258306,2.7386127875258306,0,1,1,-2.7386127875258306,0A2.7386127875258306,2.7386127875258306,0,1,1,2.7386127875258306,0\" style=\"fill: none; stroke: #4c78a8; stroke-width: 2; opacity: 0.7;\"></path><path transform=\"translate(42.857142857142854,169.23076923076923)\" d=\"M2.7386127875258306,0A2.7386127875258306,2.7386127875258306,0,1,1,-2.7386127875258306,0A2.7386127875258306,2.7386127875258306,0,1,1,2.7386127875258306,0\" style=\"fill: none; stroke: #4c78a8; stroke-width: 2; opacity: 0.7;\"></path><path transform=\"translate(37.142857142857146,169.23076923076923)\" d=\"M2.7386127875258306,0A2.7386127875258306,2.7386127875258306,0,1,1,-2.7386127875258306,0A2.7386127875258306,2.7386127875258306,0,1,1,2.7386127875258306,0\" style=\"fill: none; stroke: #4c78a8; stroke-width: 2; opacity: 0.7;\"></path><path transform=\"translate(40,176.92307692307693)\" d=\"M2.7386127875258306,0A2.7386127875258306,2.7386127875258306,0,1,1,-2.7386127875258306,0A2.7386127875258306,2.7386127875258306,0,1,1,2.7386127875258306,0\" style=\"fill: none; stroke: #4c78a8; stroke-width: 2; opacity: 0.7;\"></path><path transform=\"translate(48.57142857142857,176.92307692307693)\" d=\"M2.7386127875258306,0A2.7386127875258306,2.7386127875258306,0,1,1,-2.7386127875258306,0A2.7386127875258306,2.7386127875258306,0,1,1,2.7386127875258306,0\" style=\"fill: none; stroke: #4c78a8; stroke-width: 2; opacity: 0.7;\"></path><path transform=\"translate(42.857142857142854,176.92307692307693)\" d=\"M2.7386127875258306,0A2.7386127875258306,2.7386127875258306,0,1,1,-2.7386127875258306,0A2.7386127875258306,2.7386127875258306,0,1,1,2.7386127875258306,0\" style=\"fill: none; stroke: #4c78a8; stroke-width: 2; opacity: 0.7;\"></path><path transform=\"translate(48.57142857142857,184.6153846153846)\" d=\"M2.7386127875258306,0A2.7386127875258306,2.7386127875258306,0,1,1,-2.7386127875258306,0A2.7386127875258306,2.7386127875258306,0,1,1,2.7386127875258306,0\" style=\"fill: none; stroke: #4c78a8; stroke-width: 2; opacity: 0.7;\"></path><path transform=\"translate(42.857142857142854,169.23076923076923)\" d=\"M2.7386127875258306,0A2.7386127875258306,2.7386127875258306,0,1,1,-2.7386127875258306,0A2.7386127875258306,2.7386127875258306,0,1,1,2.7386127875258306,0\" style=\"fill: none; stroke: #4c78a8; stroke-width: 2; opacity: 0.7;\"></path><path transform=\"translate(28.57142857142857,184.6153846153846)\" d=\"M2.7386127875258306,0A2.7386127875258306,2.7386127875258306,0,1,1,-2.7386127875258306,0A2.7386127875258306,2.7386127875258306,0,1,1,2.7386127875258306,0\" style=\"fill: none; stroke: #4c78a8; stroke-width: 2; opacity: 0.7;\"></path><path transform=\"translate(48.57142857142857,161.53846153846155)\" d=\"M2.7386127875258306,0A2.7386127875258306,2.7386127875258306,0,1,1,-2.7386127875258306,0A2.7386127875258306,2.7386127875258306,0,1,1,2.7386127875258306,0\" style=\"fill: none; stroke: #4c78a8; stroke-width: 2; opacity: 0.7;\"></path><path transform=\"translate(54.285714285714285,184.6153846153846)\" d=\"M2.7386127875258306,0A2.7386127875258306,2.7386127875258306,0,1,1,-2.7386127875258306,0A2.7386127875258306,2.7386127875258306,0,1,1,2.7386127875258306,0\" style=\"fill: none; stroke: #4c78a8; stroke-width: 2; opacity: 0.7;\"></path><path transform=\"translate(45.714285714285715,184.6153846153846)\" d=\"M2.7386127875258306,0A2.7386127875258306,2.7386127875258306,0,1,1,-2.7386127875258306,0A2.7386127875258306,2.7386127875258306,0,1,1,2.7386127875258306,0\" style=\"fill: none; stroke: #4c78a8; stroke-width: 2; opacity: 0.7;\"></path><path transform=\"translate(45.714285714285715,169.23076923076923)\" d=\"M2.7386127875258306,0A2.7386127875258306,2.7386127875258306,0,1,1,-2.7386127875258306,0A2.7386127875258306,2.7386127875258306,0,1,1,2.7386127875258306,0\" style=\"fill: none; stroke: #4c78a8; stroke-width: 2; opacity: 0.7;\"></path><path transform=\"translate(42.857142857142854,184.6153846153846)\" d=\"M2.7386127875258306,0A2.7386127875258306,2.7386127875258306,0,1,1,-2.7386127875258306,0A2.7386127875258306,2.7386127875258306,0,1,1,2.7386127875258306,0\" style=\"fill: none; stroke: #4c78a8; stroke-width: 2; opacity: 0.7;\"></path><path transform=\"translate(40,184.6153846153846)\" d=\"M2.7386127875258306,0A2.7386127875258306,2.7386127875258306,0,1,1,-2.7386127875258306,0A2.7386127875258306,2.7386127875258306,0,1,1,2.7386127875258306,0\" style=\"fill: none; stroke: #4c78a8; stroke-width: 2; opacity: 0.7;\"></path><path transform=\"translate(45.714285714285715,184.6153846153846)\" d=\"M2.7386127875258306,0A2.7386127875258306,2.7386127875258306,0,1,1,-2.7386127875258306,0A2.7386127875258306,2.7386127875258306,0,1,1,2.7386127875258306,0\" style=\"fill: none; stroke: #4c78a8; stroke-width: 2; opacity: 0.7;\"></path><path transform=\"translate(45.714285714285715,184.6153846153846)\" d=\"M2.7386127875258306,0A2.7386127875258306,2.7386127875258306,0,1,1,-2.7386127875258306,0A2.7386127875258306,2.7386127875258306,0,1,1,2.7386127875258306,0\" style=\"fill: none; stroke: #4c78a8; stroke-width: 2; opacity: 0.7;\"></path><path transform=\"translate(42.857142857142854,169.23076923076923)\" d=\"M2.7386127875258306,0A2.7386127875258306,2.7386127875258306,0,1,1,-2.7386127875258306,0A2.7386127875258306,2.7386127875258306,0,1,1,2.7386127875258306,0\" style=\"fill: none; stroke: #4c78a8; stroke-width: 2; opacity: 0.7;\"></path><path transform=\"translate(42.857142857142854,192.30769230769232)\" d=\"M2.7386127875258306,0A2.7386127875258306,2.7386127875258306,0,1,1,-2.7386127875258306,0A2.7386127875258306,2.7386127875258306,0,1,1,2.7386127875258306,0\" style=\"fill: none; stroke: #4c78a8; stroke-width: 2; opacity: 0.7;\"></path><path transform=\"translate(40,184.6153846153846)\" d=\"M2.7386127875258306,0A2.7386127875258306,2.7386127875258306,0,1,1,-2.7386127875258306,0A2.7386127875258306,2.7386127875258306,0,1,1,2.7386127875258306,0\" style=\"fill: none; stroke: #4c78a8; stroke-width: 2; opacity: 0.7;\"></path><path transform=\"translate(42.857142857142854,184.6153846153846)\" d=\"M2.7386127875258306,0A2.7386127875258306,2.7386127875258306,0,1,1,-2.7386127875258306,0A2.7386127875258306,2.7386127875258306,0,1,1,2.7386127875258306,0\" style=\"fill: none; stroke: #4c78a8; stroke-width: 2; opacity: 0.7;\"></path><path transform=\"translate(34.285714285714285,184.6153846153846)\" d=\"M2.7386127875258306,0A2.7386127875258306,2.7386127875258306,0,1,1,-2.7386127875258306,0A2.7386127875258306,2.7386127875258306,0,1,1,2.7386127875258306,0\" style=\"fill: none; stroke: #4c78a8; stroke-width: 2; opacity: 0.7;\"></path><path transform=\"translate(37.142857142857146,184.6153846153846)\" d=\"M2.7386127875258306,0A2.7386127875258306,2.7386127875258306,0,1,1,-2.7386127875258306,0A2.7386127875258306,2.7386127875258306,0,1,1,2.7386127875258306,0\" style=\"fill: none; stroke: #4c78a8; stroke-width: 2; opacity: 0.7;\"></path><path transform=\"translate(40,192.30769230769232)\" d=\"M2.7386127875258306,0A2.7386127875258306,2.7386127875258306,0,1,1,-2.7386127875258306,0A2.7386127875258306,2.7386127875258306,0,1,1,2.7386127875258306,0\" style=\"fill: none; stroke: #4c78a8; stroke-width: 2; opacity: 0.7;\"></path><path transform=\"translate(37.142857142857146,184.6153846153846)\" d=\"M2.7386127875258306,0A2.7386127875258306,2.7386127875258306,0,1,1,-2.7386127875258306,0A2.7386127875258306,2.7386127875258306,0,1,1,2.7386127875258306,0\" style=\"fill: none; stroke: #4c78a8; stroke-width: 2; opacity: 0.7;\"></path><path transform=\"translate(42.857142857142854,184.6153846153846)\" d=\"M2.7386127875258306,0A2.7386127875258306,2.7386127875258306,0,1,1,-2.7386127875258306,0A2.7386127875258306,2.7386127875258306,0,1,1,2.7386127875258306,0\" style=\"fill: none; stroke: #4c78a8; stroke-width: 2; opacity: 0.7;\"></path><path transform=\"translate(37.142857142857146,176.92307692307693)\" d=\"M2.7386127875258306,0A2.7386127875258306,2.7386127875258306,0,1,1,-2.7386127875258306,0A2.7386127875258306,2.7386127875258306,0,1,1,2.7386127875258306,0\" style=\"fill: none; stroke: #4c78a8; stroke-width: 2; opacity: 0.7;\"></path><path transform=\"translate(37.142857142857146,176.92307692307693)\" d=\"M2.7386127875258306,0A2.7386127875258306,2.7386127875258306,0,1,1,-2.7386127875258306,0A2.7386127875258306,2.7386127875258306,0,1,1,2.7386127875258306,0\" style=\"fill: none; stroke: #4c78a8; stroke-width: 2; opacity: 0.7;\"></path><path transform=\"translate(37.142857142857146,184.6153846153846)\" d=\"M2.7386127875258306,0A2.7386127875258306,2.7386127875258306,0,1,1,-2.7386127875258306,0A2.7386127875258306,2.7386127875258306,0,1,1,2.7386127875258306,0\" style=\"fill: none; stroke: #4c78a8; stroke-width: 2; opacity: 0.7;\"></path><path transform=\"translate(45.714285714285715,153.84615384615384)\" d=\"M2.7386127875258306,0A2.7386127875258306,2.7386127875258306,0,1,1,-2.7386127875258306,0A2.7386127875258306,2.7386127875258306,0,1,1,2.7386127875258306,0\" style=\"fill: none; stroke: #4c78a8; stroke-width: 2; opacity: 0.7;\"></path><path transform=\"translate(54.285714285714285,169.23076923076923)\" d=\"M2.7386127875258306,0A2.7386127875258306,2.7386127875258306,0,1,1,-2.7386127875258306,0A2.7386127875258306,2.7386127875258306,0,1,1,2.7386127875258306,0\" style=\"fill: none; stroke: #4c78a8; stroke-width: 2; opacity: 0.7;\"></path><path transform=\"translate(40,176.92307692307693)\" d=\"M2.7386127875258306,0A2.7386127875258306,2.7386127875258306,0,1,1,-2.7386127875258306,0A2.7386127875258306,2.7386127875258306,0,1,1,2.7386127875258306,0\" style=\"fill: none; stroke: #4c78a8; stroke-width: 2; opacity: 0.7;\"></path><path transform=\"translate(45.714285714285715,184.6153846153846)\" d=\"M2.7386127875258306,0A2.7386127875258306,2.7386127875258306,0,1,1,-2.7386127875258306,0A2.7386127875258306,2.7386127875258306,0,1,1,2.7386127875258306,0\" style=\"fill: none; stroke: #4c78a8; stroke-width: 2; opacity: 0.7;\"></path><path transform=\"translate(40,184.6153846153846)\" d=\"M2.7386127875258306,0A2.7386127875258306,2.7386127875258306,0,1,1,-2.7386127875258306,0A2.7386127875258306,2.7386127875258306,0,1,1,2.7386127875258306,0\" style=\"fill: none; stroke: #4c78a8; stroke-width: 2; opacity: 0.7;\"></path><path transform=\"translate(42.857142857142854,184.6153846153846)\" d=\"M2.7386127875258306,0A2.7386127875258306,2.7386127875258306,0,1,1,-2.7386127875258306,0A2.7386127875258306,2.7386127875258306,0,1,1,2.7386127875258306,0\" style=\"fill: none; stroke: #4c78a8; stroke-width: 2; opacity: 0.7;\"></path><path transform=\"translate(40,184.6153846153846)\" d=\"M2.7386127875258306,0A2.7386127875258306,2.7386127875258306,0,1,1,-2.7386127875258306,0A2.7386127875258306,2.7386127875258306,0,1,1,2.7386127875258306,0\" style=\"fill: none; stroke: #4c78a8; stroke-width: 2; opacity: 0.7;\"></path><path transform=\"translate(134.2857142857143,92.3076923076923)\" d=\"M2.7386127875258306,0A2.7386127875258306,2.7386127875258306,0,1,1,-2.7386127875258306,0A2.7386127875258306,2.7386127875258306,0,1,1,2.7386127875258306,0\" style=\"fill: none; stroke: #4c78a8; stroke-width: 2; opacity: 0.7;\"></path><path transform=\"translate(128.57142857142858,84.61538461538463)\" d=\"M2.7386127875258306,0A2.7386127875258306,2.7386127875258306,0,1,1,-2.7386127875258306,0A2.7386127875258306,2.7386127875258306,0,1,1,2.7386127875258306,0\" style=\"fill: none; stroke: #4c78a8; stroke-width: 2; opacity: 0.7;\"></path><path transform=\"translate(140,84.61538461538463)\" d=\"M2.7386127875258306,0A2.7386127875258306,2.7386127875258306,0,1,1,-2.7386127875258306,0A2.7386127875258306,2.7386127875258306,0,1,1,2.7386127875258306,0\" style=\"fill: none; stroke: #4c78a8; stroke-width: 2; opacity: 0.7;\"></path><path transform=\"translate(114.28571428571428,100)\" d=\"M2.7386127875258306,0A2.7386127875258306,2.7386127875258306,0,1,1,-2.7386127875258306,0A2.7386127875258306,2.7386127875258306,0,1,1,2.7386127875258306,0\" style=\"fill: none; stroke: #4c78a8; stroke-width: 2; opacity: 0.7;\"></path><path transform=\"translate(131.42857142857142,84.61538461538463)\" d=\"M2.7386127875258306,0A2.7386127875258306,2.7386127875258306,0,1,1,-2.7386127875258306,0A2.7386127875258306,2.7386127875258306,0,1,1,2.7386127875258306,0\" style=\"fill: none; stroke: #4c78a8; stroke-width: 2; opacity: 0.7;\"></path><path transform=\"translate(128.57142857142858,100)\" d=\"M2.7386127875258306,0A2.7386127875258306,2.7386127875258306,0,1,1,-2.7386127875258306,0A2.7386127875258306,2.7386127875258306,0,1,1,2.7386127875258306,0\" style=\"fill: none; stroke: #4c78a8; stroke-width: 2; opacity: 0.7;\"></path><path transform=\"translate(134.2857142857143,76.92307692307692)\" d=\"M2.7386127875258306,0A2.7386127875258306,2.7386127875258306,0,1,1,-2.7386127875258306,0A2.7386127875258306,2.7386127875258306,0,1,1,2.7386127875258306,0\" style=\"fill: none; stroke: #4c78a8; stroke-width: 2; opacity: 0.7;\"></path><path transform=\"translate(94.28571428571428,123.07692307692308)\" d=\"M2.7386127875258306,0A2.7386127875258306,2.7386127875258306,0,1,1,-2.7386127875258306,0A2.7386127875258306,2.7386127875258306,0,1,1,2.7386127875258306,0\" style=\"fill: none; stroke: #4c78a8; stroke-width: 2; opacity: 0.7;\"></path><path transform=\"translate(131.42857142857142,100)\" d=\"M2.7386127875258306,0A2.7386127875258306,2.7386127875258306,0,1,1,-2.7386127875258306,0A2.7386127875258306,2.7386127875258306,0,1,1,2.7386127875258306,0\" style=\"fill: none; stroke: #4c78a8; stroke-width: 2; opacity: 0.7;\"></path><path transform=\"translate(111.42857142857143,92.3076923076923)\" d=\"M2.7386127875258306,0A2.7386127875258306,2.7386127875258306,0,1,1,-2.7386127875258306,0A2.7386127875258306,2.7386127875258306,0,1,1,2.7386127875258306,0\" style=\"fill: none; stroke: #4c78a8; stroke-width: 2; opacity: 0.7;\"></path><path transform=\"translate(100,123.07692307692308)\" d=\"M2.7386127875258306,0A2.7386127875258306,2.7386127875258306,0,1,1,-2.7386127875258306,0A2.7386127875258306,2.7386127875258306,0,1,1,2.7386127875258306,0\" style=\"fill: none; stroke: #4c78a8; stroke-width: 2; opacity: 0.7;\"></path><path transform=\"translate(120,84.61538461538463)\" d=\"M2.7386127875258306,0A2.7386127875258306,2.7386127875258306,0,1,1,-2.7386127875258306,0A2.7386127875258306,2.7386127875258306,0,1,1,2.7386127875258306,0\" style=\"fill: none; stroke: #4c78a8; stroke-width: 2; opacity: 0.7;\"></path><path transform=\"translate(114.28571428571428,123.07692307692308)\" d=\"M2.7386127875258306,0A2.7386127875258306,2.7386127875258306,0,1,1,-2.7386127875258306,0A2.7386127875258306,2.7386127875258306,0,1,1,2.7386127875258306,0\" style=\"fill: none; stroke: #4c78a8; stroke-width: 2; opacity: 0.7;\"></path><path transform=\"translate(134.2857142857143,92.3076923076923)\" d=\"M2.7386127875258306,0A2.7386127875258306,2.7386127875258306,0,1,1,-2.7386127875258306,0A2.7386127875258306,2.7386127875258306,0,1,1,2.7386127875258306,0\" style=\"fill: none; stroke: #4c78a8; stroke-width: 2; opacity: 0.7;\"></path><path transform=\"translate(102.85714285714288,100)\" d=\"M2.7386127875258306,0A2.7386127875258306,2.7386127875258306,0,1,1,-2.7386127875258306,0A2.7386127875258306,2.7386127875258306,0,1,1,2.7386127875258306,0\" style=\"fill: none; stroke: #4c78a8; stroke-width: 2; opacity: 0.7;\"></path><path transform=\"translate(125.71428571428574,92.3076923076923)\" d=\"M2.7386127875258306,0A2.7386127875258306,2.7386127875258306,0,1,1,-2.7386127875258306,0A2.7386127875258306,2.7386127875258306,0,1,1,2.7386127875258306,0\" style=\"fill: none; stroke: #4c78a8; stroke-width: 2; opacity: 0.7;\"></path><path transform=\"translate(128.57142857142858,84.61538461538463)\" d=\"M2.7386127875258306,0A2.7386127875258306,2.7386127875258306,0,1,1,-2.7386127875258306,0A2.7386127875258306,2.7386127875258306,0,1,1,2.7386127875258306,0\" style=\"fill: none; stroke: #4c78a8; stroke-width: 2; opacity: 0.7;\"></path><path transform=\"translate(117.14285714285712,123.07692307692308)\" d=\"M2.7386127875258306,0A2.7386127875258306,2.7386127875258306,0,1,1,-2.7386127875258306,0A2.7386127875258306,2.7386127875258306,0,1,1,2.7386127875258306,0\" style=\"fill: none; stroke: #4c78a8; stroke-width: 2; opacity: 0.7;\"></path><path transform=\"translate(128.57142857142858,84.61538461538463)\" d=\"M2.7386127875258306,0A2.7386127875258306,2.7386127875258306,0,1,1,-2.7386127875258306,0A2.7386127875258306,2.7386127875258306,0,1,1,2.7386127875258306,0\" style=\"fill: none; stroke: #4c78a8; stroke-width: 2; opacity: 0.7;\"></path><path transform=\"translate(111.42857142857143,115.38461538461539)\" d=\"M2.7386127875258306,0A2.7386127875258306,2.7386127875258306,0,1,1,-2.7386127875258306,0A2.7386127875258306,2.7386127875258306,0,1,1,2.7386127875258306,0\" style=\"fill: none; stroke: #4c78a8; stroke-width: 2; opacity: 0.7;\"></path><path transform=\"translate(137.14285714285714,61.53846153846155)\" d=\"M2.7386127875258306,0A2.7386127875258306,2.7386127875258306,0,1,1,-2.7386127875258306,0A2.7386127875258306,2.7386127875258306,0,1,1,2.7386127875258306,0\" style=\"fill: none; stroke: #4c78a8; stroke-width: 2; opacity: 0.7;\"></path><path transform=\"translate(114.28571428571428,100)\" d=\"M2.7386127875258306,0A2.7386127875258306,2.7386127875258306,0,1,1,-2.7386127875258306,0A2.7386127875258306,2.7386127875258306,0,1,1,2.7386127875258306,0\" style=\"fill: none; stroke: #4c78a8; stroke-width: 2; opacity: 0.7;\"></path><path transform=\"translate(140,84.61538461538463)\" d=\"M2.7386127875258306,0A2.7386127875258306,2.7386127875258306,0,1,1,-2.7386127875258306,0A2.7386127875258306,2.7386127875258306,0,1,1,2.7386127875258306,0\" style=\"fill: none; stroke: #4c78a8; stroke-width: 2; opacity: 0.7;\"></path><path transform=\"translate(134.2857142857143,107.6923076923077)\" d=\"M2.7386127875258306,0A2.7386127875258306,2.7386127875258306,0,1,1,-2.7386127875258306,0A2.7386127875258306,2.7386127875258306,0,1,1,2.7386127875258306,0\" style=\"fill: none; stroke: #4c78a8; stroke-width: 2; opacity: 0.7;\"></path><path transform=\"translate(122.85714285714285,100)\" d=\"M2.7386127875258306,0A2.7386127875258306,2.7386127875258306,0,1,1,-2.7386127875258306,0A2.7386127875258306,2.7386127875258306,0,1,1,2.7386127875258306,0\" style=\"fill: none; stroke: #4c78a8; stroke-width: 2; opacity: 0.7;\"></path><path transform=\"translate(125.71428571428574,92.3076923076923)\" d=\"M2.7386127875258306,0A2.7386127875258306,2.7386127875258306,0,1,1,-2.7386127875258306,0A2.7386127875258306,2.7386127875258306,0,1,1,2.7386127875258306,0\" style=\"fill: none; stroke: #4c78a8; stroke-width: 2; opacity: 0.7;\"></path><path transform=\"translate(137.14285714285714,92.3076923076923)\" d=\"M2.7386127875258306,0A2.7386127875258306,2.7386127875258306,0,1,1,-2.7386127875258306,0A2.7386127875258306,2.7386127875258306,0,1,1,2.7386127875258306,0\" style=\"fill: none; stroke: #4c78a8; stroke-width: 2; opacity: 0.7;\"></path><path transform=\"translate(142.85714285714286,69.23076923076923)\" d=\"M2.7386127875258306,0A2.7386127875258306,2.7386127875258306,0,1,1,-2.7386127875258306,0A2.7386127875258306,2.7386127875258306,0,1,1,2.7386127875258306,0\" style=\"fill: none; stroke: #4c78a8; stroke-width: 2; opacity: 0.7;\"></path><path transform=\"translate(128.57142857142858,84.61538461538463)\" d=\"M2.7386127875258306,0A2.7386127875258306,2.7386127875258306,0,1,1,-2.7386127875258306,0A2.7386127875258306,2.7386127875258306,0,1,1,2.7386127875258306,0\" style=\"fill: none; stroke: #4c78a8; stroke-width: 2; opacity: 0.7;\"></path><path transform=\"translate(100,123.07692307692308)\" d=\"M2.7386127875258306,0A2.7386127875258306,2.7386127875258306,0,1,1,-2.7386127875258306,0A2.7386127875258306,2.7386127875258306,0,1,1,2.7386127875258306,0\" style=\"fill: none; stroke: #4c78a8; stroke-width: 2; opacity: 0.7;\"></path><path transform=\"translate(108.57142857142857,115.38461538461539)\" d=\"M2.7386127875258306,0A2.7386127875258306,2.7386127875258306,0,1,1,-2.7386127875258306,0A2.7386127875258306,2.7386127875258306,0,1,1,2.7386127875258306,0\" style=\"fill: none; stroke: #4c78a8; stroke-width: 2; opacity: 0.7;\"></path><path transform=\"translate(105.71428571428572,123.07692307692308)\" d=\"M2.7386127875258306,0A2.7386127875258306,2.7386127875258306,0,1,1,-2.7386127875258306,0A2.7386127875258306,2.7386127875258306,0,1,1,2.7386127875258306,0\" style=\"fill: none; stroke: #4c78a8; stroke-width: 2; opacity: 0.7;\"></path><path transform=\"translate(111.42857142857143,107.6923076923077)\" d=\"M2.7386127875258306,0A2.7386127875258306,2.7386127875258306,0,1,1,-2.7386127875258306,0A2.7386127875258306,2.7386127875258306,0,1,1,2.7386127875258306,0\" style=\"fill: none; stroke: #4c78a8; stroke-width: 2; opacity: 0.7;\"></path><path transform=\"translate(145.7142857142857,76.92307692307692)\" d=\"M2.7386127875258306,0A2.7386127875258306,2.7386127875258306,0,1,1,-2.7386127875258306,0A2.7386127875258306,2.7386127875258306,0,1,1,2.7386127875258306,0\" style=\"fill: none; stroke: #4c78a8; stroke-width: 2; opacity: 0.7;\"></path><path transform=\"translate(128.57142857142858,84.61538461538463)\" d=\"M2.7386127875258306,0A2.7386127875258306,2.7386127875258306,0,1,1,-2.7386127875258306,0A2.7386127875258306,2.7386127875258306,0,1,1,2.7386127875258306,0\" style=\"fill: none; stroke: #4c78a8; stroke-width: 2; opacity: 0.7;\"></path><path transform=\"translate(128.57142857142858,76.92307692307692)\" d=\"M2.7386127875258306,0A2.7386127875258306,2.7386127875258306,0,1,1,-2.7386127875258306,0A2.7386127875258306,2.7386127875258306,0,1,1,2.7386127875258306,0\" style=\"fill: none; stroke: #4c78a8; stroke-width: 2; opacity: 0.7;\"></path><path transform=\"translate(134.2857142857143,84.61538461538463)\" d=\"M2.7386127875258306,0A2.7386127875258306,2.7386127875258306,0,1,1,-2.7386127875258306,0A2.7386127875258306,2.7386127875258306,0,1,1,2.7386127875258306,0\" style=\"fill: none; stroke: #4c78a8; stroke-width: 2; opacity: 0.7;\"></path><path transform=\"translate(125.71428571428574,100)\" d=\"M2.7386127875258306,0A2.7386127875258306,2.7386127875258306,0,1,1,-2.7386127875258306,0A2.7386127875258306,2.7386127875258306,0,1,1,2.7386127875258306,0\" style=\"fill: none; stroke: #4c78a8; stroke-width: 2; opacity: 0.7;\"></path><path transform=\"translate(117.14285714285712,100)\" d=\"M2.7386127875258306,0A2.7386127875258306,2.7386127875258306,0,1,1,-2.7386127875258306,0A2.7386127875258306,2.7386127875258306,0,1,1,2.7386127875258306,0\" style=\"fill: none; stroke: #4c78a8; stroke-width: 2; opacity: 0.7;\"></path><path transform=\"translate(114.28571428571428,100)\" d=\"M2.7386127875258306,0A2.7386127875258306,2.7386127875258306,0,1,1,-2.7386127875258306,0A2.7386127875258306,2.7386127875258306,0,1,1,2.7386127875258306,0\" style=\"fill: none; stroke: #4c78a8; stroke-width: 2; opacity: 0.7;\"></path><path transform=\"translate(125.71428571428574,107.6923076923077)\" d=\"M2.7386127875258306,0A2.7386127875258306,2.7386127875258306,0,1,1,-2.7386127875258306,0A2.7386127875258306,2.7386127875258306,0,1,1,2.7386127875258306,0\" style=\"fill: none; stroke: #4c78a8; stroke-width: 2; opacity: 0.7;\"></path><path transform=\"translate(131.42857142857142,92.3076923076923)\" d=\"M2.7386127875258306,0A2.7386127875258306,2.7386127875258306,0,1,1,-2.7386127875258306,0A2.7386127875258306,2.7386127875258306,0,1,1,2.7386127875258306,0\" style=\"fill: none; stroke: #4c78a8; stroke-width: 2; opacity: 0.7;\"></path><path transform=\"translate(114.28571428571428,107.6923076923077)\" d=\"M2.7386127875258306,0A2.7386127875258306,2.7386127875258306,0,1,1,-2.7386127875258306,0A2.7386127875258306,2.7386127875258306,0,1,1,2.7386127875258306,0\" style=\"fill: none; stroke: #4c78a8; stroke-width: 2; opacity: 0.7;\"></path><path transform=\"translate(94.28571428571428,123.07692307692308)\" d=\"M2.7386127875258306,0A2.7386127875258306,2.7386127875258306,0,1,1,-2.7386127875258306,0A2.7386127875258306,2.7386127875258306,0,1,1,2.7386127875258306,0\" style=\"fill: none; stroke: #4c78a8; stroke-width: 2; opacity: 0.7;\"></path><path transform=\"translate(120,100)\" d=\"M2.7386127875258306,0A2.7386127875258306,2.7386127875258306,0,1,1,-2.7386127875258306,0A2.7386127875258306,2.7386127875258306,0,1,1,2.7386127875258306,0\" style=\"fill: none; stroke: #4c78a8; stroke-width: 2; opacity: 0.7;\"></path><path transform=\"translate(120,107.6923076923077)\" d=\"M2.7386127875258306,0A2.7386127875258306,2.7386127875258306,0,1,1,-2.7386127875258306,0A2.7386127875258306,2.7386127875258306,0,1,1,2.7386127875258306,0\" style=\"fill: none; stroke: #4c78a8; stroke-width: 2; opacity: 0.7;\"></path><path transform=\"translate(120,100)\" d=\"M2.7386127875258306,0A2.7386127875258306,2.7386127875258306,0,1,1,-2.7386127875258306,0A2.7386127875258306,2.7386127875258306,0,1,1,2.7386127875258306,0\" style=\"fill: none; stroke: #4c78a8; stroke-width: 2; opacity: 0.7;\"></path><path transform=\"translate(122.85714285714285,100)\" d=\"M2.7386127875258306,0A2.7386127875258306,2.7386127875258306,0,1,1,-2.7386127875258306,0A2.7386127875258306,2.7386127875258306,0,1,1,2.7386127875258306,0\" style=\"fill: none; stroke: #4c78a8; stroke-width: 2; opacity: 0.7;\"></path><path transform=\"translate(85.71428571428571,115.38461538461539)\" d=\"M2.7386127875258306,0A2.7386127875258306,2.7386127875258306,0,1,1,-2.7386127875258306,0A2.7386127875258306,2.7386127875258306,0,1,1,2.7386127875258306,0\" style=\"fill: none; stroke: #4c78a8; stroke-width: 2; opacity: 0.7;\"></path><path transform=\"translate(117.14285714285712,100)\" d=\"M2.7386127875258306,0A2.7386127875258306,2.7386127875258306,0,1,1,-2.7386127875258306,0A2.7386127875258306,2.7386127875258306,0,1,1,2.7386127875258306,0\" style=\"fill: none; stroke: #4c78a8; stroke-width: 2; opacity: 0.7;\"></path><path transform=\"translate(171.42857142857142,7.692307692307708)\" d=\"M2.7386127875258306,0A2.7386127875258306,2.7386127875258306,0,1,1,-2.7386127875258306,0A2.7386127875258306,2.7386127875258306,0,1,1,2.7386127875258306,0\" style=\"fill: none; stroke: #4c78a8; stroke-width: 2; opacity: 0.7;\"></path><path transform=\"translate(145.7142857142857,53.84615384615387)\" d=\"M2.7386127875258306,0A2.7386127875258306,2.7386127875258306,0,1,1,-2.7386127875258306,0A2.7386127875258306,2.7386127875258306,0,1,1,2.7386127875258306,0\" style=\"fill: none; stroke: #4c78a8; stroke-width: 2; opacity: 0.7;\"></path><path transform=\"translate(168.57142857142858,38.46153846153845)\" d=\"M2.7386127875258306,0A2.7386127875258306,2.7386127875258306,0,1,1,-2.7386127875258306,0A2.7386127875258306,2.7386127875258306,0,1,1,2.7386127875258306,0\" style=\"fill: none; stroke: #4c78a8; stroke-width: 2; opacity: 0.7;\"></path><path transform=\"translate(160,61.53846153846155)\" d=\"M2.7386127875258306,0A2.7386127875258306,2.7386127875258306,0,1,1,-2.7386127875258306,0A2.7386127875258306,2.7386127875258306,0,1,1,2.7386127875258306,0\" style=\"fill: none; stroke: #4c78a8; stroke-width: 2; opacity: 0.7;\"></path><path transform=\"translate(165.7142857142857,30.769230769230774)\" d=\"M2.7386127875258306,0A2.7386127875258306,2.7386127875258306,0,1,1,-2.7386127875258306,0A2.7386127875258306,2.7386127875258306,0,1,1,2.7386127875258306,0\" style=\"fill: none; stroke: #4c78a8; stroke-width: 2; opacity: 0.7;\"></path><path transform=\"translate(188.57142857142856,38.46153846153845)\" d=\"M2.7386127875258306,0A2.7386127875258306,2.7386127875258306,0,1,1,-2.7386127875258306,0A2.7386127875258306,2.7386127875258306,0,1,1,2.7386127875258306,0\" style=\"fill: none; stroke: #4c78a8; stroke-width: 2; opacity: 0.7;\"></path><path transform=\"translate(128.57142857142858,69.23076923076923)\" d=\"M2.7386127875258306,0A2.7386127875258306,2.7386127875258306,0,1,1,-2.7386127875258306,0A2.7386127875258306,2.7386127875258306,0,1,1,2.7386127875258306,0\" style=\"fill: none; stroke: #4c78a8; stroke-width: 2; opacity: 0.7;\"></path><path transform=\"translate(180,61.53846153846155)\" d=\"M2.7386127875258306,0A2.7386127875258306,2.7386127875258306,0,1,1,-2.7386127875258306,0A2.7386127875258306,2.7386127875258306,0,1,1,2.7386127875258306,0\" style=\"fill: none; stroke: #4c78a8; stroke-width: 2; opacity: 0.7;\"></path><path transform=\"translate(165.7142857142857,61.53846153846155)\" d=\"M2.7386127875258306,0A2.7386127875258306,2.7386127875258306,0,1,1,-2.7386127875258306,0A2.7386127875258306,2.7386127875258306,0,1,1,2.7386127875258306,0\" style=\"fill: none; stroke: #4c78a8; stroke-width: 2; opacity: 0.7;\"></path><path transform=\"translate(174.28571428571428,7.692307692307708)\" d=\"M2.7386127875258306,0A2.7386127875258306,2.7386127875258306,0,1,1,-2.7386127875258306,0A2.7386127875258306,2.7386127875258306,0,1,1,2.7386127875258306,0\" style=\"fill: none; stroke: #4c78a8; stroke-width: 2; opacity: 0.7;\"></path><path transform=\"translate(145.7142857142857,46.15384615384616)\" d=\"M2.7386127875258306,0A2.7386127875258306,2.7386127875258306,0,1,1,-2.7386127875258306,0A2.7386127875258306,2.7386127875258306,0,1,1,2.7386127875258306,0\" style=\"fill: none; stroke: #4c78a8; stroke-width: 2; opacity: 0.7;\"></path><path transform=\"translate(151.42857142857142,53.84615384615387)\" d=\"M2.7386127875258306,0A2.7386127875258306,2.7386127875258306,0,1,1,-2.7386127875258306,0A2.7386127875258306,2.7386127875258306,0,1,1,2.7386127875258306,0\" style=\"fill: none; stroke: #4c78a8; stroke-width: 2; opacity: 0.7;\"></path><path transform=\"translate(157.14285714285714,38.46153846153845)\" d=\"M2.7386127875258306,0A2.7386127875258306,2.7386127875258306,0,1,1,-2.7386127875258306,0A2.7386127875258306,2.7386127875258306,0,1,1,2.7386127875258306,0\" style=\"fill: none; stroke: #4c78a8; stroke-width: 2; opacity: 0.7;\"></path><path transform=\"translate(142.85714285714286,46.15384615384616)\" d=\"M2.7386127875258306,0A2.7386127875258306,2.7386127875258306,0,1,1,-2.7386127875258306,0A2.7386127875258306,2.7386127875258306,0,1,1,2.7386127875258306,0\" style=\"fill: none; stroke: #4c78a8; stroke-width: 2; opacity: 0.7;\"></path><path transform=\"translate(145.7142857142857,15.384615384615387)\" d=\"M2.7386127875258306,0A2.7386127875258306,2.7386127875258306,0,1,1,-2.7386127875258306,0A2.7386127875258306,2.7386127875258306,0,1,1,2.7386127875258306,0\" style=\"fill: none; stroke: #4c78a8; stroke-width: 2; opacity: 0.7;\"></path><path transform=\"translate(151.42857142857142,23.076923076923094)\" d=\"M2.7386127875258306,0A2.7386127875258306,2.7386127875258306,0,1,1,-2.7386127875258306,0A2.7386127875258306,2.7386127875258306,0,1,1,2.7386127875258306,0\" style=\"fill: none; stroke: #4c78a8; stroke-width: 2; opacity: 0.7;\"></path><path transform=\"translate(157.14285714285714,61.53846153846155)\" d=\"M2.7386127875258306,0A2.7386127875258306,2.7386127875258306,0,1,1,-2.7386127875258306,0A2.7386127875258306,2.7386127875258306,0,1,1,2.7386127875258306,0\" style=\"fill: none; stroke: #4c78a8; stroke-width: 2; opacity: 0.7;\"></path><path transform=\"translate(191.42857142857144,30.769230769230774)\" d=\"M2.7386127875258306,0A2.7386127875258306,2.7386127875258306,0,1,1,-2.7386127875258306,0A2.7386127875258306,2.7386127875258306,0,1,1,2.7386127875258306,0\" style=\"fill: none; stroke: #4c78a8; stroke-width: 2; opacity: 0.7;\"></path><path transform=\"translate(197.14285714285717,23.076923076923094)\" d=\"M2.7386127875258306,0A2.7386127875258306,2.7386127875258306,0,1,1,-2.7386127875258306,0A2.7386127875258306,2.7386127875258306,0,1,1,2.7386127875258306,0\" style=\"fill: none; stroke: #4c78a8; stroke-width: 2; opacity: 0.7;\"></path><path transform=\"translate(142.85714285714286,84.61538461538463)\" d=\"M2.7386127875258306,0A2.7386127875258306,2.7386127875258306,0,1,1,-2.7386127875258306,0A2.7386127875258306,2.7386127875258306,0,1,1,2.7386127875258306,0\" style=\"fill: none; stroke: #4c78a8; stroke-width: 2; opacity: 0.7;\"></path><path transform=\"translate(162.85714285714286,23.076923076923094)\" d=\"M2.7386127875258306,0A2.7386127875258306,2.7386127875258306,0,1,1,-2.7386127875258306,0A2.7386127875258306,2.7386127875258306,0,1,1,2.7386127875258306,0\" style=\"fill: none; stroke: #4c78a8; stroke-width: 2; opacity: 0.7;\"></path><path transform=\"translate(140,46.15384615384616)\" d=\"M2.7386127875258306,0A2.7386127875258306,2.7386127875258306,0,1,1,-2.7386127875258306,0A2.7386127875258306,2.7386127875258306,0,1,1,2.7386127875258306,0\" style=\"fill: none; stroke: #4c78a8; stroke-width: 2; opacity: 0.7;\"></path><path transform=\"translate(191.42857142857144,46.15384615384616)\" d=\"M2.7386127875258306,0A2.7386127875258306,2.7386127875258306,0,1,1,-2.7386127875258306,0A2.7386127875258306,2.7386127875258306,0,1,1,2.7386127875258306,0\" style=\"fill: none; stroke: #4c78a8; stroke-width: 2; opacity: 0.7;\"></path><path transform=\"translate(140,61.53846153846155)\" d=\"M2.7386127875258306,0A2.7386127875258306,2.7386127875258306,0,1,1,-2.7386127875258306,0A2.7386127875258306,2.7386127875258306,0,1,1,2.7386127875258306,0\" style=\"fill: none; stroke: #4c78a8; stroke-width: 2; opacity: 0.7;\"></path><path transform=\"translate(162.85714285714286,38.46153846153845)\" d=\"M2.7386127875258306,0A2.7386127875258306,2.7386127875258306,0,1,1,-2.7386127875258306,0A2.7386127875258306,2.7386127875258306,0,1,1,2.7386127875258306,0\" style=\"fill: none; stroke: #4c78a8; stroke-width: 2; opacity: 0.7;\"></path><path transform=\"translate(171.42857142857142,61.53846153846155)\" d=\"M2.7386127875258306,0A2.7386127875258306,2.7386127875258306,0,1,1,-2.7386127875258306,0A2.7386127875258306,2.7386127875258306,0,1,1,2.7386127875258306,0\" style=\"fill: none; stroke: #4c78a8; stroke-width: 2; opacity: 0.7;\"></path><path transform=\"translate(137.14285714285714,61.53846153846155)\" d=\"M2.7386127875258306,0A2.7386127875258306,2.7386127875258306,0,1,1,-2.7386127875258306,0A2.7386127875258306,2.7386127875258306,0,1,1,2.7386127875258306,0\" style=\"fill: none; stroke: #4c78a8; stroke-width: 2; opacity: 0.7;\"></path><path transform=\"translate(140,61.53846153846155)\" d=\"M2.7386127875258306,0A2.7386127875258306,2.7386127875258306,0,1,1,-2.7386127875258306,0A2.7386127875258306,2.7386127875258306,0,1,1,2.7386127875258306,0\" style=\"fill: none; stroke: #4c78a8; stroke-width: 2; opacity: 0.7;\"></path><path transform=\"translate(160,38.46153846153845)\" d=\"M2.7386127875258306,0A2.7386127875258306,2.7386127875258306,0,1,1,-2.7386127875258306,0A2.7386127875258306,2.7386127875258306,0,1,1,2.7386127875258306,0\" style=\"fill: none; stroke: #4c78a8; stroke-width: 2; opacity: 0.7;\"></path><path transform=\"translate(165.7142857142857,76.92307692307692)\" d=\"M2.7386127875258306,0A2.7386127875258306,2.7386127875258306,0,1,1,-2.7386127875258306,0A2.7386127875258306,2.7386127875258306,0,1,1,2.7386127875258306,0\" style=\"fill: none; stroke: #4c78a8; stroke-width: 2; opacity: 0.7;\"></path><path transform=\"translate(174.28571428571428,53.84615384615387)\" d=\"M2.7386127875258306,0A2.7386127875258306,2.7386127875258306,0,1,1,-2.7386127875258306,0A2.7386127875258306,2.7386127875258306,0,1,1,2.7386127875258306,0\" style=\"fill: none; stroke: #4c78a8; stroke-width: 2; opacity: 0.7;\"></path><path transform=\"translate(182.85714285714286,46.15384615384616)\" d=\"M2.7386127875258306,0A2.7386127875258306,2.7386127875258306,0,1,1,-2.7386127875258306,0A2.7386127875258306,2.7386127875258306,0,1,1,2.7386127875258306,0\" style=\"fill: none; stroke: #4c78a8; stroke-width: 2; opacity: 0.7;\"></path><path transform=\"translate(160,30.769230769230774)\" d=\"M2.7386127875258306,0A2.7386127875258306,2.7386127875258306,0,1,1,-2.7386127875258306,0A2.7386127875258306,2.7386127875258306,0,1,1,2.7386127875258306,0\" style=\"fill: none; stroke: #4c78a8; stroke-width: 2; opacity: 0.7;\"></path><path transform=\"translate(145.7142857142857,84.61538461538463)\" d=\"M2.7386127875258306,0A2.7386127875258306,2.7386127875258306,0,1,1,-2.7386127875258306,0A2.7386127875258306,2.7386127875258306,0,1,1,2.7386127875258306,0\" style=\"fill: none; stroke: #4c78a8; stroke-width: 2; opacity: 0.7;\"></path><path transform=\"translate(160,92.3076923076923)\" d=\"M2.7386127875258306,0A2.7386127875258306,2.7386127875258306,0,1,1,-2.7386127875258306,0A2.7386127875258306,2.7386127875258306,0,1,1,2.7386127875258306,0\" style=\"fill: none; stroke: #4c78a8; stroke-width: 2; opacity: 0.7;\"></path><path transform=\"translate(174.28571428571428,23.076923076923094)\" d=\"M2.7386127875258306,0A2.7386127875258306,2.7386127875258306,0,1,1,-2.7386127875258306,0A2.7386127875258306,2.7386127875258306,0,1,1,2.7386127875258306,0\" style=\"fill: none; stroke: #4c78a8; stroke-width: 2; opacity: 0.7;\"></path><path transform=\"translate(160,15.384615384615387)\" d=\"M2.7386127875258306,0A2.7386127875258306,2.7386127875258306,0,1,1,-2.7386127875258306,0A2.7386127875258306,2.7386127875258306,0,1,1,2.7386127875258306,0\" style=\"fill: none; stroke: #4c78a8; stroke-width: 2; opacity: 0.7;\"></path><path transform=\"translate(157.14285714285714,61.53846153846155)\" d=\"M2.7386127875258306,0A2.7386127875258306,2.7386127875258306,0,1,1,-2.7386127875258306,0A2.7386127875258306,2.7386127875258306,0,1,1,2.7386127875258306,0\" style=\"fill: none; stroke: #4c78a8; stroke-width: 2; opacity: 0.7;\"></path><path transform=\"translate(137.14285714285714,61.53846153846155)\" d=\"M2.7386127875258306,0A2.7386127875258306,2.7386127875258306,0,1,1,-2.7386127875258306,0A2.7386127875258306,2.7386127875258306,0,1,1,2.7386127875258306,0\" style=\"fill: none; stroke: #4c78a8; stroke-width: 2; opacity: 0.7;\"></path><path transform=\"translate(154.2857142857143,38.46153846153845)\" d=\"M2.7386127875258306,0A2.7386127875258306,2.7386127875258306,0,1,1,-2.7386127875258306,0A2.7386127875258306,2.7386127875258306,0,1,1,2.7386127875258306,0\" style=\"fill: none; stroke: #4c78a8; stroke-width: 2; opacity: 0.7;\"></path><path transform=\"translate(160,15.384615384615387)\" d=\"M2.7386127875258306,0A2.7386127875258306,2.7386127875258306,0,1,1,-2.7386127875258306,0A2.7386127875258306,2.7386127875258306,0,1,1,2.7386127875258306,0\" style=\"fill: none; stroke: #4c78a8; stroke-width: 2; opacity: 0.7;\"></path><path transform=\"translate(145.7142857142857,23.076923076923094)\" d=\"M2.7386127875258306,0A2.7386127875258306,2.7386127875258306,0,1,1,-2.7386127875258306,0A2.7386127875258306,2.7386127875258306,0,1,1,2.7386127875258306,0\" style=\"fill: none; stroke: #4c78a8; stroke-width: 2; opacity: 0.7;\"></path><path transform=\"translate(145.7142857142857,53.84615384615387)\" d=\"M2.7386127875258306,0A2.7386127875258306,2.7386127875258306,0,1,1,-2.7386127875258306,0A2.7386127875258306,2.7386127875258306,0,1,1,2.7386127875258306,0\" style=\"fill: none; stroke: #4c78a8; stroke-width: 2; opacity: 0.7;\"></path><path transform=\"translate(168.57142857142858,23.076923076923094)\" d=\"M2.7386127875258306,0A2.7386127875258306,2.7386127875258306,0,1,1,-2.7386127875258306,0A2.7386127875258306,2.7386127875258306,0,1,1,2.7386127875258306,0\" style=\"fill: none; stroke: #4c78a8; stroke-width: 2; opacity: 0.7;\"></path><path transform=\"translate(162.85714285714286,7.692307692307708)\" d=\"M2.7386127875258306,0A2.7386127875258306,2.7386127875258306,0,1,1,-2.7386127875258306,0A2.7386127875258306,2.7386127875258306,0,1,1,2.7386127875258306,0\" style=\"fill: none; stroke: #4c78a8; stroke-width: 2; opacity: 0.7;\"></path><path transform=\"translate(148.57142857142858,23.076923076923094)\" d=\"M2.7386127875258306,0A2.7386127875258306,2.7386127875258306,0,1,1,-2.7386127875258306,0A2.7386127875258306,2.7386127875258306,0,1,1,2.7386127875258306,0\" style=\"fill: none; stroke: #4c78a8; stroke-width: 2; opacity: 0.7;\"></path><path transform=\"translate(142.85714285714286,53.84615384615387)\" d=\"M2.7386127875258306,0A2.7386127875258306,2.7386127875258306,0,1,1,-2.7386127875258306,0A2.7386127875258306,2.7386127875258306,0,1,1,2.7386127875258306,0\" style=\"fill: none; stroke: #4c78a8; stroke-width: 2; opacity: 0.7;\"></path><path transform=\"translate(148.57142857142858,46.15384615384616)\" d=\"M2.7386127875258306,0A2.7386127875258306,2.7386127875258306,0,1,1,-2.7386127875258306,0A2.7386127875258306,2.7386127875258306,0,1,1,2.7386127875258306,0\" style=\"fill: none; stroke: #4c78a8; stroke-width: 2; opacity: 0.7;\"></path><path transform=\"translate(154.2857142857143,23.076923076923094)\" d=\"M2.7386127875258306,0A2.7386127875258306,2.7386127875258306,0,1,1,-2.7386127875258306,0A2.7386127875258306,2.7386127875258306,0,1,1,2.7386127875258306,0\" style=\"fill: none; stroke: #4c78a8; stroke-width: 2; opacity: 0.7;\"></path><path transform=\"translate(145.7142857142857,61.53846153846155)\" d=\"M2.7386127875258306,0A2.7386127875258306,2.7386127875258306,0,1,1,-2.7386127875258306,0A2.7386127875258306,2.7386127875258306,0,1,1,2.7386127875258306,0\" style=\"fill: none; stroke: #4c78a8; stroke-width: 2; opacity: 0.7;\"></path></g><g class=\"mark-group role-axis\"><g transform=\"translate(0.5,200.5)\"><path class=\"background\" d=\"M0,0h0v0h0Z\" style=\"pointer-events: none; fill: none;\"></path><g><g class=\"mark-rule role-axis-tick\" style=\"pointer-events: none;\"><line transform=\"translate(0,0)\" x2=\"0\" y2=\"5\" style=\"fill: none; stroke: #888; stroke-width: 1; opacity: 1;\"></line><line transform=\"translate(29,0)\" x2=\"0\" y2=\"5\" style=\"fill: none; stroke: #888; stroke-width: 1; opacity: 1;\"></line><line transform=\"translate(57,0)\" x2=\"0\" y2=\"5\" style=\"fill: none; stroke: #888; stroke-width: 1; opacity: 1;\"></line><line transform=\"translate(86,0)\" x2=\"0\" y2=\"5\" style=\"fill: none; stroke: #888; stroke-width: 1; opacity: 1;\"></line><line transform=\"translate(114,0)\" x2=\"0\" y2=\"5\" style=\"fill: none; stroke: #888; stroke-width: 1; opacity: 1;\"></line><line transform=\"translate(143,0)\" x2=\"0\" y2=\"5\" style=\"fill: none; stroke: #888; stroke-width: 1; opacity: 1;\"></line><line transform=\"translate(171,0)\" x2=\"0\" y2=\"5\" style=\"fill: none; stroke: #888; stroke-width: 1; opacity: 1;\"></line><line transform=\"translate(200,0)\" x2=\"0\" y2=\"5\" style=\"fill: none; stroke: #888; stroke-width: 1; opacity: 1;\"></line></g><g class=\"mark-text role-axis-label\" style=\"pointer-events: none;\"><text text-anchor=\"start\" transform=\"translate(0,15)\" style=\"font-family: sans-serif; font-size: 10px; fill: #000; opacity: 1;\">0</text><text text-anchor=\"middle\" transform=\"translate(28.57142857142857,15)\" style=\"font-family: sans-serif; font-size: 10px; fill: #000; opacity: 1;\">1</text><text text-anchor=\"middle\" transform=\"translate(57.14285714285714,15)\" style=\"font-family: sans-serif; font-size: 10px; fill: #000; opacity: 1;\">2</text><text text-anchor=\"middle\" transform=\"translate(85.71428571428571,15)\" style=\"font-family: sans-serif; font-size: 10px; fill: #000; opacity: 1;\">3</text><text text-anchor=\"middle\" transform=\"translate(114.28571428571428,15)\" style=\"font-family: sans-serif; font-size: 10px; fill: #000; opacity: 1;\">4</text><text text-anchor=\"middle\" transform=\"translate(142.85714285714286,15)\" style=\"font-family: sans-serif; font-size: 10px; fill: #000; opacity: 1;\">5</text><text text-anchor=\"middle\" transform=\"translate(171.42857142857142,15)\" style=\"font-family: sans-serif; font-size: 10px; fill: #000; opacity: 1;\">6</text><text text-anchor=\"end\" transform=\"translate(200,15)\" style=\"font-family: sans-serif; font-size: 10px; fill: #000; opacity: 1;\">7</text></g><g class=\"mark-rule role-axis-domain\" style=\"pointer-events: none;\"><line transform=\"translate(0,0)\" x2=\"200\" y2=\"0\" style=\"fill: none; stroke: #888; stroke-width: 1; opacity: 1;\"></line></g><g class=\"mark-text role-axis-title\" style=\"pointer-events: none;\"><text text-anchor=\"middle\" transform=\"translate(100,31)\" style=\"font-family: sans-serif; font-size: 11px; font-weight: bold; fill: #000; opacity: 1;\">petalLength</text></g></g></g></g><g class=\"mark-group role-axis\"><g transform=\"translate(0.5,0.5)\"><path class=\"background\" d=\"M0,0h0v0h0Z\" style=\"pointer-events: none; fill: none;\"></path><g><g class=\"mark-rule role-axis-tick\" style=\"pointer-events: none;\"><line transform=\"translate(0,200)\" x2=\"-5\" y2=\"0\" style=\"fill: none; stroke: #888; stroke-width: 1; opacity: 1;\"></line><line transform=\"translate(0,162)\" x2=\"-5\" y2=\"0\" style=\"fill: none; stroke: #888; stroke-width: 1; opacity: 1;\"></line><line transform=\"translate(0,123)\" x2=\"-5\" y2=\"0\" style=\"fill: none; stroke: #888; stroke-width: 1; opacity: 1;\"></line><line transform=\"translate(0,85)\" x2=\"-5\" y2=\"0\" style=\"fill: none; stroke: #888; stroke-width: 1; opacity: 1;\"></line><line transform=\"translate(0,46)\" x2=\"-5\" y2=\"0\" style=\"fill: none; stroke: #888; stroke-width: 1; opacity: 1;\"></line><line transform=\"translate(0,8)\" x2=\"-5\" y2=\"0\" style=\"fill: none; stroke: #888; stroke-width: 1; opacity: 1;\"></line></g><g class=\"mark-text role-axis-label\" style=\"pointer-events: none;\"><text text-anchor=\"end\" transform=\"translate(-7,203)\" style=\"font-family: sans-serif; font-size: 10px; fill: #000; opacity: 1;\">0.0</text><text text-anchor=\"end\" transform=\"translate(-7,164.53846153846155)\" style=\"font-family: sans-serif; font-size: 10px; fill: #000; opacity: 1;\">0.5</text><text text-anchor=\"end\" transform=\"translate(-7,126.07692307692308)\" style=\"font-family: sans-serif; font-size: 10px; fill: #000; opacity: 1;\">1.0</text><text text-anchor=\"end\" transform=\"translate(-7,87.61538461538463)\" style=\"font-family: sans-serif; font-size: 10px; fill: #000; opacity: 1;\">1.5</text><text text-anchor=\"end\" transform=\"translate(-7,49.15384615384616)\" style=\"font-family: sans-serif; font-size: 10px; fill: #000; opacity: 1;\">2.0</text><text text-anchor=\"end\" transform=\"translate(-7,10.692307692307708)\" style=\"font-family: sans-serif; font-size: 10px; fill: #000; opacity: 1;\">2.5</text></g><g class=\"mark-rule role-axis-domain\" style=\"pointer-events: none;\"><line transform=\"translate(0,200)\" x2=\"0\" y2=\"-200\" style=\"fill: none; stroke: #888; stroke-width: 1; opacity: 1;\"></line></g><g class=\"mark-text role-axis-title\" style=\"pointer-events: none;\"><text text-anchor=\"middle\" transform=\"translate(-36,100) rotate(-90) translate(0,-2)\" style=\"font-family: sans-serif; font-size: 11px; font-weight: bold; fill: #000; opacity: 1;\">petalWidth</text></g></g></g></g></g></g></g></g></svg>"
      ],
      "text/plain": [
       "VegaLite.VLSpec{:plot}"
      ]
     },
     "execution_count": 8,
     "metadata": {},
     "output_type": "execute_result"
    }
   ],
   "source": [
    "#Plotting petal size for the 3 different iris species\n",
    "using VegaLite\n",
    "iris |>\n",
    "@vlplot(:point, x=:petalLength, y=:petalWidth)"
   ]
  },
  {
   "cell_type": "markdown",
   "metadata": {},
   "source": [
    "With this simple code we created sucessfully a first version of a scatterplot. Sofar we can only see that there is some realation between patal Length and petal Width. But it is possible to increase the quality of this plot. We know that there exist 3 different species of iris flowers in our dataset. Therefore it might be usefull to plot those different species in different color. This can be achieved using the color option to which we assign the categorical column species. As you can see below this leads to a scatterplot where the observations for every species are plotted in a different color. We can now clearly see a pattern for example that the Petal Size of the Iris Setosa is much smaller then of the other two species."
   ]
  },
  {
   "cell_type": "code",
   "execution_count": 9,
   "metadata": {},
   "outputs": [
    {
     "data": {
      "application/vnd.vegalite.v2+json": {
       "data": {
        "values": [
         {
          "petalLength": 1.4,
          "petalWidth": 0.2,
          "sepalLength": 5.1,
          "sepalWidth": 3.5,
          "species": "setosa"
         },
         {
          "petalLength": 1.4,
          "petalWidth": 0.2,
          "sepalLength": 4.9,
          "sepalWidth": 3,
          "species": "setosa"
         },
         {
          "petalLength": 1.3,
          "petalWidth": 0.2,
          "sepalLength": 4.7,
          "sepalWidth": 3.2,
          "species": "setosa"
         },
         {
          "petalLength": 1.5,
          "petalWidth": 0.2,
          "sepalLength": 4.6,
          "sepalWidth": 3.1,
          "species": "setosa"
         },
         {
          "petalLength": 1.4,
          "petalWidth": 0.2,
          "sepalLength": 5,
          "sepalWidth": 3.6,
          "species": "setosa"
         },
         {
          "petalLength": 1.7,
          "petalWidth": 0.4,
          "sepalLength": 5.4,
          "sepalWidth": 3.9,
          "species": "setosa"
         },
         {
          "petalLength": 1.4,
          "petalWidth": 0.3,
          "sepalLength": 4.6,
          "sepalWidth": 3.4,
          "species": "setosa"
         },
         {
          "petalLength": 1.5,
          "petalWidth": 0.2,
          "sepalLength": 5,
          "sepalWidth": 3.4,
          "species": "setosa"
         },
         {
          "petalLength": 1.4,
          "petalWidth": 0.2,
          "sepalLength": 4.4,
          "sepalWidth": 2.9,
          "species": "setosa"
         },
         {
          "petalLength": 1.5,
          "petalWidth": 0.1,
          "sepalLength": 4.9,
          "sepalWidth": 3.1,
          "species": "setosa"
         },
         {
          "petalLength": 1.5,
          "petalWidth": 0.2,
          "sepalLength": 5.4,
          "sepalWidth": 3.7,
          "species": "setosa"
         },
         {
          "petalLength": 1.6,
          "petalWidth": 0.2,
          "sepalLength": 4.8,
          "sepalWidth": 3.4,
          "species": "setosa"
         },
         {
          "petalLength": 1.4,
          "petalWidth": 0.1,
          "sepalLength": 4.8,
          "sepalWidth": 3,
          "species": "setosa"
         },
         {
          "petalLength": 1.1,
          "petalWidth": 0.1,
          "sepalLength": 4.3,
          "sepalWidth": 3,
          "species": "setosa"
         },
         {
          "petalLength": 1.2,
          "petalWidth": 0.2,
          "sepalLength": 5.8,
          "sepalWidth": 4,
          "species": "setosa"
         },
         {
          "petalLength": 1.5,
          "petalWidth": 0.4,
          "sepalLength": 5.7,
          "sepalWidth": 4.4,
          "species": "setosa"
         },
         {
          "petalLength": 1.3,
          "petalWidth": 0.4,
          "sepalLength": 5.4,
          "sepalWidth": 3.9,
          "species": "setosa"
         },
         {
          "petalLength": 1.4,
          "petalWidth": 0.3,
          "sepalLength": 5.1,
          "sepalWidth": 3.5,
          "species": "setosa"
         },
         {
          "petalLength": 1.7,
          "petalWidth": 0.3,
          "sepalLength": 5.7,
          "sepalWidth": 3.8,
          "species": "setosa"
         },
         {
          "petalLength": 1.5,
          "petalWidth": 0.3,
          "sepalLength": 5.1,
          "sepalWidth": 3.8,
          "species": "setosa"
         },
         {
          "petalLength": 1.7,
          "petalWidth": 0.2,
          "sepalLength": 5.4,
          "sepalWidth": 3.4,
          "species": "setosa"
         },
         {
          "petalLength": 1.5,
          "petalWidth": 0.4,
          "sepalLength": 5.1,
          "sepalWidth": 3.7,
          "species": "setosa"
         },
         {
          "petalLength": 1,
          "petalWidth": 0.2,
          "sepalLength": 4.6,
          "sepalWidth": 3.6,
          "species": "setosa"
         },
         {
          "petalLength": 1.7,
          "petalWidth": 0.5,
          "sepalLength": 5.1,
          "sepalWidth": 3.3,
          "species": "setosa"
         },
         {
          "petalLength": 1.9,
          "petalWidth": 0.2,
          "sepalLength": 4.8,
          "sepalWidth": 3.4,
          "species": "setosa"
         },
         {
          "petalLength": 1.6,
          "petalWidth": 0.2,
          "sepalLength": 5,
          "sepalWidth": 3,
          "species": "setosa"
         },
         {
          "petalLength": 1.6,
          "petalWidth": 0.4,
          "sepalLength": 5,
          "sepalWidth": 3.4,
          "species": "setosa"
         },
         {
          "petalLength": 1.5,
          "petalWidth": 0.2,
          "sepalLength": 5.2,
          "sepalWidth": 3.5,
          "species": "setosa"
         },
         {
          "petalLength": 1.4,
          "petalWidth": 0.2,
          "sepalLength": 5.2,
          "sepalWidth": 3.4,
          "species": "setosa"
         },
         {
          "petalLength": 1.6,
          "petalWidth": 0.2,
          "sepalLength": 4.7,
          "sepalWidth": 3.2,
          "species": "setosa"
         },
         {
          "petalLength": 1.6,
          "petalWidth": 0.2,
          "sepalLength": 4.8,
          "sepalWidth": 3.1,
          "species": "setosa"
         },
         {
          "petalLength": 1.5,
          "petalWidth": 0.4,
          "sepalLength": 5.4,
          "sepalWidth": 3.4,
          "species": "setosa"
         },
         {
          "petalLength": 1.5,
          "petalWidth": 0.1,
          "sepalLength": 5.2,
          "sepalWidth": 4.1,
          "species": "setosa"
         },
         {
          "petalLength": 1.4,
          "petalWidth": 0.2,
          "sepalLength": 5.5,
          "sepalWidth": 4.2,
          "species": "setosa"
         },
         {
          "petalLength": 1.5,
          "petalWidth": 0.2,
          "sepalLength": 4.9,
          "sepalWidth": 3.1,
          "species": "setosa"
         },
         {
          "petalLength": 1.2,
          "petalWidth": 0.2,
          "sepalLength": 5,
          "sepalWidth": 3.2,
          "species": "setosa"
         },
         {
          "petalLength": 1.3,
          "petalWidth": 0.2,
          "sepalLength": 5.5,
          "sepalWidth": 3.5,
          "species": "setosa"
         },
         {
          "petalLength": 1.4,
          "petalWidth": 0.1,
          "sepalLength": 4.9,
          "sepalWidth": 3.6,
          "species": "setosa"
         },
         {
          "petalLength": 1.3,
          "petalWidth": 0.2,
          "sepalLength": 4.4,
          "sepalWidth": 3,
          "species": "setosa"
         },
         {
          "petalLength": 1.5,
          "petalWidth": 0.2,
          "sepalLength": 5.1,
          "sepalWidth": 3.4,
          "species": "setosa"
         },
         {
          "petalLength": 1.3,
          "petalWidth": 0.3,
          "sepalLength": 5,
          "sepalWidth": 3.5,
          "species": "setosa"
         },
         {
          "petalLength": 1.3,
          "petalWidth": 0.3,
          "sepalLength": 4.5,
          "sepalWidth": 2.3,
          "species": "setosa"
         },
         {
          "petalLength": 1.3,
          "petalWidth": 0.2,
          "sepalLength": 4.4,
          "sepalWidth": 3.2,
          "species": "setosa"
         },
         {
          "petalLength": 1.6,
          "petalWidth": 0.6,
          "sepalLength": 5,
          "sepalWidth": 3.5,
          "species": "setosa"
         },
         {
          "petalLength": 1.9,
          "petalWidth": 0.4,
          "sepalLength": 5.1,
          "sepalWidth": 3.8,
          "species": "setosa"
         },
         {
          "petalLength": 1.4,
          "petalWidth": 0.3,
          "sepalLength": 4.8,
          "sepalWidth": 3,
          "species": "setosa"
         },
         {
          "petalLength": 1.6,
          "petalWidth": 0.2,
          "sepalLength": 5.1,
          "sepalWidth": 3.8,
          "species": "setosa"
         },
         {
          "petalLength": 1.4,
          "petalWidth": 0.2,
          "sepalLength": 4.6,
          "sepalWidth": 3.2,
          "species": "setosa"
         },
         {
          "petalLength": 1.5,
          "petalWidth": 0.2,
          "sepalLength": 5.3,
          "sepalWidth": 3.7,
          "species": "setosa"
         },
         {
          "petalLength": 1.4,
          "petalWidth": 0.2,
          "sepalLength": 5,
          "sepalWidth": 3.3,
          "species": "setosa"
         },
         {
          "petalLength": 4.7,
          "petalWidth": 1.4,
          "sepalLength": 7,
          "sepalWidth": 3.2,
          "species": "versicolor"
         },
         {
          "petalLength": 4.5,
          "petalWidth": 1.5,
          "sepalLength": 6.4,
          "sepalWidth": 3.2,
          "species": "versicolor"
         },
         {
          "petalLength": 4.9,
          "petalWidth": 1.5,
          "sepalLength": 6.9,
          "sepalWidth": 3.1,
          "species": "versicolor"
         },
         {
          "petalLength": 4,
          "petalWidth": 1.3,
          "sepalLength": 5.5,
          "sepalWidth": 2.3,
          "species": "versicolor"
         },
         {
          "petalLength": 4.6,
          "petalWidth": 1.5,
          "sepalLength": 6.5,
          "sepalWidth": 2.8,
          "species": "versicolor"
         },
         {
          "petalLength": 4.5,
          "petalWidth": 1.3,
          "sepalLength": 5.7,
          "sepalWidth": 2.8,
          "species": "versicolor"
         },
         {
          "petalLength": 4.7,
          "petalWidth": 1.6,
          "sepalLength": 6.3,
          "sepalWidth": 3.3,
          "species": "versicolor"
         },
         {
          "petalLength": 3.3,
          "petalWidth": 1,
          "sepalLength": 4.9,
          "sepalWidth": 2.4,
          "species": "versicolor"
         },
         {
          "petalLength": 4.6,
          "petalWidth": 1.3,
          "sepalLength": 6.6,
          "sepalWidth": 2.9,
          "species": "versicolor"
         },
         {
          "petalLength": 3.9,
          "petalWidth": 1.4,
          "sepalLength": 5.2,
          "sepalWidth": 2.7,
          "species": "versicolor"
         },
         {
          "petalLength": 3.5,
          "petalWidth": 1,
          "sepalLength": 5,
          "sepalWidth": 2,
          "species": "versicolor"
         },
         {
          "petalLength": 4.2,
          "petalWidth": 1.5,
          "sepalLength": 5.9,
          "sepalWidth": 3,
          "species": "versicolor"
         },
         {
          "petalLength": 4,
          "petalWidth": 1,
          "sepalLength": 6,
          "sepalWidth": 2.2,
          "species": "versicolor"
         },
         {
          "petalLength": 4.7,
          "petalWidth": 1.4,
          "sepalLength": 6.1,
          "sepalWidth": 2.9,
          "species": "versicolor"
         },
         {
          "petalLength": 3.6,
          "petalWidth": 1.3,
          "sepalLength": 5.6,
          "sepalWidth": 2.9,
          "species": "versicolor"
         },
         {
          "petalLength": 4.4,
          "petalWidth": 1.4,
          "sepalLength": 6.7,
          "sepalWidth": 3.1,
          "species": "versicolor"
         },
         {
          "petalLength": 4.5,
          "petalWidth": 1.5,
          "sepalLength": 5.6,
          "sepalWidth": 3,
          "species": "versicolor"
         },
         {
          "petalLength": 4.1,
          "petalWidth": 1,
          "sepalLength": 5.8,
          "sepalWidth": 2.7,
          "species": "versicolor"
         },
         {
          "petalLength": 4.5,
          "petalWidth": 1.5,
          "sepalLength": 6.2,
          "sepalWidth": 2.2,
          "species": "versicolor"
         },
         {
          "petalLength": 3.9,
          "petalWidth": 1.1,
          "sepalLength": 5.6,
          "sepalWidth": 2.5,
          "species": "versicolor"
         },
         {
          "petalLength": 4.8,
          "petalWidth": 1.8,
          "sepalLength": 5.9,
          "sepalWidth": 3.2,
          "species": "versicolor"
         },
         {
          "petalLength": 4,
          "petalWidth": 1.3,
          "sepalLength": 6.1,
          "sepalWidth": 2.8,
          "species": "versicolor"
         },
         {
          "petalLength": 4.9,
          "petalWidth": 1.5,
          "sepalLength": 6.3,
          "sepalWidth": 2.5,
          "species": "versicolor"
         },
         {
          "petalLength": 4.7,
          "petalWidth": 1.2,
          "sepalLength": 6.1,
          "sepalWidth": 2.8,
          "species": "versicolor"
         },
         {
          "petalLength": 4.3,
          "petalWidth": 1.3,
          "sepalLength": 6.4,
          "sepalWidth": 2.9,
          "species": "versicolor"
         },
         {
          "petalLength": 4.4,
          "petalWidth": 1.4,
          "sepalLength": 6.6,
          "sepalWidth": 3,
          "species": "versicolor"
         },
         {
          "petalLength": 4.8,
          "petalWidth": 1.4,
          "sepalLength": 6.8,
          "sepalWidth": 2.8,
          "species": "versicolor"
         },
         {
          "petalLength": 5,
          "petalWidth": 1.7,
          "sepalLength": 6.7,
          "sepalWidth": 3,
          "species": "versicolor"
         },
         {
          "petalLength": 4.5,
          "petalWidth": 1.5,
          "sepalLength": 6,
          "sepalWidth": 2.9,
          "species": "versicolor"
         },
         {
          "petalLength": 3.5,
          "petalWidth": 1,
          "sepalLength": 5.7,
          "sepalWidth": 2.6,
          "species": "versicolor"
         },
         {
          "petalLength": 3.8,
          "petalWidth": 1.1,
          "sepalLength": 5.5,
          "sepalWidth": 2.4,
          "species": "versicolor"
         },
         {
          "petalLength": 3.7,
          "petalWidth": 1,
          "sepalLength": 5.5,
          "sepalWidth": 2.4,
          "species": "versicolor"
         },
         {
          "petalLength": 3.9,
          "petalWidth": 1.2,
          "sepalLength": 5.8,
          "sepalWidth": 2.7,
          "species": "versicolor"
         },
         {
          "petalLength": 5.1,
          "petalWidth": 1.6,
          "sepalLength": 6,
          "sepalWidth": 2.7,
          "species": "versicolor"
         },
         {
          "petalLength": 4.5,
          "petalWidth": 1.5,
          "sepalLength": 5.4,
          "sepalWidth": 3,
          "species": "versicolor"
         },
         {
          "petalLength": 4.5,
          "petalWidth": 1.6,
          "sepalLength": 6,
          "sepalWidth": 3.4,
          "species": "versicolor"
         },
         {
          "petalLength": 4.7,
          "petalWidth": 1.5,
          "sepalLength": 6.7,
          "sepalWidth": 3.1,
          "species": "versicolor"
         },
         {
          "petalLength": 4.4,
          "petalWidth": 1.3,
          "sepalLength": 6.3,
          "sepalWidth": 2.3,
          "species": "versicolor"
         },
         {
          "petalLength": 4.1,
          "petalWidth": 1.3,
          "sepalLength": 5.6,
          "sepalWidth": 3,
          "species": "versicolor"
         },
         {
          "petalLength": 4,
          "petalWidth": 1.3,
          "sepalLength": 5.5,
          "sepalWidth": 2.5,
          "species": "versicolor"
         },
         {
          "petalLength": 4.4,
          "petalWidth": 1.2,
          "sepalLength": 5.5,
          "sepalWidth": 2.6,
          "species": "versicolor"
         },
         {
          "petalLength": 4.6,
          "petalWidth": 1.4,
          "sepalLength": 6.1,
          "sepalWidth": 3,
          "species": "versicolor"
         },
         {
          "petalLength": 4,
          "petalWidth": 1.2,
          "sepalLength": 5.8,
          "sepalWidth": 2.6,
          "species": "versicolor"
         },
         {
          "petalLength": 3.3,
          "petalWidth": 1,
          "sepalLength": 5,
          "sepalWidth": 2.3,
          "species": "versicolor"
         },
         {
          "petalLength": 4.2,
          "petalWidth": 1.3,
          "sepalLength": 5.6,
          "sepalWidth": 2.7,
          "species": "versicolor"
         },
         {
          "petalLength": 4.2,
          "petalWidth": 1.2,
          "sepalLength": 5.7,
          "sepalWidth": 3,
          "species": "versicolor"
         },
         {
          "petalLength": 4.2,
          "petalWidth": 1.3,
          "sepalLength": 5.7,
          "sepalWidth": 2.9,
          "species": "versicolor"
         },
         {
          "petalLength": 4.3,
          "petalWidth": 1.3,
          "sepalLength": 6.2,
          "sepalWidth": 2.9,
          "species": "versicolor"
         },
         {
          "petalLength": 3,
          "petalWidth": 1.1,
          "sepalLength": 5.1,
          "sepalWidth": 2.5,
          "species": "versicolor"
         },
         {
          "petalLength": 4.1,
          "petalWidth": 1.3,
          "sepalLength": 5.7,
          "sepalWidth": 2.8,
          "species": "versicolor"
         },
         {
          "petalLength": 6,
          "petalWidth": 2.5,
          "sepalLength": 6.3,
          "sepalWidth": 3.3,
          "species": "virginica"
         },
         {
          "petalLength": 5.1,
          "petalWidth": 1.9,
          "sepalLength": 5.8,
          "sepalWidth": 2.7,
          "species": "virginica"
         },
         {
          "petalLength": 5.9,
          "petalWidth": 2.1,
          "sepalLength": 7.1,
          "sepalWidth": 3,
          "species": "virginica"
         },
         {
          "petalLength": 5.6,
          "petalWidth": 1.8,
          "sepalLength": 6.3,
          "sepalWidth": 2.9,
          "species": "virginica"
         },
         {
          "petalLength": 5.8,
          "petalWidth": 2.2,
          "sepalLength": 6.5,
          "sepalWidth": 3,
          "species": "virginica"
         },
         {
          "petalLength": 6.6,
          "petalWidth": 2.1,
          "sepalLength": 7.6,
          "sepalWidth": 3,
          "species": "virginica"
         },
         {
          "petalLength": 4.5,
          "petalWidth": 1.7,
          "sepalLength": 4.9,
          "sepalWidth": 2.5,
          "species": "virginica"
         },
         {
          "petalLength": 6.3,
          "petalWidth": 1.8,
          "sepalLength": 7.3,
          "sepalWidth": 2.9,
          "species": "virginica"
         },
         {
          "petalLength": 5.8,
          "petalWidth": 1.8,
          "sepalLength": 6.7,
          "sepalWidth": 2.5,
          "species": "virginica"
         },
         {
          "petalLength": 6.1,
          "petalWidth": 2.5,
          "sepalLength": 7.2,
          "sepalWidth": 3.6,
          "species": "virginica"
         },
         {
          "petalLength": 5.1,
          "petalWidth": 2,
          "sepalLength": 6.5,
          "sepalWidth": 3.2,
          "species": "virginica"
         },
         {
          "petalLength": 5.3,
          "petalWidth": 1.9,
          "sepalLength": 6.4,
          "sepalWidth": 2.7,
          "species": "virginica"
         },
         {
          "petalLength": 5.5,
          "petalWidth": 2.1,
          "sepalLength": 6.8,
          "sepalWidth": 3,
          "species": "virginica"
         },
         {
          "petalLength": 5,
          "petalWidth": 2,
          "sepalLength": 5.7,
          "sepalWidth": 2.5,
          "species": "virginica"
         },
         {
          "petalLength": 5.1,
          "petalWidth": 2.4,
          "sepalLength": 5.8,
          "sepalWidth": 2.8,
          "species": "virginica"
         },
         {
          "petalLength": 5.3,
          "petalWidth": 2.3,
          "sepalLength": 6.4,
          "sepalWidth": 3.2,
          "species": "virginica"
         },
         {
          "petalLength": 5.5,
          "petalWidth": 1.8,
          "sepalLength": 6.5,
          "sepalWidth": 3,
          "species": "virginica"
         },
         {
          "petalLength": 6.7,
          "petalWidth": 2.2,
          "sepalLength": 7.7,
          "sepalWidth": 3.8,
          "species": "virginica"
         },
         {
          "petalLength": 6.9,
          "petalWidth": 2.3,
          "sepalLength": 7.7,
          "sepalWidth": 2.6,
          "species": "virginica"
         },
         {
          "petalLength": 5,
          "petalWidth": 1.5,
          "sepalLength": 6,
          "sepalWidth": 2.2,
          "species": "virginica"
         },
         {
          "petalLength": 5.7,
          "petalWidth": 2.3,
          "sepalLength": 6.9,
          "sepalWidth": 3.2,
          "species": "virginica"
         },
         {
          "petalLength": 4.9,
          "petalWidth": 2,
          "sepalLength": 5.6,
          "sepalWidth": 2.8,
          "species": "virginica"
         },
         {
          "petalLength": 6.7,
          "petalWidth": 2,
          "sepalLength": 7.7,
          "sepalWidth": 2.8,
          "species": "virginica"
         },
         {
          "petalLength": 4.9,
          "petalWidth": 1.8,
          "sepalLength": 6.3,
          "sepalWidth": 2.7,
          "species": "virginica"
         },
         {
          "petalLength": 5.7,
          "petalWidth": 2.1,
          "sepalLength": 6.7,
          "sepalWidth": 3.3,
          "species": "virginica"
         },
         {
          "petalLength": 6,
          "petalWidth": 1.8,
          "sepalLength": 7.2,
          "sepalWidth": 3.2,
          "species": "virginica"
         },
         {
          "petalLength": 4.8,
          "petalWidth": 1.8,
          "sepalLength": 6.2,
          "sepalWidth": 2.8,
          "species": "virginica"
         },
         {
          "petalLength": 4.9,
          "petalWidth": 1.8,
          "sepalLength": 6.1,
          "sepalWidth": 3,
          "species": "virginica"
         },
         {
          "petalLength": 5.6,
          "petalWidth": 2.1,
          "sepalLength": 6.4,
          "sepalWidth": 2.8,
          "species": "virginica"
         },
         {
          "petalLength": 5.8,
          "petalWidth": 1.6,
          "sepalLength": 7.2,
          "sepalWidth": 3,
          "species": "virginica"
         },
         {
          "petalLength": 6.1,
          "petalWidth": 1.9,
          "sepalLength": 7.4,
          "sepalWidth": 2.8,
          "species": "virginica"
         },
         {
          "petalLength": 6.4,
          "petalWidth": 2,
          "sepalLength": 7.9,
          "sepalWidth": 3.8,
          "species": "virginica"
         },
         {
          "petalLength": 5.6,
          "petalWidth": 2.2,
          "sepalLength": 6.4,
          "sepalWidth": 2.8,
          "species": "virginica"
         },
         {
          "petalLength": 5.1,
          "petalWidth": 1.5,
          "sepalLength": 6.3,
          "sepalWidth": 2.8,
          "species": "virginica"
         },
         {
          "petalLength": 5.6,
          "petalWidth": 1.4,
          "sepalLength": 6.1,
          "sepalWidth": 2.6,
          "species": "virginica"
         },
         {
          "petalLength": 6.1,
          "petalWidth": 2.3,
          "sepalLength": 7.7,
          "sepalWidth": 3,
          "species": "virginica"
         },
         {
          "petalLength": 5.6,
          "petalWidth": 2.4,
          "sepalLength": 6.3,
          "sepalWidth": 3.4,
          "species": "virginica"
         },
         {
          "petalLength": 5.5,
          "petalWidth": 1.8,
          "sepalLength": 6.4,
          "sepalWidth": 3.1,
          "species": "virginica"
         },
         {
          "petalLength": 4.8,
          "petalWidth": 1.8,
          "sepalLength": 6,
          "sepalWidth": 3,
          "species": "virginica"
         },
         {
          "petalLength": 5.4,
          "petalWidth": 2.1,
          "sepalLength": 6.9,
          "sepalWidth": 3.1,
          "species": "virginica"
         },
         {
          "petalLength": 5.6,
          "petalWidth": 2.4,
          "sepalLength": 6.7,
          "sepalWidth": 3.1,
          "species": "virginica"
         },
         {
          "petalLength": 5.1,
          "petalWidth": 2.3,
          "sepalLength": 6.9,
          "sepalWidth": 3.1,
          "species": "virginica"
         },
         {
          "petalLength": 5.1,
          "petalWidth": 1.9,
          "sepalLength": 5.8,
          "sepalWidth": 2.7,
          "species": "virginica"
         },
         {
          "petalLength": 5.9,
          "petalWidth": 2.3,
          "sepalLength": 6.8,
          "sepalWidth": 3.2,
          "species": "virginica"
         },
         {
          "petalLength": 5.7,
          "petalWidth": 2.5,
          "sepalLength": 6.7,
          "sepalWidth": 3.3,
          "species": "virginica"
         },
         {
          "petalLength": 5.2,
          "petalWidth": 2.3,
          "sepalLength": 6.7,
          "sepalWidth": 3,
          "species": "virginica"
         },
         {
          "petalLength": 5,
          "petalWidth": 1.9,
          "sepalLength": 6.3,
          "sepalWidth": 2.5,
          "species": "virginica"
         },
         {
          "petalLength": 5.2,
          "petalWidth": 2,
          "sepalLength": 6.5,
          "sepalWidth": 3,
          "species": "virginica"
         },
         {
          "petalLength": 5.4,
          "petalWidth": 2.3,
          "sepalLength": 6.2,
          "sepalWidth": 3.4,
          "species": "virginica"
         },
         {
          "petalLength": 5.1,
          "petalWidth": 1.8,
          "sepalLength": 5.9,
          "sepalWidth": 3,
          "species": "virginica"
         }
        ]
       },
       "encoding": {
        "color": {
         "field": "species",
         "type": "nominal"
        },
        "x": {
         "field": "petalLength",
         "type": "quantitative"
        },
        "y": {
         "field": "petalWidth",
         "type": "quantitative"
        }
       },
       "mark": "point"
      },
      "image/png": "[encoded data removed]",
      "image/svg+xml": [
       "<?xml version=\"1.0\" encoding=\"utf-8\"?>\n",
       "<!DOCTYPE svg PUBLIC \"-//W3C//DTD SVG 1.1//EN\" \"http://www.w3.org/Graphics/SVG/1.1/DTD/svg11.dtd\">\n",
       "<svg class=\"marks\" width=\"374\" height=\"245\" viewBox=\"0 0 374 245\" version=\"1.1\" xmlns=\"http://www.w3.org/2000/svg\" xmlns:xlink=\"http://www.w3.org/1999/xlink\"><g transform=\"translate(54,5)\"><g class=\"mark-group role-frame root\"><g transform=\"translate(0,0)\"><path class=\"background\" d=\"M0.5,0.5h200v200h-200Z\" style=\"fill: none; stroke: #ddd;\"></path><g><g class=\"mark-group role-axis\"><g transform=\"translate(0.5,200.5)\"><path class=\"background\" d=\"M0,0h0v0h0Z\" style=\"pointer-events: none; fill: none;\"></path><g><g class=\"mark-rule role-axis-grid\" style=\"pointer-events: none;\"><line transform=\"translate(0,-200)\" x2=\"0\" y2=\"200\" style=\"fill: none; stroke: #ddd; stroke-width: 1; opacity: 1;\"></line><line transform=\"translate(29,-200)\" x2=\"0\" y2=\"200\" style=\"fill: none; stroke: #ddd; stroke-width: 1; opacity: 1;\"></line><line transform=\"translate(57,-200)\" x2=\"0\" y2=\"200\" style=\"fill: none; stroke: #ddd; stroke-width: 1; opacity: 1;\"></line><line transform=\"translate(86,-200)\" x2=\"0\" y2=\"200\" style=\"fill: none; stroke: #ddd; stroke-width: 1; opacity: 1;\"></line><line transform=\"translate(114,-200)\" x2=\"0\" y2=\"200\" style=\"fill: none; stroke: #ddd; stroke-width: 1; opacity: 1;\"></line><line transform=\"translate(143,-200)\" x2=\"0\" y2=\"200\" style=\"fill: none; stroke: #ddd; stroke-width: 1; opacity: 1;\"></line><line transform=\"translate(171,-200)\" x2=\"0\" y2=\"200\" style=\"fill: none; stroke: #ddd; stroke-width: 1; opacity: 1;\"></line><line transform=\"translate(200,-200)\" x2=\"0\" y2=\"200\" style=\"fill: none; stroke: #ddd; stroke-width: 1; opacity: 1;\"></line></g></g></g></g><g class=\"mark-group role-axis\"><g transform=\"translate(0.5,0.5)\"><path class=\"background\" d=\"M0,0h0v0h0Z\" style=\"pointer-events: none; fill: none;\"></path><g><g class=\"mark-rule role-axis-grid\" style=\"pointer-events: none;\"><line transform=\"translate(0,200)\" x2=\"200\" y2=\"0\" style=\"fill: none; stroke: #ddd; stroke-width: 1; opacity: 1;\"></line><line transform=\"translate(0,162)\" x2=\"200\" y2=\"0\" style=\"fill: none; stroke: #ddd; stroke-width: 1; opacity: 1;\"></line><line transform=\"translate(0,123)\" x2=\"200\" y2=\"0\" style=\"fill: none; stroke: #ddd; stroke-width: 1; opacity: 1;\"></line><line transform=\"translate(0,85)\" x2=\"200\" y2=\"0\" style=\"fill: none; stroke: #ddd; stroke-width: 1; opacity: 1;\"></line><line transform=\"translate(0,46)\" x2=\"200\" y2=\"0\" style=\"fill: none; stroke: #ddd; stroke-width: 1; opacity: 1;\"></line><line transform=\"translate(0,8)\" x2=\"200\" y2=\"0\" style=\"fill: none; stroke: #ddd; stroke-width: 1; opacity: 1;\"></line></g></g></g></g><g class=\"mark-symbol role-mark marks\"><path transform=\"translate(40,184.6153846153846)\" d=\"M2.7386127875258306,0A2.7386127875258306,2.7386127875258306,0,1,1,-2.7386127875258306,0A2.7386127875258306,2.7386127875258306,0,1,1,2.7386127875258306,0\" style=\"fill: none; stroke: #4c78a8; stroke-width: 2; opacity: 0.7;\"></path><path transform=\"translate(40,184.6153846153846)\" d=\"M2.7386127875258306,0A2.7386127875258306,2.7386127875258306,0,1,1,-2.7386127875258306,0A2.7386127875258306,2.7386127875258306,0,1,1,2.7386127875258306,0\" style=\"fill: none; stroke: #4c78a8; stroke-width: 2; opacity: 0.7;\"></path><path transform=\"translate(37.142857142857146,184.6153846153846)\" d=\"M2.7386127875258306,0A2.7386127875258306,2.7386127875258306,0,1,1,-2.7386127875258306,0A2.7386127875258306,2.7386127875258306,0,1,1,2.7386127875258306,0\" style=\"fill: none; stroke: #4c78a8; stroke-width: 2; opacity: 0.7;\"></path><path transform=\"translate(42.857142857142854,184.6153846153846)\" d=\"M2.7386127875258306,0A2.7386127875258306,2.7386127875258306,0,1,1,-2.7386127875258306,0A2.7386127875258306,2.7386127875258306,0,1,1,2.7386127875258306,0\" style=\"fill: none; stroke: #4c78a8; stroke-width: 2; opacity: 0.7;\"></path><path transform=\"translate(40,184.6153846153846)\" d=\"M2.7386127875258306,0A2.7386127875258306,2.7386127875258306,0,1,1,-2.7386127875258306,0A2.7386127875258306,2.7386127875258306,0,1,1,2.7386127875258306,0\" style=\"fill: none; stroke: #4c78a8; stroke-width: 2; opacity: 0.7;\"></path><path transform=\"translate(48.57142857142857,169.23076923076923)\" d=\"M2.7386127875258306,0A2.7386127875258306,2.7386127875258306,0,1,1,-2.7386127875258306,0A2.7386127875258306,2.7386127875258306,0,1,1,2.7386127875258306,0\" style=\"fill: none; stroke: #4c78a8; stroke-width: 2; opacity: 0.7;\"></path><path transform=\"translate(40,176.92307692307693)\" d=\"M2.7386127875258306,0A2.7386127875258306,2.7386127875258306,0,1,1,-2.7386127875258306,0A2.7386127875258306,2.7386127875258306,0,1,1,2.7386127875258306,0\" style=\"fill: none; stroke: #4c78a8; stroke-width: 2; opacity: 0.7;\"></path><path transform=\"translate(42.857142857142854,184.6153846153846)\" d=\"M2.7386127875258306,0A2.7386127875258306,2.7386127875258306,0,1,1,-2.7386127875258306,0A2.7386127875258306,2.7386127875258306,0,1,1,2.7386127875258306,0\" style=\"fill: none; stroke: #4c78a8; stroke-width: 2; opacity: 0.7;\"></path><path transform=\"translate(40,184.6153846153846)\" d=\"M2.7386127875258306,0A2.7386127875258306,2.7386127875258306,0,1,1,-2.7386127875258306,0A2.7386127875258306,2.7386127875258306,0,1,1,2.7386127875258306,0\" style=\"fill: none; stroke: #4c78a8; stroke-width: 2; opacity: 0.7;\"></path><path transform=\"translate(42.857142857142854,192.30769230769232)\" d=\"M2.7386127875258306,0A2.7386127875258306,2.7386127875258306,0,1,1,-2.7386127875258306,0A2.7386127875258306,2.7386127875258306,0,1,1,2.7386127875258306,0\" style=\"fill: none; stroke: #4c78a8; stroke-width: 2; opacity: 0.7;\"></path><path transform=\"translate(42.857142857142854,184.6153846153846)\" d=\"M2.7386127875258306,0A2.7386127875258306,2.7386127875258306,0,1,1,-2.7386127875258306,0A2.7386127875258306,2.7386127875258306,0,1,1,2.7386127875258306,0\" style=\"fill: none; stroke: #4c78a8; stroke-width: 2; opacity: 0.7;\"></path><path transform=\"translate(45.714285714285715,184.6153846153846)\" d=\"M2.7386127875258306,0A2.7386127875258306,2.7386127875258306,0,1,1,-2.7386127875258306,0A2.7386127875258306,2.7386127875258306,0,1,1,2.7386127875258306,0\" style=\"fill: none; stroke: #4c78a8; stroke-width: 2; opacity: 0.7;\"></path><path transform=\"translate(40,192.30769230769232)\" d=\"M2.7386127875258306,0A2.7386127875258306,2.7386127875258306,0,1,1,-2.7386127875258306,0A2.7386127875258306,2.7386127875258306,0,1,1,2.7386127875258306,0\" style=\"fill: none; stroke: #4c78a8; stroke-width: 2; opacity: 0.7;\"></path><path transform=\"translate(31.428571428571434,192.30769230769232)\" d=\"M2.7386127875258306,0A2.7386127875258306,2.7386127875258306,0,1,1,-2.7386127875258306,0A2.7386127875258306,2.7386127875258306,0,1,1,2.7386127875258306,0\" style=\"fill: none; stroke: #4c78a8; stroke-width: 2; opacity: 0.7;\"></path><path transform=\"translate(34.285714285714285,184.6153846153846)\" d=\"M2.7386127875258306,0A2.7386127875258306,2.7386127875258306,0,1,1,-2.7386127875258306,0A2.7386127875258306,2.7386127875258306,0,1,1,2.7386127875258306,0\" style=\"fill: none; stroke: #4c78a8; stroke-width: 2; opacity: 0.7;\"></path><path transform=\"translate(42.857142857142854,169.23076923076923)\" d=\"M2.7386127875258306,0A2.7386127875258306,2.7386127875258306,0,1,1,-2.7386127875258306,0A2.7386127875258306,2.7386127875258306,0,1,1,2.7386127875258306,0\" style=\"fill: none; stroke: #4c78a8; stroke-width: 2; opacity: 0.7;\"></path><path transform=\"translate(37.142857142857146,169.23076923076923)\" d=\"M2.7386127875258306,0A2.7386127875258306,2.7386127875258306,0,1,1,-2.7386127875258306,0A2.7386127875258306,2.7386127875258306,0,1,1,2.7386127875258306,0\" style=\"fill: none; stroke: #4c78a8; stroke-width: 2; opacity: 0.7;\"></path><path transform=\"translate(40,176.92307692307693)\" d=\"M2.7386127875258306,0A2.7386127875258306,2.7386127875258306,0,1,1,-2.7386127875258306,0A2.7386127875258306,2.7386127875258306,0,1,1,2.7386127875258306,0\" style=\"fill: none; stroke: #4c78a8; stroke-width: 2; opacity: 0.7;\"></path><path transform=\"translate(48.57142857142857,176.92307692307693)\" d=\"M2.7386127875258306,0A2.7386127875258306,2.7386127875258306,0,1,1,-2.7386127875258306,0A2.7386127875258306,2.7386127875258306,0,1,1,2.7386127875258306,0\" style=\"fill: none; stroke: #4c78a8; stroke-width: 2; opacity: 0.7;\"></path><path transform=\"translate(42.857142857142854,176.92307692307693)\" d=\"M2.7386127875258306,0A2.7386127875258306,2.7386127875258306,0,1,1,-2.7386127875258306,0A2.7386127875258306,2.7386127875258306,0,1,1,2.7386127875258306,0\" style=\"fill: none; stroke: #4c78a8; stroke-width: 2; opacity: 0.7;\"></path><path transform=\"translate(48.57142857142857,184.6153846153846)\" d=\"M2.7386127875258306,0A2.7386127875258306,2.7386127875258306,0,1,1,-2.7386127875258306,0A2.7386127875258306,2.7386127875258306,0,1,1,2.7386127875258306,0\" style=\"fill: none; stroke: #4c78a8; stroke-width: 2; opacity: 0.7;\"></path><path transform=\"translate(42.857142857142854,169.23076923076923)\" d=\"M2.7386127875258306,0A2.7386127875258306,2.7386127875258306,0,1,1,-2.7386127875258306,0A2.7386127875258306,2.7386127875258306,0,1,1,2.7386127875258306,0\" style=\"fill: none; stroke: #4c78a8; stroke-width: 2; opacity: 0.7;\"></path><path transform=\"translate(28.57142857142857,184.6153846153846)\" d=\"M2.7386127875258306,0A2.7386127875258306,2.7386127875258306,0,1,1,-2.7386127875258306,0A2.7386127875258306,2.7386127875258306,0,1,1,2.7386127875258306,0\" style=\"fill: none; stroke: #4c78a8; stroke-width: 2; opacity: 0.7;\"></path><path transform=\"translate(48.57142857142857,161.53846153846155)\" d=\"M2.7386127875258306,0A2.7386127875258306,2.7386127875258306,0,1,1,-2.7386127875258306,0A2.7386127875258306,2.7386127875258306,0,1,1,2.7386127875258306,0\" style=\"fill: none; stroke: #4c78a8; stroke-width: 2; opacity: 0.7;\"></path><path transform=\"translate(54.285714285714285,184.6153846153846)\" d=\"M2.7386127875258306,0A2.7386127875258306,2.7386127875258306,0,1,1,-2.7386127875258306,0A2.7386127875258306,2.7386127875258306,0,1,1,2.7386127875258306,0\" style=\"fill: none; stroke: #4c78a8; stroke-width: 2; opacity: 0.7;\"></path><path transform=\"translate(45.714285714285715,184.6153846153846)\" d=\"M2.7386127875258306,0A2.7386127875258306,2.7386127875258306,0,1,1,-2.7386127875258306,0A2.7386127875258306,2.7386127875258306,0,1,1,2.7386127875258306,0\" style=\"fill: none; stroke: #4c78a8; stroke-width: 2; opacity: 0.7;\"></path><path transform=\"translate(45.714285714285715,169.23076923076923)\" d=\"M2.7386127875258306,0A2.7386127875258306,2.7386127875258306,0,1,1,-2.7386127875258306,0A2.7386127875258306,2.7386127875258306,0,1,1,2.7386127875258306,0\" style=\"fill: none; stroke: #4c78a8; stroke-width: 2; opacity: 0.7;\"></path><path transform=\"translate(42.857142857142854,184.6153846153846)\" d=\"M2.7386127875258306,0A2.7386127875258306,2.7386127875258306,0,1,1,-2.7386127875258306,0A2.7386127875258306,2.7386127875258306,0,1,1,2.7386127875258306,0\" style=\"fill: none; stroke: #4c78a8; stroke-width: 2; opacity: 0.7;\"></path><path transform=\"translate(40,184.6153846153846)\" d=\"M2.7386127875258306,0A2.7386127875258306,2.7386127875258306,0,1,1,-2.7386127875258306,0A2.7386127875258306,2.7386127875258306,0,1,1,2.7386127875258306,0\" style=\"fill: none; stroke: #4c78a8; stroke-width: 2; opacity: 0.7;\"></path><path transform=\"translate(45.714285714285715,184.6153846153846)\" d=\"M2.7386127875258306,0A2.7386127875258306,2.7386127875258306,0,1,1,-2.7386127875258306,0A2.7386127875258306,2.7386127875258306,0,1,1,2.7386127875258306,0\" style=\"fill: none; stroke: #4c78a8; stroke-width: 2; opacity: 0.7;\"></path><path transform=\"translate(45.714285714285715,184.6153846153846)\" d=\"M2.7386127875258306,0A2.7386127875258306,2.7386127875258306,0,1,1,-2.7386127875258306,0A2.7386127875258306,2.7386127875258306,0,1,1,2.7386127875258306,0\" style=\"fill: none; stroke: #4c78a8; stroke-width: 2; opacity: 0.7;\"></path><path transform=\"translate(42.857142857142854,169.23076923076923)\" d=\"M2.7386127875258306,0A2.7386127875258306,2.7386127875258306,0,1,1,-2.7386127875258306,0A2.7386127875258306,2.7386127875258306,0,1,1,2.7386127875258306,0\" style=\"fill: none; stroke: #4c78a8; stroke-width: 2; opacity: 0.7;\"></path><path transform=\"translate(42.857142857142854,192.30769230769232)\" d=\"M2.7386127875258306,0A2.7386127875258306,2.7386127875258306,0,1,1,-2.7386127875258306,0A2.7386127875258306,2.7386127875258306,0,1,1,2.7386127875258306,0\" style=\"fill: none; stroke: #4c78a8; stroke-width: 2; opacity: 0.7;\"></path><path transform=\"translate(40,184.6153846153846)\" d=\"M2.7386127875258306,0A2.7386127875258306,2.7386127875258306,0,1,1,-2.7386127875258306,0A2.7386127875258306,2.7386127875258306,0,1,1,2.7386127875258306,0\" style=\"fill: none; stroke: #4c78a8; stroke-width: 2; opacity: 0.7;\"></path><path transform=\"translate(42.857142857142854,184.6153846153846)\" d=\"M2.7386127875258306,0A2.7386127875258306,2.7386127875258306,0,1,1,-2.7386127875258306,0A2.7386127875258306,2.7386127875258306,0,1,1,2.7386127875258306,0\" style=\"fill: none; stroke: #4c78a8; stroke-width: 2; opacity: 0.7;\"></path><path transform=\"translate(34.285714285714285,184.6153846153846)\" d=\"M2.7386127875258306,0A2.7386127875258306,2.7386127875258306,0,1,1,-2.7386127875258306,0A2.7386127875258306,2.7386127875258306,0,1,1,2.7386127875258306,0\" style=\"fill: none; stroke: #4c78a8; stroke-width: 2; opacity: 0.7;\"></path><path transform=\"translate(37.142857142857146,184.6153846153846)\" d=\"M2.7386127875258306,0A2.7386127875258306,2.7386127875258306,0,1,1,-2.7386127875258306,0A2.7386127875258306,2.7386127875258306,0,1,1,2.7386127875258306,0\" style=\"fill: none; stroke: #4c78a8; stroke-width: 2; opacity: 0.7;\"></path><path transform=\"translate(40,192.30769230769232)\" d=\"M2.7386127875258306,0A2.7386127875258306,2.7386127875258306,0,1,1,-2.7386127875258306,0A2.7386127875258306,2.7386127875258306,0,1,1,2.7386127875258306,0\" style=\"fill: none; stroke: #4c78a8; stroke-width: 2; opacity: 0.7;\"></path><path transform=\"translate(37.142857142857146,184.6153846153846)\" d=\"M2.7386127875258306,0A2.7386127875258306,2.7386127875258306,0,1,1,-2.7386127875258306,0A2.7386127875258306,2.7386127875258306,0,1,1,2.7386127875258306,0\" style=\"fill: none; stroke: #4c78a8; stroke-width: 2; opacity: 0.7;\"></path><path transform=\"translate(42.857142857142854,184.6153846153846)\" d=\"M2.7386127875258306,0A2.7386127875258306,2.7386127875258306,0,1,1,-2.7386127875258306,0A2.7386127875258306,2.7386127875258306,0,1,1,2.7386127875258306,0\" style=\"fill: none; stroke: #4c78a8; stroke-width: 2; opacity: 0.7;\"></path><path transform=\"translate(37.142857142857146,176.92307692307693)\" d=\"M2.7386127875258306,0A2.7386127875258306,2.7386127875258306,0,1,1,-2.7386127875258306,0A2.7386127875258306,2.7386127875258306,0,1,1,2.7386127875258306,0\" style=\"fill: none; stroke: #4c78a8; stroke-width: 2; opacity: 0.7;\"></path><path transform=\"translate(37.142857142857146,176.92307692307693)\" d=\"M2.7386127875258306,0A2.7386127875258306,2.7386127875258306,0,1,1,-2.7386127875258306,0A2.7386127875258306,2.7386127875258306,0,1,1,2.7386127875258306,0\" style=\"fill: none; stroke: #4c78a8; stroke-width: 2; opacity: 0.7;\"></path><path transform=\"translate(37.142857142857146,184.6153846153846)\" d=\"M2.7386127875258306,0A2.7386127875258306,2.7386127875258306,0,1,1,-2.7386127875258306,0A2.7386127875258306,2.7386127875258306,0,1,1,2.7386127875258306,0\" style=\"fill: none; stroke: #4c78a8; stroke-width: 2; opacity: 0.7;\"></path><path transform=\"translate(45.714285714285715,153.84615384615384)\" d=\"M2.7386127875258306,0A2.7386127875258306,2.7386127875258306,0,1,1,-2.7386127875258306,0A2.7386127875258306,2.7386127875258306,0,1,1,2.7386127875258306,0\" style=\"fill: none; stroke: #4c78a8; stroke-width: 2; opacity: 0.7;\"></path><path transform=\"translate(54.285714285714285,169.23076923076923)\" d=\"M2.7386127875258306,0A2.7386127875258306,2.7386127875258306,0,1,1,-2.7386127875258306,0A2.7386127875258306,2.7386127875258306,0,1,1,2.7386127875258306,0\" style=\"fill: none; stroke: #4c78a8; stroke-width: 2; opacity: 0.7;\"></path><path transform=\"translate(40,176.92307692307693)\" d=\"M2.7386127875258306,0A2.7386127875258306,2.7386127875258306,0,1,1,-2.7386127875258306,0A2.7386127875258306,2.7386127875258306,0,1,1,2.7386127875258306,0\" style=\"fill: none; stroke: #4c78a8; stroke-width: 2; opacity: 0.7;\"></path><path transform=\"translate(45.714285714285715,184.6153846153846)\" d=\"M2.7386127875258306,0A2.7386127875258306,2.7386127875258306,0,1,1,-2.7386127875258306,0A2.7386127875258306,2.7386127875258306,0,1,1,2.7386127875258306,0\" style=\"fill: none; stroke: #4c78a8; stroke-width: 2; opacity: 0.7;\"></path><path transform=\"translate(40,184.6153846153846)\" d=\"M2.7386127875258306,0A2.7386127875258306,2.7386127875258306,0,1,1,-2.7386127875258306,0A2.7386127875258306,2.7386127875258306,0,1,1,2.7386127875258306,0\" style=\"fill: none; stroke: #4c78a8; stroke-width: 2; opacity: 0.7;\"></path><path transform=\"translate(42.857142857142854,184.6153846153846)\" d=\"M2.7386127875258306,0A2.7386127875258306,2.7386127875258306,0,1,1,-2.7386127875258306,0A2.7386127875258306,2.7386127875258306,0,1,1,2.7386127875258306,0\" style=\"fill: none; stroke: #4c78a8; stroke-width: 2; opacity: 0.7;\"></path><path transform=\"translate(40,184.6153846153846)\" d=\"M2.7386127875258306,0A2.7386127875258306,2.7386127875258306,0,1,1,-2.7386127875258306,0A2.7386127875258306,2.7386127875258306,0,1,1,2.7386127875258306,0\" style=\"fill: none; stroke: #4c78a8; stroke-width: 2; opacity: 0.7;\"></path><path transform=\"translate(134.2857142857143,92.3076923076923)\" d=\"M2.7386127875258306,0A2.7386127875258306,2.7386127875258306,0,1,1,-2.7386127875258306,0A2.7386127875258306,2.7386127875258306,0,1,1,2.7386127875258306,0\" style=\"fill: none; stroke: #f58518; stroke-width: 2; opacity: 0.7;\"></path><path transform=\"translate(128.57142857142858,84.61538461538463)\" d=\"M2.7386127875258306,0A2.7386127875258306,2.7386127875258306,0,1,1,-2.7386127875258306,0A2.7386127875258306,2.7386127875258306,0,1,1,2.7386127875258306,0\" style=\"fill: none; stroke: #f58518; stroke-width: 2; opacity: 0.7;\"></path><path transform=\"translate(140,84.61538461538463)\" d=\"M2.7386127875258306,0A2.7386127875258306,2.7386127875258306,0,1,1,-2.7386127875258306,0A2.7386127875258306,2.7386127875258306,0,1,1,2.7386127875258306,0\" style=\"fill: none; stroke: #f58518; stroke-width: 2; opacity: 0.7;\"></path><path transform=\"translate(114.28571428571428,100)\" d=\"M2.7386127875258306,0A2.7386127875258306,2.7386127875258306,0,1,1,-2.7386127875258306,0A2.7386127875258306,2.7386127875258306,0,1,1,2.7386127875258306,0\" style=\"fill: none; stroke: #f58518; stroke-width: 2; opacity: 0.7;\"></path><path transform=\"translate(131.42857142857142,84.61538461538463)\" d=\"M2.7386127875258306,0A2.7386127875258306,2.7386127875258306,0,1,1,-2.7386127875258306,0A2.7386127875258306,2.7386127875258306,0,1,1,2.7386127875258306,0\" style=\"fill: none; stroke: #f58518; stroke-width: 2; opacity: 0.7;\"></path><path transform=\"translate(128.57142857142858,100)\" d=\"M2.7386127875258306,0A2.7386127875258306,2.7386127875258306,0,1,1,-2.7386127875258306,0A2.7386127875258306,2.7386127875258306,0,1,1,2.7386127875258306,0\" style=\"fill: none; stroke: #f58518; stroke-width: 2; opacity: 0.7;\"></path><path transform=\"translate(134.2857142857143,76.92307692307692)\" d=\"M2.7386127875258306,0A2.7386127875258306,2.7386127875258306,0,1,1,-2.7386127875258306,0A2.7386127875258306,2.7386127875258306,0,1,1,2.7386127875258306,0\" style=\"fill: none; stroke: #f58518; stroke-width: 2; opacity: 0.7;\"></path><path transform=\"translate(94.28571428571428,123.07692307692308)\" d=\"M2.7386127875258306,0A2.7386127875258306,2.7386127875258306,0,1,1,-2.7386127875258306,0A2.7386127875258306,2.7386127875258306,0,1,1,2.7386127875258306,0\" style=\"fill: none; stroke: #f58518; stroke-width: 2; opacity: 0.7;\"></path><path transform=\"translate(131.42857142857142,100)\" d=\"M2.7386127875258306,0A2.7386127875258306,2.7386127875258306,0,1,1,-2.7386127875258306,0A2.7386127875258306,2.7386127875258306,0,1,1,2.7386127875258306,0\" style=\"fill: none; stroke: #f58518; stroke-width: 2; opacity: 0.7;\"></path><path transform=\"translate(111.42857142857143,92.3076923076923)\" d=\"M2.7386127875258306,0A2.7386127875258306,2.7386127875258306,0,1,1,-2.7386127875258306,0A2.7386127875258306,2.7386127875258306,0,1,1,2.7386127875258306,0\" style=\"fill: none; stroke: #f58518; stroke-width: 2; opacity: 0.7;\"></path><path transform=\"translate(100,123.07692307692308)\" d=\"M2.7386127875258306,0A2.7386127875258306,2.7386127875258306,0,1,1,-2.7386127875258306,0A2.7386127875258306,2.7386127875258306,0,1,1,2.7386127875258306,0\" style=\"fill: none; stroke: #f58518; stroke-width: 2; opacity: 0.7;\"></path><path transform=\"translate(120,84.61538461538463)\" d=\"M2.7386127875258306,0A2.7386127875258306,2.7386127875258306,0,1,1,-2.7386127875258306,0A2.7386127875258306,2.7386127875258306,0,1,1,2.7386127875258306,0\" style=\"fill: none; stroke: #f58518; stroke-width: 2; opacity: 0.7;\"></path><path transform=\"translate(114.28571428571428,123.07692307692308)\" d=\"M2.7386127875258306,0A2.7386127875258306,2.7386127875258306,0,1,1,-2.7386127875258306,0A2.7386127875258306,2.7386127875258306,0,1,1,2.7386127875258306,0\" style=\"fill: none; stroke: #f58518; stroke-width: 2; opacity: 0.7;\"></path><path transform=\"translate(134.2857142857143,92.3076923076923)\" d=\"M2.7386127875258306,0A2.7386127875258306,2.7386127875258306,0,1,1,-2.7386127875258306,0A2.7386127875258306,2.7386127875258306,0,1,1,2.7386127875258306,0\" style=\"fill: none; stroke: #f58518; stroke-width: 2; opacity: 0.7;\"></path><path transform=\"translate(102.85714285714288,100)\" d=\"M2.7386127875258306,0A2.7386127875258306,2.7386127875258306,0,1,1,-2.7386127875258306,0A2.7386127875258306,2.7386127875258306,0,1,1,2.7386127875258306,0\" style=\"fill: none; stroke: #f58518; stroke-width: 2; opacity: 0.7;\"></path><path transform=\"translate(125.71428571428574,92.3076923076923)\" d=\"M2.7386127875258306,0A2.7386127875258306,2.7386127875258306,0,1,1,-2.7386127875258306,0A2.7386127875258306,2.7386127875258306,0,1,1,2.7386127875258306,0\" style=\"fill: none; stroke: #f58518; stroke-width: 2; opacity: 0.7;\"></path><path transform=\"translate(128.57142857142858,84.61538461538463)\" d=\"M2.7386127875258306,0A2.7386127875258306,2.7386127875258306,0,1,1,-2.7386127875258306,0A2.7386127875258306,2.7386127875258306,0,1,1,2.7386127875258306,0\" style=\"fill: none; stroke: #f58518; stroke-width: 2; opacity: 0.7;\"></path><path transform=\"translate(117.14285714285712,123.07692307692308)\" d=\"M2.7386127875258306,0A2.7386127875258306,2.7386127875258306,0,1,1,-2.7386127875258306,0A2.7386127875258306,2.7386127875258306,0,1,1,2.7386127875258306,0\" style=\"fill: none; stroke: #f58518; stroke-width: 2; opacity: 0.7;\"></path><path transform=\"translate(128.57142857142858,84.61538461538463)\" d=\"M2.7386127875258306,0A2.7386127875258306,2.7386127875258306,0,1,1,-2.7386127875258306,0A2.7386127875258306,2.7386127875258306,0,1,1,2.7386127875258306,0\" style=\"fill: none; stroke: #f58518; stroke-width: 2; opacity: 0.7;\"></path><path transform=\"translate(111.42857142857143,115.38461538461539)\" d=\"M2.7386127875258306,0A2.7386127875258306,2.7386127875258306,0,1,1,-2.7386127875258306,0A2.7386127875258306,2.7386127875258306,0,1,1,2.7386127875258306,0\" style=\"fill: none; stroke: #f58518; stroke-width: 2; opacity: 0.7;\"></path><path transform=\"translate(137.14285714285714,61.53846153846155)\" d=\"M2.7386127875258306,0A2.7386127875258306,2.7386127875258306,0,1,1,-2.7386127875258306,0A2.7386127875258306,2.7386127875258306,0,1,1,2.7386127875258306,0\" style=\"fill: none; stroke: #f58518; stroke-width: 2; opacity: 0.7;\"></path><path transform=\"translate(114.28571428571428,100)\" d=\"M2.7386127875258306,0A2.7386127875258306,2.7386127875258306,0,1,1,-2.7386127875258306,0A2.7386127875258306,2.7386127875258306,0,1,1,2.7386127875258306,0\" style=\"fill: none; stroke: #f58518; stroke-width: 2; opacity: 0.7;\"></path><path transform=\"translate(140,84.61538461538463)\" d=\"M2.7386127875258306,0A2.7386127875258306,2.7386127875258306,0,1,1,-2.7386127875258306,0A2.7386127875258306,2.7386127875258306,0,1,1,2.7386127875258306,0\" style=\"fill: none; stroke: #f58518; stroke-width: 2; opacity: 0.7;\"></path><path transform=\"translate(134.2857142857143,107.6923076923077)\" d=\"M2.7386127875258306,0A2.7386127875258306,2.7386127875258306,0,1,1,-2.7386127875258306,0A2.7386127875258306,2.7386127875258306,0,1,1,2.7386127875258306,0\" style=\"fill: none; stroke: #f58518; stroke-width: 2; opacity: 0.7;\"></path><path transform=\"translate(122.85714285714285,100)\" d=\"M2.7386127875258306,0A2.7386127875258306,2.7386127875258306,0,1,1,-2.7386127875258306,0A2.7386127875258306,2.7386127875258306,0,1,1,2.7386127875258306,0\" style=\"fill: none; stroke: #f58518; stroke-width: 2; opacity: 0.7;\"></path><path transform=\"translate(125.71428571428574,92.3076923076923)\" d=\"M2.7386127875258306,0A2.7386127875258306,2.7386127875258306,0,1,1,-2.7386127875258306,0A2.7386127875258306,2.7386127875258306,0,1,1,2.7386127875258306,0\" style=\"fill: none; stroke: #f58518; stroke-width: 2; opacity: 0.7;\"></path><path transform=\"translate(137.14285714285714,92.3076923076923)\" d=\"M2.7386127875258306,0A2.7386127875258306,2.7386127875258306,0,1,1,-2.7386127875258306,0A2.7386127875258306,2.7386127875258306,0,1,1,2.7386127875258306,0\" style=\"fill: none; stroke: #f58518; stroke-width: 2; opacity: 0.7;\"></path><path transform=\"translate(142.85714285714286,69.23076923076923)\" d=\"M2.7386127875258306,0A2.7386127875258306,2.7386127875258306,0,1,1,-2.7386127875258306,0A2.7386127875258306,2.7386127875258306,0,1,1,2.7386127875258306,0\" style=\"fill: none; stroke: #f58518; stroke-width: 2; opacity: 0.7;\"></path><path transform=\"translate(128.57142857142858,84.61538461538463)\" d=\"M2.7386127875258306,0A2.7386127875258306,2.7386127875258306,0,1,1,-2.7386127875258306,0A2.7386127875258306,2.7386127875258306,0,1,1,2.7386127875258306,0\" style=\"fill: none; stroke: #f58518; stroke-width: 2; opacity: 0.7;\"></path><path transform=\"translate(100,123.07692307692308)\" d=\"M2.7386127875258306,0A2.7386127875258306,2.7386127875258306,0,1,1,-2.7386127875258306,0A2.7386127875258306,2.7386127875258306,0,1,1,2.7386127875258306,0\" style=\"fill: none; stroke: #f58518; stroke-width: 2; opacity: 0.7;\"></path><path transform=\"translate(108.57142857142857,115.38461538461539)\" d=\"M2.7386127875258306,0A2.7386127875258306,2.7386127875258306,0,1,1,-2.7386127875258306,0A2.7386127875258306,2.7386127875258306,0,1,1,2.7386127875258306,0\" style=\"fill: none; stroke: #f58518; stroke-width: 2; opacity: 0.7;\"></path><path transform=\"translate(105.71428571428572,123.07692307692308)\" d=\"M2.7386127875258306,0A2.7386127875258306,2.7386127875258306,0,1,1,-2.7386127875258306,0A2.7386127875258306,2.7386127875258306,0,1,1,2.7386127875258306,0\" style=\"fill: none; stroke: #f58518; stroke-width: 2; opacity: 0.7;\"></path><path transform=\"translate(111.42857142857143,107.6923076923077)\" d=\"M2.7386127875258306,0A2.7386127875258306,2.7386127875258306,0,1,1,-2.7386127875258306,0A2.7386127875258306,2.7386127875258306,0,1,1,2.7386127875258306,0\" style=\"fill: none; stroke: #f58518; stroke-width: 2; opacity: 0.7;\"></path><path transform=\"translate(145.7142857142857,76.92307692307692)\" d=\"M2.7386127875258306,0A2.7386127875258306,2.7386127875258306,0,1,1,-2.7386127875258306,0A2.7386127875258306,2.7386127875258306,0,1,1,2.7386127875258306,0\" style=\"fill: none; stroke: #f58518; stroke-width: 2; opacity: 0.7;\"></path><path transform=\"translate(128.57142857142858,84.61538461538463)\" d=\"M2.7386127875258306,0A2.7386127875258306,2.7386127875258306,0,1,1,-2.7386127875258306,0A2.7386127875258306,2.7386127875258306,0,1,1,2.7386127875258306,0\" style=\"fill: none; stroke: #f58518; stroke-width: 2; opacity: 0.7;\"></path><path transform=\"translate(128.57142857142858,76.92307692307692)\" d=\"M2.7386127875258306,0A2.7386127875258306,2.7386127875258306,0,1,1,-2.7386127875258306,0A2.7386127875258306,2.7386127875258306,0,1,1,2.7386127875258306,0\" style=\"fill: none; stroke: #f58518; stroke-width: 2; opacity: 0.7;\"></path><path transform=\"translate(134.2857142857143,84.61538461538463)\" d=\"M2.7386127875258306,0A2.7386127875258306,2.7386127875258306,0,1,1,-2.7386127875258306,0A2.7386127875258306,2.7386127875258306,0,1,1,2.7386127875258306,0\" style=\"fill: none; stroke: #f58518; stroke-width: 2; opacity: 0.7;\"></path><path transform=\"translate(125.71428571428574,100)\" d=\"M2.7386127875258306,0A2.7386127875258306,2.7386127875258306,0,1,1,-2.7386127875258306,0A2.7386127875258306,2.7386127875258306,0,1,1,2.7386127875258306,0\" style=\"fill: none; stroke: #f58518; stroke-width: 2; opacity: 0.7;\"></path><path transform=\"translate(117.14285714285712,100)\" d=\"M2.7386127875258306,0A2.7386127875258306,2.7386127875258306,0,1,1,-2.7386127875258306,0A2.7386127875258306,2.7386127875258306,0,1,1,2.7386127875258306,0\" style=\"fill: none; stroke: #f58518; stroke-width: 2; opacity: 0.7;\"></path><path transform=\"translate(114.28571428571428,100)\" d=\"M2.7386127875258306,0A2.7386127875258306,2.7386127875258306,0,1,1,-2.7386127875258306,0A2.7386127875258306,2.7386127875258306,0,1,1,2.7386127875258306,0\" style=\"fill: none; stroke: #f58518; stroke-width: 2; opacity: 0.7;\"></path><path transform=\"translate(125.71428571428574,107.6923076923077)\" d=\"M2.7386127875258306,0A2.7386127875258306,2.7386127875258306,0,1,1,-2.7386127875258306,0A2.7386127875258306,2.7386127875258306,0,1,1,2.7386127875258306,0\" style=\"fill: none; stroke: #f58518; stroke-width: 2; opacity: 0.7;\"></path><path transform=\"translate(131.42857142857142,92.3076923076923)\" d=\"M2.7386127875258306,0A2.7386127875258306,2.7386127875258306,0,1,1,-2.7386127875258306,0A2.7386127875258306,2.7386127875258306,0,1,1,2.7386127875258306,0\" style=\"fill: none; stroke: #f58518; stroke-width: 2; opacity: 0.7;\"></path><path transform=\"translate(114.28571428571428,107.6923076923077)\" d=\"M2.7386127875258306,0A2.7386127875258306,2.7386127875258306,0,1,1,-2.7386127875258306,0A2.7386127875258306,2.7386127875258306,0,1,1,2.7386127875258306,0\" style=\"fill: none; stroke: #f58518; stroke-width: 2; opacity: 0.7;\"></path><path transform=\"translate(94.28571428571428,123.07692307692308)\" d=\"M2.7386127875258306,0A2.7386127875258306,2.7386127875258306,0,1,1,-2.7386127875258306,0A2.7386127875258306,2.7386127875258306,0,1,1,2.7386127875258306,0\" style=\"fill: none; stroke: #f58518; stroke-width: 2; opacity: 0.7;\"></path><path transform=\"translate(120,100)\" d=\"M2.7386127875258306,0A2.7386127875258306,2.7386127875258306,0,1,1,-2.7386127875258306,0A2.7386127875258306,2.7386127875258306,0,1,1,2.7386127875258306,0\" style=\"fill: none; stroke: #f58518; stroke-width: 2; opacity: 0.7;\"></path><path transform=\"translate(120,107.6923076923077)\" d=\"M2.7386127875258306,0A2.7386127875258306,2.7386127875258306,0,1,1,-2.7386127875258306,0A2.7386127875258306,2.7386127875258306,0,1,1,2.7386127875258306,0\" style=\"fill: none; stroke: #f58518; stroke-width: 2; opacity: 0.7;\"></path><path transform=\"translate(120,100)\" d=\"M2.7386127875258306,0A2.7386127875258306,2.7386127875258306,0,1,1,-2.7386127875258306,0A2.7386127875258306,2.7386127875258306,0,1,1,2.7386127875258306,0\" style=\"fill: none; stroke: #f58518; stroke-width: 2; opacity: 0.7;\"></path><path transform=\"translate(122.85714285714285,100)\" d=\"M2.7386127875258306,0A2.7386127875258306,2.7386127875258306,0,1,1,-2.7386127875258306,0A2.7386127875258306,2.7386127875258306,0,1,1,2.7386127875258306,0\" style=\"fill: none; stroke: #f58518; stroke-width: 2; opacity: 0.7;\"></path><path transform=\"translate(85.71428571428571,115.38461538461539)\" d=\"M2.7386127875258306,0A2.7386127875258306,2.7386127875258306,0,1,1,-2.7386127875258306,0A2.7386127875258306,2.7386127875258306,0,1,1,2.7386127875258306,0\" style=\"fill: none; stroke: #f58518; stroke-width: 2; opacity: 0.7;\"></path><path transform=\"translate(117.14285714285712,100)\" d=\"M2.7386127875258306,0A2.7386127875258306,2.7386127875258306,0,1,1,-2.7386127875258306,0A2.7386127875258306,2.7386127875258306,0,1,1,2.7386127875258306,0\" style=\"fill: none; stroke: #f58518; stroke-width: 2; opacity: 0.7;\"></path><path transform=\"translate(171.42857142857142,7.692307692307708)\" d=\"M2.7386127875258306,0A2.7386127875258306,2.7386127875258306,0,1,1,-2.7386127875258306,0A2.7386127875258306,2.7386127875258306,0,1,1,2.7386127875258306,0\" style=\"fill: none; stroke: #e45756; stroke-width: 2; opacity: 0.7;\"></path><path transform=\"translate(145.7142857142857,53.84615384615387)\" d=\"M2.7386127875258306,0A2.7386127875258306,2.7386127875258306,0,1,1,-2.7386127875258306,0A2.7386127875258306,2.7386127875258306,0,1,1,2.7386127875258306,0\" style=\"fill: none; stroke: #e45756; stroke-width: 2; opacity: 0.7;\"></path><path transform=\"translate(168.57142857142858,38.46153846153845)\" d=\"M2.7386127875258306,0A2.7386127875258306,2.7386127875258306,0,1,1,-2.7386127875258306,0A2.7386127875258306,2.7386127875258306,0,1,1,2.7386127875258306,0\" style=\"fill: none; stroke: #e45756; stroke-width: 2; opacity: 0.7;\"></path><path transform=\"translate(160,61.53846153846155)\" d=\"M2.7386127875258306,0A2.7386127875258306,2.7386127875258306,0,1,1,-2.7386127875258306,0A2.7386127875258306,2.7386127875258306,0,1,1,2.7386127875258306,0\" style=\"fill: none; stroke: #e45756; stroke-width: 2; opacity: 0.7;\"></path><path transform=\"translate(165.7142857142857,30.769230769230774)\" d=\"M2.7386127875258306,0A2.7386127875258306,2.7386127875258306,0,1,1,-2.7386127875258306,0A2.7386127875258306,2.7386127875258306,0,1,1,2.7386127875258306,0\" style=\"fill: none; stroke: #e45756; stroke-width: 2; opacity: 0.7;\"></path><path transform=\"translate(188.57142857142856,38.46153846153845)\" d=\"M2.7386127875258306,0A2.7386127875258306,2.7386127875258306,0,1,1,-2.7386127875258306,0A2.7386127875258306,2.7386127875258306,0,1,1,2.7386127875258306,0\" style=\"fill: none; stroke: #e45756; stroke-width: 2; opacity: 0.7;\"></path><path transform=\"translate(128.57142857142858,69.23076923076923)\" d=\"M2.7386127875258306,0A2.7386127875258306,2.7386127875258306,0,1,1,-2.7386127875258306,0A2.7386127875258306,2.7386127875258306,0,1,1,2.7386127875258306,0\" style=\"fill: none; stroke: #e45756; stroke-width: 2; opacity: 0.7;\"></path><path transform=\"translate(180,61.53846153846155)\" d=\"M2.7386127875258306,0A2.7386127875258306,2.7386127875258306,0,1,1,-2.7386127875258306,0A2.7386127875258306,2.7386127875258306,0,1,1,2.7386127875258306,0\" style=\"fill: none; stroke: #e45756; stroke-width: 2; opacity: 0.7;\"></path><path transform=\"translate(165.7142857142857,61.53846153846155)\" d=\"M2.7386127875258306,0A2.7386127875258306,2.7386127875258306,0,1,1,-2.7386127875258306,0A2.7386127875258306,2.7386127875258306,0,1,1,2.7386127875258306,0\" style=\"fill: none; stroke: #e45756; stroke-width: 2; opacity: 0.7;\"></path><path transform=\"translate(174.28571428571428,7.692307692307708)\" d=\"M2.7386127875258306,0A2.7386127875258306,2.7386127875258306,0,1,1,-2.7386127875258306,0A2.7386127875258306,2.7386127875258306,0,1,1,2.7386127875258306,0\" style=\"fill: none; stroke: #e45756; stroke-width: 2; opacity: 0.7;\"></path><path transform=\"translate(145.7142857142857,46.15384615384616)\" d=\"M2.7386127875258306,0A2.7386127875258306,2.7386127875258306,0,1,1,-2.7386127875258306,0A2.7386127875258306,2.7386127875258306,0,1,1,2.7386127875258306,0\" style=\"fill: none; stroke: #e45756; stroke-width: 2; opacity: 0.7;\"></path><path transform=\"translate(151.42857142857142,53.84615384615387)\" d=\"M2.7386127875258306,0A2.7386127875258306,2.7386127875258306,0,1,1,-2.7386127875258306,0A2.7386127875258306,2.7386127875258306,0,1,1,2.7386127875258306,0\" style=\"fill: none; stroke: #e45756; stroke-width: 2; opacity: 0.7;\"></path><path transform=\"translate(157.14285714285714,38.46153846153845)\" d=\"M2.7386127875258306,0A2.7386127875258306,2.7386127875258306,0,1,1,-2.7386127875258306,0A2.7386127875258306,2.7386127875258306,0,1,1,2.7386127875258306,0\" style=\"fill: none; stroke: #e45756; stroke-width: 2; opacity: 0.7;\"></path><path transform=\"translate(142.85714285714286,46.15384615384616)\" d=\"M2.7386127875258306,0A2.7386127875258306,2.7386127875258306,0,1,1,-2.7386127875258306,0A2.7386127875258306,2.7386127875258306,0,1,1,2.7386127875258306,0\" style=\"fill: none; stroke: #e45756; stroke-width: 2; opacity: 0.7;\"></path><path transform=\"translate(145.7142857142857,15.384615384615387)\" d=\"M2.7386127875258306,0A2.7386127875258306,2.7386127875258306,0,1,1,-2.7386127875258306,0A2.7386127875258306,2.7386127875258306,0,1,1,2.7386127875258306,0\" style=\"fill: none; stroke: #e45756; stroke-width: 2; opacity: 0.7;\"></path><path transform=\"translate(151.42857142857142,23.076923076923094)\" d=\"M2.7386127875258306,0A2.7386127875258306,2.7386127875258306,0,1,1,-2.7386127875258306,0A2.7386127875258306,2.7386127875258306,0,1,1,2.7386127875258306,0\" style=\"fill: none; stroke: #e45756; stroke-width: 2; opacity: 0.7;\"></path><path transform=\"translate(157.14285714285714,61.53846153846155)\" d=\"M2.7386127875258306,0A2.7386127875258306,2.7386127875258306,0,1,1,-2.7386127875258306,0A2.7386127875258306,2.7386127875258306,0,1,1,2.7386127875258306,0\" style=\"fill: none; stroke: #e45756; stroke-width: 2; opacity: 0.7;\"></path><path transform=\"translate(191.42857142857144,30.769230769230774)\" d=\"M2.7386127875258306,0A2.7386127875258306,2.7386127875258306,0,1,1,-2.7386127875258306,0A2.7386127875258306,2.7386127875258306,0,1,1,2.7386127875258306,0\" style=\"fill: none; stroke: #e45756; stroke-width: 2; opacity: 0.7;\"></path><path transform=\"translate(197.14285714285717,23.076923076923094)\" d=\"M2.7386127875258306,0A2.7386127875258306,2.7386127875258306,0,1,1,-2.7386127875258306,0A2.7386127875258306,2.7386127875258306,0,1,1,2.7386127875258306,0\" style=\"fill: none; stroke: #e45756; stroke-width: 2; opacity: 0.7;\"></path><path transform=\"translate(142.85714285714286,84.61538461538463)\" d=\"M2.7386127875258306,0A2.7386127875258306,2.7386127875258306,0,1,1,-2.7386127875258306,0A2.7386127875258306,2.7386127875258306,0,1,1,2.7386127875258306,0\" style=\"fill: none; stroke: #e45756; stroke-width: 2; opacity: 0.7;\"></path><path transform=\"translate(162.85714285714286,23.076923076923094)\" d=\"M2.7386127875258306,0A2.7386127875258306,2.7386127875258306,0,1,1,-2.7386127875258306,0A2.7386127875258306,2.7386127875258306,0,1,1,2.7386127875258306,0\" style=\"fill: none; stroke: #e45756; stroke-width: 2; opacity: 0.7;\"></path><path transform=\"translate(140,46.15384615384616)\" d=\"M2.7386127875258306,0A2.7386127875258306,2.7386127875258306,0,1,1,-2.7386127875258306,0A2.7386127875258306,2.7386127875258306,0,1,1,2.7386127875258306,0\" style=\"fill: none; stroke: #e45756; stroke-width: 2; opacity: 0.7;\"></path><path transform=\"translate(191.42857142857144,46.15384615384616)\" d=\"M2.7386127875258306,0A2.7386127875258306,2.7386127875258306,0,1,1,-2.7386127875258306,0A2.7386127875258306,2.7386127875258306,0,1,1,2.7386127875258306,0\" style=\"fill: none; stroke: #e45756; stroke-width: 2; opacity: 0.7;\"></path><path transform=\"translate(140,61.53846153846155)\" d=\"M2.7386127875258306,0A2.7386127875258306,2.7386127875258306,0,1,1,-2.7386127875258306,0A2.7386127875258306,2.7386127875258306,0,1,1,2.7386127875258306,0\" style=\"fill: none; stroke: #e45756; stroke-width: 2; opacity: 0.7;\"></path><path transform=\"translate(162.85714285714286,38.46153846153845)\" d=\"M2.7386127875258306,0A2.7386127875258306,2.7386127875258306,0,1,1,-2.7386127875258306,0A2.7386127875258306,2.7386127875258306,0,1,1,2.7386127875258306,0\" style=\"fill: none; stroke: #e45756; stroke-width: 2; opacity: 0.7;\"></path><path transform=\"translate(171.42857142857142,61.53846153846155)\" d=\"M2.7386127875258306,0A2.7386127875258306,2.7386127875258306,0,1,1,-2.7386127875258306,0A2.7386127875258306,2.7386127875258306,0,1,1,2.7386127875258306,0\" style=\"fill: none; stroke: #e45756; stroke-width: 2; opacity: 0.7;\"></path><path transform=\"translate(137.14285714285714,61.53846153846155)\" d=\"M2.7386127875258306,0A2.7386127875258306,2.7386127875258306,0,1,1,-2.7386127875258306,0A2.7386127875258306,2.7386127875258306,0,1,1,2.7386127875258306,0\" style=\"fill: none; stroke: #e45756; stroke-width: 2; opacity: 0.7;\"></path><path transform=\"translate(140,61.53846153846155)\" d=\"M2.7386127875258306,0A2.7386127875258306,2.7386127875258306,0,1,1,-2.7386127875258306,0A2.7386127875258306,2.7386127875258306,0,1,1,2.7386127875258306,0\" style=\"fill: none; stroke: #e45756; stroke-width: 2; opacity: 0.7;\"></path><path transform=\"translate(160,38.46153846153845)\" d=\"M2.7386127875258306,0A2.7386127875258306,2.7386127875258306,0,1,1,-2.7386127875258306,0A2.7386127875258306,2.7386127875258306,0,1,1,2.7386127875258306,0\" style=\"fill: none; stroke: #e45756; stroke-width: 2; opacity: 0.7;\"></path><path transform=\"translate(165.7142857142857,76.92307692307692)\" d=\"M2.7386127875258306,0A2.7386127875258306,2.7386127875258306,0,1,1,-2.7386127875258306,0A2.7386127875258306,2.7386127875258306,0,1,1,2.7386127875258306,0\" style=\"fill: none; stroke: #e45756; stroke-width: 2; opacity: 0.7;\"></path><path transform=\"translate(174.28571428571428,53.84615384615387)\" d=\"M2.7386127875258306,0A2.7386127875258306,2.7386127875258306,0,1,1,-2.7386127875258306,0A2.7386127875258306,2.7386127875258306,0,1,1,2.7386127875258306,0\" style=\"fill: none; stroke: #e45756; stroke-width: 2; opacity: 0.7;\"></path><path transform=\"translate(182.85714285714286,46.15384615384616)\" d=\"M2.7386127875258306,0A2.7386127875258306,2.7386127875258306,0,1,1,-2.7386127875258306,0A2.7386127875258306,2.7386127875258306,0,1,1,2.7386127875258306,0\" style=\"fill: none; stroke: #e45756; stroke-width: 2; opacity: 0.7;\"></path><path transform=\"translate(160,30.769230769230774)\" d=\"M2.7386127875258306,0A2.7386127875258306,2.7386127875258306,0,1,1,-2.7386127875258306,0A2.7386127875258306,2.7386127875258306,0,1,1,2.7386127875258306,0\" style=\"fill: none; stroke: #e45756; stroke-width: 2; opacity: 0.7;\"></path><path transform=\"translate(145.7142857142857,84.61538461538463)\" d=\"M2.7386127875258306,0A2.7386127875258306,2.7386127875258306,0,1,1,-2.7386127875258306,0A2.7386127875258306,2.7386127875258306,0,1,1,2.7386127875258306,0\" style=\"fill: none; stroke: #e45756; stroke-width: 2; opacity: 0.7;\"></path><path transform=\"translate(160,92.3076923076923)\" d=\"M2.7386127875258306,0A2.7386127875258306,2.7386127875258306,0,1,1,-2.7386127875258306,0A2.7386127875258306,2.7386127875258306,0,1,1,2.7386127875258306,0\" style=\"fill: none; stroke: #e45756; stroke-width: 2; opacity: 0.7;\"></path><path transform=\"translate(174.28571428571428,23.076923076923094)\" d=\"M2.7386127875258306,0A2.7386127875258306,2.7386127875258306,0,1,1,-2.7386127875258306,0A2.7386127875258306,2.7386127875258306,0,1,1,2.7386127875258306,0\" style=\"fill: none; stroke: #e45756; stroke-width: 2; opacity: 0.7;\"></path><path transform=\"translate(160,15.384615384615387)\" d=\"M2.7386127875258306,0A2.7386127875258306,2.7386127875258306,0,1,1,-2.7386127875258306,0A2.7386127875258306,2.7386127875258306,0,1,1,2.7386127875258306,0\" style=\"fill: none; stroke: #e45756; stroke-width: 2; opacity: 0.7;\"></path><path transform=\"translate(157.14285714285714,61.53846153846155)\" d=\"M2.7386127875258306,0A2.7386127875258306,2.7386127875258306,0,1,1,-2.7386127875258306,0A2.7386127875258306,2.7386127875258306,0,1,1,2.7386127875258306,0\" style=\"fill: none; stroke: #e45756; stroke-width: 2; opacity: 0.7;\"></path><path transform=\"translate(137.14285714285714,61.53846153846155)\" d=\"M2.7386127875258306,0A2.7386127875258306,2.7386127875258306,0,1,1,-2.7386127875258306,0A2.7386127875258306,2.7386127875258306,0,1,1,2.7386127875258306,0\" style=\"fill: none; stroke: #e45756; stroke-width: 2; opacity: 0.7;\"></path><path transform=\"translate(154.2857142857143,38.46153846153845)\" d=\"M2.7386127875258306,0A2.7386127875258306,2.7386127875258306,0,1,1,-2.7386127875258306,0A2.7386127875258306,2.7386127875258306,0,1,1,2.7386127875258306,0\" style=\"fill: none; stroke: #e45756; stroke-width: 2; opacity: 0.7;\"></path><path transform=\"translate(160,15.384615384615387)\" d=\"M2.7386127875258306,0A2.7386127875258306,2.7386127875258306,0,1,1,-2.7386127875258306,0A2.7386127875258306,2.7386127875258306,0,1,1,2.7386127875258306,0\" style=\"fill: none; stroke: #e45756; stroke-width: 2; opacity: 0.7;\"></path><path transform=\"translate(145.7142857142857,23.076923076923094)\" d=\"M2.7386127875258306,0A2.7386127875258306,2.7386127875258306,0,1,1,-2.7386127875258306,0A2.7386127875258306,2.7386127875258306,0,1,1,2.7386127875258306,0\" style=\"fill: none; stroke: #e45756; stroke-width: 2; opacity: 0.7;\"></path><path transform=\"translate(145.7142857142857,53.84615384615387)\" d=\"M2.7386127875258306,0A2.7386127875258306,2.7386127875258306,0,1,1,-2.7386127875258306,0A2.7386127875258306,2.7386127875258306,0,1,1,2.7386127875258306,0\" style=\"fill: none; stroke: #e45756; stroke-width: 2; opacity: 0.7;\"></path><path transform=\"translate(168.57142857142858,23.076923076923094)\" d=\"M2.7386127875258306,0A2.7386127875258306,2.7386127875258306,0,1,1,-2.7386127875258306,0A2.7386127875258306,2.7386127875258306,0,1,1,2.7386127875258306,0\" style=\"fill: none; stroke: #e45756; stroke-width: 2; opacity: 0.7;\"></path><path transform=\"translate(162.85714285714286,7.692307692307708)\" d=\"M2.7386127875258306,0A2.7386127875258306,2.7386127875258306,0,1,1,-2.7386127875258306,0A2.7386127875258306,2.7386127875258306,0,1,1,2.7386127875258306,0\" style=\"fill: none; stroke: #e45756; stroke-width: 2; opacity: 0.7;\"></path><path transform=\"translate(148.57142857142858,23.076923076923094)\" d=\"M2.7386127875258306,0A2.7386127875258306,2.7386127875258306,0,1,1,-2.7386127875258306,0A2.7386127875258306,2.7386127875258306,0,1,1,2.7386127875258306,0\" style=\"fill: none; stroke: #e45756; stroke-width: 2; opacity: 0.7;\"></path><path transform=\"translate(142.85714285714286,53.84615384615387)\" d=\"M2.7386127875258306,0A2.7386127875258306,2.7386127875258306,0,1,1,-2.7386127875258306,0A2.7386127875258306,2.7386127875258306,0,1,1,2.7386127875258306,0\" style=\"fill: none; stroke: #e45756; stroke-width: 2; opacity: 0.7;\"></path><path transform=\"translate(148.57142857142858,46.15384615384616)\" d=\"M2.7386127875258306,0A2.7386127875258306,2.7386127875258306,0,1,1,-2.7386127875258306,0A2.7386127875258306,2.7386127875258306,0,1,1,2.7386127875258306,0\" style=\"fill: none; stroke: #e45756; stroke-width: 2; opacity: 0.7;\"></path><path transform=\"translate(154.2857142857143,23.076923076923094)\" d=\"M2.7386127875258306,0A2.7386127875258306,2.7386127875258306,0,1,1,-2.7386127875258306,0A2.7386127875258306,2.7386127875258306,0,1,1,2.7386127875258306,0\" style=\"fill: none; stroke: #e45756; stroke-width: 2; opacity: 0.7;\"></path><path transform=\"translate(145.7142857142857,61.53846153846155)\" d=\"M2.7386127875258306,0A2.7386127875258306,2.7386127875258306,0,1,1,-2.7386127875258306,0A2.7386127875258306,2.7386127875258306,0,1,1,2.7386127875258306,0\" style=\"fill: none; stroke: #e45756; stroke-width: 2; opacity: 0.7;\"></path></g><g class=\"mark-group role-legend\"><g transform=\"translate(218,0)\"><path class=\"background\" d=\"M0,0h97v61h-97Z\" style=\"pointer-events: none; fill: none;\"></path><g><g class=\"mark-group role-legend-entry\"><g transform=\"translate(0,16)\"><path class=\"background\" d=\"M0,0h0v0h0Z\" style=\"pointer-events: none; fill: none;\"></path><g><g class=\"mark-group role-scope\"><g transform=\"translate(0,0)\"><path class=\"background\" d=\"M0,0h97v12.5h-97Z\" style=\"pointer-events: none; fill: none; opacity: 1;\"></path><g><g class=\"mark-symbol role-legend-symbol\" style=\"pointer-events: none;\"><path transform=\"translate(6,6)\" d=\"M5,0A5,5,0,1,1,-5,0A5,5,0,1,1,5,0\" style=\"fill: none; stroke: #4c78a8; stroke-width: 1.5; opacity: 0.7;\"></path></g><g class=\"mark-text role-legend-label\" style=\"pointer-events: none;\"><text text-anchor=\"start\" transform=\"translate(16,9)\" style=\"font-family: sans-serif; font-size: 10px; fill: #000; opacity: 1;\">setosa</text></g></g></g><g transform=\"translate(0,16)\"><path class=\"background\" d=\"M0,0h97v12.5h-97Z\" style=\"pointer-events: none; fill: none; opacity: 1;\"></path><g><g class=\"mark-symbol role-legend-symbol\" style=\"pointer-events: none;\"><path transform=\"translate(6,6)\" d=\"M5,0A5,5,0,1,1,-5,0A5,5,0,1,1,5,0\" style=\"fill: none; stroke: #f58518; stroke-width: 1.5; opacity: 0.7;\"></path></g><g class=\"mark-text role-legend-label\" style=\"pointer-events: none;\"><text text-anchor=\"start\" transform=\"translate(16,9)\" style=\"font-family: sans-serif; font-size: 10px; fill: #000; opacity: 1;\">versicolor</text></g></g></g><g transform=\"translate(0,32)\"><path class=\"background\" d=\"M0,0h97v12.5h-97Z\" style=\"pointer-events: none; fill: none; opacity: 1;\"></path><g><g class=\"mark-symbol role-legend-symbol\" style=\"pointer-events: none;\"><path transform=\"translate(6,6)\" d=\"M5,0A5,5,0,1,1,-5,0A5,5,0,1,1,5,0\" style=\"fill: none; stroke: #e45756; stroke-width: 1.5; opacity: 0.7;\"></path></g><g class=\"mark-text role-legend-label\" style=\"pointer-events: none;\"><text text-anchor=\"start\" transform=\"translate(16,9)\" style=\"font-family: sans-serif; font-size: 10px; fill: #000; opacity: 1;\">virginica</text></g></g></g></g></g></g></g><g class=\"mark-text role-legend-title\" style=\"pointer-events: none;\"><text text-anchor=\"start\" transform=\"translate(0,9)\" style=\"font-family: sans-serif; font-size: 11px; font-weight: bold; fill: #000; opacity: 1;\">species</text></g></g></g></g><g class=\"mark-group role-axis\"><g transform=\"translate(0.5,200.5)\"><path class=\"background\" d=\"M0,0h0v0h0Z\" style=\"pointer-events: none; fill: none;\"></path><g><g class=\"mark-rule role-axis-tick\" style=\"pointer-events: none;\"><line transform=\"translate(0,0)\" x2=\"0\" y2=\"5\" style=\"fill: none; stroke: #888; stroke-width: 1; opacity: 1;\"></line><line transform=\"translate(29,0)\" x2=\"0\" y2=\"5\" style=\"fill: none; stroke: #888; stroke-width: 1; opacity: 1;\"></line><line transform=\"translate(57,0)\" x2=\"0\" y2=\"5\" style=\"fill: none; stroke: #888; stroke-width: 1; opacity: 1;\"></line><line transform=\"translate(86,0)\" x2=\"0\" y2=\"5\" style=\"fill: none; stroke: #888; stroke-width: 1; opacity: 1;\"></line><line transform=\"translate(114,0)\" x2=\"0\" y2=\"5\" style=\"fill: none; stroke: #888; stroke-width: 1; opacity: 1;\"></line><line transform=\"translate(143,0)\" x2=\"0\" y2=\"5\" style=\"fill: none; stroke: #888; stroke-width: 1; opacity: 1;\"></line><line transform=\"translate(171,0)\" x2=\"0\" y2=\"5\" style=\"fill: none; stroke: #888; stroke-width: 1; opacity: 1;\"></line><line transform=\"translate(200,0)\" x2=\"0\" y2=\"5\" style=\"fill: none; stroke: #888; stroke-width: 1; opacity: 1;\"></line></g><g class=\"mark-text role-axis-label\" style=\"pointer-events: none;\"><text text-anchor=\"start\" transform=\"translate(0,15)\" style=\"font-family: sans-serif; font-size: 10px; fill: #000; opacity: 1;\">0</text><text text-anchor=\"middle\" transform=\"translate(28.57142857142857,15)\" style=\"font-family: sans-serif; font-size: 10px; fill: #000; opacity: 1;\">1</text><text text-anchor=\"middle\" transform=\"translate(57.14285714285714,15)\" style=\"font-family: sans-serif; font-size: 10px; fill: #000; opacity: 1;\">2</text><text text-anchor=\"middle\" transform=\"translate(85.71428571428571,15)\" style=\"font-family: sans-serif; font-size: 10px; fill: #000; opacity: 1;\">3</text><text text-anchor=\"middle\" transform=\"translate(114.28571428571428,15)\" style=\"font-family: sans-serif; font-size: 10px; fill: #000; opacity: 1;\">4</text><text text-anchor=\"middle\" transform=\"translate(142.85714285714286,15)\" style=\"font-family: sans-serif; font-size: 10px; fill: #000; opacity: 1;\">5</text><text text-anchor=\"middle\" transform=\"translate(171.42857142857142,15)\" style=\"font-family: sans-serif; font-size: 10px; fill: #000; opacity: 1;\">6</text><text text-anchor=\"end\" transform=\"translate(200,15)\" style=\"font-family: sans-serif; font-size: 10px; fill: #000; opacity: 1;\">7</text></g><g class=\"mark-rule role-axis-domain\" style=\"pointer-events: none;\"><line transform=\"translate(0,0)\" x2=\"200\" y2=\"0\" style=\"fill: none; stroke: #888; stroke-width: 1; opacity: 1;\"></line></g><g class=\"mark-text role-axis-title\" style=\"pointer-events: none;\"><text text-anchor=\"middle\" transform=\"translate(100,31)\" style=\"font-family: sans-serif; font-size: 11px; font-weight: bold; fill: #000; opacity: 1;\">petalLength</text></g></g></g></g><g class=\"mark-group role-axis\"><g transform=\"translate(0.5,0.5)\"><path class=\"background\" d=\"M0,0h0v0h0Z\" style=\"pointer-events: none; fill: none;\"></path><g><g class=\"mark-rule role-axis-tick\" style=\"pointer-events: none;\"><line transform=\"translate(0,200)\" x2=\"-5\" y2=\"0\" style=\"fill: none; stroke: #888; stroke-width: 1; opacity: 1;\"></line><line transform=\"translate(0,162)\" x2=\"-5\" y2=\"0\" style=\"fill: none; stroke: #888; stroke-width: 1; opacity: 1;\"></line><line transform=\"translate(0,123)\" x2=\"-5\" y2=\"0\" style=\"fill: none; stroke: #888; stroke-width: 1; opacity: 1;\"></line><line transform=\"translate(0,85)\" x2=\"-5\" y2=\"0\" style=\"fill: none; stroke: #888; stroke-width: 1; opacity: 1;\"></line><line transform=\"translate(0,46)\" x2=\"-5\" y2=\"0\" style=\"fill: none; stroke: #888; stroke-width: 1; opacity: 1;\"></line><line transform=\"translate(0,8)\" x2=\"-5\" y2=\"0\" style=\"fill: none; stroke: #888; stroke-width: 1; opacity: 1;\"></line></g><g class=\"mark-text role-axis-label\" style=\"pointer-events: none;\"><text text-anchor=\"end\" transform=\"translate(-7,203)\" style=\"font-family: sans-serif; font-size: 10px; fill: #000; opacity: 1;\">0.0</text><text text-anchor=\"end\" transform=\"translate(-7,164.53846153846155)\" style=\"font-family: sans-serif; font-size: 10px; fill: #000; opacity: 1;\">0.5</text><text text-anchor=\"end\" transform=\"translate(-7,126.07692307692308)\" style=\"font-family: sans-serif; font-size: 10px; fill: #000; opacity: 1;\">1.0</text><text text-anchor=\"end\" transform=\"translate(-7,87.61538461538463)\" style=\"font-family: sans-serif; font-size: 10px; fill: #000; opacity: 1;\">1.5</text><text text-anchor=\"end\" transform=\"translate(-7,49.15384615384616)\" style=\"font-family: sans-serif; font-size: 10px; fill: #000; opacity: 1;\">2.0</text><text text-anchor=\"end\" transform=\"translate(-7,10.692307692307708)\" style=\"font-family: sans-serif; font-size: 10px; fill: #000; opacity: 1;\">2.5</text></g><g class=\"mark-rule role-axis-domain\" style=\"pointer-events: none;\"><line transform=\"translate(0,200)\" x2=\"0\" y2=\"-200\" style=\"fill: none; stroke: #888; stroke-width: 1; opacity: 1;\"></line></g><g class=\"mark-text role-axis-title\" style=\"pointer-events: none;\"><text text-anchor=\"middle\" transform=\"translate(-36,100) rotate(-90) translate(0,-2)\" style=\"font-family: sans-serif; font-size: 11px; font-weight: bold; fill: #000; opacity: 1;\">petalWidth</text></g></g></g></g></g></g></g></g></svg>"
      ],
      "text/plain": [
       "VegaLite.VLSpec{:plot}"
      ]
     },
     "execution_count": 9,
     "metadata": {},
     "output_type": "execute_result"
    }
   ],
   "source": [
    "iris |>\n",
    "@vlplot(:point, x=:petalLength, y=:petalWidth, color=\"species\")"
   ]
  },
  {
   "cell_type": "markdown",
   "metadata": {},
   "source": [
    "In a last step we show how to set a title to a graph and how to change the name of the axis because the VegaLite Standard is to use column names as axis names which is not usefull all the times. To set a title to a plot you can just specify a title and then assign a string to it. "
   ]
  },
  {
   "cell_type": "code",
   "execution_count": 10,
   "metadata": {},
   "outputs": [
    {
     "data": {
      "application/vnd.vegalite.v2+json": {
       "data": {
        "values": [
         {
          "petalLength": 1.4,
          "petalWidth": 0.2,
          "sepalLength": 5.1,
          "sepalWidth": 3.5,
          "species": "setosa"
         },
         {
          "petalLength": 1.4,
          "petalWidth": 0.2,
          "sepalLength": 4.9,
          "sepalWidth": 3,
          "species": "setosa"
         },
         {
          "petalLength": 1.3,
          "petalWidth": 0.2,
          "sepalLength": 4.7,
          "sepalWidth": 3.2,
          "species": "setosa"
         },
         {
          "petalLength": 1.5,
          "petalWidth": 0.2,
          "sepalLength": 4.6,
          "sepalWidth": 3.1,
          "species": "setosa"
         },
         {
          "petalLength": 1.4,
          "petalWidth": 0.2,
          "sepalLength": 5,
          "sepalWidth": 3.6,
          "species": "setosa"
         },
         {
          "petalLength": 1.7,
          "petalWidth": 0.4,
          "sepalLength": 5.4,
          "sepalWidth": 3.9,
          "species": "setosa"
         },
         {
          "petalLength": 1.4,
          "petalWidth": 0.3,
          "sepalLength": 4.6,
          "sepalWidth": 3.4,
          "species": "setosa"
         },
         {
          "petalLength": 1.5,
          "petalWidth": 0.2,
          "sepalLength": 5,
          "sepalWidth": 3.4,
          "species": "setosa"
         },
         {
          "petalLength": 1.4,
          "petalWidth": 0.2,
          "sepalLength": 4.4,
          "sepalWidth": 2.9,
          "species": "setosa"
         },
         {
          "petalLength": 1.5,
          "petalWidth": 0.1,
          "sepalLength": 4.9,
          "sepalWidth": 3.1,
          "species": "setosa"
         },
         {
          "petalLength": 1.5,
          "petalWidth": 0.2,
          "sepalLength": 5.4,
          "sepalWidth": 3.7,
          "species": "setosa"
         },
         {
          "petalLength": 1.6,
          "petalWidth": 0.2,
          "sepalLength": 4.8,
          "sepalWidth": 3.4,
          "species": "setosa"
         },
         {
          "petalLength": 1.4,
          "petalWidth": 0.1,
          "sepalLength": 4.8,
          "sepalWidth": 3,
          "species": "setosa"
         },
         {
          "petalLength": 1.1,
          "petalWidth": 0.1,
          "sepalLength": 4.3,
          "sepalWidth": 3,
          "species": "setosa"
         },
         {
          "petalLength": 1.2,
          "petalWidth": 0.2,
          "sepalLength": 5.8,
          "sepalWidth": 4,
          "species": "setosa"
         },
         {
          "petalLength": 1.5,
          "petalWidth": 0.4,
          "sepalLength": 5.7,
          "sepalWidth": 4.4,
          "species": "setosa"
         },
         {
          "petalLength": 1.3,
          "petalWidth": 0.4,
          "sepalLength": 5.4,
          "sepalWidth": 3.9,
          "species": "setosa"
         },
         {
          "petalLength": 1.4,
          "petalWidth": 0.3,
          "sepalLength": 5.1,
          "sepalWidth": 3.5,
          "species": "setosa"
         },
         {
          "petalLength": 1.7,
          "petalWidth": 0.3,
          "sepalLength": 5.7,
          "sepalWidth": 3.8,
          "species": "setosa"
         },
         {
          "petalLength": 1.5,
          "petalWidth": 0.3,
          "sepalLength": 5.1,
          "sepalWidth": 3.8,
          "species": "setosa"
         },
         {
          "petalLength": 1.7,
          "petalWidth": 0.2,
          "sepalLength": 5.4,
          "sepalWidth": 3.4,
          "species": "setosa"
         },
         {
          "petalLength": 1.5,
          "petalWidth": 0.4,
          "sepalLength": 5.1,
          "sepalWidth": 3.7,
          "species": "setosa"
         },
         {
          "petalLength": 1,
          "petalWidth": 0.2,
          "sepalLength": 4.6,
          "sepalWidth": 3.6,
          "species": "setosa"
         },
         {
          "petalLength": 1.7,
          "petalWidth": 0.5,
          "sepalLength": 5.1,
          "sepalWidth": 3.3,
          "species": "setosa"
         },
         {
          "petalLength": 1.9,
          "petalWidth": 0.2,
          "sepalLength": 4.8,
          "sepalWidth": 3.4,
          "species": "setosa"
         },
         {
          "petalLength": 1.6,
          "petalWidth": 0.2,
          "sepalLength": 5,
          "sepalWidth": 3,
          "species": "setosa"
         },
         {
          "petalLength": 1.6,
          "petalWidth": 0.4,
          "sepalLength": 5,
          "sepalWidth": 3.4,
          "species": "setosa"
         },
         {
          "petalLength": 1.5,
          "petalWidth": 0.2,
          "sepalLength": 5.2,
          "sepalWidth": 3.5,
          "species": "setosa"
         },
         {
          "petalLength": 1.4,
          "petalWidth": 0.2,
          "sepalLength": 5.2,
          "sepalWidth": 3.4,
          "species": "setosa"
         },
         {
          "petalLength": 1.6,
          "petalWidth": 0.2,
          "sepalLength": 4.7,
          "sepalWidth": 3.2,
          "species": "setosa"
         },
         {
          "petalLength": 1.6,
          "petalWidth": 0.2,
          "sepalLength": 4.8,
          "sepalWidth": 3.1,
          "species": "setosa"
         },
         {
          "petalLength": 1.5,
          "petalWidth": 0.4,
          "sepalLength": 5.4,
          "sepalWidth": 3.4,
          "species": "setosa"
         },
         {
          "petalLength": 1.5,
          "petalWidth": 0.1,
          "sepalLength": 5.2,
          "sepalWidth": 4.1,
          "species": "setosa"
         },
         {
          "petalLength": 1.4,
          "petalWidth": 0.2,
          "sepalLength": 5.5,
          "sepalWidth": 4.2,
          "species": "setosa"
         },
         {
          "petalLength": 1.5,
          "petalWidth": 0.2,
          "sepalLength": 4.9,
          "sepalWidth": 3.1,
          "species": "setosa"
         },
         {
          "petalLength": 1.2,
          "petalWidth": 0.2,
          "sepalLength": 5,
          "sepalWidth": 3.2,
          "species": "setosa"
         },
         {
          "petalLength": 1.3,
          "petalWidth": 0.2,
          "sepalLength": 5.5,
          "sepalWidth": 3.5,
          "species": "setosa"
         },
         {
          "petalLength": 1.4,
          "petalWidth": 0.1,
          "sepalLength": 4.9,
          "sepalWidth": 3.6,
          "species": "setosa"
         },
         {
          "petalLength": 1.3,
          "petalWidth": 0.2,
          "sepalLength": 4.4,
          "sepalWidth": 3,
          "species": "setosa"
         },
         {
          "petalLength": 1.5,
          "petalWidth": 0.2,
          "sepalLength": 5.1,
          "sepalWidth": 3.4,
          "species": "setosa"
         },
         {
          "petalLength": 1.3,
          "petalWidth": 0.3,
          "sepalLength": 5,
          "sepalWidth": 3.5,
          "species": "setosa"
         },
         {
          "petalLength": 1.3,
          "petalWidth": 0.3,
          "sepalLength": 4.5,
          "sepalWidth": 2.3,
          "species": "setosa"
         },
         {
          "petalLength": 1.3,
          "petalWidth": 0.2,
          "sepalLength": 4.4,
          "sepalWidth": 3.2,
          "species": "setosa"
         },
         {
          "petalLength": 1.6,
          "petalWidth": 0.6,
          "sepalLength": 5,
          "sepalWidth": 3.5,
          "species": "setosa"
         },
         {
          "petalLength": 1.9,
          "petalWidth": 0.4,
          "sepalLength": 5.1,
          "sepalWidth": 3.8,
          "species": "setosa"
         },
         {
          "petalLength": 1.4,
          "petalWidth": 0.3,
          "sepalLength": 4.8,
          "sepalWidth": 3,
          "species": "setosa"
         },
         {
          "petalLength": 1.6,
          "petalWidth": 0.2,
          "sepalLength": 5.1,
          "sepalWidth": 3.8,
          "species": "setosa"
         },
         {
          "petalLength": 1.4,
          "petalWidth": 0.2,
          "sepalLength": 4.6,
          "sepalWidth": 3.2,
          "species": "setosa"
         },
         {
          "petalLength": 1.5,
          "petalWidth": 0.2,
          "sepalLength": 5.3,
          "sepalWidth": 3.7,
          "species": "setosa"
         },
         {
          "petalLength": 1.4,
          "petalWidth": 0.2,
          "sepalLength": 5,
          "sepalWidth": 3.3,
          "species": "setosa"
         },
         {
          "petalLength": 4.7,
          "petalWidth": 1.4,
          "sepalLength": 7,
          "sepalWidth": 3.2,
          "species": "versicolor"
         },
         {
          "petalLength": 4.5,
          "petalWidth": 1.5,
          "sepalLength": 6.4,
          "sepalWidth": 3.2,
          "species": "versicolor"
         },
         {
          "petalLength": 4.9,
          "petalWidth": 1.5,
          "sepalLength": 6.9,
          "sepalWidth": 3.1,
          "species": "versicolor"
         },
         {
          "petalLength": 4,
          "petalWidth": 1.3,
          "sepalLength": 5.5,
          "sepalWidth": 2.3,
          "species": "versicolor"
         },
         {
          "petalLength": 4.6,
          "petalWidth": 1.5,
          "sepalLength": 6.5,
          "sepalWidth": 2.8,
          "species": "versicolor"
         },
         {
          "petalLength": 4.5,
          "petalWidth": 1.3,
          "sepalLength": 5.7,
          "sepalWidth": 2.8,
          "species": "versicolor"
         },
         {
          "petalLength": 4.7,
          "petalWidth": 1.6,
          "sepalLength": 6.3,
          "sepalWidth": 3.3,
          "species": "versicolor"
         },
         {
          "petalLength": 3.3,
          "petalWidth": 1,
          "sepalLength": 4.9,
          "sepalWidth": 2.4,
          "species": "versicolor"
         },
         {
          "petalLength": 4.6,
          "petalWidth": 1.3,
          "sepalLength": 6.6,
          "sepalWidth": 2.9,
          "species": "versicolor"
         },
         {
          "petalLength": 3.9,
          "petalWidth": 1.4,
          "sepalLength": 5.2,
          "sepalWidth": 2.7,
          "species": "versicolor"
         },
         {
          "petalLength": 3.5,
          "petalWidth": 1,
          "sepalLength": 5,
          "sepalWidth": 2,
          "species": "versicolor"
         },
         {
          "petalLength": 4.2,
          "petalWidth": 1.5,
          "sepalLength": 5.9,
          "sepalWidth": 3,
          "species": "versicolor"
         },
         {
          "petalLength": 4,
          "petalWidth": 1,
          "sepalLength": 6,
          "sepalWidth": 2.2,
          "species": "versicolor"
         },
         {
          "petalLength": 4.7,
          "petalWidth": 1.4,
          "sepalLength": 6.1,
          "sepalWidth": 2.9,
          "species": "versicolor"
         },
         {
          "petalLength": 3.6,
          "petalWidth": 1.3,
          "sepalLength": 5.6,
          "sepalWidth": 2.9,
          "species": "versicolor"
         },
         {
          "petalLength": 4.4,
          "petalWidth": 1.4,
          "sepalLength": 6.7,
          "sepalWidth": 3.1,
          "species": "versicolor"
         },
         {
          "petalLength": 4.5,
          "petalWidth": 1.5,
          "sepalLength": 5.6,
          "sepalWidth": 3,
          "species": "versicolor"
         },
         {
          "petalLength": 4.1,
          "petalWidth": 1,
          "sepalLength": 5.8,
          "sepalWidth": 2.7,
          "species": "versicolor"
         },
         {
          "petalLength": 4.5,
          "petalWidth": 1.5,
          "sepalLength": 6.2,
          "sepalWidth": 2.2,
          "species": "versicolor"
         },
         {
          "petalLength": 3.9,
          "petalWidth": 1.1,
          "sepalLength": 5.6,
          "sepalWidth": 2.5,
          "species": "versicolor"
         },
         {
          "petalLength": 4.8,
          "petalWidth": 1.8,
          "sepalLength": 5.9,
          "sepalWidth": 3.2,
          "species": "versicolor"
         },
         {
          "petalLength": 4,
          "petalWidth": 1.3,
          "sepalLength": 6.1,
          "sepalWidth": 2.8,
          "species": "versicolor"
         },
         {
          "petalLength": 4.9,
          "petalWidth": 1.5,
          "sepalLength": 6.3,
          "sepalWidth": 2.5,
          "species": "versicolor"
         },
         {
          "petalLength": 4.7,
          "petalWidth": 1.2,
          "sepalLength": 6.1,
          "sepalWidth": 2.8,
          "species": "versicolor"
         },
         {
          "petalLength": 4.3,
          "petalWidth": 1.3,
          "sepalLength": 6.4,
          "sepalWidth": 2.9,
          "species": "versicolor"
         },
         {
          "petalLength": 4.4,
          "petalWidth": 1.4,
          "sepalLength": 6.6,
          "sepalWidth": 3,
          "species": "versicolor"
         },
         {
          "petalLength": 4.8,
          "petalWidth": 1.4,
          "sepalLength": 6.8,
          "sepalWidth": 2.8,
          "species": "versicolor"
         },
         {
          "petalLength": 5,
          "petalWidth": 1.7,
          "sepalLength": 6.7,
          "sepalWidth": 3,
          "species": "versicolor"
         },
         {
          "petalLength": 4.5,
          "petalWidth": 1.5,
          "sepalLength": 6,
          "sepalWidth": 2.9,
          "species": "versicolor"
         },
         {
          "petalLength": 3.5,
          "petalWidth": 1,
          "sepalLength": 5.7,
          "sepalWidth": 2.6,
          "species": "versicolor"
         },
         {
          "petalLength": 3.8,
          "petalWidth": 1.1,
          "sepalLength": 5.5,
          "sepalWidth": 2.4,
          "species": "versicolor"
         },
         {
          "petalLength": 3.7,
          "petalWidth": 1,
          "sepalLength": 5.5,
          "sepalWidth": 2.4,
          "species": "versicolor"
         },
         {
          "petalLength": 3.9,
          "petalWidth": 1.2,
          "sepalLength": 5.8,
          "sepalWidth": 2.7,
          "species": "versicolor"
         },
         {
          "petalLength": 5.1,
          "petalWidth": 1.6,
          "sepalLength": 6,
          "sepalWidth": 2.7,
          "species": "versicolor"
         },
         {
          "petalLength": 4.5,
          "petalWidth": 1.5,
          "sepalLength": 5.4,
          "sepalWidth": 3,
          "species": "versicolor"
         },
         {
          "petalLength": 4.5,
          "petalWidth": 1.6,
          "sepalLength": 6,
          "sepalWidth": 3.4,
          "species": "versicolor"
         },
         {
          "petalLength": 4.7,
          "petalWidth": 1.5,
          "sepalLength": 6.7,
          "sepalWidth": 3.1,
          "species": "versicolor"
         },
         {
          "petalLength": 4.4,
          "petalWidth": 1.3,
          "sepalLength": 6.3,
          "sepalWidth": 2.3,
          "species": "versicolor"
         },
         {
          "petalLength": 4.1,
          "petalWidth": 1.3,
          "sepalLength": 5.6,
          "sepalWidth": 3,
          "species": "versicolor"
         },
         {
          "petalLength": 4,
          "petalWidth": 1.3,
          "sepalLength": 5.5,
          "sepalWidth": 2.5,
          "species": "versicolor"
         },
         {
          "petalLength": 4.4,
          "petalWidth": 1.2,
          "sepalLength": 5.5,
          "sepalWidth": 2.6,
          "species": "versicolor"
         },
         {
          "petalLength": 4.6,
          "petalWidth": 1.4,
          "sepalLength": 6.1,
          "sepalWidth": 3,
          "species": "versicolor"
         },
         {
          "petalLength": 4,
          "petalWidth": 1.2,
          "sepalLength": 5.8,
          "sepalWidth": 2.6,
          "species": "versicolor"
         },
         {
          "petalLength": 3.3,
          "petalWidth": 1,
          "sepalLength": 5,
          "sepalWidth": 2.3,
          "species": "versicolor"
         },
         {
          "petalLength": 4.2,
          "petalWidth": 1.3,
          "sepalLength": 5.6,
          "sepalWidth": 2.7,
          "species": "versicolor"
         },
         {
          "petalLength": 4.2,
          "petalWidth": 1.2,
          "sepalLength": 5.7,
          "sepalWidth": 3,
          "species": "versicolor"
         },
         {
          "petalLength": 4.2,
          "petalWidth": 1.3,
          "sepalLength": 5.7,
          "sepalWidth": 2.9,
          "species": "versicolor"
         },
         {
          "petalLength": 4.3,
          "petalWidth": 1.3,
          "sepalLength": 6.2,
          "sepalWidth": 2.9,
          "species": "versicolor"
         },
         {
          "petalLength": 3,
          "petalWidth": 1.1,
          "sepalLength": 5.1,
          "sepalWidth": 2.5,
          "species": "versicolor"
         },
         {
          "petalLength": 4.1,
          "petalWidth": 1.3,
          "sepalLength": 5.7,
          "sepalWidth": 2.8,
          "species": "versicolor"
         },
         {
          "petalLength": 6,
          "petalWidth": 2.5,
          "sepalLength": 6.3,
          "sepalWidth": 3.3,
          "species": "virginica"
         },
         {
          "petalLength": 5.1,
          "petalWidth": 1.9,
          "sepalLength": 5.8,
          "sepalWidth": 2.7,
          "species": "virginica"
         },
         {
          "petalLength": 5.9,
          "petalWidth": 2.1,
          "sepalLength": 7.1,
          "sepalWidth": 3,
          "species": "virginica"
         },
         {
          "petalLength": 5.6,
          "petalWidth": 1.8,
          "sepalLength": 6.3,
          "sepalWidth": 2.9,
          "species": "virginica"
         },
         {
          "petalLength": 5.8,
          "petalWidth": 2.2,
          "sepalLength": 6.5,
          "sepalWidth": 3,
          "species": "virginica"
         },
         {
          "petalLength": 6.6,
          "petalWidth": 2.1,
          "sepalLength": 7.6,
          "sepalWidth": 3,
          "species": "virginica"
         },
         {
          "petalLength": 4.5,
          "petalWidth": 1.7,
          "sepalLength": 4.9,
          "sepalWidth": 2.5,
          "species": "virginica"
         },
         {
          "petalLength": 6.3,
          "petalWidth": 1.8,
          "sepalLength": 7.3,
          "sepalWidth": 2.9,
          "species": "virginica"
         },
         {
          "petalLength": 5.8,
          "petalWidth": 1.8,
          "sepalLength": 6.7,
          "sepalWidth": 2.5,
          "species": "virginica"
         },
         {
          "petalLength": 6.1,
          "petalWidth": 2.5,
          "sepalLength": 7.2,
          "sepalWidth": 3.6,
          "species": "virginica"
         },
         {
          "petalLength": 5.1,
          "petalWidth": 2,
          "sepalLength": 6.5,
          "sepalWidth": 3.2,
          "species": "virginica"
         },
         {
          "petalLength": 5.3,
          "petalWidth": 1.9,
          "sepalLength": 6.4,
          "sepalWidth": 2.7,
          "species": "virginica"
         },
         {
          "petalLength": 5.5,
          "petalWidth": 2.1,
          "sepalLength": 6.8,
          "sepalWidth": 3,
          "species": "virginica"
         },
         {
          "petalLength": 5,
          "petalWidth": 2,
          "sepalLength": 5.7,
          "sepalWidth": 2.5,
          "species": "virginica"
         },
         {
          "petalLength": 5.1,
          "petalWidth": 2.4,
          "sepalLength": 5.8,
          "sepalWidth": 2.8,
          "species": "virginica"
         },
         {
          "petalLength": 5.3,
          "petalWidth": 2.3,
          "sepalLength": 6.4,
          "sepalWidth": 3.2,
          "species": "virginica"
         },
         {
          "petalLength": 5.5,
          "petalWidth": 1.8,
          "sepalLength": 6.5,
          "sepalWidth": 3,
          "species": "virginica"
         },
         {
          "petalLength": 6.7,
          "petalWidth": 2.2,
          "sepalLength": 7.7,
          "sepalWidth": 3.8,
          "species": "virginica"
         },
         {
          "petalLength": 6.9,
          "petalWidth": 2.3,
          "sepalLength": 7.7,
          "sepalWidth": 2.6,
          "species": "virginica"
         },
         {
          "petalLength": 5,
          "petalWidth": 1.5,
          "sepalLength": 6,
          "sepalWidth": 2.2,
          "species": "virginica"
         },
         {
          "petalLength": 5.7,
          "petalWidth": 2.3,
          "sepalLength": 6.9,
          "sepalWidth": 3.2,
          "species": "virginica"
         },
         {
          "petalLength": 4.9,
          "petalWidth": 2,
          "sepalLength": 5.6,
          "sepalWidth": 2.8,
          "species": "virginica"
         },
         {
          "petalLength": 6.7,
          "petalWidth": 2,
          "sepalLength": 7.7,
          "sepalWidth": 2.8,
          "species": "virginica"
         },
         {
          "petalLength": 4.9,
          "petalWidth": 1.8,
          "sepalLength": 6.3,
          "sepalWidth": 2.7,
          "species": "virginica"
         },
         {
          "petalLength": 5.7,
          "petalWidth": 2.1,
          "sepalLength": 6.7,
          "sepalWidth": 3.3,
          "species": "virginica"
         },
         {
          "petalLength": 6,
          "petalWidth": 1.8,
          "sepalLength": 7.2,
          "sepalWidth": 3.2,
          "species": "virginica"
         },
         {
          "petalLength": 4.8,
          "petalWidth": 1.8,
          "sepalLength": 6.2,
          "sepalWidth": 2.8,
          "species": "virginica"
         },
         {
          "petalLength": 4.9,
          "petalWidth": 1.8,
          "sepalLength": 6.1,
          "sepalWidth": 3,
          "species": "virginica"
         },
         {
          "petalLength": 5.6,
          "petalWidth": 2.1,
          "sepalLength": 6.4,
          "sepalWidth": 2.8,
          "species": "virginica"
         },
         {
          "petalLength": 5.8,
          "petalWidth": 1.6,
          "sepalLength": 7.2,
          "sepalWidth": 3,
          "species": "virginica"
         },
         {
          "petalLength": 6.1,
          "petalWidth": 1.9,
          "sepalLength": 7.4,
          "sepalWidth": 2.8,
          "species": "virginica"
         },
         {
          "petalLength": 6.4,
          "petalWidth": 2,
          "sepalLength": 7.9,
          "sepalWidth": 3.8,
          "species": "virginica"
         },
         {
          "petalLength": 5.6,
          "petalWidth": 2.2,
          "sepalLength": 6.4,
          "sepalWidth": 2.8,
          "species": "virginica"
         },
         {
          "petalLength": 5.1,
          "petalWidth": 1.5,
          "sepalLength": 6.3,
          "sepalWidth": 2.8,
          "species": "virginica"
         },
         {
          "petalLength": 5.6,
          "petalWidth": 1.4,
          "sepalLength": 6.1,
          "sepalWidth": 2.6,
          "species": "virginica"
         },
         {
          "petalLength": 6.1,
          "petalWidth": 2.3,
          "sepalLength": 7.7,
          "sepalWidth": 3,
          "species": "virginica"
         },
         {
          "petalLength": 5.6,
          "petalWidth": 2.4,
          "sepalLength": 6.3,
          "sepalWidth": 3.4,
          "species": "virginica"
         },
         {
          "petalLength": 5.5,
          "petalWidth": 1.8,
          "sepalLength": 6.4,
          "sepalWidth": 3.1,
          "species": "virginica"
         },
         {
          "petalLength": 4.8,
          "petalWidth": 1.8,
          "sepalLength": 6,
          "sepalWidth": 3,
          "species": "virginica"
         },
         {
          "petalLength": 5.4,
          "petalWidth": 2.1,
          "sepalLength": 6.9,
          "sepalWidth": 3.1,
          "species": "virginica"
         },
         {
          "petalLength": 5.6,
          "petalWidth": 2.4,
          "sepalLength": 6.7,
          "sepalWidth": 3.1,
          "species": "virginica"
         },
         {
          "petalLength": 5.1,
          "petalWidth": 2.3,
          "sepalLength": 6.9,
          "sepalWidth": 3.1,
          "species": "virginica"
         },
         {
          "petalLength": 5.1,
          "petalWidth": 1.9,
          "sepalLength": 5.8,
          "sepalWidth": 2.7,
          "species": "virginica"
         },
         {
          "petalLength": 5.9,
          "petalWidth": 2.3,
          "sepalLength": 6.8,
          "sepalWidth": 3.2,
          "species": "virginica"
         },
         {
          "petalLength": 5.7,
          "petalWidth": 2.5,
          "sepalLength": 6.7,
          "sepalWidth": 3.3,
          "species": "virginica"
         },
         {
          "petalLength": 5.2,
          "petalWidth": 2.3,
          "sepalLength": 6.7,
          "sepalWidth": 3,
          "species": "virginica"
         },
         {
          "petalLength": 5,
          "petalWidth": 1.9,
          "sepalLength": 6.3,
          "sepalWidth": 2.5,
          "species": "virginica"
         },
         {
          "petalLength": 5.2,
          "petalWidth": 2,
          "sepalLength": 6.5,
          "sepalWidth": 3,
          "species": "virginica"
         },
         {
          "petalLength": 5.4,
          "petalWidth": 2.3,
          "sepalLength": 6.2,
          "sepalWidth": 3.4,
          "species": "virginica"
         },
         {
          "petalLength": 5.1,
          "petalWidth": 1.8,
          "sepalLength": 5.9,
          "sepalWidth": 3,
          "species": "virginica"
         }
        ]
       },
       "encoding": {
        "color": {
         "field": "species",
         "type": "nominal"
        },
        "x": {
         "axis": {
          "title": "Petal Length (in cm)"
         },
         "field": "petalLength",
         "type": "quantitative"
        },
        "y": {
         "axis": {
          "title": "Petal Width (in cm)"
         },
         "field": "petalWidth",
         "type": "quantitative"
        }
       },
       "mark": "point",
       "title": "Scatterplot of Petal Sizes by Iris Species"
      },
      "image/png": "[encoded data removed]",
      "image/svg+xml": [
       "<?xml version=\"1.0\" encoding=\"utf-8\"?>\n",
       "<!DOCTYPE svg PUBLIC \"-//W3C//DTD SVG 1.1//EN\" \"http://www.w3.org/Graphics/SVG/1.1/DTD/svg11.dtd\">\n",
       "<svg class=\"marks\" width=\"448\" height=\"263\" viewBox=\"0 0 448 263\" version=\"1.1\" xmlns=\"http://www.w3.org/2000/svg\" xmlns:xlink=\"http://www.w3.org/1999/xlink\"><g transform=\"translate(91,23)\"><g class=\"mark-group role-frame root\"><g transform=\"translate(0,0)\"><path class=\"background\" d=\"M0.5,0.5h200v200h-200Z\" style=\"fill: none; stroke: #ddd;\"></path><g><g class=\"mark-group role-axis\"><g transform=\"translate(0.5,200.5)\"><path class=\"background\" d=\"M0,0h0v0h0Z\" style=\"pointer-events: none; fill: none;\"></path><g><g class=\"mark-rule role-axis-grid\" style=\"pointer-events: none;\"><line transform=\"translate(0,-200)\" x2=\"0\" y2=\"200\" style=\"fill: none; stroke: #ddd; stroke-width: 1; opacity: 1;\"></line><line transform=\"translate(29,-200)\" x2=\"0\" y2=\"200\" style=\"fill: none; stroke: #ddd; stroke-width: 1; opacity: 1;\"></line><line transform=\"translate(57,-200)\" x2=\"0\" y2=\"200\" style=\"fill: none; stroke: #ddd; stroke-width: 1; opacity: 1;\"></line><line transform=\"translate(86,-200)\" x2=\"0\" y2=\"200\" style=\"fill: none; stroke: #ddd; stroke-width: 1; opacity: 1;\"></line><line transform=\"translate(114,-200)\" x2=\"0\" y2=\"200\" style=\"fill: none; stroke: #ddd; stroke-width: 1; opacity: 1;\"></line><line transform=\"translate(143,-200)\" x2=\"0\" y2=\"200\" style=\"fill: none; stroke: #ddd; stroke-width: 1; opacity: 1;\"></line><line transform=\"translate(171,-200)\" x2=\"0\" y2=\"200\" style=\"fill: none; stroke: #ddd; stroke-width: 1; opacity: 1;\"></line><line transform=\"translate(200,-200)\" x2=\"0\" y2=\"200\" style=\"fill: none; stroke: #ddd; stroke-width: 1; opacity: 1;\"></line></g></g></g></g><g class=\"mark-group role-axis\"><g transform=\"translate(0.5,0.5)\"><path class=\"background\" d=\"M0,0h0v0h0Z\" style=\"pointer-events: none; fill: none;\"></path><g><g class=\"mark-rule role-axis-grid\" style=\"pointer-events: none;\"><line transform=\"translate(0,200)\" x2=\"200\" y2=\"0\" style=\"fill: none; stroke: #ddd; stroke-width: 1; opacity: 1;\"></line><line transform=\"translate(0,162)\" x2=\"200\" y2=\"0\" style=\"fill: none; stroke: #ddd; stroke-width: 1; opacity: 1;\"></line><line transform=\"translate(0,123)\" x2=\"200\" y2=\"0\" style=\"fill: none; stroke: #ddd; stroke-width: 1; opacity: 1;\"></line><line transform=\"translate(0,85)\" x2=\"200\" y2=\"0\" style=\"fill: none; stroke: #ddd; stroke-width: 1; opacity: 1;\"></line><line transform=\"translate(0,46)\" x2=\"200\" y2=\"0\" style=\"fill: none; stroke: #ddd; stroke-width: 1; opacity: 1;\"></line><line transform=\"translate(0,8)\" x2=\"200\" y2=\"0\" style=\"fill: none; stroke: #ddd; stroke-width: 1; opacity: 1;\"></line></g></g></g></g><g class=\"mark-symbol role-mark marks\"><path transform=\"translate(40,184.6153846153846)\" d=\"M2.7386127875258306,0A2.7386127875258306,2.7386127875258306,0,1,1,-2.7386127875258306,0A2.7386127875258306,2.7386127875258306,0,1,1,2.7386127875258306,0\" style=\"fill: none; stroke: #4c78a8; stroke-width: 2; opacity: 0.7;\"></path><path transform=\"translate(40,184.6153846153846)\" d=\"M2.7386127875258306,0A2.7386127875258306,2.7386127875258306,0,1,1,-2.7386127875258306,0A2.7386127875258306,2.7386127875258306,0,1,1,2.7386127875258306,0\" style=\"fill: none; stroke: #4c78a8; stroke-width: 2; opacity: 0.7;\"></path><path transform=\"translate(37.142857142857146,184.6153846153846)\" d=\"M2.7386127875258306,0A2.7386127875258306,2.7386127875258306,0,1,1,-2.7386127875258306,0A2.7386127875258306,2.7386127875258306,0,1,1,2.7386127875258306,0\" style=\"fill: none; stroke: #4c78a8; stroke-width: 2; opacity: 0.7;\"></path><path transform=\"translate(42.857142857142854,184.6153846153846)\" d=\"M2.7386127875258306,0A2.7386127875258306,2.7386127875258306,0,1,1,-2.7386127875258306,0A2.7386127875258306,2.7386127875258306,0,1,1,2.7386127875258306,0\" style=\"fill: none; stroke: #4c78a8; stroke-width: 2; opacity: 0.7;\"></path><path transform=\"translate(40,184.6153846153846)\" d=\"M2.7386127875258306,0A2.7386127875258306,2.7386127875258306,0,1,1,-2.7386127875258306,0A2.7386127875258306,2.7386127875258306,0,1,1,2.7386127875258306,0\" style=\"fill: none; stroke: #4c78a8; stroke-width: 2; opacity: 0.7;\"></path><path transform=\"translate(48.57142857142857,169.23076923076923)\" d=\"M2.7386127875258306,0A2.7386127875258306,2.7386127875258306,0,1,1,-2.7386127875258306,0A2.7386127875258306,2.7386127875258306,0,1,1,2.7386127875258306,0\" style=\"fill: none; stroke: #4c78a8; stroke-width: 2; opacity: 0.7;\"></path><path transform=\"translate(40,176.92307692307693)\" d=\"M2.7386127875258306,0A2.7386127875258306,2.7386127875258306,0,1,1,-2.7386127875258306,0A2.7386127875258306,2.7386127875258306,0,1,1,2.7386127875258306,0\" style=\"fill: none; stroke: #4c78a8; stroke-width: 2; opacity: 0.7;\"></path><path transform=\"translate(42.857142857142854,184.6153846153846)\" d=\"M2.7386127875258306,0A2.7386127875258306,2.7386127875258306,0,1,1,-2.7386127875258306,0A2.7386127875258306,2.7386127875258306,0,1,1,2.7386127875258306,0\" style=\"fill: none; stroke: #4c78a8; stroke-width: 2; opacity: 0.7;\"></path><path transform=\"translate(40,184.6153846153846)\" d=\"M2.7386127875258306,0A2.7386127875258306,2.7386127875258306,0,1,1,-2.7386127875258306,0A2.7386127875258306,2.7386127875258306,0,1,1,2.7386127875258306,0\" style=\"fill: none; stroke: #4c78a8; stroke-width: 2; opacity: 0.7;\"></path><path transform=\"translate(42.857142857142854,192.30769230769232)\" d=\"M2.7386127875258306,0A2.7386127875258306,2.7386127875258306,0,1,1,-2.7386127875258306,0A2.7386127875258306,2.7386127875258306,0,1,1,2.7386127875258306,0\" style=\"fill: none; stroke: #4c78a8; stroke-width: 2; opacity: 0.7;\"></path><path transform=\"translate(42.857142857142854,184.6153846153846)\" d=\"M2.7386127875258306,0A2.7386127875258306,2.7386127875258306,0,1,1,-2.7386127875258306,0A2.7386127875258306,2.7386127875258306,0,1,1,2.7386127875258306,0\" style=\"fill: none; stroke: #4c78a8; stroke-width: 2; opacity: 0.7;\"></path><path transform=\"translate(45.714285714285715,184.6153846153846)\" d=\"M2.7386127875258306,0A2.7386127875258306,2.7386127875258306,0,1,1,-2.7386127875258306,0A2.7386127875258306,2.7386127875258306,0,1,1,2.7386127875258306,0\" style=\"fill: none; stroke: #4c78a8; stroke-width: 2; opacity: 0.7;\"></path><path transform=\"translate(40,192.30769230769232)\" d=\"M2.7386127875258306,0A2.7386127875258306,2.7386127875258306,0,1,1,-2.7386127875258306,0A2.7386127875258306,2.7386127875258306,0,1,1,2.7386127875258306,0\" style=\"fill: none; stroke: #4c78a8; stroke-width: 2; opacity: 0.7;\"></path><path transform=\"translate(31.428571428571434,192.30769230769232)\" d=\"M2.7386127875258306,0A2.7386127875258306,2.7386127875258306,0,1,1,-2.7386127875258306,0A2.7386127875258306,2.7386127875258306,0,1,1,2.7386127875258306,0\" style=\"fill: none; stroke: #4c78a8; stroke-width: 2; opacity: 0.7;\"></path><path transform=\"translate(34.285714285714285,184.6153846153846)\" d=\"M2.7386127875258306,0A2.7386127875258306,2.7386127875258306,0,1,1,-2.7386127875258306,0A2.7386127875258306,2.7386127875258306,0,1,1,2.7386127875258306,0\" style=\"fill: none; stroke: #4c78a8; stroke-width: 2; opacity: 0.7;\"></path><path transform=\"translate(42.857142857142854,169.23076923076923)\" d=\"M2.7386127875258306,0A2.7386127875258306,2.7386127875258306,0,1,1,-2.7386127875258306,0A2.7386127875258306,2.7386127875258306,0,1,1,2.7386127875258306,0\" style=\"fill: none; stroke: #4c78a8; stroke-width: 2; opacity: 0.7;\"></path><path transform=\"translate(37.142857142857146,169.23076923076923)\" d=\"M2.7386127875258306,0A2.7386127875258306,2.7386127875258306,0,1,1,-2.7386127875258306,0A2.7386127875258306,2.7386127875258306,0,1,1,2.7386127875258306,0\" style=\"fill: none; stroke: #4c78a8; stroke-width: 2; opacity: 0.7;\"></path><path transform=\"translate(40,176.92307692307693)\" d=\"M2.7386127875258306,0A2.7386127875258306,2.7386127875258306,0,1,1,-2.7386127875258306,0A2.7386127875258306,2.7386127875258306,0,1,1,2.7386127875258306,0\" style=\"fill: none; stroke: #4c78a8; stroke-width: 2; opacity: 0.7;\"></path><path transform=\"translate(48.57142857142857,176.92307692307693)\" d=\"M2.7386127875258306,0A2.7386127875258306,2.7386127875258306,0,1,1,-2.7386127875258306,0A2.7386127875258306,2.7386127875258306,0,1,1,2.7386127875258306,0\" style=\"fill: none; stroke: #4c78a8; stroke-width: 2; opacity: 0.7;\"></path><path transform=\"translate(42.857142857142854,176.92307692307693)\" d=\"M2.7386127875258306,0A2.7386127875258306,2.7386127875258306,0,1,1,-2.7386127875258306,0A2.7386127875258306,2.7386127875258306,0,1,1,2.7386127875258306,0\" style=\"fill: none; stroke: #4c78a8; stroke-width: 2; opacity: 0.7;\"></path><path transform=\"translate(48.57142857142857,184.6153846153846)\" d=\"M2.7386127875258306,0A2.7386127875258306,2.7386127875258306,0,1,1,-2.7386127875258306,0A2.7386127875258306,2.7386127875258306,0,1,1,2.7386127875258306,0\" style=\"fill: none; stroke: #4c78a8; stroke-width: 2; opacity: 0.7;\"></path><path transform=\"translate(42.857142857142854,169.23076923076923)\" d=\"M2.7386127875258306,0A2.7386127875258306,2.7386127875258306,0,1,1,-2.7386127875258306,0A2.7386127875258306,2.7386127875258306,0,1,1,2.7386127875258306,0\" style=\"fill: none; stroke: #4c78a8; stroke-width: 2; opacity: 0.7;\"></path><path transform=\"translate(28.57142857142857,184.6153846153846)\" d=\"M2.7386127875258306,0A2.7386127875258306,2.7386127875258306,0,1,1,-2.7386127875258306,0A2.7386127875258306,2.7386127875258306,0,1,1,2.7386127875258306,0\" style=\"fill: none; stroke: #4c78a8; stroke-width: 2; opacity: 0.7;\"></path><path transform=\"translate(48.57142857142857,161.53846153846155)\" d=\"M2.7386127875258306,0A2.7386127875258306,2.7386127875258306,0,1,1,-2.7386127875258306,0A2.7386127875258306,2.7386127875258306,0,1,1,2.7386127875258306,0\" style=\"fill: none; stroke: #4c78a8; stroke-width: 2; opacity: 0.7;\"></path><path transform=\"translate(54.285714285714285,184.6153846153846)\" d=\"M2.7386127875258306,0A2.7386127875258306,2.7386127875258306,0,1,1,-2.7386127875258306,0A2.7386127875258306,2.7386127875258306,0,1,1,2.7386127875258306,0\" style=\"fill: none; stroke: #4c78a8; stroke-width: 2; opacity: 0.7;\"></path><path transform=\"translate(45.714285714285715,184.6153846153846)\" d=\"M2.7386127875258306,0A2.7386127875258306,2.7386127875258306,0,1,1,-2.7386127875258306,0A2.7386127875258306,2.7386127875258306,0,1,1,2.7386127875258306,0\" style=\"fill: none; stroke: #4c78a8; stroke-width: 2; opacity: 0.7;\"></path><path transform=\"translate(45.714285714285715,169.23076923076923)\" d=\"M2.7386127875258306,0A2.7386127875258306,2.7386127875258306,0,1,1,-2.7386127875258306,0A2.7386127875258306,2.7386127875258306,0,1,1,2.7386127875258306,0\" style=\"fill: none; stroke: #4c78a8; stroke-width: 2; opacity: 0.7;\"></path><path transform=\"translate(42.857142857142854,184.6153846153846)\" d=\"M2.7386127875258306,0A2.7386127875258306,2.7386127875258306,0,1,1,-2.7386127875258306,0A2.7386127875258306,2.7386127875258306,0,1,1,2.7386127875258306,0\" style=\"fill: none; stroke: #4c78a8; stroke-width: 2; opacity: 0.7;\"></path><path transform=\"translate(40,184.6153846153846)\" d=\"M2.7386127875258306,0A2.7386127875258306,2.7386127875258306,0,1,1,-2.7386127875258306,0A2.7386127875258306,2.7386127875258306,0,1,1,2.7386127875258306,0\" style=\"fill: none; stroke: #4c78a8; stroke-width: 2; opacity: 0.7;\"></path><path transform=\"translate(45.714285714285715,184.6153846153846)\" d=\"M2.7386127875258306,0A2.7386127875258306,2.7386127875258306,0,1,1,-2.7386127875258306,0A2.7386127875258306,2.7386127875258306,0,1,1,2.7386127875258306,0\" style=\"fill: none; stroke: #4c78a8; stroke-width: 2; opacity: 0.7;\"></path><path transform=\"translate(45.714285714285715,184.6153846153846)\" d=\"M2.7386127875258306,0A2.7386127875258306,2.7386127875258306,0,1,1,-2.7386127875258306,0A2.7386127875258306,2.7386127875258306,0,1,1,2.7386127875258306,0\" style=\"fill: none; stroke: #4c78a8; stroke-width: 2; opacity: 0.7;\"></path><path transform=\"translate(42.857142857142854,169.23076923076923)\" d=\"M2.7386127875258306,0A2.7386127875258306,2.7386127875258306,0,1,1,-2.7386127875258306,0A2.7386127875258306,2.7386127875258306,0,1,1,2.7386127875258306,0\" style=\"fill: none; stroke: #4c78a8; stroke-width: 2; opacity: 0.7;\"></path><path transform=\"translate(42.857142857142854,192.30769230769232)\" d=\"M2.7386127875258306,0A2.7386127875258306,2.7386127875258306,0,1,1,-2.7386127875258306,0A2.7386127875258306,2.7386127875258306,0,1,1,2.7386127875258306,0\" style=\"fill: none; stroke: #4c78a8; stroke-width: 2; opacity: 0.7;\"></path><path transform=\"translate(40,184.6153846153846)\" d=\"M2.7386127875258306,0A2.7386127875258306,2.7386127875258306,0,1,1,-2.7386127875258306,0A2.7386127875258306,2.7386127875258306,0,1,1,2.7386127875258306,0\" style=\"fill: none; stroke: #4c78a8; stroke-width: 2; opacity: 0.7;\"></path><path transform=\"translate(42.857142857142854,184.6153846153846)\" d=\"M2.7386127875258306,0A2.7386127875258306,2.7386127875258306,0,1,1,-2.7386127875258306,0A2.7386127875258306,2.7386127875258306,0,1,1,2.7386127875258306,0\" style=\"fill: none; stroke: #4c78a8; stroke-width: 2; opacity: 0.7;\"></path><path transform=\"translate(34.285714285714285,184.6153846153846)\" d=\"M2.7386127875258306,0A2.7386127875258306,2.7386127875258306,0,1,1,-2.7386127875258306,0A2.7386127875258306,2.7386127875258306,0,1,1,2.7386127875258306,0\" style=\"fill: none; stroke: #4c78a8; stroke-width: 2; opacity: 0.7;\"></path><path transform=\"translate(37.142857142857146,184.6153846153846)\" d=\"M2.7386127875258306,0A2.7386127875258306,2.7386127875258306,0,1,1,-2.7386127875258306,0A2.7386127875258306,2.7386127875258306,0,1,1,2.7386127875258306,0\" style=\"fill: none; stroke: #4c78a8; stroke-width: 2; opacity: 0.7;\"></path><path transform=\"translate(40,192.30769230769232)\" d=\"M2.7386127875258306,0A2.7386127875258306,2.7386127875258306,0,1,1,-2.7386127875258306,0A2.7386127875258306,2.7386127875258306,0,1,1,2.7386127875258306,0\" style=\"fill: none; stroke: #4c78a8; stroke-width: 2; opacity: 0.7;\"></path><path transform=\"translate(37.142857142857146,184.6153846153846)\" d=\"M2.7386127875258306,0A2.7386127875258306,2.7386127875258306,0,1,1,-2.7386127875258306,0A2.7386127875258306,2.7386127875258306,0,1,1,2.7386127875258306,0\" style=\"fill: none; stroke: #4c78a8; stroke-width: 2; opacity: 0.7;\"></path><path transform=\"translate(42.857142857142854,184.6153846153846)\" d=\"M2.7386127875258306,0A2.7386127875258306,2.7386127875258306,0,1,1,-2.7386127875258306,0A2.7386127875258306,2.7386127875258306,0,1,1,2.7386127875258306,0\" style=\"fill: none; stroke: #4c78a8; stroke-width: 2; opacity: 0.7;\"></path><path transform=\"translate(37.142857142857146,176.92307692307693)\" d=\"M2.7386127875258306,0A2.7386127875258306,2.7386127875258306,0,1,1,-2.7386127875258306,0A2.7386127875258306,2.7386127875258306,0,1,1,2.7386127875258306,0\" style=\"fill: none; stroke: #4c78a8; stroke-width: 2; opacity: 0.7;\"></path><path transform=\"translate(37.142857142857146,176.92307692307693)\" d=\"M2.7386127875258306,0A2.7386127875258306,2.7386127875258306,0,1,1,-2.7386127875258306,0A2.7386127875258306,2.7386127875258306,0,1,1,2.7386127875258306,0\" style=\"fill: none; stroke: #4c78a8; stroke-width: 2; opacity: 0.7;\"></path><path transform=\"translate(37.142857142857146,184.6153846153846)\" d=\"M2.7386127875258306,0A2.7386127875258306,2.7386127875258306,0,1,1,-2.7386127875258306,0A2.7386127875258306,2.7386127875258306,0,1,1,2.7386127875258306,0\" style=\"fill: none; stroke: #4c78a8; stroke-width: 2; opacity: 0.7;\"></path><path transform=\"translate(45.714285714285715,153.84615384615384)\" d=\"M2.7386127875258306,0A2.7386127875258306,2.7386127875258306,0,1,1,-2.7386127875258306,0A2.7386127875258306,2.7386127875258306,0,1,1,2.7386127875258306,0\" style=\"fill: none; stroke: #4c78a8; stroke-width: 2; opacity: 0.7;\"></path><path transform=\"translate(54.285714285714285,169.23076923076923)\" d=\"M2.7386127875258306,0A2.7386127875258306,2.7386127875258306,0,1,1,-2.7386127875258306,0A2.7386127875258306,2.7386127875258306,0,1,1,2.7386127875258306,0\" style=\"fill: none; stroke: #4c78a8; stroke-width: 2; opacity: 0.7;\"></path><path transform=\"translate(40,176.92307692307693)\" d=\"M2.7386127875258306,0A2.7386127875258306,2.7386127875258306,0,1,1,-2.7386127875258306,0A2.7386127875258306,2.7386127875258306,0,1,1,2.7386127875258306,0\" style=\"fill: none; stroke: #4c78a8; stroke-width: 2; opacity: 0.7;\"></path><path transform=\"translate(45.714285714285715,184.6153846153846)\" d=\"M2.7386127875258306,0A2.7386127875258306,2.7386127875258306,0,1,1,-2.7386127875258306,0A2.7386127875258306,2.7386127875258306,0,1,1,2.7386127875258306,0\" style=\"fill: none; stroke: #4c78a8; stroke-width: 2; opacity: 0.7;\"></path><path transform=\"translate(40,184.6153846153846)\" d=\"M2.7386127875258306,0A2.7386127875258306,2.7386127875258306,0,1,1,-2.7386127875258306,0A2.7386127875258306,2.7386127875258306,0,1,1,2.7386127875258306,0\" style=\"fill: none; stroke: #4c78a8; stroke-width: 2; opacity: 0.7;\"></path><path transform=\"translate(42.857142857142854,184.6153846153846)\" d=\"M2.7386127875258306,0A2.7386127875258306,2.7386127875258306,0,1,1,-2.7386127875258306,0A2.7386127875258306,2.7386127875258306,0,1,1,2.7386127875258306,0\" style=\"fill: none; stroke: #4c78a8; stroke-width: 2; opacity: 0.7;\"></path><path transform=\"translate(40,184.6153846153846)\" d=\"M2.7386127875258306,0A2.7386127875258306,2.7386127875258306,0,1,1,-2.7386127875258306,0A2.7386127875258306,2.7386127875258306,0,1,1,2.7386127875258306,0\" style=\"fill: none; stroke: #4c78a8; stroke-width: 2; opacity: 0.7;\"></path><path transform=\"translate(134.2857142857143,92.3076923076923)\" d=\"M2.7386127875258306,0A2.7386127875258306,2.7386127875258306,0,1,1,-2.7386127875258306,0A2.7386127875258306,2.7386127875258306,0,1,1,2.7386127875258306,0\" style=\"fill: none; stroke: #f58518; stroke-width: 2; opacity: 0.7;\"></path><path transform=\"translate(128.57142857142858,84.61538461538463)\" d=\"M2.7386127875258306,0A2.7386127875258306,2.7386127875258306,0,1,1,-2.7386127875258306,0A2.7386127875258306,2.7386127875258306,0,1,1,2.7386127875258306,0\" style=\"fill: none; stroke: #f58518; stroke-width: 2; opacity: 0.7;\"></path><path transform=\"translate(140,84.61538461538463)\" d=\"M2.7386127875258306,0A2.7386127875258306,2.7386127875258306,0,1,1,-2.7386127875258306,0A2.7386127875258306,2.7386127875258306,0,1,1,2.7386127875258306,0\" style=\"fill: none; stroke: #f58518; stroke-width: 2; opacity: 0.7;\"></path><path transform=\"translate(114.28571428571428,100)\" d=\"M2.7386127875258306,0A2.7386127875258306,2.7386127875258306,0,1,1,-2.7386127875258306,0A2.7386127875258306,2.7386127875258306,0,1,1,2.7386127875258306,0\" style=\"fill: none; stroke: #f58518; stroke-width: 2; opacity: 0.7;\"></path><path transform=\"translate(131.42857142857142,84.61538461538463)\" d=\"M2.7386127875258306,0A2.7386127875258306,2.7386127875258306,0,1,1,-2.7386127875258306,0A2.7386127875258306,2.7386127875258306,0,1,1,2.7386127875258306,0\" style=\"fill: none; stroke: #f58518; stroke-width: 2; opacity: 0.7;\"></path><path transform=\"translate(128.57142857142858,100)\" d=\"M2.7386127875258306,0A2.7386127875258306,2.7386127875258306,0,1,1,-2.7386127875258306,0A2.7386127875258306,2.7386127875258306,0,1,1,2.7386127875258306,0\" style=\"fill: none; stroke: #f58518; stroke-width: 2; opacity: 0.7;\"></path><path transform=\"translate(134.2857142857143,76.92307692307692)\" d=\"M2.7386127875258306,0A2.7386127875258306,2.7386127875258306,0,1,1,-2.7386127875258306,0A2.7386127875258306,2.7386127875258306,0,1,1,2.7386127875258306,0\" style=\"fill: none; stroke: #f58518; stroke-width: 2; opacity: 0.7;\"></path><path transform=\"translate(94.28571428571428,123.07692307692308)\" d=\"M2.7386127875258306,0A2.7386127875258306,2.7386127875258306,0,1,1,-2.7386127875258306,0A2.7386127875258306,2.7386127875258306,0,1,1,2.7386127875258306,0\" style=\"fill: none; stroke: #f58518; stroke-width: 2; opacity: 0.7;\"></path><path transform=\"translate(131.42857142857142,100)\" d=\"M2.7386127875258306,0A2.7386127875258306,2.7386127875258306,0,1,1,-2.7386127875258306,0A2.7386127875258306,2.7386127875258306,0,1,1,2.7386127875258306,0\" style=\"fill: none; stroke: #f58518; stroke-width: 2; opacity: 0.7;\"></path><path transform=\"translate(111.42857142857143,92.3076923076923)\" d=\"M2.7386127875258306,0A2.7386127875258306,2.7386127875258306,0,1,1,-2.7386127875258306,0A2.7386127875258306,2.7386127875258306,0,1,1,2.7386127875258306,0\" style=\"fill: none; stroke: #f58518; stroke-width: 2; opacity: 0.7;\"></path><path transform=\"translate(100,123.07692307692308)\" d=\"M2.7386127875258306,0A2.7386127875258306,2.7386127875258306,0,1,1,-2.7386127875258306,0A2.7386127875258306,2.7386127875258306,0,1,1,2.7386127875258306,0\" style=\"fill: none; stroke: #f58518; stroke-width: 2; opacity: 0.7;\"></path><path transform=\"translate(120,84.61538461538463)\" d=\"M2.7386127875258306,0A2.7386127875258306,2.7386127875258306,0,1,1,-2.7386127875258306,0A2.7386127875258306,2.7386127875258306,0,1,1,2.7386127875258306,0\" style=\"fill: none; stroke: #f58518; stroke-width: 2; opacity: 0.7;\"></path><path transform=\"translate(114.28571428571428,123.07692307692308)\" d=\"M2.7386127875258306,0A2.7386127875258306,2.7386127875258306,0,1,1,-2.7386127875258306,0A2.7386127875258306,2.7386127875258306,0,1,1,2.7386127875258306,0\" style=\"fill: none; stroke: #f58518; stroke-width: 2; opacity: 0.7;\"></path><path transform=\"translate(134.2857142857143,92.3076923076923)\" d=\"M2.7386127875258306,0A2.7386127875258306,2.7386127875258306,0,1,1,-2.7386127875258306,0A2.7386127875258306,2.7386127875258306,0,1,1,2.7386127875258306,0\" style=\"fill: none; stroke: #f58518; stroke-width: 2; opacity: 0.7;\"></path><path transform=\"translate(102.85714285714288,100)\" d=\"M2.7386127875258306,0A2.7386127875258306,2.7386127875258306,0,1,1,-2.7386127875258306,0A2.7386127875258306,2.7386127875258306,0,1,1,2.7386127875258306,0\" style=\"fill: none; stroke: #f58518; stroke-width: 2; opacity: 0.7;\"></path><path transform=\"translate(125.71428571428574,92.3076923076923)\" d=\"M2.7386127875258306,0A2.7386127875258306,2.7386127875258306,0,1,1,-2.7386127875258306,0A2.7386127875258306,2.7386127875258306,0,1,1,2.7386127875258306,0\" style=\"fill: none; stroke: #f58518; stroke-width: 2; opacity: 0.7;\"></path><path transform=\"translate(128.57142857142858,84.61538461538463)\" d=\"M2.7386127875258306,0A2.7386127875258306,2.7386127875258306,0,1,1,-2.7386127875258306,0A2.7386127875258306,2.7386127875258306,0,1,1,2.7386127875258306,0\" style=\"fill: none; stroke: #f58518; stroke-width: 2; opacity: 0.7;\"></path><path transform=\"translate(117.14285714285712,123.07692307692308)\" d=\"M2.7386127875258306,0A2.7386127875258306,2.7386127875258306,0,1,1,-2.7386127875258306,0A2.7386127875258306,2.7386127875258306,0,1,1,2.7386127875258306,0\" style=\"fill: none; stroke: #f58518; stroke-width: 2; opacity: 0.7;\"></path><path transform=\"translate(128.57142857142858,84.61538461538463)\" d=\"M2.7386127875258306,0A2.7386127875258306,2.7386127875258306,0,1,1,-2.7386127875258306,0A2.7386127875258306,2.7386127875258306,0,1,1,2.7386127875258306,0\" style=\"fill: none; stroke: #f58518; stroke-width: 2; opacity: 0.7;\"></path><path transform=\"translate(111.42857142857143,115.38461538461539)\" d=\"M2.7386127875258306,0A2.7386127875258306,2.7386127875258306,0,1,1,-2.7386127875258306,0A2.7386127875258306,2.7386127875258306,0,1,1,2.7386127875258306,0\" style=\"fill: none; stroke: #f58518; stroke-width: 2; opacity: 0.7;\"></path><path transform=\"translate(137.14285714285714,61.53846153846155)\" d=\"M2.7386127875258306,0A2.7386127875258306,2.7386127875258306,0,1,1,-2.7386127875258306,0A2.7386127875258306,2.7386127875258306,0,1,1,2.7386127875258306,0\" style=\"fill: none; stroke: #f58518; stroke-width: 2; opacity: 0.7;\"></path><path transform=\"translate(114.28571428571428,100)\" d=\"M2.7386127875258306,0A2.7386127875258306,2.7386127875258306,0,1,1,-2.7386127875258306,0A2.7386127875258306,2.7386127875258306,0,1,1,2.7386127875258306,0\" style=\"fill: none; stroke: #f58518; stroke-width: 2; opacity: 0.7;\"></path><path transform=\"translate(140,84.61538461538463)\" d=\"M2.7386127875258306,0A2.7386127875258306,2.7386127875258306,0,1,1,-2.7386127875258306,0A2.7386127875258306,2.7386127875258306,0,1,1,2.7386127875258306,0\" style=\"fill: none; stroke: #f58518; stroke-width: 2; opacity: 0.7;\"></path><path transform=\"translate(134.2857142857143,107.6923076923077)\" d=\"M2.7386127875258306,0A2.7386127875258306,2.7386127875258306,0,1,1,-2.7386127875258306,0A2.7386127875258306,2.7386127875258306,0,1,1,2.7386127875258306,0\" style=\"fill: none; stroke: #f58518; stroke-width: 2; opacity: 0.7;\"></path><path transform=\"translate(122.85714285714285,100)\" d=\"M2.7386127875258306,0A2.7386127875258306,2.7386127875258306,0,1,1,-2.7386127875258306,0A2.7386127875258306,2.7386127875258306,0,1,1,2.7386127875258306,0\" style=\"fill: none; stroke: #f58518; stroke-width: 2; opacity: 0.7;\"></path><path transform=\"translate(125.71428571428574,92.3076923076923)\" d=\"M2.7386127875258306,0A2.7386127875258306,2.7386127875258306,0,1,1,-2.7386127875258306,0A2.7386127875258306,2.7386127875258306,0,1,1,2.7386127875258306,0\" style=\"fill: none; stroke: #f58518; stroke-width: 2; opacity: 0.7;\"></path><path transform=\"translate(137.14285714285714,92.3076923076923)\" d=\"M2.7386127875258306,0A2.7386127875258306,2.7386127875258306,0,1,1,-2.7386127875258306,0A2.7386127875258306,2.7386127875258306,0,1,1,2.7386127875258306,0\" style=\"fill: none; stroke: #f58518; stroke-width: 2; opacity: 0.7;\"></path><path transform=\"translate(142.85714285714286,69.23076923076923)\" d=\"M2.7386127875258306,0A2.7386127875258306,2.7386127875258306,0,1,1,-2.7386127875258306,0A2.7386127875258306,2.7386127875258306,0,1,1,2.7386127875258306,0\" style=\"fill: none; stroke: #f58518; stroke-width: 2; opacity: 0.7;\"></path><path transform=\"translate(128.57142857142858,84.61538461538463)\" d=\"M2.7386127875258306,0A2.7386127875258306,2.7386127875258306,0,1,1,-2.7386127875258306,0A2.7386127875258306,2.7386127875258306,0,1,1,2.7386127875258306,0\" style=\"fill: none; stroke: #f58518; stroke-width: 2; opacity: 0.7;\"></path><path transform=\"translate(100,123.07692307692308)\" d=\"M2.7386127875258306,0A2.7386127875258306,2.7386127875258306,0,1,1,-2.7386127875258306,0A2.7386127875258306,2.7386127875258306,0,1,1,2.7386127875258306,0\" style=\"fill: none; stroke: #f58518; stroke-width: 2; opacity: 0.7;\"></path><path transform=\"translate(108.57142857142857,115.38461538461539)\" d=\"M2.7386127875258306,0A2.7386127875258306,2.7386127875258306,0,1,1,-2.7386127875258306,0A2.7386127875258306,2.7386127875258306,0,1,1,2.7386127875258306,0\" style=\"fill: none; stroke: #f58518; stroke-width: 2; opacity: 0.7;\"></path><path transform=\"translate(105.71428571428572,123.07692307692308)\" d=\"M2.7386127875258306,0A2.7386127875258306,2.7386127875258306,0,1,1,-2.7386127875258306,0A2.7386127875258306,2.7386127875258306,0,1,1,2.7386127875258306,0\" style=\"fill: none; stroke: #f58518; stroke-width: 2; opacity: 0.7;\"></path><path transform=\"translate(111.42857142857143,107.6923076923077)\" d=\"M2.7386127875258306,0A2.7386127875258306,2.7386127875258306,0,1,1,-2.7386127875258306,0A2.7386127875258306,2.7386127875258306,0,1,1,2.7386127875258306,0\" style=\"fill: none; stroke: #f58518; stroke-width: 2; opacity: 0.7;\"></path><path transform=\"translate(145.7142857142857,76.92307692307692)\" d=\"M2.7386127875258306,0A2.7386127875258306,2.7386127875258306,0,1,1,-2.7386127875258306,0A2.7386127875258306,2.7386127875258306,0,1,1,2.7386127875258306,0\" style=\"fill: none; stroke: #f58518; stroke-width: 2; opacity: 0.7;\"></path><path transform=\"translate(128.57142857142858,84.61538461538463)\" d=\"M2.7386127875258306,0A2.7386127875258306,2.7386127875258306,0,1,1,-2.7386127875258306,0A2.7386127875258306,2.7386127875258306,0,1,1,2.7386127875258306,0\" style=\"fill: none; stroke: #f58518; stroke-width: 2; opacity: 0.7;\"></path><path transform=\"translate(128.57142857142858,76.92307692307692)\" d=\"M2.7386127875258306,0A2.7386127875258306,2.7386127875258306,0,1,1,-2.7386127875258306,0A2.7386127875258306,2.7386127875258306,0,1,1,2.7386127875258306,0\" style=\"fill: none; stroke: #f58518; stroke-width: 2; opacity: 0.7;\"></path><path transform=\"translate(134.2857142857143,84.61538461538463)\" d=\"M2.7386127875258306,0A2.7386127875258306,2.7386127875258306,0,1,1,-2.7386127875258306,0A2.7386127875258306,2.7386127875258306,0,1,1,2.7386127875258306,0\" style=\"fill: none; stroke: #f58518; stroke-width: 2; opacity: 0.7;\"></path><path transform=\"translate(125.71428571428574,100)\" d=\"M2.7386127875258306,0A2.7386127875258306,2.7386127875258306,0,1,1,-2.7386127875258306,0A2.7386127875258306,2.7386127875258306,0,1,1,2.7386127875258306,0\" style=\"fill: none; stroke: #f58518; stroke-width: 2; opacity: 0.7;\"></path><path transform=\"translate(117.14285714285712,100)\" d=\"M2.7386127875258306,0A2.7386127875258306,2.7386127875258306,0,1,1,-2.7386127875258306,0A2.7386127875258306,2.7386127875258306,0,1,1,2.7386127875258306,0\" style=\"fill: none; stroke: #f58518; stroke-width: 2; opacity: 0.7;\"></path><path transform=\"translate(114.28571428571428,100)\" d=\"M2.7386127875258306,0A2.7386127875258306,2.7386127875258306,0,1,1,-2.7386127875258306,0A2.7386127875258306,2.7386127875258306,0,1,1,2.7386127875258306,0\" style=\"fill: none; stroke: #f58518; stroke-width: 2; opacity: 0.7;\"></path><path transform=\"translate(125.71428571428574,107.6923076923077)\" d=\"M2.7386127875258306,0A2.7386127875258306,2.7386127875258306,0,1,1,-2.7386127875258306,0A2.7386127875258306,2.7386127875258306,0,1,1,2.7386127875258306,0\" style=\"fill: none; stroke: #f58518; stroke-width: 2; opacity: 0.7;\"></path><path transform=\"translate(131.42857142857142,92.3076923076923)\" d=\"M2.7386127875258306,0A2.7386127875258306,2.7386127875258306,0,1,1,-2.7386127875258306,0A2.7386127875258306,2.7386127875258306,0,1,1,2.7386127875258306,0\" style=\"fill: none; stroke: #f58518; stroke-width: 2; opacity: 0.7;\"></path><path transform=\"translate(114.28571428571428,107.6923076923077)\" d=\"M2.7386127875258306,0A2.7386127875258306,2.7386127875258306,0,1,1,-2.7386127875258306,0A2.7386127875258306,2.7386127875258306,0,1,1,2.7386127875258306,0\" style=\"fill: none; stroke: #f58518; stroke-width: 2; opacity: 0.7;\"></path><path transform=\"translate(94.28571428571428,123.07692307692308)\" d=\"M2.7386127875258306,0A2.7386127875258306,2.7386127875258306,0,1,1,-2.7386127875258306,0A2.7386127875258306,2.7386127875258306,0,1,1,2.7386127875258306,0\" style=\"fill: none; stroke: #f58518; stroke-width: 2; opacity: 0.7;\"></path><path transform=\"translate(120,100)\" d=\"M2.7386127875258306,0A2.7386127875258306,2.7386127875258306,0,1,1,-2.7386127875258306,0A2.7386127875258306,2.7386127875258306,0,1,1,2.7386127875258306,0\" style=\"fill: none; stroke: #f58518; stroke-width: 2; opacity: 0.7;\"></path><path transform=\"translate(120,107.6923076923077)\" d=\"M2.7386127875258306,0A2.7386127875258306,2.7386127875258306,0,1,1,-2.7386127875258306,0A2.7386127875258306,2.7386127875258306,0,1,1,2.7386127875258306,0\" style=\"fill: none; stroke: #f58518; stroke-width: 2; opacity: 0.7;\"></path><path transform=\"translate(120,100)\" d=\"M2.7386127875258306,0A2.7386127875258306,2.7386127875258306,0,1,1,-2.7386127875258306,0A2.7386127875258306,2.7386127875258306,0,1,1,2.7386127875258306,0\" style=\"fill: none; stroke: #f58518; stroke-width: 2; opacity: 0.7;\"></path><path transform=\"translate(122.85714285714285,100)\" d=\"M2.7386127875258306,0A2.7386127875258306,2.7386127875258306,0,1,1,-2.7386127875258306,0A2.7386127875258306,2.7386127875258306,0,1,1,2.7386127875258306,0\" style=\"fill: none; stroke: #f58518; stroke-width: 2; opacity: 0.7;\"></path><path transform=\"translate(85.71428571428571,115.38461538461539)\" d=\"M2.7386127875258306,0A2.7386127875258306,2.7386127875258306,0,1,1,-2.7386127875258306,0A2.7386127875258306,2.7386127875258306,0,1,1,2.7386127875258306,0\" style=\"fill: none; stroke: #f58518; stroke-width: 2; opacity: 0.7;\"></path><path transform=\"translate(117.14285714285712,100)\" d=\"M2.7386127875258306,0A2.7386127875258306,2.7386127875258306,0,1,1,-2.7386127875258306,0A2.7386127875258306,2.7386127875258306,0,1,1,2.7386127875258306,0\" style=\"fill: none; stroke: #f58518; stroke-width: 2; opacity: 0.7;\"></path><path transform=\"translate(171.42857142857142,7.692307692307708)\" d=\"M2.7386127875258306,0A2.7386127875258306,2.7386127875258306,0,1,1,-2.7386127875258306,0A2.7386127875258306,2.7386127875258306,0,1,1,2.7386127875258306,0\" style=\"fill: none; stroke: #e45756; stroke-width: 2; opacity: 0.7;\"></path><path transform=\"translate(145.7142857142857,53.84615384615387)\" d=\"M2.7386127875258306,0A2.7386127875258306,2.7386127875258306,0,1,1,-2.7386127875258306,0A2.7386127875258306,2.7386127875258306,0,1,1,2.7386127875258306,0\" style=\"fill: none; stroke: #e45756; stroke-width: 2; opacity: 0.7;\"></path><path transform=\"translate(168.57142857142858,38.46153846153845)\" d=\"M2.7386127875258306,0A2.7386127875258306,2.7386127875258306,0,1,1,-2.7386127875258306,0A2.7386127875258306,2.7386127875258306,0,1,1,2.7386127875258306,0\" style=\"fill: none; stroke: #e45756; stroke-width: 2; opacity: 0.7;\"></path><path transform=\"translate(160,61.53846153846155)\" d=\"M2.7386127875258306,0A2.7386127875258306,2.7386127875258306,0,1,1,-2.7386127875258306,0A2.7386127875258306,2.7386127875258306,0,1,1,2.7386127875258306,0\" style=\"fill: none; stroke: #e45756; stroke-width: 2; opacity: 0.7;\"></path><path transform=\"translate(165.7142857142857,30.769230769230774)\" d=\"M2.7386127875258306,0A2.7386127875258306,2.7386127875258306,0,1,1,-2.7386127875258306,0A2.7386127875258306,2.7386127875258306,0,1,1,2.7386127875258306,0\" style=\"fill: none; stroke: #e45756; stroke-width: 2; opacity: 0.7;\"></path><path transform=\"translate(188.57142857142856,38.46153846153845)\" d=\"M2.7386127875258306,0A2.7386127875258306,2.7386127875258306,0,1,1,-2.7386127875258306,0A2.7386127875258306,2.7386127875258306,0,1,1,2.7386127875258306,0\" style=\"fill: none; stroke: #e45756; stroke-width: 2; opacity: 0.7;\"></path><path transform=\"translate(128.57142857142858,69.23076923076923)\" d=\"M2.7386127875258306,0A2.7386127875258306,2.7386127875258306,0,1,1,-2.7386127875258306,0A2.7386127875258306,2.7386127875258306,0,1,1,2.7386127875258306,0\" style=\"fill: none; stroke: #e45756; stroke-width: 2; opacity: 0.7;\"></path><path transform=\"translate(180,61.53846153846155)\" d=\"M2.7386127875258306,0A2.7386127875258306,2.7386127875258306,0,1,1,-2.7386127875258306,0A2.7386127875258306,2.7386127875258306,0,1,1,2.7386127875258306,0\" style=\"fill: none; stroke: #e45756; stroke-width: 2; opacity: 0.7;\"></path><path transform=\"translate(165.7142857142857,61.53846153846155)\" d=\"M2.7386127875258306,0A2.7386127875258306,2.7386127875258306,0,1,1,-2.7386127875258306,0A2.7386127875258306,2.7386127875258306,0,1,1,2.7386127875258306,0\" style=\"fill: none; stroke: #e45756; stroke-width: 2; opacity: 0.7;\"></path><path transform=\"translate(174.28571428571428,7.692307692307708)\" d=\"M2.7386127875258306,0A2.7386127875258306,2.7386127875258306,0,1,1,-2.7386127875258306,0A2.7386127875258306,2.7386127875258306,0,1,1,2.7386127875258306,0\" style=\"fill: none; stroke: #e45756; stroke-width: 2; opacity: 0.7;\"></path><path transform=\"translate(145.7142857142857,46.15384615384616)\" d=\"M2.7386127875258306,0A2.7386127875258306,2.7386127875258306,0,1,1,-2.7386127875258306,0A2.7386127875258306,2.7386127875258306,0,1,1,2.7386127875258306,0\" style=\"fill: none; stroke: #e45756; stroke-width: 2; opacity: 0.7;\"></path><path transform=\"translate(151.42857142857142,53.84615384615387)\" d=\"M2.7386127875258306,0A2.7386127875258306,2.7386127875258306,0,1,1,-2.7386127875258306,0A2.7386127875258306,2.7386127875258306,0,1,1,2.7386127875258306,0\" style=\"fill: none; stroke: #e45756; stroke-width: 2; opacity: 0.7;\"></path><path transform=\"translate(157.14285714285714,38.46153846153845)\" d=\"M2.7386127875258306,0A2.7386127875258306,2.7386127875258306,0,1,1,-2.7386127875258306,0A2.7386127875258306,2.7386127875258306,0,1,1,2.7386127875258306,0\" style=\"fill: none; stroke: #e45756; stroke-width: 2; opacity: 0.7;\"></path><path transform=\"translate(142.85714285714286,46.15384615384616)\" d=\"M2.7386127875258306,0A2.7386127875258306,2.7386127875258306,0,1,1,-2.7386127875258306,0A2.7386127875258306,2.7386127875258306,0,1,1,2.7386127875258306,0\" style=\"fill: none; stroke: #e45756; stroke-width: 2; opacity: 0.7;\"></path><path transform=\"translate(145.7142857142857,15.384615384615387)\" d=\"M2.7386127875258306,0A2.7386127875258306,2.7386127875258306,0,1,1,-2.7386127875258306,0A2.7386127875258306,2.7386127875258306,0,1,1,2.7386127875258306,0\" style=\"fill: none; stroke: #e45756; stroke-width: 2; opacity: 0.7;\"></path><path transform=\"translate(151.42857142857142,23.076923076923094)\" d=\"M2.7386127875258306,0A2.7386127875258306,2.7386127875258306,0,1,1,-2.7386127875258306,0A2.7386127875258306,2.7386127875258306,0,1,1,2.7386127875258306,0\" style=\"fill: none; stroke: #e45756; stroke-width: 2; opacity: 0.7;\"></path><path transform=\"translate(157.14285714285714,61.53846153846155)\" d=\"M2.7386127875258306,0A2.7386127875258306,2.7386127875258306,0,1,1,-2.7386127875258306,0A2.7386127875258306,2.7386127875258306,0,1,1,2.7386127875258306,0\" style=\"fill: none; stroke: #e45756; stroke-width: 2; opacity: 0.7;\"></path><path transform=\"translate(191.42857142857144,30.769230769230774)\" d=\"M2.7386127875258306,0A2.7386127875258306,2.7386127875258306,0,1,1,-2.7386127875258306,0A2.7386127875258306,2.7386127875258306,0,1,1,2.7386127875258306,0\" style=\"fill: none; stroke: #e45756; stroke-width: 2; opacity: 0.7;\"></path><path transform=\"translate(197.14285714285717,23.076923076923094)\" d=\"M2.7386127875258306,0A2.7386127875258306,2.7386127875258306,0,1,1,-2.7386127875258306,0A2.7386127875258306,2.7386127875258306,0,1,1,2.7386127875258306,0\" style=\"fill: none; stroke: #e45756; stroke-width: 2; opacity: 0.7;\"></path><path transform=\"translate(142.85714285714286,84.61538461538463)\" d=\"M2.7386127875258306,0A2.7386127875258306,2.7386127875258306,0,1,1,-2.7386127875258306,0A2.7386127875258306,2.7386127875258306,0,1,1,2.7386127875258306,0\" style=\"fill: none; stroke: #e45756; stroke-width: 2; opacity: 0.7;\"></path><path transform=\"translate(162.85714285714286,23.076923076923094)\" d=\"M2.7386127875258306,0A2.7386127875258306,2.7386127875258306,0,1,1,-2.7386127875258306,0A2.7386127875258306,2.7386127875258306,0,1,1,2.7386127875258306,0\" style=\"fill: none; stroke: #e45756; stroke-width: 2; opacity: 0.7;\"></path><path transform=\"translate(140,46.15384615384616)\" d=\"M2.7386127875258306,0A2.7386127875258306,2.7386127875258306,0,1,1,-2.7386127875258306,0A2.7386127875258306,2.7386127875258306,0,1,1,2.7386127875258306,0\" style=\"fill: none; stroke: #e45756; stroke-width: 2; opacity: 0.7;\"></path><path transform=\"translate(191.42857142857144,46.15384615384616)\" d=\"M2.7386127875258306,0A2.7386127875258306,2.7386127875258306,0,1,1,-2.7386127875258306,0A2.7386127875258306,2.7386127875258306,0,1,1,2.7386127875258306,0\" style=\"fill: none; stroke: #e45756; stroke-width: 2; opacity: 0.7;\"></path><path transform=\"translate(140,61.53846153846155)\" d=\"M2.7386127875258306,0A2.7386127875258306,2.7386127875258306,0,1,1,-2.7386127875258306,0A2.7386127875258306,2.7386127875258306,0,1,1,2.7386127875258306,0\" style=\"fill: none; stroke: #e45756; stroke-width: 2; opacity: 0.7;\"></path><path transform=\"translate(162.85714285714286,38.46153846153845)\" d=\"M2.7386127875258306,0A2.7386127875258306,2.7386127875258306,0,1,1,-2.7386127875258306,0A2.7386127875258306,2.7386127875258306,0,1,1,2.7386127875258306,0\" style=\"fill: none; stroke: #e45756; stroke-width: 2; opacity: 0.7;\"></path><path transform=\"translate(171.42857142857142,61.53846153846155)\" d=\"M2.7386127875258306,0A2.7386127875258306,2.7386127875258306,0,1,1,-2.7386127875258306,0A2.7386127875258306,2.7386127875258306,0,1,1,2.7386127875258306,0\" style=\"fill: none; stroke: #e45756; stroke-width: 2; opacity: 0.7;\"></path><path transform=\"translate(137.14285714285714,61.53846153846155)\" d=\"M2.7386127875258306,0A2.7386127875258306,2.7386127875258306,0,1,1,-2.7386127875258306,0A2.7386127875258306,2.7386127875258306,0,1,1,2.7386127875258306,0\" style=\"fill: none; stroke: #e45756; stroke-width: 2; opacity: 0.7;\"></path><path transform=\"translate(140,61.53846153846155)\" d=\"M2.7386127875258306,0A2.7386127875258306,2.7386127875258306,0,1,1,-2.7386127875258306,0A2.7386127875258306,2.7386127875258306,0,1,1,2.7386127875258306,0\" style=\"fill: none; stroke: #e45756; stroke-width: 2; opacity: 0.7;\"></path><path transform=\"translate(160,38.46153846153845)\" d=\"M2.7386127875258306,0A2.7386127875258306,2.7386127875258306,0,1,1,-2.7386127875258306,0A2.7386127875258306,2.7386127875258306,0,1,1,2.7386127875258306,0\" style=\"fill: none; stroke: #e45756; stroke-width: 2; opacity: 0.7;\"></path><path transform=\"translate(165.7142857142857,76.92307692307692)\" d=\"M2.7386127875258306,0A2.7386127875258306,2.7386127875258306,0,1,1,-2.7386127875258306,0A2.7386127875258306,2.7386127875258306,0,1,1,2.7386127875258306,0\" style=\"fill: none; stroke: #e45756; stroke-width: 2; opacity: 0.7;\"></path><path transform=\"translate(174.28571428571428,53.84615384615387)\" d=\"M2.7386127875258306,0A2.7386127875258306,2.7386127875258306,0,1,1,-2.7386127875258306,0A2.7386127875258306,2.7386127875258306,0,1,1,2.7386127875258306,0\" style=\"fill: none; stroke: #e45756; stroke-width: 2; opacity: 0.7;\"></path><path transform=\"translate(182.85714285714286,46.15384615384616)\" d=\"M2.7386127875258306,0A2.7386127875258306,2.7386127875258306,0,1,1,-2.7386127875258306,0A2.7386127875258306,2.7386127875258306,0,1,1,2.7386127875258306,0\" style=\"fill: none; stroke: #e45756; stroke-width: 2; opacity: 0.7;\"></path><path transform=\"translate(160,30.769230769230774)\" d=\"M2.7386127875258306,0A2.7386127875258306,2.7386127875258306,0,1,1,-2.7386127875258306,0A2.7386127875258306,2.7386127875258306,0,1,1,2.7386127875258306,0\" style=\"fill: none; stroke: #e45756; stroke-width: 2; opacity: 0.7;\"></path><path transform=\"translate(145.7142857142857,84.61538461538463)\" d=\"M2.7386127875258306,0A2.7386127875258306,2.7386127875258306,0,1,1,-2.7386127875258306,0A2.7386127875258306,2.7386127875258306,0,1,1,2.7386127875258306,0\" style=\"fill: none; stroke: #e45756; stroke-width: 2; opacity: 0.7;\"></path><path transform=\"translate(160,92.3076923076923)\" d=\"M2.7386127875258306,0A2.7386127875258306,2.7386127875258306,0,1,1,-2.7386127875258306,0A2.7386127875258306,2.7386127875258306,0,1,1,2.7386127875258306,0\" style=\"fill: none; stroke: #e45756; stroke-width: 2; opacity: 0.7;\"></path><path transform=\"translate(174.28571428571428,23.076923076923094)\" d=\"M2.7386127875258306,0A2.7386127875258306,2.7386127875258306,0,1,1,-2.7386127875258306,0A2.7386127875258306,2.7386127875258306,0,1,1,2.7386127875258306,0\" style=\"fill: none; stroke: #e45756; stroke-width: 2; opacity: 0.7;\"></path><path transform=\"translate(160,15.384615384615387)\" d=\"M2.7386127875258306,0A2.7386127875258306,2.7386127875258306,0,1,1,-2.7386127875258306,0A2.7386127875258306,2.7386127875258306,0,1,1,2.7386127875258306,0\" style=\"fill: none; stroke: #e45756; stroke-width: 2; opacity: 0.7;\"></path><path transform=\"translate(157.14285714285714,61.53846153846155)\" d=\"M2.7386127875258306,0A2.7386127875258306,2.7386127875258306,0,1,1,-2.7386127875258306,0A2.7386127875258306,2.7386127875258306,0,1,1,2.7386127875258306,0\" style=\"fill: none; stroke: #e45756; stroke-width: 2; opacity: 0.7;\"></path><path transform=\"translate(137.14285714285714,61.53846153846155)\" d=\"M2.7386127875258306,0A2.7386127875258306,2.7386127875258306,0,1,1,-2.7386127875258306,0A2.7386127875258306,2.7386127875258306,0,1,1,2.7386127875258306,0\" style=\"fill: none; stroke: #e45756; stroke-width: 2; opacity: 0.7;\"></path><path transform=\"translate(154.2857142857143,38.46153846153845)\" d=\"M2.7386127875258306,0A2.7386127875258306,2.7386127875258306,0,1,1,-2.7386127875258306,0A2.7386127875258306,2.7386127875258306,0,1,1,2.7386127875258306,0\" style=\"fill: none; stroke: #e45756; stroke-width: 2; opacity: 0.7;\"></path><path transform=\"translate(160,15.384615384615387)\" d=\"M2.7386127875258306,0A2.7386127875258306,2.7386127875258306,0,1,1,-2.7386127875258306,0A2.7386127875258306,2.7386127875258306,0,1,1,2.7386127875258306,0\" style=\"fill: none; stroke: #e45756; stroke-width: 2; opacity: 0.7;\"></path><path transform=\"translate(145.7142857142857,23.076923076923094)\" d=\"M2.7386127875258306,0A2.7386127875258306,2.7386127875258306,0,1,1,-2.7386127875258306,0A2.7386127875258306,2.7386127875258306,0,1,1,2.7386127875258306,0\" style=\"fill: none; stroke: #e45756; stroke-width: 2; opacity: 0.7;\"></path><path transform=\"translate(145.7142857142857,53.84615384615387)\" d=\"M2.7386127875258306,0A2.7386127875258306,2.7386127875258306,0,1,1,-2.7386127875258306,0A2.7386127875258306,2.7386127875258306,0,1,1,2.7386127875258306,0\" style=\"fill: none; stroke: #e45756; stroke-width: 2; opacity: 0.7;\"></path><path transform=\"translate(168.57142857142858,23.076923076923094)\" d=\"M2.7386127875258306,0A2.7386127875258306,2.7386127875258306,0,1,1,-2.7386127875258306,0A2.7386127875258306,2.7386127875258306,0,1,1,2.7386127875258306,0\" style=\"fill: none; stroke: #e45756; stroke-width: 2; opacity: 0.7;\"></path><path transform=\"translate(162.85714285714286,7.692307692307708)\" d=\"M2.7386127875258306,0A2.7386127875258306,2.7386127875258306,0,1,1,-2.7386127875258306,0A2.7386127875258306,2.7386127875258306,0,1,1,2.7386127875258306,0\" style=\"fill: none; stroke: #e45756; stroke-width: 2; opacity: 0.7;\"></path><path transform=\"translate(148.57142857142858,23.076923076923094)\" d=\"M2.7386127875258306,0A2.7386127875258306,2.7386127875258306,0,1,1,-2.7386127875258306,0A2.7386127875258306,2.7386127875258306,0,1,1,2.7386127875258306,0\" style=\"fill: none; stroke: #e45756; stroke-width: 2; opacity: 0.7;\"></path><path transform=\"translate(142.85714285714286,53.84615384615387)\" d=\"M2.7386127875258306,0A2.7386127875258306,2.7386127875258306,0,1,1,-2.7386127875258306,0A2.7386127875258306,2.7386127875258306,0,1,1,2.7386127875258306,0\" style=\"fill: none; stroke: #e45756; stroke-width: 2; opacity: 0.7;\"></path><path transform=\"translate(148.57142857142858,46.15384615384616)\" d=\"M2.7386127875258306,0A2.7386127875258306,2.7386127875258306,0,1,1,-2.7386127875258306,0A2.7386127875258306,2.7386127875258306,0,1,1,2.7386127875258306,0\" style=\"fill: none; stroke: #e45756; stroke-width: 2; opacity: 0.7;\"></path><path transform=\"translate(154.2857142857143,23.076923076923094)\" d=\"M2.7386127875258306,0A2.7386127875258306,2.7386127875258306,0,1,1,-2.7386127875258306,0A2.7386127875258306,2.7386127875258306,0,1,1,2.7386127875258306,0\" style=\"fill: none; stroke: #e45756; stroke-width: 2; opacity: 0.7;\"></path><path transform=\"translate(145.7142857142857,61.53846153846155)\" d=\"M2.7386127875258306,0A2.7386127875258306,2.7386127875258306,0,1,1,-2.7386127875258306,0A2.7386127875258306,2.7386127875258306,0,1,1,2.7386127875258306,0\" style=\"fill: none; stroke: #e45756; stroke-width: 2; opacity: 0.7;\"></path></g><g class=\"mark-group role-legend\"><g transform=\"translate(218,0)\"><path class=\"background\" d=\"M0,0h97v61h-97Z\" style=\"pointer-events: none; fill: none;\"></path><g><g class=\"mark-group role-legend-entry\"><g transform=\"translate(0,16)\"><path class=\"background\" d=\"M0,0h0v0h0Z\" style=\"pointer-events: none; fill: none;\"></path><g><g class=\"mark-group role-scope\"><g transform=\"translate(0,0)\"><path class=\"background\" d=\"M0,0h97v12.5h-97Z\" style=\"pointer-events: none; fill: none; opacity: 1;\"></path><g><g class=\"mark-symbol role-legend-symbol\" style=\"pointer-events: none;\"><path transform=\"translate(6,6)\" d=\"M5,0A5,5,0,1,1,-5,0A5,5,0,1,1,5,0\" style=\"fill: none; stroke: #4c78a8; stroke-width: 1.5; opacity: 0.7;\"></path></g><g class=\"mark-text role-legend-label\" style=\"pointer-events: none;\"><text text-anchor=\"start\" transform=\"translate(16,9)\" style=\"font-family: sans-serif; font-size: 10px; fill: #000; opacity: 1;\">setosa</text></g></g></g><g transform=\"translate(0,16)\"><path class=\"background\" d=\"M0,0h97v12.5h-97Z\" style=\"pointer-events: none; fill: none; opacity: 1;\"></path><g><g class=\"mark-symbol role-legend-symbol\" style=\"pointer-events: none;\"><path transform=\"translate(6,6)\" d=\"M5,0A5,5,0,1,1,-5,0A5,5,0,1,1,5,0\" style=\"fill: none; stroke: #f58518; stroke-width: 1.5; opacity: 0.7;\"></path></g><g class=\"mark-text role-legend-label\" style=\"pointer-events: none;\"><text text-anchor=\"start\" transform=\"translate(16,9)\" style=\"font-family: sans-serif; font-size: 10px; fill: #000; opacity: 1;\">versicolor</text></g></g></g><g transform=\"translate(0,32)\"><path class=\"background\" d=\"M0,0h97v12.5h-97Z\" style=\"pointer-events: none; fill: none; opacity: 1;\"></path><g><g class=\"mark-symbol role-legend-symbol\" style=\"pointer-events: none;\"><path transform=\"translate(6,6)\" d=\"M5,0A5,5,0,1,1,-5,0A5,5,0,1,1,5,0\" style=\"fill: none; stroke: #e45756; stroke-width: 1.5; opacity: 0.7;\"></path></g><g class=\"mark-text role-legend-label\" style=\"pointer-events: none;\"><text text-anchor=\"start\" transform=\"translate(16,9)\" style=\"font-family: sans-serif; font-size: 10px; fill: #000; opacity: 1;\">virginica</text></g></g></g></g></g></g></g><g class=\"mark-text role-legend-title\" style=\"pointer-events: none;\"><text text-anchor=\"start\" transform=\"translate(0,9)\" style=\"font-family: sans-serif; font-size: 11px; font-weight: bold; fill: #000; opacity: 1;\">species</text></g></g></g></g><g class=\"mark-text role-title\" style=\"pointer-events: none;\"><text text-anchor=\"middle\" transform=\"translate(133,-7)\" style=\"font-family: sans-serif; font-size: 13px; font-weight: bold; fill: #000; opacity: 1;\">Scatterplot of Petal Sizes by Iris Species</text></g><g class=\"mark-group role-axis\"><g transform=\"translate(0.5,200.5)\"><path class=\"background\" d=\"M0,0h0v0h0Z\" style=\"pointer-events: none; fill: none;\"></path><g><g class=\"mark-rule role-axis-tick\" style=\"pointer-events: none;\"><line transform=\"translate(0,0)\" x2=\"0\" y2=\"5\" style=\"fill: none; stroke: #888; stroke-width: 1; opacity: 1;\"></line><line transform=\"translate(29,0)\" x2=\"0\" y2=\"5\" style=\"fill: none; stroke: #888; stroke-width: 1; opacity: 1;\"></line><line transform=\"translate(57,0)\" x2=\"0\" y2=\"5\" style=\"fill: none; stroke: #888; stroke-width: 1; opacity: 1;\"></line><line transform=\"translate(86,0)\" x2=\"0\" y2=\"5\" style=\"fill: none; stroke: #888; stroke-width: 1; opacity: 1;\"></line><line transform=\"translate(114,0)\" x2=\"0\" y2=\"5\" style=\"fill: none; stroke: #888; stroke-width: 1; opacity: 1;\"></line><line transform=\"translate(143,0)\" x2=\"0\" y2=\"5\" style=\"fill: none; stroke: #888; stroke-width: 1; opacity: 1;\"></line><line transform=\"translate(171,0)\" x2=\"0\" y2=\"5\" style=\"fill: none; stroke: #888; stroke-width: 1; opacity: 1;\"></line><line transform=\"translate(200,0)\" x2=\"0\" y2=\"5\" style=\"fill: none; stroke: #888; stroke-width: 1; opacity: 1;\"></line></g><g class=\"mark-text role-axis-label\" style=\"pointer-events: none;\"><text text-anchor=\"start\" transform=\"translate(0,15)\" style=\"font-family: sans-serif; font-size: 10px; fill: #000; opacity: 1;\">0</text><text text-anchor=\"middle\" transform=\"translate(28.57142857142857,15)\" style=\"font-family: sans-serif; font-size: 10px; fill: #000; opacity: 1;\">1</text><text text-anchor=\"middle\" transform=\"translate(57.14285714285714,15)\" style=\"font-family: sans-serif; font-size: 10px; fill: #000; opacity: 1;\">2</text><text text-anchor=\"middle\" transform=\"translate(85.71428571428571,15)\" style=\"font-family: sans-serif; font-size: 10px; fill: #000; opacity: 1;\">3</text><text text-anchor=\"middle\" transform=\"translate(114.28571428571428,15)\" style=\"font-family: sans-serif; font-size: 10px; fill: #000; opacity: 1;\">4</text><text text-anchor=\"middle\" transform=\"translate(142.85714285714286,15)\" style=\"font-family: sans-serif; font-size: 10px; fill: #000; opacity: 1;\">5</text><text text-anchor=\"middle\" transform=\"translate(171.42857142857142,15)\" style=\"font-family: sans-serif; font-size: 10px; fill: #000; opacity: 1;\">6</text><text text-anchor=\"end\" transform=\"translate(200,15)\" style=\"font-family: sans-serif; font-size: 10px; fill: #000; opacity: 1;\">7</text></g><g class=\"mark-rule role-axis-domain\" style=\"pointer-events: none;\"><line transform=\"translate(0,0)\" x2=\"200\" y2=\"0\" style=\"fill: none; stroke: #888; stroke-width: 1; opacity: 1;\"></line></g><g class=\"mark-text role-axis-title\" style=\"pointer-events: none;\"><text text-anchor=\"middle\" transform=\"translate(100,31)\" style=\"font-family: sans-serif; font-size: 11px; font-weight: bold; fill: #000; opacity: 1;\">Petal Length (in cm)</text></g></g></g></g><g class=\"mark-group role-axis\"><g transform=\"translate(0.5,0.5)\"><path class=\"background\" d=\"M0,0h0v0h0Z\" style=\"pointer-events: none; fill: none;\"></path><g><g class=\"mark-rule role-axis-tick\" style=\"pointer-events: none;\"><line transform=\"translate(0,200)\" x2=\"-5\" y2=\"0\" style=\"fill: none; stroke: #888; stroke-width: 1; opacity: 1;\"></line><line transform=\"translate(0,162)\" x2=\"-5\" y2=\"0\" style=\"fill: none; stroke: #888; stroke-width: 1; opacity: 1;\"></line><line transform=\"translate(0,123)\" x2=\"-5\" y2=\"0\" style=\"fill: none; stroke: #888; stroke-width: 1; opacity: 1;\"></line><line transform=\"translate(0,85)\" x2=\"-5\" y2=\"0\" style=\"fill: none; stroke: #888; stroke-width: 1; opacity: 1;\"></line><line transform=\"translate(0,46)\" x2=\"-5\" y2=\"0\" style=\"fill: none; stroke: #888; stroke-width: 1; opacity: 1;\"></line><line transform=\"translate(0,8)\" x2=\"-5\" y2=\"0\" style=\"fill: none; stroke: #888; stroke-width: 1; opacity: 1;\"></line></g><g class=\"mark-text role-axis-label\" style=\"pointer-events: none;\"><text text-anchor=\"end\" transform=\"translate(-7,203)\" style=\"font-family: sans-serif; font-size: 10px; fill: #000; opacity: 1;\">0.0</text><text text-anchor=\"end\" transform=\"translate(-7,164.53846153846155)\" style=\"font-family: sans-serif; font-size: 10px; fill: #000; opacity: 1;\">0.5</text><text text-anchor=\"end\" transform=\"translate(-7,126.07692307692308)\" style=\"font-family: sans-serif; font-size: 10px; fill: #000; opacity: 1;\">1.0</text><text text-anchor=\"end\" transform=\"translate(-7,87.61538461538463)\" style=\"font-family: sans-serif; font-size: 10px; fill: #000; opacity: 1;\">1.5</text><text text-anchor=\"end\" transform=\"translate(-7,49.15384615384616)\" style=\"font-family: sans-serif; font-size: 10px; fill: #000; opacity: 1;\">2.0</text><text text-anchor=\"end\" transform=\"translate(-7,10.692307692307708)\" style=\"font-family: sans-serif; font-size: 10px; fill: #000; opacity: 1;\">2.5</text></g><g class=\"mark-rule role-axis-domain\" style=\"pointer-events: none;\"><line transform=\"translate(0,200)\" x2=\"0\" y2=\"-200\" style=\"fill: none; stroke: #888; stroke-width: 1; opacity: 1;\"></line></g><g class=\"mark-text role-axis-title\" style=\"pointer-events: none;\"><text text-anchor=\"middle\" transform=\"translate(-36,100) rotate(-90) translate(0,-2)\" style=\"font-family: sans-serif; font-size: 11px; font-weight: bold; fill: #000; opacity: 1;\">Petal Width (in cm)</text></g></g></g></g></g></g></g></g></svg>"
      ],
      "text/plain": [
       "VegaLite.VLSpec{:plot}"
      ]
     },
     "execution_count": 10,
     "metadata": {},
     "output_type": "execute_result"
    }
   ],
   "source": [
    "iris |>\n",
    "@vlplot(:point,title= \"Scatterplot of Petal Sizes by Iris Species\", x={:petalLength, axis={title=\"Petal Length (in cm)\"}}, y={:petalWidth, axis={title=\"Petal Width (in cm)\"}}, color = \"species\")"
   ]
  },
  {
   "cell_type": "markdown",
   "metadata": {},
   "source": [
    "After we created our final Scatterplot with new axis labels and a title we wan't to save this graph for further use. This is achieved by piping this plot to the save function. "
   ]
  },
  {
   "cell_type": "code",
   "execution_count": 11,
   "metadata": {},
   "outputs": [],
   "source": [
    "iris |>\n",
    "@vlplot(:point,title= \"Scatterplot of Petal Sizes by Iris Species\", x={:petalLength, axis={title=\"Petal Length (in cm)\"}}, y={:petalWidth, axis={title=\"Petal Width (in cm)\"}}, color = \"species\") |>\n",
    "save(\"PetalScatterplot.png\")"
   ]
  },
  {
   "cell_type": "markdown",
   "metadata": {},
   "source": [
    "As an alternative to plotting the three species in different colors within the same plot it is also an option to plot them in 3 seperate plots side by side. To do this we replace the color keyword with the column keyword."
   ]
  },
  {
   "cell_type": "code",
   "execution_count": 12,
   "metadata": {},
   "outputs": [
    {
     "data": {
      "application/vnd.vegalite.v2+json": {
       "data": {
        "values": [
         {
          "petalLength": 1.4,
          "petalWidth": 0.2,
          "sepalLength": 5.1,
          "sepalWidth": 3.5,
          "species": "setosa"
         },
         {
          "petalLength": 1.4,
          "petalWidth": 0.2,
          "sepalLength": 4.9,
          "sepalWidth": 3,
          "species": "setosa"
         },
         {
          "petalLength": 1.3,
          "petalWidth": 0.2,
          "sepalLength": 4.7,
          "sepalWidth": 3.2,
          "species": "setosa"
         },
         {
          "petalLength": 1.5,
          "petalWidth": 0.2,
          "sepalLength": 4.6,
          "sepalWidth": 3.1,
          "species": "setosa"
         },
         {
          "petalLength": 1.4,
          "petalWidth": 0.2,
          "sepalLength": 5,
          "sepalWidth": 3.6,
          "species": "setosa"
         },
         {
          "petalLength": 1.7,
          "petalWidth": 0.4,
          "sepalLength": 5.4,
          "sepalWidth": 3.9,
          "species": "setosa"
         },
         {
          "petalLength": 1.4,
          "petalWidth": 0.3,
          "sepalLength": 4.6,
          "sepalWidth": 3.4,
          "species": "setosa"
         },
         {
          "petalLength": 1.5,
          "petalWidth": 0.2,
          "sepalLength": 5,
          "sepalWidth": 3.4,
          "species": "setosa"
         },
         {
          "petalLength": 1.4,
          "petalWidth": 0.2,
          "sepalLength": 4.4,
          "sepalWidth": 2.9,
          "species": "setosa"
         },
         {
          "petalLength": 1.5,
          "petalWidth": 0.1,
          "sepalLength": 4.9,
          "sepalWidth": 3.1,
          "species": "setosa"
         },
         {
          "petalLength": 1.5,
          "petalWidth": 0.2,
          "sepalLength": 5.4,
          "sepalWidth": 3.7,
          "species": "setosa"
         },
         {
          "petalLength": 1.6,
          "petalWidth": 0.2,
          "sepalLength": 4.8,
          "sepalWidth": 3.4,
          "species": "setosa"
         },
         {
          "petalLength": 1.4,
          "petalWidth": 0.1,
          "sepalLength": 4.8,
          "sepalWidth": 3,
          "species": "setosa"
         },
         {
          "petalLength": 1.1,
          "petalWidth": 0.1,
          "sepalLength": 4.3,
          "sepalWidth": 3,
          "species": "setosa"
         },
         {
          "petalLength": 1.2,
          "petalWidth": 0.2,
          "sepalLength": 5.8,
          "sepalWidth": 4,
          "species": "setosa"
         },
         {
          "petalLength": 1.5,
          "petalWidth": 0.4,
          "sepalLength": 5.7,
          "sepalWidth": 4.4,
          "species": "setosa"
         },
         {
          "petalLength": 1.3,
          "petalWidth": 0.4,
          "sepalLength": 5.4,
          "sepalWidth": 3.9,
          "species": "setosa"
         },
         {
          "petalLength": 1.4,
          "petalWidth": 0.3,
          "sepalLength": 5.1,
          "sepalWidth": 3.5,
          "species": "setosa"
         },
         {
          "petalLength": 1.7,
          "petalWidth": 0.3,
          "sepalLength": 5.7,
          "sepalWidth": 3.8,
          "species": "setosa"
         },
         {
          "petalLength": 1.5,
          "petalWidth": 0.3,
          "sepalLength": 5.1,
          "sepalWidth": 3.8,
          "species": "setosa"
         },
         {
          "petalLength": 1.7,
          "petalWidth": 0.2,
          "sepalLength": 5.4,
          "sepalWidth": 3.4,
          "species": "setosa"
         },
         {
          "petalLength": 1.5,
          "petalWidth": 0.4,
          "sepalLength": 5.1,
          "sepalWidth": 3.7,
          "species": "setosa"
         },
         {
          "petalLength": 1,
          "petalWidth": 0.2,
          "sepalLength": 4.6,
          "sepalWidth": 3.6,
          "species": "setosa"
         },
         {
          "petalLength": 1.7,
          "petalWidth": 0.5,
          "sepalLength": 5.1,
          "sepalWidth": 3.3,
          "species": "setosa"
         },
         {
          "petalLength": 1.9,
          "petalWidth": 0.2,
          "sepalLength": 4.8,
          "sepalWidth": 3.4,
          "species": "setosa"
         },
         {
          "petalLength": 1.6,
          "petalWidth": 0.2,
          "sepalLength": 5,
          "sepalWidth": 3,
          "species": "setosa"
         },
         {
          "petalLength": 1.6,
          "petalWidth": 0.4,
          "sepalLength": 5,
          "sepalWidth": 3.4,
          "species": "setosa"
         },
         {
          "petalLength": 1.5,
          "petalWidth": 0.2,
          "sepalLength": 5.2,
          "sepalWidth": 3.5,
          "species": "setosa"
         },
         {
          "petalLength": 1.4,
          "petalWidth": 0.2,
          "sepalLength": 5.2,
          "sepalWidth": 3.4,
          "species": "setosa"
         },
         {
          "petalLength": 1.6,
          "petalWidth": 0.2,
          "sepalLength": 4.7,
          "sepalWidth": 3.2,
          "species": "setosa"
         },
         {
          "petalLength": 1.6,
          "petalWidth": 0.2,
          "sepalLength": 4.8,
          "sepalWidth": 3.1,
          "species": "setosa"
         },
         {
          "petalLength": 1.5,
          "petalWidth": 0.4,
          "sepalLength": 5.4,
          "sepalWidth": 3.4,
          "species": "setosa"
         },
         {
          "petalLength": 1.5,
          "petalWidth": 0.1,
          "sepalLength": 5.2,
          "sepalWidth": 4.1,
          "species": "setosa"
         },
         {
          "petalLength": 1.4,
          "petalWidth": 0.2,
          "sepalLength": 5.5,
          "sepalWidth": 4.2,
          "species": "setosa"
         },
         {
          "petalLength": 1.5,
          "petalWidth": 0.2,
          "sepalLength": 4.9,
          "sepalWidth": 3.1,
          "species": "setosa"
         },
         {
          "petalLength": 1.2,
          "petalWidth": 0.2,
          "sepalLength": 5,
          "sepalWidth": 3.2,
          "species": "setosa"
         },
         {
          "petalLength": 1.3,
          "petalWidth": 0.2,
          "sepalLength": 5.5,
          "sepalWidth": 3.5,
          "species": "setosa"
         },
         {
          "petalLength": 1.4,
          "petalWidth": 0.1,
          "sepalLength": 4.9,
          "sepalWidth": 3.6,
          "species": "setosa"
         },
         {
          "petalLength": 1.3,
          "petalWidth": 0.2,
          "sepalLength": 4.4,
          "sepalWidth": 3,
          "species": "setosa"
         },
         {
          "petalLength": 1.5,
          "petalWidth": 0.2,
          "sepalLength": 5.1,
          "sepalWidth": 3.4,
          "species": "setosa"
         },
         {
          "petalLength": 1.3,
          "petalWidth": 0.3,
          "sepalLength": 5,
          "sepalWidth": 3.5,
          "species": "setosa"
         },
         {
          "petalLength": 1.3,
          "petalWidth": 0.3,
          "sepalLength": 4.5,
          "sepalWidth": 2.3,
          "species": "setosa"
         },
         {
          "petalLength": 1.3,
          "petalWidth": 0.2,
          "sepalLength": 4.4,
          "sepalWidth": 3.2,
          "species": "setosa"
         },
         {
          "petalLength": 1.6,
          "petalWidth": 0.6,
          "sepalLength": 5,
          "sepalWidth": 3.5,
          "species": "setosa"
         },
         {
          "petalLength": 1.9,
          "petalWidth": 0.4,
          "sepalLength": 5.1,
          "sepalWidth": 3.8,
          "species": "setosa"
         },
         {
          "petalLength": 1.4,
          "petalWidth": 0.3,
          "sepalLength": 4.8,
          "sepalWidth": 3,
          "species": "setosa"
         },
         {
          "petalLength": 1.6,
          "petalWidth": 0.2,
          "sepalLength": 5.1,
          "sepalWidth": 3.8,
          "species": "setosa"
         },
         {
          "petalLength": 1.4,
          "petalWidth": 0.2,
          "sepalLength": 4.6,
          "sepalWidth": 3.2,
          "species": "setosa"
         },
         {
          "petalLength": 1.5,
          "petalWidth": 0.2,
          "sepalLength": 5.3,
          "sepalWidth": 3.7,
          "species": "setosa"
         },
         {
          "petalLength": 1.4,
          "petalWidth": 0.2,
          "sepalLength": 5,
          "sepalWidth": 3.3,
          "species": "setosa"
         },
         {
          "petalLength": 4.7,
          "petalWidth": 1.4,
          "sepalLength": 7,
          "sepalWidth": 3.2,
          "species": "versicolor"
         },
         {
          "petalLength": 4.5,
          "petalWidth": 1.5,
          "sepalLength": 6.4,
          "sepalWidth": 3.2,
          "species": "versicolor"
         },
         {
          "petalLength": 4.9,
          "petalWidth": 1.5,
          "sepalLength": 6.9,
          "sepalWidth": 3.1,
          "species": "versicolor"
         },
         {
          "petalLength": 4,
          "petalWidth": 1.3,
          "sepalLength": 5.5,
          "sepalWidth": 2.3,
          "species": "versicolor"
         },
         {
          "petalLength": 4.6,
          "petalWidth": 1.5,
          "sepalLength": 6.5,
          "sepalWidth": 2.8,
          "species": "versicolor"
         },
         {
          "petalLength": 4.5,
          "petalWidth": 1.3,
          "sepalLength": 5.7,
          "sepalWidth": 2.8,
          "species": "versicolor"
         },
         {
          "petalLength": 4.7,
          "petalWidth": 1.6,
          "sepalLength": 6.3,
          "sepalWidth": 3.3,
          "species": "versicolor"
         },
         {
          "petalLength": 3.3,
          "petalWidth": 1,
          "sepalLength": 4.9,
          "sepalWidth": 2.4,
          "species": "versicolor"
         },
         {
          "petalLength": 4.6,
          "petalWidth": 1.3,
          "sepalLength": 6.6,
          "sepalWidth": 2.9,
          "species": "versicolor"
         },
         {
          "petalLength": 3.9,
          "petalWidth": 1.4,
          "sepalLength": 5.2,
          "sepalWidth": 2.7,
          "species": "versicolor"
         },
         {
          "petalLength": 3.5,
          "petalWidth": 1,
          "sepalLength": 5,
          "sepalWidth": 2,
          "species": "versicolor"
         },
         {
          "petalLength": 4.2,
          "petalWidth": 1.5,
          "sepalLength": 5.9,
          "sepalWidth": 3,
          "species": "versicolor"
         },
         {
          "petalLength": 4,
          "petalWidth": 1,
          "sepalLength": 6,
          "sepalWidth": 2.2,
          "species": "versicolor"
         },
         {
          "petalLength": 4.7,
          "petalWidth": 1.4,
          "sepalLength": 6.1,
          "sepalWidth": 2.9,
          "species": "versicolor"
         },
         {
          "petalLength": 3.6,
          "petalWidth": 1.3,
          "sepalLength": 5.6,
          "sepalWidth": 2.9,
          "species": "versicolor"
         },
         {
          "petalLength": 4.4,
          "petalWidth": 1.4,
          "sepalLength": 6.7,
          "sepalWidth": 3.1,
          "species": "versicolor"
         },
         {
          "petalLength": 4.5,
          "petalWidth": 1.5,
          "sepalLength": 5.6,
          "sepalWidth": 3,
          "species": "versicolor"
         },
         {
          "petalLength": 4.1,
          "petalWidth": 1,
          "sepalLength": 5.8,
          "sepalWidth": 2.7,
          "species": "versicolor"
         },
         {
          "petalLength": 4.5,
          "petalWidth": 1.5,
          "sepalLength": 6.2,
          "sepalWidth": 2.2,
          "species": "versicolor"
         },
         {
          "petalLength": 3.9,
          "petalWidth": 1.1,
          "sepalLength": 5.6,
          "sepalWidth": 2.5,
          "species": "versicolor"
         },
         {
          "petalLength": 4.8,
          "petalWidth": 1.8,
          "sepalLength": 5.9,
          "sepalWidth": 3.2,
          "species": "versicolor"
         },
         {
          "petalLength": 4,
          "petalWidth": 1.3,
          "sepalLength": 6.1,
          "sepalWidth": 2.8,
          "species": "versicolor"
         },
         {
          "petalLength": 4.9,
          "petalWidth": 1.5,
          "sepalLength": 6.3,
          "sepalWidth": 2.5,
          "species": "versicolor"
         },
         {
          "petalLength": 4.7,
          "petalWidth": 1.2,
          "sepalLength": 6.1,
          "sepalWidth": 2.8,
          "species": "versicolor"
         },
         {
          "petalLength": 4.3,
          "petalWidth": 1.3,
          "sepalLength": 6.4,
          "sepalWidth": 2.9,
          "species": "versicolor"
         },
         {
          "petalLength": 4.4,
          "petalWidth": 1.4,
          "sepalLength": 6.6,
          "sepalWidth": 3,
          "species": "versicolor"
         },
         {
          "petalLength": 4.8,
          "petalWidth": 1.4,
          "sepalLength": 6.8,
          "sepalWidth": 2.8,
          "species": "versicolor"
         },
         {
          "petalLength": 5,
          "petalWidth": 1.7,
          "sepalLength": 6.7,
          "sepalWidth": 3,
          "species": "versicolor"
         },
         {
          "petalLength": 4.5,
          "petalWidth": 1.5,
          "sepalLength": 6,
          "sepalWidth": 2.9,
          "species": "versicolor"
         },
         {
          "petalLength": 3.5,
          "petalWidth": 1,
          "sepalLength": 5.7,
          "sepalWidth": 2.6,
          "species": "versicolor"
         },
         {
          "petalLength": 3.8,
          "petalWidth": 1.1,
          "sepalLength": 5.5,
          "sepalWidth": 2.4,
          "species": "versicolor"
         },
         {
          "petalLength": 3.7,
          "petalWidth": 1,
          "sepalLength": 5.5,
          "sepalWidth": 2.4,
          "species": "versicolor"
         },
         {
          "petalLength": 3.9,
          "petalWidth": 1.2,
          "sepalLength": 5.8,
          "sepalWidth": 2.7,
          "species": "versicolor"
         },
         {
          "petalLength": 5.1,
          "petalWidth": 1.6,
          "sepalLength": 6,
          "sepalWidth": 2.7,
          "species": "versicolor"
         },
         {
          "petalLength": 4.5,
          "petalWidth": 1.5,
          "sepalLength": 5.4,
          "sepalWidth": 3,
          "species": "versicolor"
         },
         {
          "petalLength": 4.5,
          "petalWidth": 1.6,
          "sepalLength": 6,
          "sepalWidth": 3.4,
          "species": "versicolor"
         },
         {
          "petalLength": 4.7,
          "petalWidth": 1.5,
          "sepalLength": 6.7,
          "sepalWidth": 3.1,
          "species": "versicolor"
         },
         {
          "petalLength": 4.4,
          "petalWidth": 1.3,
          "sepalLength": 6.3,
          "sepalWidth": 2.3,
          "species": "versicolor"
         },
         {
          "petalLength": 4.1,
          "petalWidth": 1.3,
          "sepalLength": 5.6,
          "sepalWidth": 3,
          "species": "versicolor"
         },
         {
          "petalLength": 4,
          "petalWidth": 1.3,
          "sepalLength": 5.5,
          "sepalWidth": 2.5,
          "species": "versicolor"
         },
         {
          "petalLength": 4.4,
          "petalWidth": 1.2,
          "sepalLength": 5.5,
          "sepalWidth": 2.6,
          "species": "versicolor"
         },
         {
          "petalLength": 4.6,
          "petalWidth": 1.4,
          "sepalLength": 6.1,
          "sepalWidth": 3,
          "species": "versicolor"
         },
         {
          "petalLength": 4,
          "petalWidth": 1.2,
          "sepalLength": 5.8,
          "sepalWidth": 2.6,
          "species": "versicolor"
         },
         {
          "petalLength": 3.3,
          "petalWidth": 1,
          "sepalLength": 5,
          "sepalWidth": 2.3,
          "species": "versicolor"
         },
         {
          "petalLength": 4.2,
          "petalWidth": 1.3,
          "sepalLength": 5.6,
          "sepalWidth": 2.7,
          "species": "versicolor"
         },
         {
          "petalLength": 4.2,
          "petalWidth": 1.2,
          "sepalLength": 5.7,
          "sepalWidth": 3,
          "species": "versicolor"
         },
         {
          "petalLength": 4.2,
          "petalWidth": 1.3,
          "sepalLength": 5.7,
          "sepalWidth": 2.9,
          "species": "versicolor"
         },
         {
          "petalLength": 4.3,
          "petalWidth": 1.3,
          "sepalLength": 6.2,
          "sepalWidth": 2.9,
          "species": "versicolor"
         },
         {
          "petalLength": 3,
          "petalWidth": 1.1,
          "sepalLength": 5.1,
          "sepalWidth": 2.5,
          "species": "versicolor"
         },
         {
          "petalLength": 4.1,
          "petalWidth": 1.3,
          "sepalLength": 5.7,
          "sepalWidth": 2.8,
          "species": "versicolor"
         },
         {
          "petalLength": 6,
          "petalWidth": 2.5,
          "sepalLength": 6.3,
          "sepalWidth": 3.3,
          "species": "virginica"
         },
         {
          "petalLength": 5.1,
          "petalWidth": 1.9,
          "sepalLength": 5.8,
          "sepalWidth": 2.7,
          "species": "virginica"
         },
         {
          "petalLength": 5.9,
          "petalWidth": 2.1,
          "sepalLength": 7.1,
          "sepalWidth": 3,
          "species": "virginica"
         },
         {
          "petalLength": 5.6,
          "petalWidth": 1.8,
          "sepalLength": 6.3,
          "sepalWidth": 2.9,
          "species": "virginica"
         },
         {
          "petalLength": 5.8,
          "petalWidth": 2.2,
          "sepalLength": 6.5,
          "sepalWidth": 3,
          "species": "virginica"
         },
         {
          "petalLength": 6.6,
          "petalWidth": 2.1,
          "sepalLength": 7.6,
          "sepalWidth": 3,
          "species": "virginica"
         },
         {
          "petalLength": 4.5,
          "petalWidth": 1.7,
          "sepalLength": 4.9,
          "sepalWidth": 2.5,
          "species": "virginica"
         },
         {
          "petalLength": 6.3,
          "petalWidth": 1.8,
          "sepalLength": 7.3,
          "sepalWidth": 2.9,
          "species": "virginica"
         },
         {
          "petalLength": 5.8,
          "petalWidth": 1.8,
          "sepalLength": 6.7,
          "sepalWidth": 2.5,
          "species": "virginica"
         },
         {
          "petalLength": 6.1,
          "petalWidth": 2.5,
          "sepalLength": 7.2,
          "sepalWidth": 3.6,
          "species": "virginica"
         },
         {
          "petalLength": 5.1,
          "petalWidth": 2,
          "sepalLength": 6.5,
          "sepalWidth": 3.2,
          "species": "virginica"
         },
         {
          "petalLength": 5.3,
          "petalWidth": 1.9,
          "sepalLength": 6.4,
          "sepalWidth": 2.7,
          "species": "virginica"
         },
         {
          "petalLength": 5.5,
          "petalWidth": 2.1,
          "sepalLength": 6.8,
          "sepalWidth": 3,
          "species": "virginica"
         },
         {
          "petalLength": 5,
          "petalWidth": 2,
          "sepalLength": 5.7,
          "sepalWidth": 2.5,
          "species": "virginica"
         },
         {
          "petalLength": 5.1,
          "petalWidth": 2.4,
          "sepalLength": 5.8,
          "sepalWidth": 2.8,
          "species": "virginica"
         },
         {
          "petalLength": 5.3,
          "petalWidth": 2.3,
          "sepalLength": 6.4,
          "sepalWidth": 3.2,
          "species": "virginica"
         },
         {
          "petalLength": 5.5,
          "petalWidth": 1.8,
          "sepalLength": 6.5,
          "sepalWidth": 3,
          "species": "virginica"
         },
         {
          "petalLength": 6.7,
          "petalWidth": 2.2,
          "sepalLength": 7.7,
          "sepalWidth": 3.8,
          "species": "virginica"
         },
         {
          "petalLength": 6.9,
          "petalWidth": 2.3,
          "sepalLength": 7.7,
          "sepalWidth": 2.6,
          "species": "virginica"
         },
         {
          "petalLength": 5,
          "petalWidth": 1.5,
          "sepalLength": 6,
          "sepalWidth": 2.2,
          "species": "virginica"
         },
         {
          "petalLength": 5.7,
          "petalWidth": 2.3,
          "sepalLength": 6.9,
          "sepalWidth": 3.2,
          "species": "virginica"
         },
         {
          "petalLength": 4.9,
          "petalWidth": 2,
          "sepalLength": 5.6,
          "sepalWidth": 2.8,
          "species": "virginica"
         },
         {
          "petalLength": 6.7,
          "petalWidth": 2,
          "sepalLength": 7.7,
          "sepalWidth": 2.8,
          "species": "virginica"
         },
         {
          "petalLength": 4.9,
          "petalWidth": 1.8,
          "sepalLength": 6.3,
          "sepalWidth": 2.7,
          "species": "virginica"
         },
         {
          "petalLength": 5.7,
          "petalWidth": 2.1,
          "sepalLength": 6.7,
          "sepalWidth": 3.3,
          "species": "virginica"
         },
         {
          "petalLength": 6,
          "petalWidth": 1.8,
          "sepalLength": 7.2,
          "sepalWidth": 3.2,
          "species": "virginica"
         },
         {
          "petalLength": 4.8,
          "petalWidth": 1.8,
          "sepalLength": 6.2,
          "sepalWidth": 2.8,
          "species": "virginica"
         },
         {
          "petalLength": 4.9,
          "petalWidth": 1.8,
          "sepalLength": 6.1,
          "sepalWidth": 3,
          "species": "virginica"
         },
         {
          "petalLength": 5.6,
          "petalWidth": 2.1,
          "sepalLength": 6.4,
          "sepalWidth": 2.8,
          "species": "virginica"
         },
         {
          "petalLength": 5.8,
          "petalWidth": 1.6,
          "sepalLength": 7.2,
          "sepalWidth": 3,
          "species": "virginica"
         },
         {
          "petalLength": 6.1,
          "petalWidth": 1.9,
          "sepalLength": 7.4,
          "sepalWidth": 2.8,
          "species": "virginica"
         },
         {
          "petalLength": 6.4,
          "petalWidth": 2,
          "sepalLength": 7.9,
          "sepalWidth": 3.8,
          "species": "virginica"
         },
         {
          "petalLength": 5.6,
          "petalWidth": 2.2,
          "sepalLength": 6.4,
          "sepalWidth": 2.8,
          "species": "virginica"
         },
         {
          "petalLength": 5.1,
          "petalWidth": 1.5,
          "sepalLength": 6.3,
          "sepalWidth": 2.8,
          "species": "virginica"
         },
         {
          "petalLength": 5.6,
          "petalWidth": 1.4,
          "sepalLength": 6.1,
          "sepalWidth": 2.6,
          "species": "virginica"
         },
         {
          "petalLength": 6.1,
          "petalWidth": 2.3,
          "sepalLength": 7.7,
          "sepalWidth": 3,
          "species": "virginica"
         },
         {
          "petalLength": 5.6,
          "petalWidth": 2.4,
          "sepalLength": 6.3,
          "sepalWidth": 3.4,
          "species": "virginica"
         },
         {
          "petalLength": 5.5,
          "petalWidth": 1.8,
          "sepalLength": 6.4,
          "sepalWidth": 3.1,
          "species": "virginica"
         },
         {
          "petalLength": 4.8,
          "petalWidth": 1.8,
          "sepalLength": 6,
          "sepalWidth": 3,
          "species": "virginica"
         },
         {
          "petalLength": 5.4,
          "petalWidth": 2.1,
          "sepalLength": 6.9,
          "sepalWidth": 3.1,
          "species": "virginica"
         },
         {
          "petalLength": 5.6,
          "petalWidth": 2.4,
          "sepalLength": 6.7,
          "sepalWidth": 3.1,
          "species": "virginica"
         },
         {
          "petalLength": 5.1,
          "petalWidth": 2.3,
          "sepalLength": 6.9,
          "sepalWidth": 3.1,
          "species": "virginica"
         },
         {
          "petalLength": 5.1,
          "petalWidth": 1.9,
          "sepalLength": 5.8,
          "sepalWidth": 2.7,
          "species": "virginica"
         },
         {
          "petalLength": 5.9,
          "petalWidth": 2.3,
          "sepalLength": 6.8,
          "sepalWidth": 3.2,
          "species": "virginica"
         },
         {
          "petalLength": 5.7,
          "petalWidth": 2.5,
          "sepalLength": 6.7,
          "sepalWidth": 3.3,
          "species": "virginica"
         },
         {
          "petalLength": 5.2,
          "petalWidth": 2.3,
          "sepalLength": 6.7,
          "sepalWidth": 3,
          "species": "virginica"
         },
         {
          "petalLength": 5,
          "petalWidth": 1.9,
          "sepalLength": 6.3,
          "sepalWidth": 2.5,
          "species": "virginica"
         },
         {
          "petalLength": 5.2,
          "petalWidth": 2,
          "sepalLength": 6.5,
          "sepalWidth": 3,
          "species": "virginica"
         },
         {
          "petalLength": 5.4,
          "petalWidth": 2.3,
          "sepalLength": 6.2,
          "sepalWidth": 3.4,
          "species": "virginica"
         },
         {
          "petalLength": 5.1,
          "petalWidth": 1.8,
          "sepalLength": 5.9,
          "sepalWidth": 3,
          "species": "virginica"
         }
        ]
       },
       "encoding": {
        "column": {
         "field": "species",
         "type": "nominal"
        },
        "x": {
         "field": "petalLength",
         "type": "quantitative"
        },
        "y": {
         "field": "petalWidth",
         "type": "quantitative"
        }
       },
       "mark": "point"
      },
      "image/png": "[encoded data removed]",
      "image/svg+xml": [
       "<?xml version=\"1.0\" encoding=\"utf-8\"?>\n",
       "<!DOCTYPE svg PUBLIC \"-//W3C//DTD SVG 1.1//EN\" \"http://www.w3.org/Graphics/SVG/1.1/DTD/svg11.dtd\">\n",
       "<svg class=\"marks\" width=\"691\" height=\"300\" viewBox=\"0 0 691 300\" version=\"1.1\" xmlns=\"http://www.w3.org/2000/svg\" xmlns:xlink=\"http://www.w3.org/1999/xlink\"><g transform=\"translate(55,59)\"><g class=\"mark-group role-frame root\"><g transform=\"translate(0,0)\"><path class=\"background\" d=\"M0,0h0v0h0Z\" style=\"fill: none;\"></path><g><g class=\"mark-group role-column-title column-title\"><g transform=\"translate(315,-32)\"><path class=\"background\" d=\"M0,0h0v0h0Z\" style=\"fill: none;\"></path><g><g class=\"mark-text role-title\" style=\"pointer-events: none;\"><text text-anchor=\"middle\" transform=\"translate(0,-12)\" style=\"font-family: sans-serif; font-size: 11px; font-weight: bold; fill: #000; opacity: 1;\">species</text></g></g></g></g><g class=\"mark-group role-row-header row_header\"><g transform=\"translate(-1,0)\"><path class=\"background\" d=\"M0,0h0v200h0Z\" style=\"fill: none;\"></path><g><g class=\"mark-group role-axis\"><g transform=\"translate(0.5,0.5)\"><path class=\"background\" d=\"M0,0h0v0h0Z\" style=\"pointer-events: none; fill: none;\"></path><g><g class=\"mark-rule role-axis-tick\" style=\"pointer-events: none;\"><line transform=\"translate(0,200)\" x2=\"-5\" y2=\"0\" style=\"fill: none; stroke: #888; stroke-width: 1; opacity: 1;\"></line><line transform=\"translate(0,162)\" x2=\"-5\" y2=\"0\" style=\"fill: none; stroke: #888; stroke-width: 1; opacity: 1;\"></line><line transform=\"translate(0,123)\" x2=\"-5\" y2=\"0\" style=\"fill: none; stroke: #888; stroke-width: 1; opacity: 1;\"></line><line transform=\"translate(0,85)\" x2=\"-5\" y2=\"0\" style=\"fill: none; stroke: #888; stroke-width: 1; opacity: 1;\"></line><line transform=\"translate(0,46)\" x2=\"-5\" y2=\"0\" style=\"fill: none; stroke: #888; stroke-width: 1; opacity: 1;\"></line><line transform=\"translate(0,8)\" x2=\"-5\" y2=\"0\" style=\"fill: none; stroke: #888; stroke-width: 1; opacity: 1;\"></line></g><g class=\"mark-text role-axis-label\" style=\"pointer-events: none;\"><text text-anchor=\"end\" transform=\"translate(-7,203)\" style=\"font-family: sans-serif; font-size: 10px; fill: #000; opacity: 1;\">0.0</text><text text-anchor=\"end\" transform=\"translate(-7,164.53846153846155)\" style=\"font-family: sans-serif; font-size: 10px; fill: #000; opacity: 1;\">0.5</text><text text-anchor=\"end\" transform=\"translate(-7,126.07692307692308)\" style=\"font-family: sans-serif; font-size: 10px; fill: #000; opacity: 1;\">1.0</text><text text-anchor=\"end\" transform=\"translate(-7,87.61538461538463)\" style=\"font-family: sans-serif; font-size: 10px; fill: #000; opacity: 1;\">1.5</text><text text-anchor=\"end\" transform=\"translate(-7,49.15384615384616)\" style=\"font-family: sans-serif; font-size: 10px; fill: #000; opacity: 1;\">2.0</text><text text-anchor=\"end\" transform=\"translate(-7,10.692307692307708)\" style=\"font-family: sans-serif; font-size: 10px; fill: #000; opacity: 1;\">2.5</text></g><g class=\"mark-rule role-axis-domain\" style=\"pointer-events: none;\"><line transform=\"translate(0,200)\" x2=\"0\" y2=\"-200\" style=\"fill: none; stroke: #888; stroke-width: 1; opacity: 1;\"></line></g><g class=\"mark-text role-axis-title\" style=\"pointer-events: none;\"><text text-anchor=\"middle\" transform=\"translate(-36,100) rotate(-90) translate(0,-2)\" style=\"font-family: sans-serif; font-size: 11px; font-weight: bold; fill: #000; opacity: 1;\">petalWidth</text></g></g></g></g></g></g></g><g class=\"mark-group role-column-header column_header\"><g transform=\"translate(0,-1)\"><path class=\"background\" d=\"M0,0h200v0h-200Z\" style=\"fill: none;\"></path><g><g class=\"mark-text role-title\" style=\"pointer-events: none;\"><text text-anchor=\"middle\" transform=\"translate(100,-12)\" style=\"font-family: sans-serif; font-size: 10px; fill: #000; opacity: 1;\">setosa</text></g></g></g><g transform=\"translate(214,-1)\"><path class=\"background\" d=\"M0,0h200v0h-200Z\" style=\"fill: none;\"></path><g><g class=\"mark-text role-title\" style=\"pointer-events: none;\"><text text-anchor=\"middle\" transform=\"translate(100,-12)\" style=\"font-family: sans-serif; font-size: 10px; fill: #000; opacity: 1;\">versicolor</text></g></g></g><g transform=\"translate(428,-1)\"><path class=\"background\" d=\"M0,0h200v0h-200Z\" style=\"fill: none;\"></path><g><g class=\"mark-text role-title\" style=\"pointer-events: none;\"><text text-anchor=\"middle\" transform=\"translate(100,-12)\" style=\"font-family: sans-serif; font-size: 10px; fill: #000; opacity: 1;\">virginica</text></g></g></g></g><g class=\"mark-group role-column-footer column_footer\"><g transform=\"translate(0,201)\"><path class=\"background\" d=\"M0,0h200v0h-200Z\" style=\"fill: none;\"></path><g><g class=\"mark-group role-axis\"><g transform=\"translate(0.5,0.5)\"><path class=\"background\" d=\"M0,0h0v0h0Z\" style=\"pointer-events: none; fill: none;\"></path><g><g class=\"mark-rule role-axis-tick\" style=\"pointer-events: none;\"><line transform=\"translate(0,0)\" x2=\"0\" y2=\"5\" style=\"fill: none; stroke: #888; stroke-width: 1; opacity: 1;\"></line><line transform=\"translate(29,0)\" x2=\"0\" y2=\"5\" style=\"fill: none; stroke: #888; stroke-width: 1; opacity: 1;\"></line><line transform=\"translate(57,0)\" x2=\"0\" y2=\"5\" style=\"fill: none; stroke: #888; stroke-width: 1; opacity: 1;\"></line><line transform=\"translate(86,0)\" x2=\"0\" y2=\"5\" style=\"fill: none; stroke: #888; stroke-width: 1; opacity: 1;\"></line><line transform=\"translate(114,0)\" x2=\"0\" y2=\"5\" style=\"fill: none; stroke: #888; stroke-width: 1; opacity: 1;\"></line><line transform=\"translate(143,0)\" x2=\"0\" y2=\"5\" style=\"fill: none; stroke: #888; stroke-width: 1; opacity: 1;\"></line><line transform=\"translate(171,0)\" x2=\"0\" y2=\"5\" style=\"fill: none; stroke: #888; stroke-width: 1; opacity: 1;\"></line><line transform=\"translate(200,0)\" x2=\"0\" y2=\"5\" style=\"fill: none; stroke: #888; stroke-width: 1; opacity: 1;\"></line></g><g class=\"mark-text role-axis-label\" style=\"pointer-events: none;\"><text text-anchor=\"start\" transform=\"translate(0,15)\" style=\"font-family: sans-serif; font-size: 10px; fill: #000; opacity: 1;\">0</text><text text-anchor=\"middle\" transform=\"translate(28.57142857142857,15)\" style=\"font-family: sans-serif; font-size: 10px; fill: #000; opacity: 1;\">1</text><text text-anchor=\"middle\" transform=\"translate(57.14285714285714,15)\" style=\"font-family: sans-serif; font-size: 10px; fill: #000; opacity: 1;\">2</text><text text-anchor=\"middle\" transform=\"translate(85.71428571428571,15)\" style=\"font-family: sans-serif; font-size: 10px; fill: #000; opacity: 1;\">3</text><text text-anchor=\"middle\" transform=\"translate(114.28571428571428,15)\" style=\"font-family: sans-serif; font-size: 10px; fill: #000; opacity: 1;\">4</text><text text-anchor=\"middle\" transform=\"translate(142.85714285714286,15)\" style=\"font-family: sans-serif; font-size: 10px; fill: #000; opacity: 1;\">5</text><text text-anchor=\"middle\" transform=\"translate(171.42857142857142,15)\" style=\"font-family: sans-serif; font-size: 10px; fill: #000; opacity: 1;\">6</text><text text-anchor=\"end\" transform=\"translate(200,15)\" style=\"font-family: sans-serif; font-size: 10px; fill: #000; opacity: 1;\">7</text></g><g class=\"mark-rule role-axis-domain\" style=\"pointer-events: none;\"><line transform=\"translate(0,0)\" x2=\"200\" y2=\"0\" style=\"fill: none; stroke: #888; stroke-width: 1; opacity: 1;\"></line></g><g class=\"mark-text role-axis-title\" style=\"pointer-events: none;\"><text text-anchor=\"middle\" transform=\"translate(100,31)\" style=\"font-family: sans-serif; font-size: 11px; font-weight: bold; fill: #000; opacity: 1;\">petalLength</text></g></g></g></g></g></g><g transform=\"translate(214,201)\"><path class=\"background\" d=\"M0,0h200v0h-200Z\" style=\"fill: none;\"></path><g><g class=\"mark-group role-axis\"><g transform=\"translate(0.5,0.5)\"><path class=\"background\" d=\"M0,0h0v0h0Z\" style=\"pointer-events: none; fill: none;\"></path><g><g class=\"mark-rule role-axis-tick\" style=\"pointer-events: none;\"><line transform=\"translate(0,0)\" x2=\"0\" y2=\"5\" style=\"fill: none; stroke: #888; stroke-width: 1; opacity: 1;\"></line><line transform=\"translate(29,0)\" x2=\"0\" y2=\"5\" style=\"fill: none; stroke: #888; stroke-width: 1; opacity: 1;\"></line><line transform=\"translate(57,0)\" x2=\"0\" y2=\"5\" style=\"fill: none; stroke: #888; stroke-width: 1; opacity: 1;\"></line><line transform=\"translate(86,0)\" x2=\"0\" y2=\"5\" style=\"fill: none; stroke: #888; stroke-width: 1; opacity: 1;\"></line><line transform=\"translate(114,0)\" x2=\"0\" y2=\"5\" style=\"fill: none; stroke: #888; stroke-width: 1; opacity: 1;\"></line><line transform=\"translate(143,0)\" x2=\"0\" y2=\"5\" style=\"fill: none; stroke: #888; stroke-width: 1; opacity: 1;\"></line><line transform=\"translate(171,0)\" x2=\"0\" y2=\"5\" style=\"fill: none; stroke: #888; stroke-width: 1; opacity: 1;\"></line><line transform=\"translate(200,0)\" x2=\"0\" y2=\"5\" style=\"fill: none; stroke: #888; stroke-width: 1; opacity: 1;\"></line></g><g class=\"mark-text role-axis-label\" style=\"pointer-events: none;\"><text text-anchor=\"start\" transform=\"translate(0,15)\" style=\"font-family: sans-serif; font-size: 10px; fill: #000; opacity: 1;\">0</text><text text-anchor=\"middle\" transform=\"translate(28.57142857142857,15)\" style=\"font-family: sans-serif; font-size: 10px; fill: #000; opacity: 1;\">1</text><text text-anchor=\"middle\" transform=\"translate(57.14285714285714,15)\" style=\"font-family: sans-serif; font-size: 10px; fill: #000; opacity: 1;\">2</text><text text-anchor=\"middle\" transform=\"translate(85.71428571428571,15)\" style=\"font-family: sans-serif; font-size: 10px; fill: #000; opacity: 1;\">3</text><text text-anchor=\"middle\" transform=\"translate(114.28571428571428,15)\" style=\"font-family: sans-serif; font-size: 10px; fill: #000; opacity: 1;\">4</text><text text-anchor=\"middle\" transform=\"translate(142.85714285714286,15)\" style=\"font-family: sans-serif; font-size: 10px; fill: #000; opacity: 1;\">5</text><text text-anchor=\"middle\" transform=\"translate(171.42857142857142,15)\" style=\"font-family: sans-serif; font-size: 10px; fill: #000; opacity: 1;\">6</text><text text-anchor=\"end\" transform=\"translate(200,15)\" style=\"font-family: sans-serif; font-size: 10px; fill: #000; opacity: 1;\">7</text></g><g class=\"mark-rule role-axis-domain\" style=\"pointer-events: none;\"><line transform=\"translate(0,0)\" x2=\"200\" y2=\"0\" style=\"fill: none; stroke: #888; stroke-width: 1; opacity: 1;\"></line></g><g class=\"mark-text role-axis-title\" style=\"pointer-events: none;\"><text text-anchor=\"middle\" transform=\"translate(100,31)\" style=\"font-family: sans-serif; font-size: 11px; font-weight: bold; fill: #000; opacity: 1;\">petalLength</text></g></g></g></g></g></g><g transform=\"translate(428,201)\"><path class=\"background\" d=\"M0,0h200v0h-200Z\" style=\"fill: none;\"></path><g><g class=\"mark-group role-axis\"><g transform=\"translate(0.5,0.5)\"><path class=\"background\" d=\"M0,0h0v0h0Z\" style=\"pointer-events: none; fill: none;\"></path><g><g class=\"mark-rule role-axis-tick\" style=\"pointer-events: none;\"><line transform=\"translate(0,0)\" x2=\"0\" y2=\"5\" style=\"fill: none; stroke: #888; stroke-width: 1; opacity: 1;\"></line><line transform=\"translate(29,0)\" x2=\"0\" y2=\"5\" style=\"fill: none; stroke: #888; stroke-width: 1; opacity: 1;\"></line><line transform=\"translate(57,0)\" x2=\"0\" y2=\"5\" style=\"fill: none; stroke: #888; stroke-width: 1; opacity: 1;\"></line><line transform=\"translate(86,0)\" x2=\"0\" y2=\"5\" style=\"fill: none; stroke: #888; stroke-width: 1; opacity: 1;\"></line><line transform=\"translate(114,0)\" x2=\"0\" y2=\"5\" style=\"fill: none; stroke: #888; stroke-width: 1; opacity: 1;\"></line><line transform=\"translate(143,0)\" x2=\"0\" y2=\"5\" style=\"fill: none; stroke: #888; stroke-width: 1; opacity: 1;\"></line><line transform=\"translate(171,0)\" x2=\"0\" y2=\"5\" style=\"fill: none; stroke: #888; stroke-width: 1; opacity: 1;\"></line><line transform=\"translate(200,0)\" x2=\"0\" y2=\"5\" style=\"fill: none; stroke: #888; stroke-width: 1; opacity: 1;\"></line></g><g class=\"mark-text role-axis-label\" style=\"pointer-events: none;\"><text text-anchor=\"start\" transform=\"translate(0,15)\" style=\"font-family: sans-serif; font-size: 10px; fill: #000; opacity: 1;\">0</text><text text-anchor=\"middle\" transform=\"translate(28.57142857142857,15)\" style=\"font-family: sans-serif; font-size: 10px; fill: #000; opacity: 1;\">1</text><text text-anchor=\"middle\" transform=\"translate(57.14285714285714,15)\" style=\"font-family: sans-serif; font-size: 10px; fill: #000; opacity: 1;\">2</text><text text-anchor=\"middle\" transform=\"translate(85.71428571428571,15)\" style=\"font-family: sans-serif; font-size: 10px; fill: #000; opacity: 1;\">3</text><text text-anchor=\"middle\" transform=\"translate(114.28571428571428,15)\" style=\"font-family: sans-serif; font-size: 10px; fill: #000; opacity: 1;\">4</text><text text-anchor=\"middle\" transform=\"translate(142.85714285714286,15)\" style=\"font-family: sans-serif; font-size: 10px; fill: #000; opacity: 1;\">5</text><text text-anchor=\"middle\" transform=\"translate(171.42857142857142,15)\" style=\"font-family: sans-serif; font-size: 10px; fill: #000; opacity: 1;\">6</text><text text-anchor=\"end\" transform=\"translate(200,15)\" style=\"font-family: sans-serif; font-size: 10px; fill: #000; opacity: 1;\">7</text></g><g class=\"mark-rule role-axis-domain\" style=\"pointer-events: none;\"><line transform=\"translate(0,0)\" x2=\"200\" y2=\"0\" style=\"fill: none; stroke: #888; stroke-width: 1; opacity: 1;\"></line></g><g class=\"mark-text role-axis-title\" style=\"pointer-events: none;\"><text text-anchor=\"middle\" transform=\"translate(100,31)\" style=\"font-family: sans-serif; font-size: 11px; font-weight: bold; fill: #000; opacity: 1;\">petalLength</text></g></g></g></g></g></g></g><g class=\"mark-group role-scope cell\"><g transform=\"translate(0,0)\"><path class=\"background\" d=\"M0.5,0.5h200v200h-200Z\" style=\"fill: none; stroke: #ddd;\"></path><g><g class=\"mark-group role-axis\"><g transform=\"translate(0.5,200.5)\"><path class=\"background\" d=\"M0,0h0v0h0Z\" style=\"pointer-events: none; fill: none;\"></path><g><g class=\"mark-rule role-axis-grid\" style=\"pointer-events: none;\"><line transform=\"translate(0,-200)\" x2=\"0\" y2=\"200\" style=\"fill: none; stroke: #ddd; stroke-width: 1; opacity: 1;\"></line><line transform=\"translate(29,-200)\" x2=\"0\" y2=\"200\" style=\"fill: none; stroke: #ddd; stroke-width: 1; opacity: 1;\"></line><line transform=\"translate(57,-200)\" x2=\"0\" y2=\"200\" style=\"fill: none; stroke: #ddd; stroke-width: 1; opacity: 1;\"></line><line transform=\"translate(86,-200)\" x2=\"0\" y2=\"200\" style=\"fill: none; stroke: #ddd; stroke-width: 1; opacity: 1;\"></line><line transform=\"translate(114,-200)\" x2=\"0\" y2=\"200\" style=\"fill: none; stroke: #ddd; stroke-width: 1; opacity: 1;\"></line><line transform=\"translate(143,-200)\" x2=\"0\" y2=\"200\" style=\"fill: none; stroke: #ddd; stroke-width: 1; opacity: 1;\"></line><line transform=\"translate(171,-200)\" x2=\"0\" y2=\"200\" style=\"fill: none; stroke: #ddd; stroke-width: 1; opacity: 1;\"></line><line transform=\"translate(200,-200)\" x2=\"0\" y2=\"200\" style=\"fill: none; stroke: #ddd; stroke-width: 1; opacity: 1;\"></line></g></g></g></g><g class=\"mark-group role-axis\"><g transform=\"translate(0.5,0.5)\"><path class=\"background\" d=\"M0,0h0v0h0Z\" style=\"pointer-events: none; fill: none;\"></path><g><g class=\"mark-rule role-axis-grid\" style=\"pointer-events: none;\"><line transform=\"translate(0,200)\" x2=\"200\" y2=\"0\" style=\"fill: none; stroke: #ddd; stroke-width: 1; opacity: 1;\"></line><line transform=\"translate(0,162)\" x2=\"200\" y2=\"0\" style=\"fill: none; stroke: #ddd; stroke-width: 1; opacity: 1;\"></line><line transform=\"translate(0,123)\" x2=\"200\" y2=\"0\" style=\"fill: none; stroke: #ddd; stroke-width: 1; opacity: 1;\"></line><line transform=\"translate(0,85)\" x2=\"200\" y2=\"0\" style=\"fill: none; stroke: #ddd; stroke-width: 1; opacity: 1;\"></line><line transform=\"translate(0,46)\" x2=\"200\" y2=\"0\" style=\"fill: none; stroke: #ddd; stroke-width: 1; opacity: 1;\"></line><line transform=\"translate(0,8)\" x2=\"200\" y2=\"0\" style=\"fill: none; stroke: #ddd; stroke-width: 1; opacity: 1;\"></line></g></g></g></g><g class=\"mark-symbol role-mark child_marks\"><path transform=\"translate(40,184.6153846153846)\" d=\"M2.7386127875258306,0A2.7386127875258306,2.7386127875258306,0,1,1,-2.7386127875258306,0A2.7386127875258306,2.7386127875258306,0,1,1,2.7386127875258306,0\" style=\"fill: none; stroke: #4c78a8; stroke-width: 2; opacity: 0.7;\"></path><path transform=\"translate(40,184.6153846153846)\" d=\"M2.7386127875258306,0A2.7386127875258306,2.7386127875258306,0,1,1,-2.7386127875258306,0A2.7386127875258306,2.7386127875258306,0,1,1,2.7386127875258306,0\" style=\"fill: none; stroke: #4c78a8; stroke-width: 2; opacity: 0.7;\"></path><path transform=\"translate(37.142857142857146,184.6153846153846)\" d=\"M2.7386127875258306,0A2.7386127875258306,2.7386127875258306,0,1,1,-2.7386127875258306,0A2.7386127875258306,2.7386127875258306,0,1,1,2.7386127875258306,0\" style=\"fill: none; stroke: #4c78a8; stroke-width: 2; opacity: 0.7;\"></path><path transform=\"translate(42.857142857142854,184.6153846153846)\" d=\"M2.7386127875258306,0A2.7386127875258306,2.7386127875258306,0,1,1,-2.7386127875258306,0A2.7386127875258306,2.7386127875258306,0,1,1,2.7386127875258306,0\" style=\"fill: none; stroke: #4c78a8; stroke-width: 2; opacity: 0.7;\"></path><path transform=\"translate(40,184.6153846153846)\" d=\"M2.7386127875258306,0A2.7386127875258306,2.7386127875258306,0,1,1,-2.7386127875258306,0A2.7386127875258306,2.7386127875258306,0,1,1,2.7386127875258306,0\" style=\"fill: none; stroke: #4c78a8; stroke-width: 2; opacity: 0.7;\"></path><path transform=\"translate(48.57142857142857,169.23076923076923)\" d=\"M2.7386127875258306,0A2.7386127875258306,2.7386127875258306,0,1,1,-2.7386127875258306,0A2.7386127875258306,2.7386127875258306,0,1,1,2.7386127875258306,0\" style=\"fill: none; stroke: #4c78a8; stroke-width: 2; opacity: 0.7;\"></path><path transform=\"translate(40,176.92307692307693)\" d=\"M2.7386127875258306,0A2.7386127875258306,2.7386127875258306,0,1,1,-2.7386127875258306,0A2.7386127875258306,2.7386127875258306,0,1,1,2.7386127875258306,0\" style=\"fill: none; stroke: #4c78a8; stroke-width: 2; opacity: 0.7;\"></path><path transform=\"translate(42.857142857142854,184.6153846153846)\" d=\"M2.7386127875258306,0A2.7386127875258306,2.7386127875258306,0,1,1,-2.7386127875258306,0A2.7386127875258306,2.7386127875258306,0,1,1,2.7386127875258306,0\" style=\"fill: none; stroke: #4c78a8; stroke-width: 2; opacity: 0.7;\"></path><path transform=\"translate(40,184.6153846153846)\" d=\"M2.7386127875258306,0A2.7386127875258306,2.7386127875258306,0,1,1,-2.7386127875258306,0A2.7386127875258306,2.7386127875258306,0,1,1,2.7386127875258306,0\" style=\"fill: none; stroke: #4c78a8; stroke-width: 2; opacity: 0.7;\"></path><path transform=\"translate(42.857142857142854,192.30769230769232)\" d=\"M2.7386127875258306,0A2.7386127875258306,2.7386127875258306,0,1,1,-2.7386127875258306,0A2.7386127875258306,2.7386127875258306,0,1,1,2.7386127875258306,0\" style=\"fill: none; stroke: #4c78a8; stroke-width: 2; opacity: 0.7;\"></path><path transform=\"translate(42.857142857142854,184.6153846153846)\" d=\"M2.7386127875258306,0A2.7386127875258306,2.7386127875258306,0,1,1,-2.7386127875258306,0A2.7386127875258306,2.7386127875258306,0,1,1,2.7386127875258306,0\" style=\"fill: none; stroke: #4c78a8; stroke-width: 2; opacity: 0.7;\"></path><path transform=\"translate(45.714285714285715,184.6153846153846)\" d=\"M2.7386127875258306,0A2.7386127875258306,2.7386127875258306,0,1,1,-2.7386127875258306,0A2.7386127875258306,2.7386127875258306,0,1,1,2.7386127875258306,0\" style=\"fill: none; stroke: #4c78a8; stroke-width: 2; opacity: 0.7;\"></path><path transform=\"translate(40,192.30769230769232)\" d=\"M2.7386127875258306,0A2.7386127875258306,2.7386127875258306,0,1,1,-2.7386127875258306,0A2.7386127875258306,2.7386127875258306,0,1,1,2.7386127875258306,0\" style=\"fill: none; stroke: #4c78a8; stroke-width: 2; opacity: 0.7;\"></path><path transform=\"translate(31.428571428571434,192.30769230769232)\" d=\"M2.7386127875258306,0A2.7386127875258306,2.7386127875258306,0,1,1,-2.7386127875258306,0A2.7386127875258306,2.7386127875258306,0,1,1,2.7386127875258306,0\" style=\"fill: none; stroke: #4c78a8; stroke-width: 2; opacity: 0.7;\"></path><path transform=\"translate(34.285714285714285,184.6153846153846)\" d=\"M2.7386127875258306,0A2.7386127875258306,2.7386127875258306,0,1,1,-2.7386127875258306,0A2.7386127875258306,2.7386127875258306,0,1,1,2.7386127875258306,0\" style=\"fill: none; stroke: #4c78a8; stroke-width: 2; opacity: 0.7;\"></path><path transform=\"translate(42.857142857142854,169.23076923076923)\" d=\"M2.7386127875258306,0A2.7386127875258306,2.7386127875258306,0,1,1,-2.7386127875258306,0A2.7386127875258306,2.7386127875258306,0,1,1,2.7386127875258306,0\" style=\"fill: none; stroke: #4c78a8; stroke-width: 2; opacity: 0.7;\"></path><path transform=\"translate(37.142857142857146,169.23076923076923)\" d=\"M2.7386127875258306,0A2.7386127875258306,2.7386127875258306,0,1,1,-2.7386127875258306,0A2.7386127875258306,2.7386127875258306,0,1,1,2.7386127875258306,0\" style=\"fill: none; stroke: #4c78a8; stroke-width: 2; opacity: 0.7;\"></path><path transform=\"translate(40,176.92307692307693)\" d=\"M2.7386127875258306,0A2.7386127875258306,2.7386127875258306,0,1,1,-2.7386127875258306,0A2.7386127875258306,2.7386127875258306,0,1,1,2.7386127875258306,0\" style=\"fill: none; stroke: #4c78a8; stroke-width: 2; opacity: 0.7;\"></path><path transform=\"translate(48.57142857142857,176.92307692307693)\" d=\"M2.7386127875258306,0A2.7386127875258306,2.7386127875258306,0,1,1,-2.7386127875258306,0A2.7386127875258306,2.7386127875258306,0,1,1,2.7386127875258306,0\" style=\"fill: none; stroke: #4c78a8; stroke-width: 2; opacity: 0.7;\"></path><path transform=\"translate(42.857142857142854,176.92307692307693)\" d=\"M2.7386127875258306,0A2.7386127875258306,2.7386127875258306,0,1,1,-2.7386127875258306,0A2.7386127875258306,2.7386127875258306,0,1,1,2.7386127875258306,0\" style=\"fill: none; stroke: #4c78a8; stroke-width: 2; opacity: 0.7;\"></path><path transform=\"translate(48.57142857142857,184.6153846153846)\" d=\"M2.7386127875258306,0A2.7386127875258306,2.7386127875258306,0,1,1,-2.7386127875258306,0A2.7386127875258306,2.7386127875258306,0,1,1,2.7386127875258306,0\" style=\"fill: none; stroke: #4c78a8; stroke-width: 2; opacity: 0.7;\"></path><path transform=\"translate(42.857142857142854,169.23076923076923)\" d=\"M2.7386127875258306,0A2.7386127875258306,2.7386127875258306,0,1,1,-2.7386127875258306,0A2.7386127875258306,2.7386127875258306,0,1,1,2.7386127875258306,0\" style=\"fill: none; stroke: #4c78a8; stroke-width: 2; opacity: 0.7;\"></path><path transform=\"translate(28.57142857142857,184.6153846153846)\" d=\"M2.7386127875258306,0A2.7386127875258306,2.7386127875258306,0,1,1,-2.7386127875258306,0A2.7386127875258306,2.7386127875258306,0,1,1,2.7386127875258306,0\" style=\"fill: none; stroke: #4c78a8; stroke-width: 2; opacity: 0.7;\"></path><path transform=\"translate(48.57142857142857,161.53846153846155)\" d=\"M2.7386127875258306,0A2.7386127875258306,2.7386127875258306,0,1,1,-2.7386127875258306,0A2.7386127875258306,2.7386127875258306,0,1,1,2.7386127875258306,0\" style=\"fill: none; stroke: #4c78a8; stroke-width: 2; opacity: 0.7;\"></path><path transform=\"translate(54.285714285714285,184.6153846153846)\" d=\"M2.7386127875258306,0A2.7386127875258306,2.7386127875258306,0,1,1,-2.7386127875258306,0A2.7386127875258306,2.7386127875258306,0,1,1,2.7386127875258306,0\" style=\"fill: none; stroke: #4c78a8; stroke-width: 2; opacity: 0.7;\"></path><path transform=\"translate(45.714285714285715,184.6153846153846)\" d=\"M2.7386127875258306,0A2.7386127875258306,2.7386127875258306,0,1,1,-2.7386127875258306,0A2.7386127875258306,2.7386127875258306,0,1,1,2.7386127875258306,0\" style=\"fill: none; stroke: #4c78a8; stroke-width: 2; opacity: 0.7;\"></path><path transform=\"translate(45.714285714285715,169.23076923076923)\" d=\"M2.7386127875258306,0A2.7386127875258306,2.7386127875258306,0,1,1,-2.7386127875258306,0A2.7386127875258306,2.7386127875258306,0,1,1,2.7386127875258306,0\" style=\"fill: none; stroke: #4c78a8; stroke-width: 2; opacity: 0.7;\"></path><path transform=\"translate(42.857142857142854,184.6153846153846)\" d=\"M2.7386127875258306,0A2.7386127875258306,2.7386127875258306,0,1,1,-2.7386127875258306,0A2.7386127875258306,2.7386127875258306,0,1,1,2.7386127875258306,0\" style=\"fill: none; stroke: #4c78a8; stroke-width: 2; opacity: 0.7;\"></path><path transform=\"translate(40,184.6153846153846)\" d=\"M2.7386127875258306,0A2.7386127875258306,2.7386127875258306,0,1,1,-2.7386127875258306,0A2.7386127875258306,2.7386127875258306,0,1,1,2.7386127875258306,0\" style=\"fill: none; stroke: #4c78a8; stroke-width: 2; opacity: 0.7;\"></path><path transform=\"translate(45.714285714285715,184.6153846153846)\" d=\"M2.7386127875258306,0A2.7386127875258306,2.7386127875258306,0,1,1,-2.7386127875258306,0A2.7386127875258306,2.7386127875258306,0,1,1,2.7386127875258306,0\" style=\"fill: none; stroke: #4c78a8; stroke-width: 2; opacity: 0.7;\"></path><path transform=\"translate(45.714285714285715,184.6153846153846)\" d=\"M2.7386127875258306,0A2.7386127875258306,2.7386127875258306,0,1,1,-2.7386127875258306,0A2.7386127875258306,2.7386127875258306,0,1,1,2.7386127875258306,0\" style=\"fill: none; stroke: #4c78a8; stroke-width: 2; opacity: 0.7;\"></path><path transform=\"translate(42.857142857142854,169.23076923076923)\" d=\"M2.7386127875258306,0A2.7386127875258306,2.7386127875258306,0,1,1,-2.7386127875258306,0A2.7386127875258306,2.7386127875258306,0,1,1,2.7386127875258306,0\" style=\"fill: none; stroke: #4c78a8; stroke-width: 2; opacity: 0.7;\"></path><path transform=\"translate(42.857142857142854,192.30769230769232)\" d=\"M2.7386127875258306,0A2.7386127875258306,2.7386127875258306,0,1,1,-2.7386127875258306,0A2.7386127875258306,2.7386127875258306,0,1,1,2.7386127875258306,0\" style=\"fill: none; stroke: #4c78a8; stroke-width: 2; opacity: 0.7;\"></path><path transform=\"translate(40,184.6153846153846)\" d=\"M2.7386127875258306,0A2.7386127875258306,2.7386127875258306,0,1,1,-2.7386127875258306,0A2.7386127875258306,2.7386127875258306,0,1,1,2.7386127875258306,0\" style=\"fill: none; stroke: #4c78a8; stroke-width: 2; opacity: 0.7;\"></path><path transform=\"translate(42.857142857142854,184.6153846153846)\" d=\"M2.7386127875258306,0A2.7386127875258306,2.7386127875258306,0,1,1,-2.7386127875258306,0A2.7386127875258306,2.7386127875258306,0,1,1,2.7386127875258306,0\" style=\"fill: none; stroke: #4c78a8; stroke-width: 2; opacity: 0.7;\"></path><path transform=\"translate(34.285714285714285,184.6153846153846)\" d=\"M2.7386127875258306,0A2.7386127875258306,2.7386127875258306,0,1,1,-2.7386127875258306,0A2.7386127875258306,2.7386127875258306,0,1,1,2.7386127875258306,0\" style=\"fill: none; stroke: #4c78a8; stroke-width: 2; opacity: 0.7;\"></path><path transform=\"translate(37.142857142857146,184.6153846153846)\" d=\"M2.7386127875258306,0A2.7386127875258306,2.7386127875258306,0,1,1,-2.7386127875258306,0A2.7386127875258306,2.7386127875258306,0,1,1,2.7386127875258306,0\" style=\"fill: none; stroke: #4c78a8; stroke-width: 2; opacity: 0.7;\"></path><path transform=\"translate(40,192.30769230769232)\" d=\"M2.7386127875258306,0A2.7386127875258306,2.7386127875258306,0,1,1,-2.7386127875258306,0A2.7386127875258306,2.7386127875258306,0,1,1,2.7386127875258306,0\" style=\"fill: none; stroke: #4c78a8; stroke-width: 2; opacity: 0.7;\"></path><path transform=\"translate(37.142857142857146,184.6153846153846)\" d=\"M2.7386127875258306,0A2.7386127875258306,2.7386127875258306,0,1,1,-2.7386127875258306,0A2.7386127875258306,2.7386127875258306,0,1,1,2.7386127875258306,0\" style=\"fill: none; stroke: #4c78a8; stroke-width: 2; opacity: 0.7;\"></path><path transform=\"translate(42.857142857142854,184.6153846153846)\" d=\"M2.7386127875258306,0A2.7386127875258306,2.7386127875258306,0,1,1,-2.7386127875258306,0A2.7386127875258306,2.7386127875258306,0,1,1,2.7386127875258306,0\" style=\"fill: none; stroke: #4c78a8; stroke-width: 2; opacity: 0.7;\"></path><path transform=\"translate(37.142857142857146,176.92307692307693)\" d=\"M2.7386127875258306,0A2.7386127875258306,2.7386127875258306,0,1,1,-2.7386127875258306,0A2.7386127875258306,2.7386127875258306,0,1,1,2.7386127875258306,0\" style=\"fill: none; stroke: #4c78a8; stroke-width: 2; opacity: 0.7;\"></path><path transform=\"translate(37.142857142857146,176.92307692307693)\" d=\"M2.7386127875258306,0A2.7386127875258306,2.7386127875258306,0,1,1,-2.7386127875258306,0A2.7386127875258306,2.7386127875258306,0,1,1,2.7386127875258306,0\" style=\"fill: none; stroke: #4c78a8; stroke-width: 2; opacity: 0.7;\"></path><path transform=\"translate(37.142857142857146,184.6153846153846)\" d=\"M2.7386127875258306,0A2.7386127875258306,2.7386127875258306,0,1,1,-2.7386127875258306,0A2.7386127875258306,2.7386127875258306,0,1,1,2.7386127875258306,0\" style=\"fill: none; stroke: #4c78a8; stroke-width: 2; opacity: 0.7;\"></path><path transform=\"translate(45.714285714285715,153.84615384615384)\" d=\"M2.7386127875258306,0A2.7386127875258306,2.7386127875258306,0,1,1,-2.7386127875258306,0A2.7386127875258306,2.7386127875258306,0,1,1,2.7386127875258306,0\" style=\"fill: none; stroke: #4c78a8; stroke-width: 2; opacity: 0.7;\"></path><path transform=\"translate(54.285714285714285,169.23076923076923)\" d=\"M2.7386127875258306,0A2.7386127875258306,2.7386127875258306,0,1,1,-2.7386127875258306,0A2.7386127875258306,2.7386127875258306,0,1,1,2.7386127875258306,0\" style=\"fill: none; stroke: #4c78a8; stroke-width: 2; opacity: 0.7;\"></path><path transform=\"translate(40,176.92307692307693)\" d=\"M2.7386127875258306,0A2.7386127875258306,2.7386127875258306,0,1,1,-2.7386127875258306,0A2.7386127875258306,2.7386127875258306,0,1,1,2.7386127875258306,0\" style=\"fill: none; stroke: #4c78a8; stroke-width: 2; opacity: 0.7;\"></path><path transform=\"translate(45.714285714285715,184.6153846153846)\" d=\"M2.7386127875258306,0A2.7386127875258306,2.7386127875258306,0,1,1,-2.7386127875258306,0A2.7386127875258306,2.7386127875258306,0,1,1,2.7386127875258306,0\" style=\"fill: none; stroke: #4c78a8; stroke-width: 2; opacity: 0.7;\"></path><path transform=\"translate(40,184.6153846153846)\" d=\"M2.7386127875258306,0A2.7386127875258306,2.7386127875258306,0,1,1,-2.7386127875258306,0A2.7386127875258306,2.7386127875258306,0,1,1,2.7386127875258306,0\" style=\"fill: none; stroke: #4c78a8; stroke-width: 2; opacity: 0.7;\"></path><path transform=\"translate(42.857142857142854,184.6153846153846)\" d=\"M2.7386127875258306,0A2.7386127875258306,2.7386127875258306,0,1,1,-2.7386127875258306,0A2.7386127875258306,2.7386127875258306,0,1,1,2.7386127875258306,0\" style=\"fill: none; stroke: #4c78a8; stroke-width: 2; opacity: 0.7;\"></path><path transform=\"translate(40,184.6153846153846)\" d=\"M2.7386127875258306,0A2.7386127875258306,2.7386127875258306,0,1,1,-2.7386127875258306,0A2.7386127875258306,2.7386127875258306,0,1,1,2.7386127875258306,0\" style=\"fill: none; stroke: #4c78a8; stroke-width: 2; opacity: 0.7;\"></path></g></g></g><g transform=\"translate(214,0)\"><path class=\"background\" d=\"M0.5,0.5h200v200h-200Z\" style=\"fill: none; stroke: #ddd;\"></path><g><g class=\"mark-group role-axis\"><g transform=\"translate(0.5,200.5)\"><path class=\"background\" d=\"M0,0h0v0h0Z\" style=\"pointer-events: none; fill: none;\"></path><g><g class=\"mark-rule role-axis-grid\" style=\"pointer-events: none;\"><line transform=\"translate(0,-200)\" x2=\"0\" y2=\"200\" style=\"fill: none; stroke: #ddd; stroke-width: 1; opacity: 1;\"></line><line transform=\"translate(29,-200)\" x2=\"0\" y2=\"200\" style=\"fill: none; stroke: #ddd; stroke-width: 1; opacity: 1;\"></line><line transform=\"translate(57,-200)\" x2=\"0\" y2=\"200\" style=\"fill: none; stroke: #ddd; stroke-width: 1; opacity: 1;\"></line><line transform=\"translate(86,-200)\" x2=\"0\" y2=\"200\" style=\"fill: none; stroke: #ddd; stroke-width: 1; opacity: 1;\"></line><line transform=\"translate(114,-200)\" x2=\"0\" y2=\"200\" style=\"fill: none; stroke: #ddd; stroke-width: 1; opacity: 1;\"></line><line transform=\"translate(143,-200)\" x2=\"0\" y2=\"200\" style=\"fill: none; stroke: #ddd; stroke-width: 1; opacity: 1;\"></line><line transform=\"translate(171,-200)\" x2=\"0\" y2=\"200\" style=\"fill: none; stroke: #ddd; stroke-width: 1; opacity: 1;\"></line><line transform=\"translate(200,-200)\" x2=\"0\" y2=\"200\" style=\"fill: none; stroke: #ddd; stroke-width: 1; opacity: 1;\"></line></g></g></g></g><g class=\"mark-group role-axis\"><g transform=\"translate(0.5,0.5)\"><path class=\"background\" d=\"M0,0h0v0h0Z\" style=\"pointer-events: none; fill: none;\"></path><g><g class=\"mark-rule role-axis-grid\" style=\"pointer-events: none;\"><line transform=\"translate(0,200)\" x2=\"200\" y2=\"0\" style=\"fill: none; stroke: #ddd; stroke-width: 1; opacity: 1;\"></line><line transform=\"translate(0,162)\" x2=\"200\" y2=\"0\" style=\"fill: none; stroke: #ddd; stroke-width: 1; opacity: 1;\"></line><line transform=\"translate(0,123)\" x2=\"200\" y2=\"0\" style=\"fill: none; stroke: #ddd; stroke-width: 1; opacity: 1;\"></line><line transform=\"translate(0,85)\" x2=\"200\" y2=\"0\" style=\"fill: none; stroke: #ddd; stroke-width: 1; opacity: 1;\"></line><line transform=\"translate(0,46)\" x2=\"200\" y2=\"0\" style=\"fill: none; stroke: #ddd; stroke-width: 1; opacity: 1;\"></line><line transform=\"translate(0,8)\" x2=\"200\" y2=\"0\" style=\"fill: none; stroke: #ddd; stroke-width: 1; opacity: 1;\"></line></g></g></g></g><g class=\"mark-symbol role-mark child_marks\"><path transform=\"translate(134.2857142857143,92.3076923076923)\" d=\"M2.7386127875258306,0A2.7386127875258306,2.7386127875258306,0,1,1,-2.7386127875258306,0A2.7386127875258306,2.7386127875258306,0,1,1,2.7386127875258306,0\" style=\"fill: none; stroke: #4c78a8; stroke-width: 2; opacity: 0.7;\"></path><path transform=\"translate(128.57142857142858,84.61538461538463)\" d=\"M2.7386127875258306,0A2.7386127875258306,2.7386127875258306,0,1,1,-2.7386127875258306,0A2.7386127875258306,2.7386127875258306,0,1,1,2.7386127875258306,0\" style=\"fill: none; stroke: #4c78a8; stroke-width: 2; opacity: 0.7;\"></path><path transform=\"translate(140,84.61538461538463)\" d=\"M2.7386127875258306,0A2.7386127875258306,2.7386127875258306,0,1,1,-2.7386127875258306,0A2.7386127875258306,2.7386127875258306,0,1,1,2.7386127875258306,0\" style=\"fill: none; stroke: #4c78a8; stroke-width: 2; opacity: 0.7;\"></path><path transform=\"translate(114.28571428571428,100)\" d=\"M2.7386127875258306,0A2.7386127875258306,2.7386127875258306,0,1,1,-2.7386127875258306,0A2.7386127875258306,2.7386127875258306,0,1,1,2.7386127875258306,0\" style=\"fill: none; stroke: #4c78a8; stroke-width: 2; opacity: 0.7;\"></path><path transform=\"translate(131.42857142857142,84.61538461538463)\" d=\"M2.7386127875258306,0A2.7386127875258306,2.7386127875258306,0,1,1,-2.7386127875258306,0A2.7386127875258306,2.7386127875258306,0,1,1,2.7386127875258306,0\" style=\"fill: none; stroke: #4c78a8; stroke-width: 2; opacity: 0.7;\"></path><path transform=\"translate(128.57142857142858,100)\" d=\"M2.7386127875258306,0A2.7386127875258306,2.7386127875258306,0,1,1,-2.7386127875258306,0A2.7386127875258306,2.7386127875258306,0,1,1,2.7386127875258306,0\" style=\"fill: none; stroke: #4c78a8; stroke-width: 2; opacity: 0.7;\"></path><path transform=\"translate(134.2857142857143,76.92307692307692)\" d=\"M2.7386127875258306,0A2.7386127875258306,2.7386127875258306,0,1,1,-2.7386127875258306,0A2.7386127875258306,2.7386127875258306,0,1,1,2.7386127875258306,0\" style=\"fill: none; stroke: #4c78a8; stroke-width: 2; opacity: 0.7;\"></path><path transform=\"translate(94.28571428571428,123.07692307692308)\" d=\"M2.7386127875258306,0A2.7386127875258306,2.7386127875258306,0,1,1,-2.7386127875258306,0A2.7386127875258306,2.7386127875258306,0,1,1,2.7386127875258306,0\" style=\"fill: none; stroke: #4c78a8; stroke-width: 2; opacity: 0.7;\"></path><path transform=\"translate(131.42857142857142,100)\" d=\"M2.7386127875258306,0A2.7386127875258306,2.7386127875258306,0,1,1,-2.7386127875258306,0A2.7386127875258306,2.7386127875258306,0,1,1,2.7386127875258306,0\" style=\"fill: none; stroke: #4c78a8; stroke-width: 2; opacity: 0.7;\"></path><path transform=\"translate(111.42857142857143,92.3076923076923)\" d=\"M2.7386127875258306,0A2.7386127875258306,2.7386127875258306,0,1,1,-2.7386127875258306,0A2.7386127875258306,2.7386127875258306,0,1,1,2.7386127875258306,0\" style=\"fill: none; stroke: #4c78a8; stroke-width: 2; opacity: 0.7;\"></path><path transform=\"translate(100,123.07692307692308)\" d=\"M2.7386127875258306,0A2.7386127875258306,2.7386127875258306,0,1,1,-2.7386127875258306,0A2.7386127875258306,2.7386127875258306,0,1,1,2.7386127875258306,0\" style=\"fill: none; stroke: #4c78a8; stroke-width: 2; opacity: 0.7;\"></path><path transform=\"translate(120,84.61538461538463)\" d=\"M2.7386127875258306,0A2.7386127875258306,2.7386127875258306,0,1,1,-2.7386127875258306,0A2.7386127875258306,2.7386127875258306,0,1,1,2.7386127875258306,0\" style=\"fill: none; stroke: #4c78a8; stroke-width: 2; opacity: 0.7;\"></path><path transform=\"translate(114.28571428571428,123.07692307692308)\" d=\"M2.7386127875258306,0A2.7386127875258306,2.7386127875258306,0,1,1,-2.7386127875258306,0A2.7386127875258306,2.7386127875258306,0,1,1,2.7386127875258306,0\" style=\"fill: none; stroke: #4c78a8; stroke-width: 2; opacity: 0.7;\"></path><path transform=\"translate(134.2857142857143,92.3076923076923)\" d=\"M2.7386127875258306,0A2.7386127875258306,2.7386127875258306,0,1,1,-2.7386127875258306,0A2.7386127875258306,2.7386127875258306,0,1,1,2.7386127875258306,0\" style=\"fill: none; stroke: #4c78a8; stroke-width: 2; opacity: 0.7;\"></path><path transform=\"translate(102.85714285714288,100)\" d=\"M2.7386127875258306,0A2.7386127875258306,2.7386127875258306,0,1,1,-2.7386127875258306,0A2.7386127875258306,2.7386127875258306,0,1,1,2.7386127875258306,0\" style=\"fill: none; stroke: #4c78a8; stroke-width: 2; opacity: 0.7;\"></path><path transform=\"translate(125.71428571428574,92.3076923076923)\" d=\"M2.7386127875258306,0A2.7386127875258306,2.7386127875258306,0,1,1,-2.7386127875258306,0A2.7386127875258306,2.7386127875258306,0,1,1,2.7386127875258306,0\" style=\"fill: none; stroke: #4c78a8; stroke-width: 2; opacity: 0.7;\"></path><path transform=\"translate(128.57142857142858,84.61538461538463)\" d=\"M2.7386127875258306,0A2.7386127875258306,2.7386127875258306,0,1,1,-2.7386127875258306,0A2.7386127875258306,2.7386127875258306,0,1,1,2.7386127875258306,0\" style=\"fill: none; stroke: #4c78a8; stroke-width: 2; opacity: 0.7;\"></path><path transform=\"translate(117.14285714285712,123.07692307692308)\" d=\"M2.7386127875258306,0A2.7386127875258306,2.7386127875258306,0,1,1,-2.7386127875258306,0A2.7386127875258306,2.7386127875258306,0,1,1,2.7386127875258306,0\" style=\"fill: none; stroke: #4c78a8; stroke-width: 2; opacity: 0.7;\"></path><path transform=\"translate(128.57142857142858,84.61538461538463)\" d=\"M2.7386127875258306,0A2.7386127875258306,2.7386127875258306,0,1,1,-2.7386127875258306,0A2.7386127875258306,2.7386127875258306,0,1,1,2.7386127875258306,0\" style=\"fill: none; stroke: #4c78a8; stroke-width: 2; opacity: 0.7;\"></path><path transform=\"translate(111.42857142857143,115.38461538461539)\" d=\"M2.7386127875258306,0A2.7386127875258306,2.7386127875258306,0,1,1,-2.7386127875258306,0A2.7386127875258306,2.7386127875258306,0,1,1,2.7386127875258306,0\" style=\"fill: none; stroke: #4c78a8; stroke-width: 2; opacity: 0.7;\"></path><path transform=\"translate(137.14285714285714,61.53846153846155)\" d=\"M2.7386127875258306,0A2.7386127875258306,2.7386127875258306,0,1,1,-2.7386127875258306,0A2.7386127875258306,2.7386127875258306,0,1,1,2.7386127875258306,0\" style=\"fill: none; stroke: #4c78a8; stroke-width: 2; opacity: 0.7;\"></path><path transform=\"translate(114.28571428571428,100)\" d=\"M2.7386127875258306,0A2.7386127875258306,2.7386127875258306,0,1,1,-2.7386127875258306,0A2.7386127875258306,2.7386127875258306,0,1,1,2.7386127875258306,0\" style=\"fill: none; stroke: #4c78a8; stroke-width: 2; opacity: 0.7;\"></path><path transform=\"translate(140,84.61538461538463)\" d=\"M2.7386127875258306,0A2.7386127875258306,2.7386127875258306,0,1,1,-2.7386127875258306,0A2.7386127875258306,2.7386127875258306,0,1,1,2.7386127875258306,0\" style=\"fill: none; stroke: #4c78a8; stroke-width: 2; opacity: 0.7;\"></path><path transform=\"translate(134.2857142857143,107.6923076923077)\" d=\"M2.7386127875258306,0A2.7386127875258306,2.7386127875258306,0,1,1,-2.7386127875258306,0A2.7386127875258306,2.7386127875258306,0,1,1,2.7386127875258306,0\" style=\"fill: none; stroke: #4c78a8; stroke-width: 2; opacity: 0.7;\"></path><path transform=\"translate(122.85714285714285,100)\" d=\"M2.7386127875258306,0A2.7386127875258306,2.7386127875258306,0,1,1,-2.7386127875258306,0A2.7386127875258306,2.7386127875258306,0,1,1,2.7386127875258306,0\" style=\"fill: none; stroke: #4c78a8; stroke-width: 2; opacity: 0.7;\"></path><path transform=\"translate(125.71428571428574,92.3076923076923)\" d=\"M2.7386127875258306,0A2.7386127875258306,2.7386127875258306,0,1,1,-2.7386127875258306,0A2.7386127875258306,2.7386127875258306,0,1,1,2.7386127875258306,0\" style=\"fill: none; stroke: #4c78a8; stroke-width: 2; opacity: 0.7;\"></path><path transform=\"translate(137.14285714285714,92.3076923076923)\" d=\"M2.7386127875258306,0A2.7386127875258306,2.7386127875258306,0,1,1,-2.7386127875258306,0A2.7386127875258306,2.7386127875258306,0,1,1,2.7386127875258306,0\" style=\"fill: none; stroke: #4c78a8; stroke-width: 2; opacity: 0.7;\"></path><path transform=\"translate(142.85714285714286,69.23076923076923)\" d=\"M2.7386127875258306,0A2.7386127875258306,2.7386127875258306,0,1,1,-2.7386127875258306,0A2.7386127875258306,2.7386127875258306,0,1,1,2.7386127875258306,0\" style=\"fill: none; stroke: #4c78a8; stroke-width: 2; opacity: 0.7;\"></path><path transform=\"translate(128.57142857142858,84.61538461538463)\" d=\"M2.7386127875258306,0A2.7386127875258306,2.7386127875258306,0,1,1,-2.7386127875258306,0A2.7386127875258306,2.7386127875258306,0,1,1,2.7386127875258306,0\" style=\"fill: none; stroke: #4c78a8; stroke-width: 2; opacity: 0.7;\"></path><path transform=\"translate(100,123.07692307692308)\" d=\"M2.7386127875258306,0A2.7386127875258306,2.7386127875258306,0,1,1,-2.7386127875258306,0A2.7386127875258306,2.7386127875258306,0,1,1,2.7386127875258306,0\" style=\"fill: none; stroke: #4c78a8; stroke-width: 2; opacity: 0.7;\"></path><path transform=\"translate(108.57142857142857,115.38461538461539)\" d=\"M2.7386127875258306,0A2.7386127875258306,2.7386127875258306,0,1,1,-2.7386127875258306,0A2.7386127875258306,2.7386127875258306,0,1,1,2.7386127875258306,0\" style=\"fill: none; stroke: #4c78a8; stroke-width: 2; opacity: 0.7;\"></path><path transform=\"translate(105.71428571428572,123.07692307692308)\" d=\"M2.7386127875258306,0A2.7386127875258306,2.7386127875258306,0,1,1,-2.7386127875258306,0A2.7386127875258306,2.7386127875258306,0,1,1,2.7386127875258306,0\" style=\"fill: none; stroke: #4c78a8; stroke-width: 2; opacity: 0.7;\"></path><path transform=\"translate(111.42857142857143,107.6923076923077)\" d=\"M2.7386127875258306,0A2.7386127875258306,2.7386127875258306,0,1,1,-2.7386127875258306,0A2.7386127875258306,2.7386127875258306,0,1,1,2.7386127875258306,0\" style=\"fill: none; stroke: #4c78a8; stroke-width: 2; opacity: 0.7;\"></path><path transform=\"translate(145.7142857142857,76.92307692307692)\" d=\"M2.7386127875258306,0A2.7386127875258306,2.7386127875258306,0,1,1,-2.7386127875258306,0A2.7386127875258306,2.7386127875258306,0,1,1,2.7386127875258306,0\" style=\"fill: none; stroke: #4c78a8; stroke-width: 2; opacity: 0.7;\"></path><path transform=\"translate(128.57142857142858,84.61538461538463)\" d=\"M2.7386127875258306,0A2.7386127875258306,2.7386127875258306,0,1,1,-2.7386127875258306,0A2.7386127875258306,2.7386127875258306,0,1,1,2.7386127875258306,0\" style=\"fill: none; stroke: #4c78a8; stroke-width: 2; opacity: 0.7;\"></path><path transform=\"translate(128.57142857142858,76.92307692307692)\" d=\"M2.7386127875258306,0A2.7386127875258306,2.7386127875258306,0,1,1,-2.7386127875258306,0A2.7386127875258306,2.7386127875258306,0,1,1,2.7386127875258306,0\" style=\"fill: none; stroke: #4c78a8; stroke-width: 2; opacity: 0.7;\"></path><path transform=\"translate(134.2857142857143,84.61538461538463)\" d=\"M2.7386127875258306,0A2.7386127875258306,2.7386127875258306,0,1,1,-2.7386127875258306,0A2.7386127875258306,2.7386127875258306,0,1,1,2.7386127875258306,0\" style=\"fill: none; stroke: #4c78a8; stroke-width: 2; opacity: 0.7;\"></path><path transform=\"translate(125.71428571428574,100)\" d=\"M2.7386127875258306,0A2.7386127875258306,2.7386127875258306,0,1,1,-2.7386127875258306,0A2.7386127875258306,2.7386127875258306,0,1,1,2.7386127875258306,0\" style=\"fill: none; stroke: #4c78a8; stroke-width: 2; opacity: 0.7;\"></path><path transform=\"translate(117.14285714285712,100)\" d=\"M2.7386127875258306,0A2.7386127875258306,2.7386127875258306,0,1,1,-2.7386127875258306,0A2.7386127875258306,2.7386127875258306,0,1,1,2.7386127875258306,0\" style=\"fill: none; stroke: #4c78a8; stroke-width: 2; opacity: 0.7;\"></path><path transform=\"translate(114.28571428571428,100)\" d=\"M2.7386127875258306,0A2.7386127875258306,2.7386127875258306,0,1,1,-2.7386127875258306,0A2.7386127875258306,2.7386127875258306,0,1,1,2.7386127875258306,0\" style=\"fill: none; stroke: #4c78a8; stroke-width: 2; opacity: 0.7;\"></path><path transform=\"translate(125.71428571428574,107.6923076923077)\" d=\"M2.7386127875258306,0A2.7386127875258306,2.7386127875258306,0,1,1,-2.7386127875258306,0A2.7386127875258306,2.7386127875258306,0,1,1,2.7386127875258306,0\" style=\"fill: none; stroke: #4c78a8; stroke-width: 2; opacity: 0.7;\"></path><path transform=\"translate(131.42857142857142,92.3076923076923)\" d=\"M2.7386127875258306,0A2.7386127875258306,2.7386127875258306,0,1,1,-2.7386127875258306,0A2.7386127875258306,2.7386127875258306,0,1,1,2.7386127875258306,0\" style=\"fill: none; stroke: #4c78a8; stroke-width: 2; opacity: 0.7;\"></path><path transform=\"translate(114.28571428571428,107.6923076923077)\" d=\"M2.7386127875258306,0A2.7386127875258306,2.7386127875258306,0,1,1,-2.7386127875258306,0A2.7386127875258306,2.7386127875258306,0,1,1,2.7386127875258306,0\" style=\"fill: none; stroke: #4c78a8; stroke-width: 2; opacity: 0.7;\"></path><path transform=\"translate(94.28571428571428,123.07692307692308)\" d=\"M2.7386127875258306,0A2.7386127875258306,2.7386127875258306,0,1,1,-2.7386127875258306,0A2.7386127875258306,2.7386127875258306,0,1,1,2.7386127875258306,0\" style=\"fill: none; stroke: #4c78a8; stroke-width: 2; opacity: 0.7;\"></path><path transform=\"translate(120,100)\" d=\"M2.7386127875258306,0A2.7386127875258306,2.7386127875258306,0,1,1,-2.7386127875258306,0A2.7386127875258306,2.7386127875258306,0,1,1,2.7386127875258306,0\" style=\"fill: none; stroke: #4c78a8; stroke-width: 2; opacity: 0.7;\"></path><path transform=\"translate(120,107.6923076923077)\" d=\"M2.7386127875258306,0A2.7386127875258306,2.7386127875258306,0,1,1,-2.7386127875258306,0A2.7386127875258306,2.7386127875258306,0,1,1,2.7386127875258306,0\" style=\"fill: none; stroke: #4c78a8; stroke-width: 2; opacity: 0.7;\"></path><path transform=\"translate(120,100)\" d=\"M2.7386127875258306,0A2.7386127875258306,2.7386127875258306,0,1,1,-2.7386127875258306,0A2.7386127875258306,2.7386127875258306,0,1,1,2.7386127875258306,0\" style=\"fill: none; stroke: #4c78a8; stroke-width: 2; opacity: 0.7;\"></path><path transform=\"translate(122.85714285714285,100)\" d=\"M2.7386127875258306,0A2.7386127875258306,2.7386127875258306,0,1,1,-2.7386127875258306,0A2.7386127875258306,2.7386127875258306,0,1,1,2.7386127875258306,0\" style=\"fill: none; stroke: #4c78a8; stroke-width: 2; opacity: 0.7;\"></path><path transform=\"translate(85.71428571428571,115.38461538461539)\" d=\"M2.7386127875258306,0A2.7386127875258306,2.7386127875258306,0,1,1,-2.7386127875258306,0A2.7386127875258306,2.7386127875258306,0,1,1,2.7386127875258306,0\" style=\"fill: none; stroke: #4c78a8; stroke-width: 2; opacity: 0.7;\"></path><path transform=\"translate(117.14285714285712,100)\" d=\"M2.7386127875258306,0A2.7386127875258306,2.7386127875258306,0,1,1,-2.7386127875258306,0A2.7386127875258306,2.7386127875258306,0,1,1,2.7386127875258306,0\" style=\"fill: none; stroke: #4c78a8; stroke-width: 2; opacity: 0.7;\"></path></g></g></g><g transform=\"translate(428,0)\"><path class=\"background\" d=\"M0.5,0.5h200v200h-200Z\" style=\"fill: none; stroke: #ddd;\"></path><g><g class=\"mark-group role-axis\"><g transform=\"translate(0.5,200.5)\"><path class=\"background\" d=\"M0,0h0v0h0Z\" style=\"pointer-events: none; fill: none;\"></path><g><g class=\"mark-rule role-axis-grid\" style=\"pointer-events: none;\"><line transform=\"translate(0,-200)\" x2=\"0\" y2=\"200\" style=\"fill: none; stroke: #ddd; stroke-width: 1; opacity: 1;\"></line><line transform=\"translate(29,-200)\" x2=\"0\" y2=\"200\" style=\"fill: none; stroke: #ddd; stroke-width: 1; opacity: 1;\"></line><line transform=\"translate(57,-200)\" x2=\"0\" y2=\"200\" style=\"fill: none; stroke: #ddd; stroke-width: 1; opacity: 1;\"></line><line transform=\"translate(86,-200)\" x2=\"0\" y2=\"200\" style=\"fill: none; stroke: #ddd; stroke-width: 1; opacity: 1;\"></line><line transform=\"translate(114,-200)\" x2=\"0\" y2=\"200\" style=\"fill: none; stroke: #ddd; stroke-width: 1; opacity: 1;\"></line><line transform=\"translate(143,-200)\" x2=\"0\" y2=\"200\" style=\"fill: none; stroke: #ddd; stroke-width: 1; opacity: 1;\"></line><line transform=\"translate(171,-200)\" x2=\"0\" y2=\"200\" style=\"fill: none; stroke: #ddd; stroke-width: 1; opacity: 1;\"></line><line transform=\"translate(200,-200)\" x2=\"0\" y2=\"200\" style=\"fill: none; stroke: #ddd; stroke-width: 1; opacity: 1;\"></line></g></g></g></g><g class=\"mark-group role-axis\"><g transform=\"translate(0.5,0.5)\"><path class=\"background\" d=\"M0,0h0v0h0Z\" style=\"pointer-events: none; fill: none;\"></path><g><g class=\"mark-rule role-axis-grid\" style=\"pointer-events: none;\"><line transform=\"translate(0,200)\" x2=\"200\" y2=\"0\" style=\"fill: none; stroke: #ddd; stroke-width: 1; opacity: 1;\"></line><line transform=\"translate(0,162)\" x2=\"200\" y2=\"0\" style=\"fill: none; stroke: #ddd; stroke-width: 1; opacity: 1;\"></line><line transform=\"translate(0,123)\" x2=\"200\" y2=\"0\" style=\"fill: none; stroke: #ddd; stroke-width: 1; opacity: 1;\"></line><line transform=\"translate(0,85)\" x2=\"200\" y2=\"0\" style=\"fill: none; stroke: #ddd; stroke-width: 1; opacity: 1;\"></line><line transform=\"translate(0,46)\" x2=\"200\" y2=\"0\" style=\"fill: none; stroke: #ddd; stroke-width: 1; opacity: 1;\"></line><line transform=\"translate(0,8)\" x2=\"200\" y2=\"0\" style=\"fill: none; stroke: #ddd; stroke-width: 1; opacity: 1;\"></line></g></g></g></g><g class=\"mark-symbol role-mark child_marks\"><path transform=\"translate(171.42857142857142,7.692307692307708)\" d=\"M2.7386127875258306,0A2.7386127875258306,2.7386127875258306,0,1,1,-2.7386127875258306,0A2.7386127875258306,2.7386127875258306,0,1,1,2.7386127875258306,0\" style=\"fill: none; stroke: #4c78a8; stroke-width: 2; opacity: 0.7;\"></path><path transform=\"translate(145.7142857142857,53.84615384615387)\" d=\"M2.7386127875258306,0A2.7386127875258306,2.7386127875258306,0,1,1,-2.7386127875258306,0A2.7386127875258306,2.7386127875258306,0,1,1,2.7386127875258306,0\" style=\"fill: none; stroke: #4c78a8; stroke-width: 2; opacity: 0.7;\"></path><path transform=\"translate(168.57142857142858,38.46153846153845)\" d=\"M2.7386127875258306,0A2.7386127875258306,2.7386127875258306,0,1,1,-2.7386127875258306,0A2.7386127875258306,2.7386127875258306,0,1,1,2.7386127875258306,0\" style=\"fill: none; stroke: #4c78a8; stroke-width: 2; opacity: 0.7;\"></path><path transform=\"translate(160,61.53846153846155)\" d=\"M2.7386127875258306,0A2.7386127875258306,2.7386127875258306,0,1,1,-2.7386127875258306,0A2.7386127875258306,2.7386127875258306,0,1,1,2.7386127875258306,0\" style=\"fill: none; stroke: #4c78a8; stroke-width: 2; opacity: 0.7;\"></path><path transform=\"translate(165.7142857142857,30.769230769230774)\" d=\"M2.7386127875258306,0A2.7386127875258306,2.7386127875258306,0,1,1,-2.7386127875258306,0A2.7386127875258306,2.7386127875258306,0,1,1,2.7386127875258306,0\" style=\"fill: none; stroke: #4c78a8; stroke-width: 2; opacity: 0.7;\"></path><path transform=\"translate(188.57142857142856,38.46153846153845)\" d=\"M2.7386127875258306,0A2.7386127875258306,2.7386127875258306,0,1,1,-2.7386127875258306,0A2.7386127875258306,2.7386127875258306,0,1,1,2.7386127875258306,0\" style=\"fill: none; stroke: #4c78a8; stroke-width: 2; opacity: 0.7;\"></path><path transform=\"translate(128.57142857142858,69.23076923076923)\" d=\"M2.7386127875258306,0A2.7386127875258306,2.7386127875258306,0,1,1,-2.7386127875258306,0A2.7386127875258306,2.7386127875258306,0,1,1,2.7386127875258306,0\" style=\"fill: none; stroke: #4c78a8; stroke-width: 2; opacity: 0.7;\"></path><path transform=\"translate(180,61.53846153846155)\" d=\"M2.7386127875258306,0A2.7386127875258306,2.7386127875258306,0,1,1,-2.7386127875258306,0A2.7386127875258306,2.7386127875258306,0,1,1,2.7386127875258306,0\" style=\"fill: none; stroke: #4c78a8; stroke-width: 2; opacity: 0.7;\"></path><path transform=\"translate(165.7142857142857,61.53846153846155)\" d=\"M2.7386127875258306,0A2.7386127875258306,2.7386127875258306,0,1,1,-2.7386127875258306,0A2.7386127875258306,2.7386127875258306,0,1,1,2.7386127875258306,0\" style=\"fill: none; stroke: #4c78a8; stroke-width: 2; opacity: 0.7;\"></path><path transform=\"translate(174.28571428571428,7.692307692307708)\" d=\"M2.7386127875258306,0A2.7386127875258306,2.7386127875258306,0,1,1,-2.7386127875258306,0A2.7386127875258306,2.7386127875258306,0,1,1,2.7386127875258306,0\" style=\"fill: none; stroke: #4c78a8; stroke-width: 2; opacity: 0.7;\"></path><path transform=\"translate(145.7142857142857,46.15384615384616)\" d=\"M2.7386127875258306,0A2.7386127875258306,2.7386127875258306,0,1,1,-2.7386127875258306,0A2.7386127875258306,2.7386127875258306,0,1,1,2.7386127875258306,0\" style=\"fill: none; stroke: #4c78a8; stroke-width: 2; opacity: 0.7;\"></path><path transform=\"translate(151.42857142857142,53.84615384615387)\" d=\"M2.7386127875258306,0A2.7386127875258306,2.7386127875258306,0,1,1,-2.7386127875258306,0A2.7386127875258306,2.7386127875258306,0,1,1,2.7386127875258306,0\" style=\"fill: none; stroke: #4c78a8; stroke-width: 2; opacity: 0.7;\"></path><path transform=\"translate(157.14285714285714,38.46153846153845)\" d=\"M2.7386127875258306,0A2.7386127875258306,2.7386127875258306,0,1,1,-2.7386127875258306,0A2.7386127875258306,2.7386127875258306,0,1,1,2.7386127875258306,0\" style=\"fill: none; stroke: #4c78a8; stroke-width: 2; opacity: 0.7;\"></path><path transform=\"translate(142.85714285714286,46.15384615384616)\" d=\"M2.7386127875258306,0A2.7386127875258306,2.7386127875258306,0,1,1,-2.7386127875258306,0A2.7386127875258306,2.7386127875258306,0,1,1,2.7386127875258306,0\" style=\"fill: none; stroke: #4c78a8; stroke-width: 2; opacity: 0.7;\"></path><path transform=\"translate(145.7142857142857,15.384615384615387)\" d=\"M2.7386127875258306,0A2.7386127875258306,2.7386127875258306,0,1,1,-2.7386127875258306,0A2.7386127875258306,2.7386127875258306,0,1,1,2.7386127875258306,0\" style=\"fill: none; stroke: #4c78a8; stroke-width: 2; opacity: 0.7;\"></path><path transform=\"translate(151.42857142857142,23.076923076923094)\" d=\"M2.7386127875258306,0A2.7386127875258306,2.7386127875258306,0,1,1,-2.7386127875258306,0A2.7386127875258306,2.7386127875258306,0,1,1,2.7386127875258306,0\" style=\"fill: none; stroke: #4c78a8; stroke-width: 2; opacity: 0.7;\"></path><path transform=\"translate(157.14285714285714,61.53846153846155)\" d=\"M2.7386127875258306,0A2.7386127875258306,2.7386127875258306,0,1,1,-2.7386127875258306,0A2.7386127875258306,2.7386127875258306,0,1,1,2.7386127875258306,0\" style=\"fill: none; stroke: #4c78a8; stroke-width: 2; opacity: 0.7;\"></path><path transform=\"translate(191.42857142857144,30.769230769230774)\" d=\"M2.7386127875258306,0A2.7386127875258306,2.7386127875258306,0,1,1,-2.7386127875258306,0A2.7386127875258306,2.7386127875258306,0,1,1,2.7386127875258306,0\" style=\"fill: none; stroke: #4c78a8; stroke-width: 2; opacity: 0.7;\"></path><path transform=\"translate(197.14285714285717,23.076923076923094)\" d=\"M2.7386127875258306,0A2.7386127875258306,2.7386127875258306,0,1,1,-2.7386127875258306,0A2.7386127875258306,2.7386127875258306,0,1,1,2.7386127875258306,0\" style=\"fill: none; stroke: #4c78a8; stroke-width: 2; opacity: 0.7;\"></path><path transform=\"translate(142.85714285714286,84.61538461538463)\" d=\"M2.7386127875258306,0A2.7386127875258306,2.7386127875258306,0,1,1,-2.7386127875258306,0A2.7386127875258306,2.7386127875258306,0,1,1,2.7386127875258306,0\" style=\"fill: none; stroke: #4c78a8; stroke-width: 2; opacity: 0.7;\"></path><path transform=\"translate(162.85714285714286,23.076923076923094)\" d=\"M2.7386127875258306,0A2.7386127875258306,2.7386127875258306,0,1,1,-2.7386127875258306,0A2.7386127875258306,2.7386127875258306,0,1,1,2.7386127875258306,0\" style=\"fill: none; stroke: #4c78a8; stroke-width: 2; opacity: 0.7;\"></path><path transform=\"translate(140,46.15384615384616)\" d=\"M2.7386127875258306,0A2.7386127875258306,2.7386127875258306,0,1,1,-2.7386127875258306,0A2.7386127875258306,2.7386127875258306,0,1,1,2.7386127875258306,0\" style=\"fill: none; stroke: #4c78a8; stroke-width: 2; opacity: 0.7;\"></path><path transform=\"translate(191.42857142857144,46.15384615384616)\" d=\"M2.7386127875258306,0A2.7386127875258306,2.7386127875258306,0,1,1,-2.7386127875258306,0A2.7386127875258306,2.7386127875258306,0,1,1,2.7386127875258306,0\" style=\"fill: none; stroke: #4c78a8; stroke-width: 2; opacity: 0.7;\"></path><path transform=\"translate(140,61.53846153846155)\" d=\"M2.7386127875258306,0A2.7386127875258306,2.7386127875258306,0,1,1,-2.7386127875258306,0A2.7386127875258306,2.7386127875258306,0,1,1,2.7386127875258306,0\" style=\"fill: none; stroke: #4c78a8; stroke-width: 2; opacity: 0.7;\"></path><path transform=\"translate(162.85714285714286,38.46153846153845)\" d=\"M2.7386127875258306,0A2.7386127875258306,2.7386127875258306,0,1,1,-2.7386127875258306,0A2.7386127875258306,2.7386127875258306,0,1,1,2.7386127875258306,0\" style=\"fill: none; stroke: #4c78a8; stroke-width: 2; opacity: 0.7;\"></path><path transform=\"translate(171.42857142857142,61.53846153846155)\" d=\"M2.7386127875258306,0A2.7386127875258306,2.7386127875258306,0,1,1,-2.7386127875258306,0A2.7386127875258306,2.7386127875258306,0,1,1,2.7386127875258306,0\" style=\"fill: none; stroke: #4c78a8; stroke-width: 2; opacity: 0.7;\"></path><path transform=\"translate(137.14285714285714,61.53846153846155)\" d=\"M2.7386127875258306,0A2.7386127875258306,2.7386127875258306,0,1,1,-2.7386127875258306,0A2.7386127875258306,2.7386127875258306,0,1,1,2.7386127875258306,0\" style=\"fill: none; stroke: #4c78a8; stroke-width: 2; opacity: 0.7;\"></path><path transform=\"translate(140,61.53846153846155)\" d=\"M2.7386127875258306,0A2.7386127875258306,2.7386127875258306,0,1,1,-2.7386127875258306,0A2.7386127875258306,2.7386127875258306,0,1,1,2.7386127875258306,0\" style=\"fill: none; stroke: #4c78a8; stroke-width: 2; opacity: 0.7;\"></path><path transform=\"translate(160,38.46153846153845)\" d=\"M2.7386127875258306,0A2.7386127875258306,2.7386127875258306,0,1,1,-2.7386127875258306,0A2.7386127875258306,2.7386127875258306,0,1,1,2.7386127875258306,0\" style=\"fill: none; stroke: #4c78a8; stroke-width: 2; opacity: 0.7;\"></path><path transform=\"translate(165.7142857142857,76.92307692307692)\" d=\"M2.7386127875258306,0A2.7386127875258306,2.7386127875258306,0,1,1,-2.7386127875258306,0A2.7386127875258306,2.7386127875258306,0,1,1,2.7386127875258306,0\" style=\"fill: none; stroke: #4c78a8; stroke-width: 2; opacity: 0.7;\"></path><path transform=\"translate(174.28571428571428,53.84615384615387)\" d=\"M2.7386127875258306,0A2.7386127875258306,2.7386127875258306,0,1,1,-2.7386127875258306,0A2.7386127875258306,2.7386127875258306,0,1,1,2.7386127875258306,0\" style=\"fill: none; stroke: #4c78a8; stroke-width: 2; opacity: 0.7;\"></path><path transform=\"translate(182.85714285714286,46.15384615384616)\" d=\"M2.7386127875258306,0A2.7386127875258306,2.7386127875258306,0,1,1,-2.7386127875258306,0A2.7386127875258306,2.7386127875258306,0,1,1,2.7386127875258306,0\" style=\"fill: none; stroke: #4c78a8; stroke-width: 2; opacity: 0.7;\"></path><path transform=\"translate(160,30.769230769230774)\" d=\"M2.7386127875258306,0A2.7386127875258306,2.7386127875258306,0,1,1,-2.7386127875258306,0A2.7386127875258306,2.7386127875258306,0,1,1,2.7386127875258306,0\" style=\"fill: none; stroke: #4c78a8; stroke-width: 2; opacity: 0.7;\"></path><path transform=\"translate(145.7142857142857,84.61538461538463)\" d=\"M2.7386127875258306,0A2.7386127875258306,2.7386127875258306,0,1,1,-2.7386127875258306,0A2.7386127875258306,2.7386127875258306,0,1,1,2.7386127875258306,0\" style=\"fill: none; stroke: #4c78a8; stroke-width: 2; opacity: 0.7;\"></path><path transform=\"translate(160,92.3076923076923)\" d=\"M2.7386127875258306,0A2.7386127875258306,2.7386127875258306,0,1,1,-2.7386127875258306,0A2.7386127875258306,2.7386127875258306,0,1,1,2.7386127875258306,0\" style=\"fill: none; stroke: #4c78a8; stroke-width: 2; opacity: 0.7;\"></path><path transform=\"translate(174.28571428571428,23.076923076923094)\" d=\"M2.7386127875258306,0A2.7386127875258306,2.7386127875258306,0,1,1,-2.7386127875258306,0A2.7386127875258306,2.7386127875258306,0,1,1,2.7386127875258306,0\" style=\"fill: none; stroke: #4c78a8; stroke-width: 2; opacity: 0.7;\"></path><path transform=\"translate(160,15.384615384615387)\" d=\"M2.7386127875258306,0A2.7386127875258306,2.7386127875258306,0,1,1,-2.7386127875258306,0A2.7386127875258306,2.7386127875258306,0,1,1,2.7386127875258306,0\" style=\"fill: none; stroke: #4c78a8; stroke-width: 2; opacity: 0.7;\"></path><path transform=\"translate(157.14285714285714,61.53846153846155)\" d=\"M2.7386127875258306,0A2.7386127875258306,2.7386127875258306,0,1,1,-2.7386127875258306,0A2.7386127875258306,2.7386127875258306,0,1,1,2.7386127875258306,0\" style=\"fill: none; stroke: #4c78a8; stroke-width: 2; opacity: 0.7;\"></path><path transform=\"translate(137.14285714285714,61.53846153846155)\" d=\"M2.7386127875258306,0A2.7386127875258306,2.7386127875258306,0,1,1,-2.7386127875258306,0A2.7386127875258306,2.7386127875258306,0,1,1,2.7386127875258306,0\" style=\"fill: none; stroke: #4c78a8; stroke-width: 2; opacity: 0.7;\"></path><path transform=\"translate(154.2857142857143,38.46153846153845)\" d=\"M2.7386127875258306,0A2.7386127875258306,2.7386127875258306,0,1,1,-2.7386127875258306,0A2.7386127875258306,2.7386127875258306,0,1,1,2.7386127875258306,0\" style=\"fill: none; stroke: #4c78a8; stroke-width: 2; opacity: 0.7;\"></path><path transform=\"translate(160,15.384615384615387)\" d=\"M2.7386127875258306,0A2.7386127875258306,2.7386127875258306,0,1,1,-2.7386127875258306,0A2.7386127875258306,2.7386127875258306,0,1,1,2.7386127875258306,0\" style=\"fill: none; stroke: #4c78a8; stroke-width: 2; opacity: 0.7;\"></path><path transform=\"translate(145.7142857142857,23.076923076923094)\" d=\"M2.7386127875258306,0A2.7386127875258306,2.7386127875258306,0,1,1,-2.7386127875258306,0A2.7386127875258306,2.7386127875258306,0,1,1,2.7386127875258306,0\" style=\"fill: none; stroke: #4c78a8; stroke-width: 2; opacity: 0.7;\"></path><path transform=\"translate(145.7142857142857,53.84615384615387)\" d=\"M2.7386127875258306,0A2.7386127875258306,2.7386127875258306,0,1,1,-2.7386127875258306,0A2.7386127875258306,2.7386127875258306,0,1,1,2.7386127875258306,0\" style=\"fill: none; stroke: #4c78a8; stroke-width: 2; opacity: 0.7;\"></path><path transform=\"translate(168.57142857142858,23.076923076923094)\" d=\"M2.7386127875258306,0A2.7386127875258306,2.7386127875258306,0,1,1,-2.7386127875258306,0A2.7386127875258306,2.7386127875258306,0,1,1,2.7386127875258306,0\" style=\"fill: none; stroke: #4c78a8; stroke-width: 2; opacity: 0.7;\"></path><path transform=\"translate(162.85714285714286,7.692307692307708)\" d=\"M2.7386127875258306,0A2.7386127875258306,2.7386127875258306,0,1,1,-2.7386127875258306,0A2.7386127875258306,2.7386127875258306,0,1,1,2.7386127875258306,0\" style=\"fill: none; stroke: #4c78a8; stroke-width: 2; opacity: 0.7;\"></path><path transform=\"translate(148.57142857142858,23.076923076923094)\" d=\"M2.7386127875258306,0A2.7386127875258306,2.7386127875258306,0,1,1,-2.7386127875258306,0A2.7386127875258306,2.7386127875258306,0,1,1,2.7386127875258306,0\" style=\"fill: none; stroke: #4c78a8; stroke-width: 2; opacity: 0.7;\"></path><path transform=\"translate(142.85714285714286,53.84615384615387)\" d=\"M2.7386127875258306,0A2.7386127875258306,2.7386127875258306,0,1,1,-2.7386127875258306,0A2.7386127875258306,2.7386127875258306,0,1,1,2.7386127875258306,0\" style=\"fill: none; stroke: #4c78a8; stroke-width: 2; opacity: 0.7;\"></path><path transform=\"translate(148.57142857142858,46.15384615384616)\" d=\"M2.7386127875258306,0A2.7386127875258306,2.7386127875258306,0,1,1,-2.7386127875258306,0A2.7386127875258306,2.7386127875258306,0,1,1,2.7386127875258306,0\" style=\"fill: none; stroke: #4c78a8; stroke-width: 2; opacity: 0.7;\"></path><path transform=\"translate(154.2857142857143,23.076923076923094)\" d=\"M2.7386127875258306,0A2.7386127875258306,2.7386127875258306,0,1,1,-2.7386127875258306,0A2.7386127875258306,2.7386127875258306,0,1,1,2.7386127875258306,0\" style=\"fill: none; stroke: #4c78a8; stroke-width: 2; opacity: 0.7;\"></path><path transform=\"translate(145.7142857142857,61.53846153846155)\" d=\"M2.7386127875258306,0A2.7386127875258306,2.7386127875258306,0,1,1,-2.7386127875258306,0A2.7386127875258306,2.7386127875258306,0,1,1,2.7386127875258306,0\" style=\"fill: none; stroke: #4c78a8; stroke-width: 2; opacity: 0.7;\"></path></g></g></g></g></g></g></g></g></svg>"
      ],
      "text/plain": [
       "VegaLite.VLSpec{:plot}"
      ]
     },
     "execution_count": 12,
     "metadata": {},
     "output_type": "execute_result"
    }
   ],
   "source": [
    "iris |> \n",
    "@vlplot(:point, x=:petalLength, y=:petalWidth, column=:species)"
   ]
  },
  {
   "cell_type": "markdown",
   "metadata": {},
   "source": [
    "## Histogram\n",
    "Next we show you how to create a histogram of petal length in the Iris dataset. Again we first define which dataset we want to plot. Then we chose the bar shape instead of the point. set the x-axis to petalLength. For the y-axis we want to know how often something happens this can be done with the count() function as you can see in the code below."
   ]
  },
  {
   "cell_type": "code",
   "execution_count": 13,
   "metadata": {},
   "outputs": [
    {
     "data": {
      "application/vnd.vegalite.v2+json": {
       "data": {
        "values": [
         {
          "petalLength": 1.4,
          "petalWidth": 0.2,
          "sepalLength": 5.1,
          "sepalWidth": 3.5,
          "species": "setosa"
         },
         {
          "petalLength": 1.4,
          "petalWidth": 0.2,
          "sepalLength": 4.9,
          "sepalWidth": 3,
          "species": "setosa"
         },
         {
          "petalLength": 1.3,
          "petalWidth": 0.2,
          "sepalLength": 4.7,
          "sepalWidth": 3.2,
          "species": "setosa"
         },
         {
          "petalLength": 1.5,
          "petalWidth": 0.2,
          "sepalLength": 4.6,
          "sepalWidth": 3.1,
          "species": "setosa"
         },
         {
          "petalLength": 1.4,
          "petalWidth": 0.2,
          "sepalLength": 5,
          "sepalWidth": 3.6,
          "species": "setosa"
         },
         {
          "petalLength": 1.7,
          "petalWidth": 0.4,
          "sepalLength": 5.4,
          "sepalWidth": 3.9,
          "species": "setosa"
         },
         {
          "petalLength": 1.4,
          "petalWidth": 0.3,
          "sepalLength": 4.6,
          "sepalWidth": 3.4,
          "species": "setosa"
         },
         {
          "petalLength": 1.5,
          "petalWidth": 0.2,
          "sepalLength": 5,
          "sepalWidth": 3.4,
          "species": "setosa"
         },
         {
          "petalLength": 1.4,
          "petalWidth": 0.2,
          "sepalLength": 4.4,
          "sepalWidth": 2.9,
          "species": "setosa"
         },
         {
          "petalLength": 1.5,
          "petalWidth": 0.1,
          "sepalLength": 4.9,
          "sepalWidth": 3.1,
          "species": "setosa"
         },
         {
          "petalLength": 1.5,
          "petalWidth": 0.2,
          "sepalLength": 5.4,
          "sepalWidth": 3.7,
          "species": "setosa"
         },
         {
          "petalLength": 1.6,
          "petalWidth": 0.2,
          "sepalLength": 4.8,
          "sepalWidth": 3.4,
          "species": "setosa"
         },
         {
          "petalLength": 1.4,
          "petalWidth": 0.1,
          "sepalLength": 4.8,
          "sepalWidth": 3,
          "species": "setosa"
         },
         {
          "petalLength": 1.1,
          "petalWidth": 0.1,
          "sepalLength": 4.3,
          "sepalWidth": 3,
          "species": "setosa"
         },
         {
          "petalLength": 1.2,
          "petalWidth": 0.2,
          "sepalLength": 5.8,
          "sepalWidth": 4,
          "species": "setosa"
         },
         {
          "petalLength": 1.5,
          "petalWidth": 0.4,
          "sepalLength": 5.7,
          "sepalWidth": 4.4,
          "species": "setosa"
         },
         {
          "petalLength": 1.3,
          "petalWidth": 0.4,
          "sepalLength": 5.4,
          "sepalWidth": 3.9,
          "species": "setosa"
         },
         {
          "petalLength": 1.4,
          "petalWidth": 0.3,
          "sepalLength": 5.1,
          "sepalWidth": 3.5,
          "species": "setosa"
         },
         {
          "petalLength": 1.7,
          "petalWidth": 0.3,
          "sepalLength": 5.7,
          "sepalWidth": 3.8,
          "species": "setosa"
         },
         {
          "petalLength": 1.5,
          "petalWidth": 0.3,
          "sepalLength": 5.1,
          "sepalWidth": 3.8,
          "species": "setosa"
         },
         {
          "petalLength": 1.7,
          "petalWidth": 0.2,
          "sepalLength": 5.4,
          "sepalWidth": 3.4,
          "species": "setosa"
         },
         {
          "petalLength": 1.5,
          "petalWidth": 0.4,
          "sepalLength": 5.1,
          "sepalWidth": 3.7,
          "species": "setosa"
         },
         {
          "petalLength": 1,
          "petalWidth": 0.2,
          "sepalLength": 4.6,
          "sepalWidth": 3.6,
          "species": "setosa"
         },
         {
          "petalLength": 1.7,
          "petalWidth": 0.5,
          "sepalLength": 5.1,
          "sepalWidth": 3.3,
          "species": "setosa"
         },
         {
          "petalLength": 1.9,
          "petalWidth": 0.2,
          "sepalLength": 4.8,
          "sepalWidth": 3.4,
          "species": "setosa"
         },
         {
          "petalLength": 1.6,
          "petalWidth": 0.2,
          "sepalLength": 5,
          "sepalWidth": 3,
          "species": "setosa"
         },
         {
          "petalLength": 1.6,
          "petalWidth": 0.4,
          "sepalLength": 5,
          "sepalWidth": 3.4,
          "species": "setosa"
         },
         {
          "petalLength": 1.5,
          "petalWidth": 0.2,
          "sepalLength": 5.2,
          "sepalWidth": 3.5,
          "species": "setosa"
         },
         {
          "petalLength": 1.4,
          "petalWidth": 0.2,
          "sepalLength": 5.2,
          "sepalWidth": 3.4,
          "species": "setosa"
         },
         {
          "petalLength": 1.6,
          "petalWidth": 0.2,
          "sepalLength": 4.7,
          "sepalWidth": 3.2,
          "species": "setosa"
         },
         {
          "petalLength": 1.6,
          "petalWidth": 0.2,
          "sepalLength": 4.8,
          "sepalWidth": 3.1,
          "species": "setosa"
         },
         {
          "petalLength": 1.5,
          "petalWidth": 0.4,
          "sepalLength": 5.4,
          "sepalWidth": 3.4,
          "species": "setosa"
         },
         {
          "petalLength": 1.5,
          "petalWidth": 0.1,
          "sepalLength": 5.2,
          "sepalWidth": 4.1,
          "species": "setosa"
         },
         {
          "petalLength": 1.4,
          "petalWidth": 0.2,
          "sepalLength": 5.5,
          "sepalWidth": 4.2,
          "species": "setosa"
         },
         {
          "petalLength": 1.5,
          "petalWidth": 0.2,
          "sepalLength": 4.9,
          "sepalWidth": 3.1,
          "species": "setosa"
         },
         {
          "petalLength": 1.2,
          "petalWidth": 0.2,
          "sepalLength": 5,
          "sepalWidth": 3.2,
          "species": "setosa"
         },
         {
          "petalLength": 1.3,
          "petalWidth": 0.2,
          "sepalLength": 5.5,
          "sepalWidth": 3.5,
          "species": "setosa"
         },
         {
          "petalLength": 1.4,
          "petalWidth": 0.1,
          "sepalLength": 4.9,
          "sepalWidth": 3.6,
          "species": "setosa"
         },
         {
          "petalLength": 1.3,
          "petalWidth": 0.2,
          "sepalLength": 4.4,
          "sepalWidth": 3,
          "species": "setosa"
         },
         {
          "petalLength": 1.5,
          "petalWidth": 0.2,
          "sepalLength": 5.1,
          "sepalWidth": 3.4,
          "species": "setosa"
         },
         {
          "petalLength": 1.3,
          "petalWidth": 0.3,
          "sepalLength": 5,
          "sepalWidth": 3.5,
          "species": "setosa"
         },
         {
          "petalLength": 1.3,
          "petalWidth": 0.3,
          "sepalLength": 4.5,
          "sepalWidth": 2.3,
          "species": "setosa"
         },
         {
          "petalLength": 1.3,
          "petalWidth": 0.2,
          "sepalLength": 4.4,
          "sepalWidth": 3.2,
          "species": "setosa"
         },
         {
          "petalLength": 1.6,
          "petalWidth": 0.6,
          "sepalLength": 5,
          "sepalWidth": 3.5,
          "species": "setosa"
         },
         {
          "petalLength": 1.9,
          "petalWidth": 0.4,
          "sepalLength": 5.1,
          "sepalWidth": 3.8,
          "species": "setosa"
         },
         {
          "petalLength": 1.4,
          "petalWidth": 0.3,
          "sepalLength": 4.8,
          "sepalWidth": 3,
          "species": "setosa"
         },
         {
          "petalLength": 1.6,
          "petalWidth": 0.2,
          "sepalLength": 5.1,
          "sepalWidth": 3.8,
          "species": "setosa"
         },
         {
          "petalLength": 1.4,
          "petalWidth": 0.2,
          "sepalLength": 4.6,
          "sepalWidth": 3.2,
          "species": "setosa"
         },
         {
          "petalLength": 1.5,
          "petalWidth": 0.2,
          "sepalLength": 5.3,
          "sepalWidth": 3.7,
          "species": "setosa"
         },
         {
          "petalLength": 1.4,
          "petalWidth": 0.2,
          "sepalLength": 5,
          "sepalWidth": 3.3,
          "species": "setosa"
         },
         {
          "petalLength": 4.7,
          "petalWidth": 1.4,
          "sepalLength": 7,
          "sepalWidth": 3.2,
          "species": "versicolor"
         },
         {
          "petalLength": 4.5,
          "petalWidth": 1.5,
          "sepalLength": 6.4,
          "sepalWidth": 3.2,
          "species": "versicolor"
         },
         {
          "petalLength": 4.9,
          "petalWidth": 1.5,
          "sepalLength": 6.9,
          "sepalWidth": 3.1,
          "species": "versicolor"
         },
         {
          "petalLength": 4,
          "petalWidth": 1.3,
          "sepalLength": 5.5,
          "sepalWidth": 2.3,
          "species": "versicolor"
         },
         {
          "petalLength": 4.6,
          "petalWidth": 1.5,
          "sepalLength": 6.5,
          "sepalWidth": 2.8,
          "species": "versicolor"
         },
         {
          "petalLength": 4.5,
          "petalWidth": 1.3,
          "sepalLength": 5.7,
          "sepalWidth": 2.8,
          "species": "versicolor"
         },
         {
          "petalLength": 4.7,
          "petalWidth": 1.6,
          "sepalLength": 6.3,
          "sepalWidth": 3.3,
          "species": "versicolor"
         },
         {
          "petalLength": 3.3,
          "petalWidth": 1,
          "sepalLength": 4.9,
          "sepalWidth": 2.4,
          "species": "versicolor"
         },
         {
          "petalLength": 4.6,
          "petalWidth": 1.3,
          "sepalLength": 6.6,
          "sepalWidth": 2.9,
          "species": "versicolor"
         },
         {
          "petalLength": 3.9,
          "petalWidth": 1.4,
          "sepalLength": 5.2,
          "sepalWidth": 2.7,
          "species": "versicolor"
         },
         {
          "petalLength": 3.5,
          "petalWidth": 1,
          "sepalLength": 5,
          "sepalWidth": 2,
          "species": "versicolor"
         },
         {
          "petalLength": 4.2,
          "petalWidth": 1.5,
          "sepalLength": 5.9,
          "sepalWidth": 3,
          "species": "versicolor"
         },
         {
          "petalLength": 4,
          "petalWidth": 1,
          "sepalLength": 6,
          "sepalWidth": 2.2,
          "species": "versicolor"
         },
         {
          "petalLength": 4.7,
          "petalWidth": 1.4,
          "sepalLength": 6.1,
          "sepalWidth": 2.9,
          "species": "versicolor"
         },
         {
          "petalLength": 3.6,
          "petalWidth": 1.3,
          "sepalLength": 5.6,
          "sepalWidth": 2.9,
          "species": "versicolor"
         },
         {
          "petalLength": 4.4,
          "petalWidth": 1.4,
          "sepalLength": 6.7,
          "sepalWidth": 3.1,
          "species": "versicolor"
         },
         {
          "petalLength": 4.5,
          "petalWidth": 1.5,
          "sepalLength": 5.6,
          "sepalWidth": 3,
          "species": "versicolor"
         },
         {
          "petalLength": 4.1,
          "petalWidth": 1,
          "sepalLength": 5.8,
          "sepalWidth": 2.7,
          "species": "versicolor"
         },
         {
          "petalLength": 4.5,
          "petalWidth": 1.5,
          "sepalLength": 6.2,
          "sepalWidth": 2.2,
          "species": "versicolor"
         },
         {
          "petalLength": 3.9,
          "petalWidth": 1.1,
          "sepalLength": 5.6,
          "sepalWidth": 2.5,
          "species": "versicolor"
         },
         {
          "petalLength": 4.8,
          "petalWidth": 1.8,
          "sepalLength": 5.9,
          "sepalWidth": 3.2,
          "species": "versicolor"
         },
         {
          "petalLength": 4,
          "petalWidth": 1.3,
          "sepalLength": 6.1,
          "sepalWidth": 2.8,
          "species": "versicolor"
         },
         {
          "petalLength": 4.9,
          "petalWidth": 1.5,
          "sepalLength": 6.3,
          "sepalWidth": 2.5,
          "species": "versicolor"
         },
         {
          "petalLength": 4.7,
          "petalWidth": 1.2,
          "sepalLength": 6.1,
          "sepalWidth": 2.8,
          "species": "versicolor"
         },
         {
          "petalLength": 4.3,
          "petalWidth": 1.3,
          "sepalLength": 6.4,
          "sepalWidth": 2.9,
          "species": "versicolor"
         },
         {
          "petalLength": 4.4,
          "petalWidth": 1.4,
          "sepalLength": 6.6,
          "sepalWidth": 3,
          "species": "versicolor"
         },
         {
          "petalLength": 4.8,
          "petalWidth": 1.4,
          "sepalLength": 6.8,
          "sepalWidth": 2.8,
          "species": "versicolor"
         },
         {
          "petalLength": 5,
          "petalWidth": 1.7,
          "sepalLength": 6.7,
          "sepalWidth": 3,
          "species": "versicolor"
         },
         {
          "petalLength": 4.5,
          "petalWidth": 1.5,
          "sepalLength": 6,
          "sepalWidth": 2.9,
          "species": "versicolor"
         },
         {
          "petalLength": 3.5,
          "petalWidth": 1,
          "sepalLength": 5.7,
          "sepalWidth": 2.6,
          "species": "versicolor"
         },
         {
          "petalLength": 3.8,
          "petalWidth": 1.1,
          "sepalLength": 5.5,
          "sepalWidth": 2.4,
          "species": "versicolor"
         },
         {
          "petalLength": 3.7,
          "petalWidth": 1,
          "sepalLength": 5.5,
          "sepalWidth": 2.4,
          "species": "versicolor"
         },
         {
          "petalLength": 3.9,
          "petalWidth": 1.2,
          "sepalLength": 5.8,
          "sepalWidth": 2.7,
          "species": "versicolor"
         },
         {
          "petalLength": 5.1,
          "petalWidth": 1.6,
          "sepalLength": 6,
          "sepalWidth": 2.7,
          "species": "versicolor"
         },
         {
          "petalLength": 4.5,
          "petalWidth": 1.5,
          "sepalLength": 5.4,
          "sepalWidth": 3,
          "species": "versicolor"
         },
         {
          "petalLength": 4.5,
          "petalWidth": 1.6,
          "sepalLength": 6,
          "sepalWidth": 3.4,
          "species": "versicolor"
         },
         {
          "petalLength": 4.7,
          "petalWidth": 1.5,
          "sepalLength": 6.7,
          "sepalWidth": 3.1,
          "species": "versicolor"
         },
         {
          "petalLength": 4.4,
          "petalWidth": 1.3,
          "sepalLength": 6.3,
          "sepalWidth": 2.3,
          "species": "versicolor"
         },
         {
          "petalLength": 4.1,
          "petalWidth": 1.3,
          "sepalLength": 5.6,
          "sepalWidth": 3,
          "species": "versicolor"
         },
         {
          "petalLength": 4,
          "petalWidth": 1.3,
          "sepalLength": 5.5,
          "sepalWidth": 2.5,
          "species": "versicolor"
         },
         {
          "petalLength": 4.4,
          "petalWidth": 1.2,
          "sepalLength": 5.5,
          "sepalWidth": 2.6,
          "species": "versicolor"
         },
         {
          "petalLength": 4.6,
          "petalWidth": 1.4,
          "sepalLength": 6.1,
          "sepalWidth": 3,
          "species": "versicolor"
         },
         {
          "petalLength": 4,
          "petalWidth": 1.2,
          "sepalLength": 5.8,
          "sepalWidth": 2.6,
          "species": "versicolor"
         },
         {
          "petalLength": 3.3,
          "petalWidth": 1,
          "sepalLength": 5,
          "sepalWidth": 2.3,
          "species": "versicolor"
         },
         {
          "petalLength": 4.2,
          "petalWidth": 1.3,
          "sepalLength": 5.6,
          "sepalWidth": 2.7,
          "species": "versicolor"
         },
         {
          "petalLength": 4.2,
          "petalWidth": 1.2,
          "sepalLength": 5.7,
          "sepalWidth": 3,
          "species": "versicolor"
         },
         {
          "petalLength": 4.2,
          "petalWidth": 1.3,
          "sepalLength": 5.7,
          "sepalWidth": 2.9,
          "species": "versicolor"
         },
         {
          "petalLength": 4.3,
          "petalWidth": 1.3,
          "sepalLength": 6.2,
          "sepalWidth": 2.9,
          "species": "versicolor"
         },
         {
          "petalLength": 3,
          "petalWidth": 1.1,
          "sepalLength": 5.1,
          "sepalWidth": 2.5,
          "species": "versicolor"
         },
         {
          "petalLength": 4.1,
          "petalWidth": 1.3,
          "sepalLength": 5.7,
          "sepalWidth": 2.8,
          "species": "versicolor"
         },
         {
          "petalLength": 6,
          "petalWidth": 2.5,
          "sepalLength": 6.3,
          "sepalWidth": 3.3,
          "species": "virginica"
         },
         {
          "petalLength": 5.1,
          "petalWidth": 1.9,
          "sepalLength": 5.8,
          "sepalWidth": 2.7,
          "species": "virginica"
         },
         {
          "petalLength": 5.9,
          "petalWidth": 2.1,
          "sepalLength": 7.1,
          "sepalWidth": 3,
          "species": "virginica"
         },
         {
          "petalLength": 5.6,
          "petalWidth": 1.8,
          "sepalLength": 6.3,
          "sepalWidth": 2.9,
          "species": "virginica"
         },
         {
          "petalLength": 5.8,
          "petalWidth": 2.2,
          "sepalLength": 6.5,
          "sepalWidth": 3,
          "species": "virginica"
         },
         {
          "petalLength": 6.6,
          "petalWidth": 2.1,
          "sepalLength": 7.6,
          "sepalWidth": 3,
          "species": "virginica"
         },
         {
          "petalLength": 4.5,
          "petalWidth": 1.7,
          "sepalLength": 4.9,
          "sepalWidth": 2.5,
          "species": "virginica"
         },
         {
          "petalLength": 6.3,
          "petalWidth": 1.8,
          "sepalLength": 7.3,
          "sepalWidth": 2.9,
          "species": "virginica"
         },
         {
          "petalLength": 5.8,
          "petalWidth": 1.8,
          "sepalLength": 6.7,
          "sepalWidth": 2.5,
          "species": "virginica"
         },
         {
          "petalLength": 6.1,
          "petalWidth": 2.5,
          "sepalLength": 7.2,
          "sepalWidth": 3.6,
          "species": "virginica"
         },
         {
          "petalLength": 5.1,
          "petalWidth": 2,
          "sepalLength": 6.5,
          "sepalWidth": 3.2,
          "species": "virginica"
         },
         {
          "petalLength": 5.3,
          "petalWidth": 1.9,
          "sepalLength": 6.4,
          "sepalWidth": 2.7,
          "species": "virginica"
         },
         {
          "petalLength": 5.5,
          "petalWidth": 2.1,
          "sepalLength": 6.8,
          "sepalWidth": 3,
          "species": "virginica"
         },
         {
          "petalLength": 5,
          "petalWidth": 2,
          "sepalLength": 5.7,
          "sepalWidth": 2.5,
          "species": "virginica"
         },
         {
          "petalLength": 5.1,
          "petalWidth": 2.4,
          "sepalLength": 5.8,
          "sepalWidth": 2.8,
          "species": "virginica"
         },
         {
          "petalLength": 5.3,
          "petalWidth": 2.3,
          "sepalLength": 6.4,
          "sepalWidth": 3.2,
          "species": "virginica"
         },
         {
          "petalLength": 5.5,
          "petalWidth": 1.8,
          "sepalLength": 6.5,
          "sepalWidth": 3,
          "species": "virginica"
         },
         {
          "petalLength": 6.7,
          "petalWidth": 2.2,
          "sepalLength": 7.7,
          "sepalWidth": 3.8,
          "species": "virginica"
         },
         {
          "petalLength": 6.9,
          "petalWidth": 2.3,
          "sepalLength": 7.7,
          "sepalWidth": 2.6,
          "species": "virginica"
         },
         {
          "petalLength": 5,
          "petalWidth": 1.5,
          "sepalLength": 6,
          "sepalWidth": 2.2,
          "species": "virginica"
         },
         {
          "petalLength": 5.7,
          "petalWidth": 2.3,
          "sepalLength": 6.9,
          "sepalWidth": 3.2,
          "species": "virginica"
         },
         {
          "petalLength": 4.9,
          "petalWidth": 2,
          "sepalLength": 5.6,
          "sepalWidth": 2.8,
          "species": "virginica"
         },
         {
          "petalLength": 6.7,
          "petalWidth": 2,
          "sepalLength": 7.7,
          "sepalWidth": 2.8,
          "species": "virginica"
         },
         {
          "petalLength": 4.9,
          "petalWidth": 1.8,
          "sepalLength": 6.3,
          "sepalWidth": 2.7,
          "species": "virginica"
         },
         {
          "petalLength": 5.7,
          "petalWidth": 2.1,
          "sepalLength": 6.7,
          "sepalWidth": 3.3,
          "species": "virginica"
         },
         {
          "petalLength": 6,
          "petalWidth": 1.8,
          "sepalLength": 7.2,
          "sepalWidth": 3.2,
          "species": "virginica"
         },
         {
          "petalLength": 4.8,
          "petalWidth": 1.8,
          "sepalLength": 6.2,
          "sepalWidth": 2.8,
          "species": "virginica"
         },
         {
          "petalLength": 4.9,
          "petalWidth": 1.8,
          "sepalLength": 6.1,
          "sepalWidth": 3,
          "species": "virginica"
         },
         {
          "petalLength": 5.6,
          "petalWidth": 2.1,
          "sepalLength": 6.4,
          "sepalWidth": 2.8,
          "species": "virginica"
         },
         {
          "petalLength": 5.8,
          "petalWidth": 1.6,
          "sepalLength": 7.2,
          "sepalWidth": 3,
          "species": "virginica"
         },
         {
          "petalLength": 6.1,
          "petalWidth": 1.9,
          "sepalLength": 7.4,
          "sepalWidth": 2.8,
          "species": "virginica"
         },
         {
          "petalLength": 6.4,
          "petalWidth": 2,
          "sepalLength": 7.9,
          "sepalWidth": 3.8,
          "species": "virginica"
         },
         {
          "petalLength": 5.6,
          "petalWidth": 2.2,
          "sepalLength": 6.4,
          "sepalWidth": 2.8,
          "species": "virginica"
         },
         {
          "petalLength": 5.1,
          "petalWidth": 1.5,
          "sepalLength": 6.3,
          "sepalWidth": 2.8,
          "species": "virginica"
         },
         {
          "petalLength": 5.6,
          "petalWidth": 1.4,
          "sepalLength": 6.1,
          "sepalWidth": 2.6,
          "species": "virginica"
         },
         {
          "petalLength": 6.1,
          "petalWidth": 2.3,
          "sepalLength": 7.7,
          "sepalWidth": 3,
          "species": "virginica"
         },
         {
          "petalLength": 5.6,
          "petalWidth": 2.4,
          "sepalLength": 6.3,
          "sepalWidth": 3.4,
          "species": "virginica"
         },
         {
          "petalLength": 5.5,
          "petalWidth": 1.8,
          "sepalLength": 6.4,
          "sepalWidth": 3.1,
          "species": "virginica"
         },
         {
          "petalLength": 4.8,
          "petalWidth": 1.8,
          "sepalLength": 6,
          "sepalWidth": 3,
          "species": "virginica"
         },
         {
          "petalLength": 5.4,
          "petalWidth": 2.1,
          "sepalLength": 6.9,
          "sepalWidth": 3.1,
          "species": "virginica"
         },
         {
          "petalLength": 5.6,
          "petalWidth": 2.4,
          "sepalLength": 6.7,
          "sepalWidth": 3.1,
          "species": "virginica"
         },
         {
          "petalLength": 5.1,
          "petalWidth": 2.3,
          "sepalLength": 6.9,
          "sepalWidth": 3.1,
          "species": "virginica"
         },
         {
          "petalLength": 5.1,
          "petalWidth": 1.9,
          "sepalLength": 5.8,
          "sepalWidth": 2.7,
          "species": "virginica"
         },
         {
          "petalLength": 5.9,
          "petalWidth": 2.3,
          "sepalLength": 6.8,
          "sepalWidth": 3.2,
          "species": "virginica"
         },
         {
          "petalLength": 5.7,
          "petalWidth": 2.5,
          "sepalLength": 6.7,
          "sepalWidth": 3.3,
          "species": "virginica"
         },
         {
          "petalLength": 5.2,
          "petalWidth": 2.3,
          "sepalLength": 6.7,
          "sepalWidth": 3,
          "species": "virginica"
         },
         {
          "petalLength": 5,
          "petalWidth": 1.9,
          "sepalLength": 6.3,
          "sepalWidth": 2.5,
          "species": "virginica"
         },
         {
          "petalLength": 5.2,
          "petalWidth": 2,
          "sepalLength": 6.5,
          "sepalWidth": 3,
          "species": "virginica"
         },
         {
          "petalLength": 5.4,
          "petalWidth": 2.3,
          "sepalLength": 6.2,
          "sepalWidth": 3.4,
          "species": "virginica"
         },
         {
          "petalLength": 5.1,
          "petalWidth": 1.8,
          "sepalLength": 5.9,
          "sepalWidth": 3,
          "species": "virginica"
         }
        ]
       },
       "encoding": {
        "x": {
         "bin": {
          "maxbins": 12
         },
         "field": "petalLength",
         "type": "quantitative"
        },
        "y": {
         "aggregate": "count",
         "type": "quantitative"
        }
       },
       "mark": "bar",
       "title": "Histogram of Petal Length"
      },
      "image/png": "[encoded data removed]",
      "image/svg+xml": [
       "<?xml version=\"1.0\" encoding=\"utf-8\"?>\n",
       "<!DOCTYPE svg PUBLIC \"-//W3C//DTD SVG 1.1//EN\" \"http://www.w3.org/Graphics/SVG/1.1/DTD/svg11.dtd\">\n",
       "<svg class=\"marks\" width=\"272\" height=\"263\" viewBox=\"0 0 272 263\" version=\"1.1\" xmlns=\"http://www.w3.org/2000/svg\" xmlns:xlink=\"http://www.w3.org/1999/xlink\"><g transform=\"translate(59,23)\"><g class=\"mark-group role-frame root\"><g transform=\"translate(0,0)\"><path class=\"background\" d=\"M0.5,0.5h200v200h-200Z\" style=\"fill: none; stroke: #ddd;\"></path><g><g class=\"mark-group role-axis\"><g transform=\"translate(0.5,0.5)\"><path class=\"background\" d=\"M0,0h0v0h0Z\" style=\"pointer-events: none; fill: none;\"></path><g><g class=\"mark-rule role-axis-grid\" style=\"pointer-events: none;\"><line transform=\"translate(0,200)\" x2=\"200\" y2=\"0\" style=\"fill: none; stroke: #ddd; stroke-width: 1; opacity: 1;\"></line><line transform=\"translate(0,162)\" x2=\"200\" y2=\"0\" style=\"fill: none; stroke: #ddd; stroke-width: 1; opacity: 1;\"></line><line transform=\"translate(0,123)\" x2=\"200\" y2=\"0\" style=\"fill: none; stroke: #ddd; stroke-width: 1; opacity: 1;\"></line><line transform=\"translate(0,85)\" x2=\"200\" y2=\"0\" style=\"fill: none; stroke: #ddd; stroke-width: 1; opacity: 1;\"></line><line transform=\"translate(0,46)\" x2=\"200\" y2=\"0\" style=\"fill: none; stroke: #ddd; stroke-width: 1; opacity: 1;\"></line><line transform=\"translate(0,8)\" x2=\"200\" y2=\"0\" style=\"fill: none; stroke: #ddd; stroke-width: 1; opacity: 1;\"></line></g></g></g></g><g class=\"mark-rect role-mark marks\"><path d=\"M1,15.384615384615387h15.666666666666664v184.6153846153846h-15.666666666666664Z\" style=\"fill: #4c78a8;\"></path><path d=\"M17.666666666666664,0h15.666666666666664v200h-15.666666666666664Z\" style=\"fill: #4c78a8;\"></path><path d=\"M117.66666666666667,7.692307692307679h15.666666666666643v192.30769230769232h-15.666666666666643Z\" style=\"fill: #4c78a8;\"></path><path d=\"M101,61.53846153846155h15.666666666666671v138.46153846153845h-15.666666666666671Z\" style=\"fill: #4c78a8;\"></path><path d=\"M67.66666666666666,176.92307692307693h15.666666666666686v23.076923076923066h-15.666666666666686Z\" style=\"fill: #4c78a8;\"></path><path d=\"M84.33333333333334,138.46153846153845h15.666666666666657v61.53846153846155h-15.666666666666657Z\" style=\"fill: #4c78a8;\"></path><path d=\"M134.33333333333331,61.53846153846155h15.666666666666686v138.46153846153845h-15.666666666666686Z\" style=\"fill: #4c78a8;\"></path><path d=\"M167.66666666666669,146.15384615384616h15.666666666666629v53.84615384615384h-15.666666666666629Z\" style=\"fill: #4c78a8;\"></path><path d=\"M151,69.23076923076923h15.666666666666686v130.76923076923077h-15.666666666666686Z\" style=\"fill: #4c78a8;\"></path><path d=\"M184.33333333333331,169.23076923076923h15.666666666666686v30.769230769230774h-15.666666666666686Z\" style=\"fill: #4c78a8;\"></path></g><g class=\"mark-text role-title\" style=\"pointer-events: none;\"><text text-anchor=\"middle\" transform=\"translate(77,-7)\" style=\"font-family: sans-serif; font-size: 13px; font-weight: bold; fill: #000; opacity: 1;\">Histogram of Petal Length</text></g><g class=\"mark-group role-axis\"><g transform=\"translate(0.5,200.5)\"><path class=\"background\" d=\"M0,0h0v0h0Z\" style=\"pointer-events: none; fill: none;\"></path><g><g class=\"mark-rule role-axis-tick\" style=\"pointer-events: none;\"><line transform=\"translate(0,0)\" x2=\"0\" y2=\"5\" style=\"fill: none; stroke: #888; stroke-width: 1; opacity: 1;\"></line><line transform=\"translate(33,0)\" x2=\"0\" y2=\"5\" style=\"fill: none; stroke: #888; stroke-width: 1; opacity: 1;\"></line><line transform=\"translate(67,0)\" x2=\"0\" y2=\"5\" style=\"fill: none; stroke: #888; stroke-width: 1; opacity: 1;\"></line><line transform=\"translate(100,0)\" x2=\"0\" y2=\"5\" style=\"fill: none; stroke: #888; stroke-width: 1; opacity: 1;\"></line><line transform=\"translate(133,0)\" x2=\"0\" y2=\"5\" style=\"fill: none; stroke: #888; stroke-width: 1; opacity: 1;\"></line><line transform=\"translate(167,0)\" x2=\"0\" y2=\"5\" style=\"fill: none; stroke: #888; stroke-width: 1; opacity: 1;\"></line><line transform=\"translate(200,0)\" x2=\"0\" y2=\"5\" style=\"fill: none; stroke: #888; stroke-width: 1; opacity: 1;\"></line></g><g class=\"mark-text role-axis-label\" style=\"pointer-events: none;\"><text text-anchor=\"start\" transform=\"translate(0,15)\" style=\"font-family: sans-serif; font-size: 10px; fill: #000; opacity: 1;\">1.0</text><text text-anchor=\"middle\" transform=\"translate(33.33333333333333,15)\" style=\"font-family: sans-serif; font-size: 10px; fill: #000; opacity: 0;\">2.0</text><text text-anchor=\"middle\" transform=\"translate(66.66666666666666,15)\" style=\"font-family: sans-serif; font-size: 10px; fill: #000; opacity: 1;\">3.0</text><text text-anchor=\"middle\" transform=\"translate(100,15)\" style=\"font-family: sans-serif; font-size: 10px; fill: #000; opacity: 0;\">4.0</text><text text-anchor=\"middle\" transform=\"translate(133.33333333333331,15)\" style=\"font-family: sans-serif; font-size: 10px; fill: #000; opacity: 1;\">5.0</text><text text-anchor=\"middle\" transform=\"translate(166.66666666666669,15)\" style=\"font-family: sans-serif; font-size: 10px; fill: #000; opacity: 0;\">6.0</text><text text-anchor=\"end\" transform=\"translate(200,15)\" style=\"font-family: sans-serif; font-size: 10px; fill: #000; opacity: 1;\">7.0</text></g><g class=\"mark-rule role-axis-domain\" style=\"pointer-events: none;\"><line transform=\"translate(0,0)\" x2=\"200\" y2=\"0\" style=\"fill: none; stroke: #888; stroke-width: 1; opacity: 1;\"></line></g><g class=\"mark-text role-axis-title\" style=\"pointer-events: none;\"><text text-anchor=\"middle\" transform=\"translate(100,31)\" style=\"font-family: sans-serif; font-size: 11px; font-weight: bold; fill: #000; opacity: 1;\">petalLength (binned)</text></g></g></g></g><g class=\"mark-group role-axis\"><g transform=\"translate(0.5,0.5)\"><path class=\"background\" d=\"M0,0h0v0h0Z\" style=\"pointer-events: none; fill: none;\"></path><g><g class=\"mark-rule role-axis-tick\" style=\"pointer-events: none;\"><line transform=\"translate(0,200)\" x2=\"-5\" y2=\"0\" style=\"fill: none; stroke: #888; stroke-width: 1; opacity: 1;\"></line><line transform=\"translate(0,162)\" x2=\"-5\" y2=\"0\" style=\"fill: none; stroke: #888; stroke-width: 1; opacity: 1;\"></line><line transform=\"translate(0,123)\" x2=\"-5\" y2=\"0\" style=\"fill: none; stroke: #888; stroke-width: 1; opacity: 1;\"></line><line transform=\"translate(0,85)\" x2=\"-5\" y2=\"0\" style=\"fill: none; stroke: #888; stroke-width: 1; opacity: 1;\"></line><line transform=\"translate(0,46)\" x2=\"-5\" y2=\"0\" style=\"fill: none; stroke: #888; stroke-width: 1; opacity: 1;\"></line><line transform=\"translate(0,8)\" x2=\"-5\" y2=\"0\" style=\"fill: none; stroke: #888; stroke-width: 1; opacity: 1;\"></line></g><g class=\"mark-text role-axis-label\" style=\"pointer-events: none;\"><text text-anchor=\"end\" transform=\"translate(-7,203)\" style=\"font-family: sans-serif; font-size: 10px; fill: #000; opacity: 1;\">0</text><text text-anchor=\"end\" transform=\"translate(-7,164.53846153846155)\" style=\"font-family: sans-serif; font-size: 10px; fill: #000; opacity: 1;\">5</text><text text-anchor=\"end\" transform=\"translate(-7,126.07692307692307)\" style=\"font-family: sans-serif; font-size: 10px; fill: #000; opacity: 1;\">10</text><text text-anchor=\"end\" transform=\"translate(-7,87.61538461538463)\" style=\"font-family: sans-serif; font-size: 10px; fill: #000; opacity: 1;\">15</text><text text-anchor=\"end\" transform=\"translate(-7,49.15384615384613)\" style=\"font-family: sans-serif; font-size: 10px; fill: #000; opacity: 1;\">20</text><text text-anchor=\"end\" transform=\"translate(-7,10.69230769230768)\" style=\"font-family: sans-serif; font-size: 10px; fill: #000; opacity: 1;\">25</text></g><g class=\"mark-rule role-axis-domain\" style=\"pointer-events: none;\"><line transform=\"translate(0,200)\" x2=\"0\" y2=\"-200\" style=\"fill: none; stroke: #888; stroke-width: 1; opacity: 1;\"></line></g><g class=\"mark-text role-axis-title\" style=\"pointer-events: none;\"><text text-anchor=\"middle\" transform=\"translate(-34,100) rotate(-90) translate(0,-2)\" style=\"font-family: sans-serif; font-size: 11px; font-weight: bold; fill: #000; opacity: 1;\">Number of Records</text></g></g></g></g></g></g></g></g></svg>"
      ],
      "text/plain": [
       "VegaLite.VLSpec{:plot}"
      ]
     },
     "execution_count": 13,
     "metadata": {},
     "output_type": "execute_result"
    }
   ],
   "source": [
    "iris |>\n",
    "@vlplot(:bar,title = \"Histogram of Petal Length\", x={:petalLength, bin={maxbins = 12}}, y=\"count()\")"
   ]
  },
  {
   "cell_type": "markdown",
   "metadata": {},
   "source": [
    "## Lineplot\n",
    "\n",
    "Now we show how to create a lineplot. As the iris dataset does not contain anything that you usually would like to plot with a line plot we use an other dataset included in the VegaDatasets. We first filter the dataset so it only contains data for Switzerland. To create a Lineplot you define first which dataset you want to plot. Then define the shape in this case :line define x-axis and y-axis as year and n_life_expect and you get a line plot."
   ]
  },
  {
   "cell_type": "code",
   "execution_count": 14,
   "metadata": {},
   "outputs": [
    {
     "data": {
      "application/vnd.vegalite.v2+json": {
       "data": {
        "values": [
         {
          "_comment": null,
          "country": "Switzerland",
          "fertility": 2.34,
          "life_expect": 70.56,
          "n_fertility": 2.51,
          "n_life_expect": 71.32,
          "p_fertility": null,
          "p_life_expect": null,
          "year": 1955
         },
         {
          "_comment": null,
          "country": "Switzerland",
          "fertility": 2.51,
          "life_expect": 71.32,
          "n_fertility": 2.27,
          "n_life_expect": 72.77,
          "p_fertility": 2.34,
          "p_life_expect": 70.56,
          "year": 1960
         },
         {
          "_comment": null,
          "country": "Switzerland",
          "fertility": 2.27,
          "life_expect": 72.77,
          "n_fertility": 1.82,
          "n_life_expect": 73.78,
          "p_fertility": 2.51,
          "p_life_expect": 71.32,
          "year": 1965
         },
         {
          "_comment": null,
          "country": "Switzerland",
          "fertility": 1.82,
          "life_expect": 73.78,
          "n_fertility": 1.53,
          "n_life_expect": 75.39,
          "p_fertility": 2.27,
          "p_life_expect": 72.77,
          "year": 1970
         },
         {
          "_comment": null,
          "country": "Switzerland",
          "fertility": 1.53,
          "life_expect": 75.39,
          "n_fertility": 1.53,
          "n_life_expect": 76.21,
          "p_fertility": 1.82,
          "p_life_expect": 73.78,
          "year": 1975
         },
         {
          "_comment": null,
          "country": "Switzerland",
          "fertility": 1.53,
          "life_expect": 76.21,
          "n_fertility": 1.53,
          "n_life_expect": 77.41,
          "p_fertility": 1.53,
          "p_life_expect": 75.39,
          "year": 1980
         },
         {
          "_comment": null,
          "country": "Switzerland",
          "fertility": 1.53,
          "life_expect": 77.41,
          "n_fertility": 1.54,
          "n_life_expect": 78.03,
          "p_fertility": 1.53,
          "p_life_expect": 76.21,
          "year": 1985
         },
         {
          "_comment": null,
          "country": "Switzerland",
          "fertility": 1.54,
          "life_expect": 78.03,
          "n_fertility": 1.47,
          "n_life_expect": 79.37,
          "p_fertility": 1.53,
          "p_life_expect": 77.41,
          "year": 1990
         },
         {
          "_comment": null,
          "country": "Switzerland",
          "fertility": 1.47,
          "life_expect": 79.37,
          "n_fertility": 1.415,
          "n_life_expect": 80.62,
          "p_fertility": 1.54,
          "p_life_expect": 78.03,
          "year": 1995
         },
         {
          "_comment": null,
          "country": "Switzerland",
          "fertility": 1.415,
          "life_expect": 80.62,
          "n_fertility": null,
          "n_life_expect": null,
          "p_fertility": 1.47,
          "p_life_expect": 79.37,
          "year": 2000
         }
        ]
       },
       "encoding": {
        "x": {
         "field": "year",
         "type": "quantitative"
        },
        "y": {
         "axis": {
          "title": "Life expectancy (in years)"
         },
         "field": "n_life_expect",
         "type": "quantitative"
        }
       },
       "mark": "line",
       "title": "Lineplot of Life expectency in Switzerland"
      },
      "image/png": "[encoded data removed]",
      "image/svg+xml": [
       "<?xml version=\"1.0\" encoding=\"utf-8\"?>\n",
       "<!DOCTYPE svg PUBLIC \"-//W3C//DTD SVG 1.1//EN\" \"http://www.w3.org/Graphics/SVG/1.1/DTD/svg11.dtd\">\n",
       "<svg class=\"marks\" width=\"448\" height=\"278\" viewBox=\"0 0 448 278\" version=\"1.1\" xmlns=\"http://www.w3.org/2000/svg\" xmlns:xlink=\"http://www.w3.org/1999/xlink\"><g transform=\"translate(147,38)\"><g class=\"mark-group role-frame root\"><g transform=\"translate(0,0)\"><path class=\"background\" d=\"M0.5,0.5h200v200h-200Z\" style=\"fill: none; stroke: #ddd;\"></path><g><g class=\"mark-group role-axis\"><g transform=\"translate(0.5,200.5)\"><path class=\"background\" d=\"M0,0h0v0h0Z\" style=\"pointer-events: none; fill: none;\"></path><g><g class=\"mark-rule role-axis-grid\" style=\"pointer-events: none;\"><line transform=\"translate(22,-200)\" x2=\"0\" y2=\"200\" style=\"fill: none; stroke: #ddd; stroke-width: 1; opacity: 1;\"></line><line transform=\"translate(67,-200)\" x2=\"0\" y2=\"200\" style=\"fill: none; stroke: #ddd; stroke-width: 1; opacity: 1;\"></line><line transform=\"translate(111,-200)\" x2=\"0\" y2=\"200\" style=\"fill: none; stroke: #ddd; stroke-width: 1; opacity: 1;\"></line><line transform=\"translate(156,-200)\" x2=\"0\" y2=\"200\" style=\"fill: none; stroke: #ddd; stroke-width: 1; opacity: 1;\"></line><line transform=\"translate(200,-200)\" x2=\"0\" y2=\"200\" style=\"fill: none; stroke: #ddd; stroke-width: 1; opacity: 1;\"></line></g></g></g></g><g class=\"mark-group role-axis\"><g transform=\"translate(0.5,0.5)\"><path class=\"background\" d=\"M0,0h0v0h0Z\" style=\"pointer-events: none; fill: none;\"></path><g><g class=\"mark-rule role-axis-grid\" style=\"pointer-events: none;\"><line transform=\"translate(0,200)\" x2=\"200\" y2=\"0\" style=\"fill: none; stroke: #ddd; stroke-width: 1; opacity: 1;\"></line><line transform=\"translate(0,156)\" x2=\"200\" y2=\"0\" style=\"fill: none; stroke: #ddd; stroke-width: 1; opacity: 1;\"></line><line transform=\"translate(0,111)\" x2=\"200\" y2=\"0\" style=\"fill: none; stroke: #ddd; stroke-width: 1; opacity: 1;\"></line><line transform=\"translate(0,67)\" x2=\"200\" y2=\"0\" style=\"fill: none; stroke: #ddd; stroke-width: 1; opacity: 1;\"></line><line transform=\"translate(0,22)\" x2=\"200\" y2=\"0\" style=\"fill: none; stroke: #ddd; stroke-width: 1; opacity: 1;\"></line></g></g></g></g><g class=\"mark-line role-mark marks\"><path d=\"M177.77777777777777,20.844444444444434L155.55555555555557,23.622222222222206L133.33333333333331,26.599999999999994L111.11111111111111,27.97777777777779L88.88888888888889,30.644444444444446L66.66666666666666,32.46666666666667L44.44444444444444,36.04444444444442L22.22222222222222,38.28888888888889L0,41.51111111111112\" style=\"fill: none; stroke: #4c78a8; stroke-width: 2;\"></path></g><g class=\"mark-text role-title\" style=\"pointer-events: none;\"><text text-anchor=\"middle\" transform=\"translate(77,-22)\" style=\"font-family: sans-serif; font-size: 13px; font-weight: bold; fill: #000; opacity: 1;\">Lineplot of Life expectency in Switzerland</text></g><g class=\"mark-group role-axis\"><g transform=\"translate(0.5,200.5)\"><path class=\"background\" d=\"M0,0h0v0h0Z\" style=\"pointer-events: none; fill: none;\"></path><g><g class=\"mark-rule role-axis-tick\" style=\"pointer-events: none;\"><line transform=\"translate(22,0)\" x2=\"0\" y2=\"5\" style=\"fill: none; stroke: #888; stroke-width: 1; opacity: 1;\"></line><line transform=\"translate(67,0)\" x2=\"0\" y2=\"5\" style=\"fill: none; stroke: #888; stroke-width: 1; opacity: 1;\"></line><line transform=\"translate(111,0)\" x2=\"0\" y2=\"5\" style=\"fill: none; stroke: #888; stroke-width: 1; opacity: 1;\"></line><line transform=\"translate(156,0)\" x2=\"0\" y2=\"5\" style=\"fill: none; stroke: #888; stroke-width: 1; opacity: 1;\"></line><line transform=\"translate(200,0)\" x2=\"0\" y2=\"5\" style=\"fill: none; stroke: #888; stroke-width: 1; opacity: 1;\"></line></g><g class=\"mark-text role-axis-label\" style=\"pointer-events: none;\"><text text-anchor=\"middle\" transform=\"translate(22.22222222222222,15)\" style=\"font-family: sans-serif; font-size: 10px; fill: #000; opacity: 1;\">1,960</text><text text-anchor=\"middle\" transform=\"translate(66.66666666666666,15)\" style=\"font-family: sans-serif; font-size: 10px; fill: #000; opacity: 0;\">1,970</text><text text-anchor=\"middle\" transform=\"translate(111.11111111111111,15)\" style=\"font-family: sans-serif; font-size: 10px; fill: #000; opacity: 1;\">1,980</text><text text-anchor=\"middle\" transform=\"translate(155.55555555555557,15)\" style=\"font-family: sans-serif; font-size: 10px; fill: #000; opacity: 0;\">1,990</text><text text-anchor=\"end\" transform=\"translate(200,15)\" style=\"font-family: sans-serif; font-size: 10px; fill: #000; opacity: 1;\">2,000</text></g><g class=\"mark-rule role-axis-domain\" style=\"pointer-events: none;\"><line transform=\"translate(0,0)\" x2=\"200\" y2=\"0\" style=\"fill: none; stroke: #888; stroke-width: 1; opacity: 1;\"></line></g><g class=\"mark-text role-axis-title\" style=\"pointer-events: none;\"><text text-anchor=\"middle\" transform=\"translate(100,31)\" style=\"font-family: sans-serif; font-size: 11px; font-weight: bold; fill: #000; opacity: 1;\">year</text></g></g></g></g><g class=\"mark-group role-axis\"><g transform=\"translate(0.5,0.5)\"><path class=\"background\" d=\"M0,0h0v0h0Z\" style=\"pointer-events: none; fill: none;\"></path><g><g class=\"mark-rule role-axis-tick\" style=\"pointer-events: none;\"><line transform=\"translate(0,200)\" x2=\"-5\" y2=\"0\" style=\"fill: none; stroke: #888; stroke-width: 1; opacity: 1;\"></line><line transform=\"translate(0,156)\" x2=\"-5\" y2=\"0\" style=\"fill: none; stroke: #888; stroke-width: 1; opacity: 1;\"></line><line transform=\"translate(0,111)\" x2=\"-5\" y2=\"0\" style=\"fill: none; stroke: #888; stroke-width: 1; opacity: 1;\"></line><line transform=\"translate(0,67)\" x2=\"-5\" y2=\"0\" style=\"fill: none; stroke: #888; stroke-width: 1; opacity: 1;\"></line><line transform=\"translate(0,22)\" x2=\"-5\" y2=\"0\" style=\"fill: none; stroke: #888; stroke-width: 1; opacity: 1;\"></line></g><g class=\"mark-text role-axis-label\" style=\"pointer-events: none;\"><text text-anchor=\"end\" transform=\"translate(-7,203)\" style=\"font-family: sans-serif; font-size: 10px; fill: #000; opacity: 1;\">0</text><text text-anchor=\"end\" transform=\"translate(-7,158.55555555555554)\" style=\"font-family: sans-serif; font-size: 10px; fill: #000; opacity: 1;\">20</text><text text-anchor=\"end\" transform=\"translate(-7,114.11111111111111)\" style=\"font-family: sans-serif; font-size: 10px; fill: #000; opacity: 1;\">40</text><text text-anchor=\"end\" transform=\"translate(-7,69.66666666666669)\" style=\"font-family: sans-serif; font-size: 10px; fill: #000; opacity: 1;\">60</text><text text-anchor=\"end\" transform=\"translate(-7,25.22222222222223)\" style=\"font-family: sans-serif; font-size: 10px; fill: #000; opacity: 1;\">80</text></g><g class=\"mark-rule role-axis-domain\" style=\"pointer-events: none;\"><line transform=\"translate(0,200)\" x2=\"0\" y2=\"-200\" style=\"fill: none; stroke: #888; stroke-width: 1; opacity: 1;\"></line></g><g class=\"mark-text role-axis-title\" style=\"pointer-events: none;\"><text text-anchor=\"middle\" transform=\"translate(-34,100) rotate(-90) translate(0,-2)\" style=\"font-family: sans-serif; font-size: 11px; font-weight: bold; fill: #000; opacity: 1;\">Life expectancy (in years)</text></g></g></g></g></g></g></g></g></svg>"
      ],
      "text/plain": [
       "VegaLite.VLSpec{:plot}"
      ]
     },
     "execution_count": 14,
     "metadata": {},
     "output_type": "execute_result"
    }
   ],
   "source": [
    "dataset(\"countries\")|>\n",
    " @filter(_.country==\"Switzerland\") |>\n",
    "@vlplot(:line, x = {:year}, y = {:n_life_expect,axis={title =\"Life expectancy (in years)\"}},title = \"Lineplot of Life expectency in Switzerland\")"
   ]
  },
  {
   "cell_type": "markdown",
   "metadata": {},
   "source": [
    "## Box Plot\n",
    "\n",
    "As a last plot we show how to make a Box Plot out of the Petalength Data by Species. As can be seen below this need a lot more code. The reason is that this plot is build element by element. So first we need to Calculate the quantiles, minumum, median and maximum. Then we can build a Boxplot step by step as you can see in the code below. \n"
   ]
  },
  {
   "cell_type": "code",
   "execution_count": 15,
   "metadata": {},
   "outputs": [
    {
     "data": {
      "application/vnd.vegalite.v2+json": {
       "data": {
        "values": [
         {
          "petalLength": 1.4,
          "petalWidth": 0.2,
          "sepalLength": 5.1,
          "sepalWidth": 3.5,
          "species": "setosa"
         },
         {
          "petalLength": 1.4,
          "petalWidth": 0.2,
          "sepalLength": 4.9,
          "sepalWidth": 3,
          "species": "setosa"
         },
         {
          "petalLength": 1.3,
          "petalWidth": 0.2,
          "sepalLength": 4.7,
          "sepalWidth": 3.2,
          "species": "setosa"
         },
         {
          "petalLength": 1.5,
          "petalWidth": 0.2,
          "sepalLength": 4.6,
          "sepalWidth": 3.1,
          "species": "setosa"
         },
         {
          "petalLength": 1.4,
          "petalWidth": 0.2,
          "sepalLength": 5,
          "sepalWidth": 3.6,
          "species": "setosa"
         },
         {
          "petalLength": 1.7,
          "petalWidth": 0.4,
          "sepalLength": 5.4,
          "sepalWidth": 3.9,
          "species": "setosa"
         },
         {
          "petalLength": 1.4,
          "petalWidth": 0.3,
          "sepalLength": 4.6,
          "sepalWidth": 3.4,
          "species": "setosa"
         },
         {
          "petalLength": 1.5,
          "petalWidth": 0.2,
          "sepalLength": 5,
          "sepalWidth": 3.4,
          "species": "setosa"
         },
         {
          "petalLength": 1.4,
          "petalWidth": 0.2,
          "sepalLength": 4.4,
          "sepalWidth": 2.9,
          "species": "setosa"
         },
         {
          "petalLength": 1.5,
          "petalWidth": 0.1,
          "sepalLength": 4.9,
          "sepalWidth": 3.1,
          "species": "setosa"
         },
         {
          "petalLength": 1.5,
          "petalWidth": 0.2,
          "sepalLength": 5.4,
          "sepalWidth": 3.7,
          "species": "setosa"
         },
         {
          "petalLength": 1.6,
          "petalWidth": 0.2,
          "sepalLength": 4.8,
          "sepalWidth": 3.4,
          "species": "setosa"
         },
         {
          "petalLength": 1.4,
          "petalWidth": 0.1,
          "sepalLength": 4.8,
          "sepalWidth": 3,
          "species": "setosa"
         },
         {
          "petalLength": 1.1,
          "petalWidth": 0.1,
          "sepalLength": 4.3,
          "sepalWidth": 3,
          "species": "setosa"
         },
         {
          "petalLength": 1.2,
          "petalWidth": 0.2,
          "sepalLength": 5.8,
          "sepalWidth": 4,
          "species": "setosa"
         },
         {
          "petalLength": 1.5,
          "petalWidth": 0.4,
          "sepalLength": 5.7,
          "sepalWidth": 4.4,
          "species": "setosa"
         },
         {
          "petalLength": 1.3,
          "petalWidth": 0.4,
          "sepalLength": 5.4,
          "sepalWidth": 3.9,
          "species": "setosa"
         },
         {
          "petalLength": 1.4,
          "petalWidth": 0.3,
          "sepalLength": 5.1,
          "sepalWidth": 3.5,
          "species": "setosa"
         },
         {
          "petalLength": 1.7,
          "petalWidth": 0.3,
          "sepalLength": 5.7,
          "sepalWidth": 3.8,
          "species": "setosa"
         },
         {
          "petalLength": 1.5,
          "petalWidth": 0.3,
          "sepalLength": 5.1,
          "sepalWidth": 3.8,
          "species": "setosa"
         },
         {
          "petalLength": 1.7,
          "petalWidth": 0.2,
          "sepalLength": 5.4,
          "sepalWidth": 3.4,
          "species": "setosa"
         },
         {
          "petalLength": 1.5,
          "petalWidth": 0.4,
          "sepalLength": 5.1,
          "sepalWidth": 3.7,
          "species": "setosa"
         },
         {
          "petalLength": 1,
          "petalWidth": 0.2,
          "sepalLength": 4.6,
          "sepalWidth": 3.6,
          "species": "setosa"
         },
         {
          "petalLength": 1.7,
          "petalWidth": 0.5,
          "sepalLength": 5.1,
          "sepalWidth": 3.3,
          "species": "setosa"
         },
         {
          "petalLength": 1.9,
          "petalWidth": 0.2,
          "sepalLength": 4.8,
          "sepalWidth": 3.4,
          "species": "setosa"
         },
         {
          "petalLength": 1.6,
          "petalWidth": 0.2,
          "sepalLength": 5,
          "sepalWidth": 3,
          "species": "setosa"
         },
         {
          "petalLength": 1.6,
          "petalWidth": 0.4,
          "sepalLength": 5,
          "sepalWidth": 3.4,
          "species": "setosa"
         },
         {
          "petalLength": 1.5,
          "petalWidth": 0.2,
          "sepalLength": 5.2,
          "sepalWidth": 3.5,
          "species": "setosa"
         },
         {
          "petalLength": 1.4,
          "petalWidth": 0.2,
          "sepalLength": 5.2,
          "sepalWidth": 3.4,
          "species": "setosa"
         },
         {
          "petalLength": 1.6,
          "petalWidth": 0.2,
          "sepalLength": 4.7,
          "sepalWidth": 3.2,
          "species": "setosa"
         },
         {
          "petalLength": 1.6,
          "petalWidth": 0.2,
          "sepalLength": 4.8,
          "sepalWidth": 3.1,
          "species": "setosa"
         },
         {
          "petalLength": 1.5,
          "petalWidth": 0.4,
          "sepalLength": 5.4,
          "sepalWidth": 3.4,
          "species": "setosa"
         },
         {
          "petalLength": 1.5,
          "petalWidth": 0.1,
          "sepalLength": 5.2,
          "sepalWidth": 4.1,
          "species": "setosa"
         },
         {
          "petalLength": 1.4,
          "petalWidth": 0.2,
          "sepalLength": 5.5,
          "sepalWidth": 4.2,
          "species": "setosa"
         },
         {
          "petalLength": 1.5,
          "petalWidth": 0.2,
          "sepalLength": 4.9,
          "sepalWidth": 3.1,
          "species": "setosa"
         },
         {
          "petalLength": 1.2,
          "petalWidth": 0.2,
          "sepalLength": 5,
          "sepalWidth": 3.2,
          "species": "setosa"
         },
         {
          "petalLength": 1.3,
          "petalWidth": 0.2,
          "sepalLength": 5.5,
          "sepalWidth": 3.5,
          "species": "setosa"
         },
         {
          "petalLength": 1.4,
          "petalWidth": 0.1,
          "sepalLength": 4.9,
          "sepalWidth": 3.6,
          "species": "setosa"
         },
         {
          "petalLength": 1.3,
          "petalWidth": 0.2,
          "sepalLength": 4.4,
          "sepalWidth": 3,
          "species": "setosa"
         },
         {
          "petalLength": 1.5,
          "petalWidth": 0.2,
          "sepalLength": 5.1,
          "sepalWidth": 3.4,
          "species": "setosa"
         },
         {
          "petalLength": 1.3,
          "petalWidth": 0.3,
          "sepalLength": 5,
          "sepalWidth": 3.5,
          "species": "setosa"
         },
         {
          "petalLength": 1.3,
          "petalWidth": 0.3,
          "sepalLength": 4.5,
          "sepalWidth": 2.3,
          "species": "setosa"
         },
         {
          "petalLength": 1.3,
          "petalWidth": 0.2,
          "sepalLength": 4.4,
          "sepalWidth": 3.2,
          "species": "setosa"
         },
         {
          "petalLength": 1.6,
          "petalWidth": 0.6,
          "sepalLength": 5,
          "sepalWidth": 3.5,
          "species": "setosa"
         },
         {
          "petalLength": 1.9,
          "petalWidth": 0.4,
          "sepalLength": 5.1,
          "sepalWidth": 3.8,
          "species": "setosa"
         },
         {
          "petalLength": 1.4,
          "petalWidth": 0.3,
          "sepalLength": 4.8,
          "sepalWidth": 3,
          "species": "setosa"
         },
         {
          "petalLength": 1.6,
          "petalWidth": 0.2,
          "sepalLength": 5.1,
          "sepalWidth": 3.8,
          "species": "setosa"
         },
         {
          "petalLength": 1.4,
          "petalWidth": 0.2,
          "sepalLength": 4.6,
          "sepalWidth": 3.2,
          "species": "setosa"
         },
         {
          "petalLength": 1.5,
          "petalWidth": 0.2,
          "sepalLength": 5.3,
          "sepalWidth": 3.7,
          "species": "setosa"
         },
         {
          "petalLength": 1.4,
          "petalWidth": 0.2,
          "sepalLength": 5,
          "sepalWidth": 3.3,
          "species": "setosa"
         },
         {
          "petalLength": 4.7,
          "petalWidth": 1.4,
          "sepalLength": 7,
          "sepalWidth": 3.2,
          "species": "versicolor"
         },
         {
          "petalLength": 4.5,
          "petalWidth": 1.5,
          "sepalLength": 6.4,
          "sepalWidth": 3.2,
          "species": "versicolor"
         },
         {
          "petalLength": 4.9,
          "petalWidth": 1.5,
          "sepalLength": 6.9,
          "sepalWidth": 3.1,
          "species": "versicolor"
         },
         {
          "petalLength": 4,
          "petalWidth": 1.3,
          "sepalLength": 5.5,
          "sepalWidth": 2.3,
          "species": "versicolor"
         },
         {
          "petalLength": 4.6,
          "petalWidth": 1.5,
          "sepalLength": 6.5,
          "sepalWidth": 2.8,
          "species": "versicolor"
         },
         {
          "petalLength": 4.5,
          "petalWidth": 1.3,
          "sepalLength": 5.7,
          "sepalWidth": 2.8,
          "species": "versicolor"
         },
         {
          "petalLength": 4.7,
          "petalWidth": 1.6,
          "sepalLength": 6.3,
          "sepalWidth": 3.3,
          "species": "versicolor"
         },
         {
          "petalLength": 3.3,
          "petalWidth": 1,
          "sepalLength": 4.9,
          "sepalWidth": 2.4,
          "species": "versicolor"
         },
         {
          "petalLength": 4.6,
          "petalWidth": 1.3,
          "sepalLength": 6.6,
          "sepalWidth": 2.9,
          "species": "versicolor"
         },
         {
          "petalLength": 3.9,
          "petalWidth": 1.4,
          "sepalLength": 5.2,
          "sepalWidth": 2.7,
          "species": "versicolor"
         },
         {
          "petalLength": 3.5,
          "petalWidth": 1,
          "sepalLength": 5,
          "sepalWidth": 2,
          "species": "versicolor"
         },
         {
          "petalLength": 4.2,
          "petalWidth": 1.5,
          "sepalLength": 5.9,
          "sepalWidth": 3,
          "species": "versicolor"
         },
         {
          "petalLength": 4,
          "petalWidth": 1,
          "sepalLength": 6,
          "sepalWidth": 2.2,
          "species": "versicolor"
         },
         {
          "petalLength": 4.7,
          "petalWidth": 1.4,
          "sepalLength": 6.1,
          "sepalWidth": 2.9,
          "species": "versicolor"
         },
         {
          "petalLength": 3.6,
          "petalWidth": 1.3,
          "sepalLength": 5.6,
          "sepalWidth": 2.9,
          "species": "versicolor"
         },
         {
          "petalLength": 4.4,
          "petalWidth": 1.4,
          "sepalLength": 6.7,
          "sepalWidth": 3.1,
          "species": "versicolor"
         },
         {
          "petalLength": 4.5,
          "petalWidth": 1.5,
          "sepalLength": 5.6,
          "sepalWidth": 3,
          "species": "versicolor"
         },
         {
          "petalLength": 4.1,
          "petalWidth": 1,
          "sepalLength": 5.8,
          "sepalWidth": 2.7,
          "species": "versicolor"
         },
         {
          "petalLength": 4.5,
          "petalWidth": 1.5,
          "sepalLength": 6.2,
          "sepalWidth": 2.2,
          "species": "versicolor"
         },
         {
          "petalLength": 3.9,
          "petalWidth": 1.1,
          "sepalLength": 5.6,
          "sepalWidth": 2.5,
          "species": "versicolor"
         },
         {
          "petalLength": 4.8,
          "petalWidth": 1.8,
          "sepalLength": 5.9,
          "sepalWidth": 3.2,
          "species": "versicolor"
         },
         {
          "petalLength": 4,
          "petalWidth": 1.3,
          "sepalLength": 6.1,
          "sepalWidth": 2.8,
          "species": "versicolor"
         },
         {
          "petalLength": 4.9,
          "petalWidth": 1.5,
          "sepalLength": 6.3,
          "sepalWidth": 2.5,
          "species": "versicolor"
         },
         {
          "petalLength": 4.7,
          "petalWidth": 1.2,
          "sepalLength": 6.1,
          "sepalWidth": 2.8,
          "species": "versicolor"
         },
         {
          "petalLength": 4.3,
          "petalWidth": 1.3,
          "sepalLength": 6.4,
          "sepalWidth": 2.9,
          "species": "versicolor"
         },
         {
          "petalLength": 4.4,
          "petalWidth": 1.4,
          "sepalLength": 6.6,
          "sepalWidth": 3,
          "species": "versicolor"
         },
         {
          "petalLength": 4.8,
          "petalWidth": 1.4,
          "sepalLength": 6.8,
          "sepalWidth": 2.8,
          "species": "versicolor"
         },
         {
          "petalLength": 5,
          "petalWidth": 1.7,
          "sepalLength": 6.7,
          "sepalWidth": 3,
          "species": "versicolor"
         },
         {
          "petalLength": 4.5,
          "petalWidth": 1.5,
          "sepalLength": 6,
          "sepalWidth": 2.9,
          "species": "versicolor"
         },
         {
          "petalLength": 3.5,
          "petalWidth": 1,
          "sepalLength": 5.7,
          "sepalWidth": 2.6,
          "species": "versicolor"
         },
         {
          "petalLength": 3.8,
          "petalWidth": 1.1,
          "sepalLength": 5.5,
          "sepalWidth": 2.4,
          "species": "versicolor"
         },
         {
          "petalLength": 3.7,
          "petalWidth": 1,
          "sepalLength": 5.5,
          "sepalWidth": 2.4,
          "species": "versicolor"
         },
         {
          "petalLength": 3.9,
          "petalWidth": 1.2,
          "sepalLength": 5.8,
          "sepalWidth": 2.7,
          "species": "versicolor"
         },
         {
          "petalLength": 5.1,
          "petalWidth": 1.6,
          "sepalLength": 6,
          "sepalWidth": 2.7,
          "species": "versicolor"
         },
         {
          "petalLength": 4.5,
          "petalWidth": 1.5,
          "sepalLength": 5.4,
          "sepalWidth": 3,
          "species": "versicolor"
         },
         {
          "petalLength": 4.5,
          "petalWidth": 1.6,
          "sepalLength": 6,
          "sepalWidth": 3.4,
          "species": "versicolor"
         },
         {
          "petalLength": 4.7,
          "petalWidth": 1.5,
          "sepalLength": 6.7,
          "sepalWidth": 3.1,
          "species": "versicolor"
         },
         {
          "petalLength": 4.4,
          "petalWidth": 1.3,
          "sepalLength": 6.3,
          "sepalWidth": 2.3,
          "species": "versicolor"
         },
         {
          "petalLength": 4.1,
          "petalWidth": 1.3,
          "sepalLength": 5.6,
          "sepalWidth": 3,
          "species": "versicolor"
         },
         {
          "petalLength": 4,
          "petalWidth": 1.3,
          "sepalLength": 5.5,
          "sepalWidth": 2.5,
          "species": "versicolor"
         },
         {
          "petalLength": 4.4,
          "petalWidth": 1.2,
          "sepalLength": 5.5,
          "sepalWidth": 2.6,
          "species": "versicolor"
         },
         {
          "petalLength": 4.6,
          "petalWidth": 1.4,
          "sepalLength": 6.1,
          "sepalWidth": 3,
          "species": "versicolor"
         },
         {
          "petalLength": 4,
          "petalWidth": 1.2,
          "sepalLength": 5.8,
          "sepalWidth": 2.6,
          "species": "versicolor"
         },
         {
          "petalLength": 3.3,
          "petalWidth": 1,
          "sepalLength": 5,
          "sepalWidth": 2.3,
          "species": "versicolor"
         },
         {
          "petalLength": 4.2,
          "petalWidth": 1.3,
          "sepalLength": 5.6,
          "sepalWidth": 2.7,
          "species": "versicolor"
         },
         {
          "petalLength": 4.2,
          "petalWidth": 1.2,
          "sepalLength": 5.7,
          "sepalWidth": 3,
          "species": "versicolor"
         },
         {
          "petalLength": 4.2,
          "petalWidth": 1.3,
          "sepalLength": 5.7,
          "sepalWidth": 2.9,
          "species": "versicolor"
         },
         {
          "petalLength": 4.3,
          "petalWidth": 1.3,
          "sepalLength": 6.2,
          "sepalWidth": 2.9,
          "species": "versicolor"
         },
         {
          "petalLength": 3,
          "petalWidth": 1.1,
          "sepalLength": 5.1,
          "sepalWidth": 2.5,
          "species": "versicolor"
         },
         {
          "petalLength": 4.1,
          "petalWidth": 1.3,
          "sepalLength": 5.7,
          "sepalWidth": 2.8,
          "species": "versicolor"
         },
         {
          "petalLength": 6,
          "petalWidth": 2.5,
          "sepalLength": 6.3,
          "sepalWidth": 3.3,
          "species": "virginica"
         },
         {
          "petalLength": 5.1,
          "petalWidth": 1.9,
          "sepalLength": 5.8,
          "sepalWidth": 2.7,
          "species": "virginica"
         },
         {
          "petalLength": 5.9,
          "petalWidth": 2.1,
          "sepalLength": 7.1,
          "sepalWidth": 3,
          "species": "virginica"
         },
         {
          "petalLength": 5.6,
          "petalWidth": 1.8,
          "sepalLength": 6.3,
          "sepalWidth": 2.9,
          "species": "virginica"
         },
         {
          "petalLength": 5.8,
          "petalWidth": 2.2,
          "sepalLength": 6.5,
          "sepalWidth": 3,
          "species": "virginica"
         },
         {
          "petalLength": 6.6,
          "petalWidth": 2.1,
          "sepalLength": 7.6,
          "sepalWidth": 3,
          "species": "virginica"
         },
         {
          "petalLength": 4.5,
          "petalWidth": 1.7,
          "sepalLength": 4.9,
          "sepalWidth": 2.5,
          "species": "virginica"
         },
         {
          "petalLength": 6.3,
          "petalWidth": 1.8,
          "sepalLength": 7.3,
          "sepalWidth": 2.9,
          "species": "virginica"
         },
         {
          "petalLength": 5.8,
          "petalWidth": 1.8,
          "sepalLength": 6.7,
          "sepalWidth": 2.5,
          "species": "virginica"
         },
         {
          "petalLength": 6.1,
          "petalWidth": 2.5,
          "sepalLength": 7.2,
          "sepalWidth": 3.6,
          "species": "virginica"
         },
         {
          "petalLength": 5.1,
          "petalWidth": 2,
          "sepalLength": 6.5,
          "sepalWidth": 3.2,
          "species": "virginica"
         },
         {
          "petalLength": 5.3,
          "petalWidth": 1.9,
          "sepalLength": 6.4,
          "sepalWidth": 2.7,
          "species": "virginica"
         },
         {
          "petalLength": 5.5,
          "petalWidth": 2.1,
          "sepalLength": 6.8,
          "sepalWidth": 3,
          "species": "virginica"
         },
         {
          "petalLength": 5,
          "petalWidth": 2,
          "sepalLength": 5.7,
          "sepalWidth": 2.5,
          "species": "virginica"
         },
         {
          "petalLength": 5.1,
          "petalWidth": 2.4,
          "sepalLength": 5.8,
          "sepalWidth": 2.8,
          "species": "virginica"
         },
         {
          "petalLength": 5.3,
          "petalWidth": 2.3,
          "sepalLength": 6.4,
          "sepalWidth": 3.2,
          "species": "virginica"
         },
         {
          "petalLength": 5.5,
          "petalWidth": 1.8,
          "sepalLength": 6.5,
          "sepalWidth": 3,
          "species": "virginica"
         },
         {
          "petalLength": 6.7,
          "petalWidth": 2.2,
          "sepalLength": 7.7,
          "sepalWidth": 3.8,
          "species": "virginica"
         },
         {
          "petalLength": 6.9,
          "petalWidth": 2.3,
          "sepalLength": 7.7,
          "sepalWidth": 2.6,
          "species": "virginica"
         },
         {
          "petalLength": 5,
          "petalWidth": 1.5,
          "sepalLength": 6,
          "sepalWidth": 2.2,
          "species": "virginica"
         },
         {
          "petalLength": 5.7,
          "petalWidth": 2.3,
          "sepalLength": 6.9,
          "sepalWidth": 3.2,
          "species": "virginica"
         },
         {
          "petalLength": 4.9,
          "petalWidth": 2,
          "sepalLength": 5.6,
          "sepalWidth": 2.8,
          "species": "virginica"
         },
         {
          "petalLength": 6.7,
          "petalWidth": 2,
          "sepalLength": 7.7,
          "sepalWidth": 2.8,
          "species": "virginica"
         },
         {
          "petalLength": 4.9,
          "petalWidth": 1.8,
          "sepalLength": 6.3,
          "sepalWidth": 2.7,
          "species": "virginica"
         },
         {
          "petalLength": 5.7,
          "petalWidth": 2.1,
          "sepalLength": 6.7,
          "sepalWidth": 3.3,
          "species": "virginica"
         },
         {
          "petalLength": 6,
          "petalWidth": 1.8,
          "sepalLength": 7.2,
          "sepalWidth": 3.2,
          "species": "virginica"
         },
         {
          "petalLength": 4.8,
          "petalWidth": 1.8,
          "sepalLength": 6.2,
          "sepalWidth": 2.8,
          "species": "virginica"
         },
         {
          "petalLength": 4.9,
          "petalWidth": 1.8,
          "sepalLength": 6.1,
          "sepalWidth": 3,
          "species": "virginica"
         },
         {
          "petalLength": 5.6,
          "petalWidth": 2.1,
          "sepalLength": 6.4,
          "sepalWidth": 2.8,
          "species": "virginica"
         },
         {
          "petalLength": 5.8,
          "petalWidth": 1.6,
          "sepalLength": 7.2,
          "sepalWidth": 3,
          "species": "virginica"
         },
         {
          "petalLength": 6.1,
          "petalWidth": 1.9,
          "sepalLength": 7.4,
          "sepalWidth": 2.8,
          "species": "virginica"
         },
         {
          "petalLength": 6.4,
          "petalWidth": 2,
          "sepalLength": 7.9,
          "sepalWidth": 3.8,
          "species": "virginica"
         },
         {
          "petalLength": 5.6,
          "petalWidth": 2.2,
          "sepalLength": 6.4,
          "sepalWidth": 2.8,
          "species": "virginica"
         },
         {
          "petalLength": 5.1,
          "petalWidth": 1.5,
          "sepalLength": 6.3,
          "sepalWidth": 2.8,
          "species": "virginica"
         },
         {
          "petalLength": 5.6,
          "petalWidth": 1.4,
          "sepalLength": 6.1,
          "sepalWidth": 2.6,
          "species": "virginica"
         },
         {
          "petalLength": 6.1,
          "petalWidth": 2.3,
          "sepalLength": 7.7,
          "sepalWidth": 3,
          "species": "virginica"
         },
         {
          "petalLength": 5.6,
          "petalWidth": 2.4,
          "sepalLength": 6.3,
          "sepalWidth": 3.4,
          "species": "virginica"
         },
         {
          "petalLength": 5.5,
          "petalWidth": 1.8,
          "sepalLength": 6.4,
          "sepalWidth": 3.1,
          "species": "virginica"
         },
         {
          "petalLength": 4.8,
          "petalWidth": 1.8,
          "sepalLength": 6,
          "sepalWidth": 3,
          "species": "virginica"
         },
         {
          "petalLength": 5.4,
          "petalWidth": 2.1,
          "sepalLength": 6.9,
          "sepalWidth": 3.1,
          "species": "virginica"
         },
         {
          "petalLength": 5.6,
          "petalWidth": 2.4,
          "sepalLength": 6.7,
          "sepalWidth": 3.1,
          "species": "virginica"
         },
         {
          "petalLength": 5.1,
          "petalWidth": 2.3,
          "sepalLength": 6.9,
          "sepalWidth": 3.1,
          "species": "virginica"
         },
         {
          "petalLength": 5.1,
          "petalWidth": 1.9,
          "sepalLength": 5.8,
          "sepalWidth": 2.7,
          "species": "virginica"
         },
         {
          "petalLength": 5.9,
          "petalWidth": 2.3,
          "sepalLength": 6.8,
          "sepalWidth": 3.2,
          "species": "virginica"
         },
         {
          "petalLength": 5.7,
          "petalWidth": 2.5,
          "sepalLength": 6.7,
          "sepalWidth": 3.3,
          "species": "virginica"
         },
         {
          "petalLength": 5.2,
          "petalWidth": 2.3,
          "sepalLength": 6.7,
          "sepalWidth": 3,
          "species": "virginica"
         },
         {
          "petalLength": 5,
          "petalWidth": 1.9,
          "sepalLength": 6.3,
          "sepalWidth": 2.5,
          "species": "virginica"
         },
         {
          "petalLength": 5.2,
          "petalWidth": 2,
          "sepalLength": 6.5,
          "sepalWidth": 3,
          "species": "virginica"
         },
         {
          "petalLength": 5.4,
          "petalWidth": 2.3,
          "sepalLength": 6.2,
          "sepalWidth": 3.4,
          "species": "virginica"
         },
         {
          "petalLength": 5.1,
          "petalWidth": 1.8,
          "sepalLength": 5.9,
          "sepalWidth": 3,
          "species": "virginica"
         }
        ]
       },
       "layer": [
        {
         "encoding": {
          "x": {
           "field": "species",
           "type": "ordinal"
          },
          "y": {
           "axis": {
            "title": "Petal Length (in cm)"
           },
           "field": "lowerWhisker",
           "type": "quantitative"
          },
          "y2": {
           "field": "lowerBox",
           "type": "quantitative"
          }
         },
         "mark": {
          "style": "boxWhisker",
          "type": "rule"
         }
        },
        {
         "encoding": {
          "x": {
           "field": "species",
           "type": "ordinal"
          },
          "y": {
           "field": "upperBox",
           "type": "quantitative"
          },
          "y2": {
           "field": "upperWhisker",
           "type": "quantitative"
          }
         },
         "mark": {
          "style": "boxWhisker",
          "type": "rule"
         }
        },
        {
         "encoding": {
          "size": {
           "value": 15
          },
          "x": {
           "field": "species",
           "type": "ordinal"
          },
          "y": {
           "field": "lowerBox",
           "type": "quantitative"
          },
          "y2": {
           "field": "upperBox",
           "type": "quantitative"
          }
         },
         "mark": {
          "style": "box",
          "type": "bar"
         }
        },
        {
         "encoding": {
          "color": {
           "value": "white"
          },
          "size": {
           "value": 15
          },
          "x": {
           "field": "species",
           "type": "ordinal"
          },
          "y": {
           "field": "midBox",
           "type": "quantitative"
          }
         },
         "mark": {
          "style": "boxMid",
          "type": "tick"
         }
        }
       ],
       "title": "Boxplot of Petal Length by Species",
       "transform": [
        {
         "aggregate": [
          {
           "as": "lowerBox",
           "field": "petalLength",
           "op": "q1"
          },
          {
           "as": "upperBox",
           "field": "petalLength",
           "op": "q3"
          },
          {
           "as": "midBox",
           "field": "petalLength",
           "op": "median"
          },
          {
           "as": "lowerWhisker",
           "field": "petalLength",
           "op": "min"
          },
          {
           "as": "upperWhisker",
           "field": "petalLength",
           "op": "max"
          }
         ],
         "groupby": [
          "species"
         ]
        }
       ]
      },
      "image/png": "[encoded data removed]",
      "image/svg+xml": [
       "<?xml version=\"1.0\" encoding=\"utf-8\"?>\n",
       "<!DOCTYPE svg PUBLIC \"-//W3C//DTD SVG 1.1//EN\" \"http://www.w3.org/Graphics/SVG/1.1/DTD/svg11.dtd\">\n",
       "<svg class=\"marks\" width=\"366\" height=\"339\" viewBox=\"0 0 366 339\" version=\"1.1\" xmlns=\"http://www.w3.org/2000/svg\" xmlns:xlink=\"http://www.w3.org/1999/xlink\"><g transform=\"translate(175,29)\"><g class=\"mark-group role-frame root\"><g transform=\"translate(0,0)\"><path class=\"background\" d=\"M0.5,0.5h63v200h-63Z\" style=\"fill: none; stroke: #ddd;\"></path><g><g class=\"mark-group role-axis\"><g transform=\"translate(0.5,0.5)\"><path class=\"background\" d=\"M0,0h0v0h0Z\" style=\"pointer-events: none; fill: none;\"></path><g><g class=\"mark-rule role-axis-grid\" style=\"pointer-events: none;\"><line transform=\"translate(0,200)\" x2=\"63\" y2=\"0\" style=\"fill: none; stroke: #ddd; stroke-width: 1; opacity: 1;\"></line><line transform=\"translate(0,171)\" x2=\"63\" y2=\"0\" style=\"fill: none; stroke: #ddd; stroke-width: 1; opacity: 1;\"></line><line transform=\"translate(0,143)\" x2=\"63\" y2=\"0\" style=\"fill: none; stroke: #ddd; stroke-width: 1; opacity: 1;\"></line><line transform=\"translate(0,114)\" x2=\"63\" y2=\"0\" style=\"fill: none; stroke: #ddd; stroke-width: 1; opacity: 1;\"></line><line transform=\"translate(0,86)\" x2=\"63\" y2=\"0\" style=\"fill: none; stroke: #ddd; stroke-width: 1; opacity: 1;\"></line><line transform=\"translate(0,57)\" x2=\"63\" y2=\"0\" style=\"fill: none; stroke: #ddd; stroke-width: 1; opacity: 1;\"></line><line transform=\"translate(0,29)\" x2=\"63\" y2=\"0\" style=\"fill: none; stroke: #ddd; stroke-width: 1; opacity: 1;\"></line><line transform=\"translate(0,0)\" x2=\"63\" y2=\"0\" style=\"fill: none; stroke: #ddd; stroke-width: 1; opacity: 1;\"></line></g></g></g></g><g class=\"mark-rule role-mark layer_0_marks\"><line transform=\"translate(10.500000000000002,171.42857142857144)\" x2=\"0\" y2=\"-11.428571428571445\" style=\"fill: none; stroke: black;\"></line><line transform=\"translate(31.5,114.28571428571429)\" x2=\"0\" y2=\"-28.57142857142857\" style=\"fill: none; stroke: black;\"></line><line transform=\"translate(52.5,71.42857142857142)\" x2=\"0\" y2=\"-17.14285714285711\" style=\"fill: none; stroke: black;\"></line></g><g class=\"mark-rule role-mark layer_1_marks\"><line transform=\"translate(10.500000000000002,155)\" x2=\"0\" y2=\"-9.285714285714278\" style=\"fill: none; stroke: black;\"></line><line transform=\"translate(31.5,68.57142857142858)\" x2=\"0\" y2=\"-14.285714285714278\" style=\"fill: none; stroke: black;\"></line><line transform=\"translate(52.5,32.14285714285714)\" x2=\"0\" y2=\"-29.285714285714306\" style=\"fill: none; stroke: black;\"></line></g><g class=\"mark-rect role-mark layer_2_marks\"><path d=\"M3.0000000000000018,155h15v5h-15Z\" style=\"fill: #4c78a8;\"></path><path d=\"M24,68.57142857142858h15v17.14285714285714h-15Z\" style=\"fill: #4c78a8;\"></path><path d=\"M45,32.14285714285714h15v22.142857142857167h-15Z\" style=\"fill: #4c78a8;\"></path></g><g class=\"mark-rect role-mark layer_3_marks\"><path d=\"M3.0000000000000018,156.64285714285714h15v1h-15Z\" style=\"fill: white; opacity: 0.7;\"></path><path d=\"M24,75.21428571428574h15v1h-15Z\" style=\"fill: white; opacity: 0.7;\"></path><path d=\"M45,40.928571428571445h15v1h-15Z\" style=\"fill: white; opacity: 0.7;\"></path></g><g class=\"mark-text role-title\" style=\"pointer-events: none;\"><text text-anchor=\"middle\" transform=\"translate(8,-13)\" style=\"font-family: sans-serif; font-size: 13px; font-weight: bold; fill: #000; opacity: 1;\">Boxplot of Petal Length by Species</text></g><g class=\"mark-group role-axis\"><g transform=\"translate(0.5,200.5)\"><path class=\"background\" d=\"M0,0h0v0h0Z\" style=\"pointer-events: none; fill: none;\"></path><g><g class=\"mark-rule role-axis-tick\" style=\"pointer-events: none;\"><line transform=\"translate(10,0)\" x2=\"0\" y2=\"5\" style=\"fill: none; stroke: #888; stroke-width: 1; opacity: 1;\"></line><line transform=\"translate(31,0)\" x2=\"0\" y2=\"5\" style=\"fill: none; stroke: #888; stroke-width: 1; opacity: 1;\"></line><line transform=\"translate(52,0)\" x2=\"0\" y2=\"5\" style=\"fill: none; stroke: #888; stroke-width: 1; opacity: 1;\"></line></g><g class=\"mark-text role-axis-label\" style=\"pointer-events: none;\"><text text-anchor=\"end\" transform=\"translate(9.500000000000002,7) rotate(270) translate(0,3)\" style=\"font-family: sans-serif; font-size: 10px; fill: #000; opacity: 1;\">setosa</text><text text-anchor=\"end\" transform=\"translate(30.5,7) rotate(270) translate(0,3)\" style=\"font-family: sans-serif; font-size: 10px; fill: #000; opacity: 1;\">versicolor</text><text text-anchor=\"end\" transform=\"translate(51.5,7) rotate(270) translate(0,3)\" style=\"font-family: sans-serif; font-size: 10px; fill: #000; opacity: 1;\">virginica</text></g><g class=\"mark-rule role-axis-domain\" style=\"pointer-events: none;\"><line transform=\"translate(0,0)\" x2=\"63\" y2=\"0\" style=\"fill: none; stroke: #888; stroke-width: 1; opacity: 1;\"></line></g><g class=\"mark-text role-axis-title\" style=\"pointer-events: none;\"><text text-anchor=\"middle\" transform=\"translate(31.5,101)\" style=\"font-family: sans-serif; font-size: 11px; font-weight: bold; fill: #000; opacity: 1;\">species</text></g></g></g></g><g class=\"mark-group role-axis\"><g transform=\"translate(0.5,0.5)\"><path class=\"background\" d=\"M0,0h0v0h0Z\" style=\"pointer-events: none; fill: none;\"></path><g><g class=\"mark-rule role-axis-tick\" style=\"pointer-events: none;\"><line transform=\"translate(0,200)\" x2=\"-5\" y2=\"0\" style=\"fill: none; stroke: #888; stroke-width: 1; opacity: 1;\"></line><line transform=\"translate(0,171)\" x2=\"-5\" y2=\"0\" style=\"fill: none; stroke: #888; stroke-width: 1; opacity: 1;\"></line><line transform=\"translate(0,143)\" x2=\"-5\" y2=\"0\" style=\"fill: none; stroke: #888; stroke-width: 1; opacity: 1;\"></line><line transform=\"translate(0,114)\" x2=\"-5\" y2=\"0\" style=\"fill: none; stroke: #888; stroke-width: 1; opacity: 1;\"></line><line transform=\"translate(0,86)\" x2=\"-5\" y2=\"0\" style=\"fill: none; stroke: #888; stroke-width: 1; opacity: 1;\"></line><line transform=\"translate(0,57)\" x2=\"-5\" y2=\"0\" style=\"fill: none; stroke: #888; stroke-width: 1; opacity: 1;\"></line><line transform=\"translate(0,29)\" x2=\"-5\" y2=\"0\" style=\"fill: none; stroke: #888; stroke-width: 1; opacity: 1;\"></line><line transform=\"translate(0,0)\" x2=\"-5\" y2=\"0\" style=\"fill: none; stroke: #888; stroke-width: 1; opacity: 1;\"></line></g><g class=\"mark-text role-axis-label\" style=\"pointer-events: none;\"><text text-anchor=\"end\" transform=\"translate(-7,203)\" style=\"font-family: sans-serif; font-size: 10px; fill: #000; opacity: 1;\">0</text><text text-anchor=\"end\" transform=\"translate(-7,174.42857142857144)\" style=\"font-family: sans-serif; font-size: 10px; fill: #000; opacity: 1;\">1</text><text text-anchor=\"end\" transform=\"translate(-7,145.85714285714286)\" style=\"font-family: sans-serif; font-size: 10px; fill: #000; opacity: 1;\">2</text><text text-anchor=\"end\" transform=\"translate(-7,117.28571428571429)\" style=\"font-family: sans-serif; font-size: 10px; fill: #000; opacity: 1;\">3</text><text text-anchor=\"end\" transform=\"translate(-7,88.71428571428572)\" style=\"font-family: sans-serif; font-size: 10px; fill: #000; opacity: 1;\">4</text><text text-anchor=\"end\" transform=\"translate(-7,60.14285714285714)\" style=\"font-family: sans-serif; font-size: 10px; fill: #000; opacity: 1;\">5</text><text text-anchor=\"end\" transform=\"translate(-7,31.571428571428584)\" style=\"font-family: sans-serif; font-size: 10px; fill: #000; opacity: 1;\">6</text><text text-anchor=\"end\" transform=\"translate(-7,3)\" style=\"font-family: sans-serif; font-size: 10px; fill: #000; opacity: 1;\">7</text></g><g class=\"mark-rule role-axis-domain\" style=\"pointer-events: none;\"><line transform=\"translate(0,200)\" x2=\"0\" y2=\"-200\" style=\"fill: none; stroke: #888; stroke-width: 1; opacity: 1;\"></line></g><g class=\"mark-text role-axis-title\" style=\"pointer-events: none;\"><text text-anchor=\"middle\" transform=\"translate(-34,100) rotate(-90) translate(0,-2)\" style=\"font-family: sans-serif; font-size: 11px; font-weight: bold; fill: #000; opacity: 1;\">Petal Length (in cm)</text></g></g></g></g></g></g></g></g></svg>"
      ],
      "text/plain": [
       "VegaLite.VLSpec{:plot}"
      ]
     },
     "execution_count": 15,
     "metadata": {},
     "output_type": "execute_result"
    }
   ],
   "source": [
    "iris |>\n",
    "@vlplot(title = \"Boxplot of Petal Length by Species\",\n",
    "# Calculate the different Values needed to plot a Boxplot (Quartiles, Min, Max)   \n",
    "    transform=[{\n",
    "        aggregate=[\n",
    "            {op=:q1, field=:petalLength, as=:lowerBox},\n",
    "            {op=:q3, field=:petalLength, as=:upperBox},\n",
    "            {op=:median, field=:petalLength, as=:midBox},\n",
    "            {op=:min, field=:petalLength, as=:lowerWhisker},\n",
    "            {op=:max, field=:petalLength, as=:upperWhisker}\n",
    "        ],\n",
    "        groupby=[:species]\n",
    "    }]\n",
    ") +\n",
    "# Plot lower Whisker\n",
    "@vlplot(\n",
    "    mark={:rule, style=:boxWhisker},\n",
    "    y={\"lowerWhisker:q\", axis={title=\"Petal Length (in cm)\"}},\n",
    "    y2=\"lowerBox:q\",\n",
    "    x=\"species:o\"\n",
    ") +\n",
    "# Plot upper Whisker\n",
    "@vlplot(\n",
    "    mark={:rule, style=:boxWhisker},\n",
    "    y=\"upperBox:q\",\n",
    "    y2=\"upperWhisker:q\",\n",
    "    x=\"species:o\"\n",
    ") +\n",
    "# Plot Box\n",
    "@vlplot(\n",
    "    mark={:bar, style=:box},\n",
    "    y=\"lowerBox:q\",\n",
    "    y2=\"upperBox:q\",\n",
    "    x=\"species:o\",\n",
    "    size={value=15}\n",
    ") +\n",
    "# Plot an indicator for median on the Box\n",
    "@vlplot(\n",
    "    mark={:tick, style=:boxMid},\n",
    "    y=\"midBox:q\",\n",
    "    x=\"species:o\",\n",
    "    color={value=:white},\n",
    "    size={value=15}\n",
    ")"
   ]
  },
  {
   "cell_type": "markdown",
   "metadata": {},
   "source": [
    "<a id=\"filter\"></a>\n",
    "# Queries\n",
    "The idea is that when we look at a dataset we might want to have a look at specific characteristics and see how they are represented in our dataset. A nice package to perform such queries is called **query.jl**. <br />\n",
    "The first query is a simple standalone query. It filters the dataset for some value, then maps the chosen variables, and finally orders them by one of the variables. "
   ]
  },
  {
   "cell_type": "code",
   "execution_count": 16,
   "metadata": {},
   "outputs": [
    {
     "data": {
      "text/html": [
       "<table class=\"data-frame\"><thead><tr><th></th><th>species</th><th>sepalLength</th><th>sepalWidth</th></tr><tr><th></th><th>String</th><th>Float64</th><th>Float64</th></tr></thead><tbody><p>4 rows × 3 columns</p><tr><th>1</th><td>setosa</td><td>5.7</td><td>4.4</td></tr><tr><th>2</th><td>setosa</td><td>5.5</td><td>4.2</td></tr><tr><th>3</th><td>setosa</td><td>5.2</td><td>4.1</td></tr><tr><th>4</th><td>setosa</td><td>5.8</td><td>4.0</td></tr></tbody></table>"
      ],
      "text/latex": [
       "\\begin{tabular}{r|ccc}\n",
       "\t& species & sepalLength & sepalWidth\\\\\n",
       "\t\\hline\n",
       "\t& String & Float64 & Float64\\\\\n",
       "\t\\hline\n",
       "\t1 & setosa & 5.7 & 4.4 \\\\\n",
       "\t2 & setosa & 5.5 & 4.2 \\\\\n",
       "\t3 & setosa & 5.2 & 4.1 \\\\\n",
       "\t4 & setosa & 5.8 & 4.0 \\\\\n",
       "\\end{tabular}\n"
      ],
      "text/plain": [
       "4×3 DataFrame\n",
       "│ Row │ species │ sepalLength │ sepalWidth │\n",
       "│     │ \u001b[90mString\u001b[39m  │ \u001b[90mFloat64\u001b[39m     │ \u001b[90mFloat64\u001b[39m    │\n",
       "├─────┼─────────┼─────────────┼────────────┤\n",
       "│ 1   │ setosa  │ 5.7         │ 4.4        │\n",
       "│ 2   │ setosa  │ 5.5         │ 4.2        │\n",
       "│ 3   │ setosa  │ 5.2         │ 4.1        │\n",
       "│ 4   │ setosa  │ 5.8         │ 4.0        │"
      ]
     },
     "execution_count": 16,
     "metadata": {},
     "output_type": "execute_result"
    }
   ],
   "source": [
    "x = iris |>\n",
    "  @filter(_.sepalWidth>3.9) |>\n",
    "  @map({_.species, _.sepalLength, _.sepalWidth}) |>\n",
    "  @orderby_descending(_.sepalWidth) |>\n",
    "  DataFrame"
   ]
  },
  {
   "cell_type": "markdown",
   "metadata": {},
   "source": [
    "The second query gives the exact same values, however it first uses the **groupby** function. The groupby function comes in handy when you want to see how other variables relate to the variable you picked for your groupby function. \n",
    "In this case we group the dataset based on *sepalWidth* and then see how *sepalLength* relates to this. Further we take the mean of all the *sepalLength observations* per *sepalWidth* so that we see what the average *sepalLength* per *sepalWidth* is.\n",
    "The **map** function puts this relation into a dataframe.\n",
    "The **filter** function determines what values of *sepalWidth* we are looking at.\n",
    "The **orderby** function orders the variables (this can be descending, ascending(default)). In a second turn one can use the **thenby** function which sorts the non-groupby variables within the overall **orderby** structure. "
   ]
  },
  {
   "cell_type": "code",
   "execution_count": 17,
   "metadata": {},
   "outputs": [
    {
     "data": {
      "text/html": [
       "<table class=\"data-frame\"><thead><tr><th></th><th>sepalWidth</th><th>sepalLength_mean</th></tr><tr><th></th><th>Float64</th><th>Float64</th></tr></thead><tbody><p>23 rows × 2 columns</p><tr><th>1</th><td>4.4</td><td>5.7</td></tr><tr><th>2</th><td>4.2</td><td>5.5</td></tr><tr><th>3</th><td>4.1</td><td>5.2</td></tr><tr><th>4</th><td>4.0</td><td>5.8</td></tr><tr><th>5</th><td>3.9</td><td>5.4</td></tr><tr><th>6</th><td>3.8</td><td>6.1</td></tr><tr><th>7</th><td>3.7</td><td>5.26667</td></tr><tr><th>8</th><td>3.6</td><td>5.425</td></tr><tr><th>9</th><td>3.5</td><td>5.15</td></tr><tr><th>10</th><td>3.4</td><td>5.31667</td></tr><tr><th>11</th><td>3.3</td><td>6.01667</td></tr><tr><th>12</th><td>3.2</td><td>5.88462</td></tr><tr><th>13</th><td>3.1</td><td>6.03636</td></tr><tr><th>14</th><td>3.0</td><td>6.01538</td></tr><tr><th>15</th><td>2.9</td><td>6.06</td></tr><tr><th>16</th><td>2.8</td><td>6.33571</td></tr><tr><th>17</th><td>2.7</td><td>5.85556</td></tr><tr><th>18</th><td>2.6</td><td>6.16</td></tr><tr><th>19</th><td>2.5</td><td>5.7625</td></tr><tr><th>20</th><td>2.4</td><td>5.3</td></tr><tr><th>21</th><td>2.3</td><td>5.325</td></tr><tr><th>22</th><td>2.2</td><td>6.06667</td></tr><tr><th>23</th><td>2.0</td><td>5.0</td></tr></tbody></table>"
      ],
      "text/latex": [
       "\\begin{tabular}{r|cc}\n",
       "\t& sepalWidth & sepalLength\\_mean\\\\\n",
       "\t\\hline\n",
       "\t& Float64 & Float64\\\\\n",
       "\t\\hline\n",
       "\t1 & 4.4 & 5.7 \\\\\n",
       "\t2 & 4.2 & 5.5 \\\\\n",
       "\t3 & 4.1 & 5.2 \\\\\n",
       "\t4 & 4.0 & 5.8 \\\\\n",
       "\t5 & 3.9 & 5.4 \\\\\n",
       "\t6 & 3.8 & 6.1 \\\\\n",
       "\t7 & 3.7 & 5.26667 \\\\\n",
       "\t8 & 3.6 & 5.425 \\\\\n",
       "\t9 & 3.5 & 5.15 \\\\\n",
       "\t10 & 3.4 & 5.31667 \\\\\n",
       "\t11 & 3.3 & 6.01667 \\\\\n",
       "\t12 & 3.2 & 5.88462 \\\\\n",
       "\t13 & 3.1 & 6.03636 \\\\\n",
       "\t14 & 3.0 & 6.01538 \\\\\n",
       "\t15 & 2.9 & 6.06 \\\\\n",
       "\t16 & 2.8 & 6.33571 \\\\\n",
       "\t17 & 2.7 & 5.85556 \\\\\n",
       "\t18 & 2.6 & 6.16 \\\\\n",
       "\t19 & 2.5 & 5.7625 \\\\\n",
       "\t20 & 2.4 & 5.3 \\\\\n",
       "\t21 & 2.3 & 5.325 \\\\\n",
       "\t22 & 2.2 & 6.06667 \\\\\n",
       "\t23 & 2.0 & 5.0 \\\\\n",
       "\\end{tabular}\n"
      ],
      "text/plain": [
       "23×2 DataFrame\n",
       "│ Row │ sepalWidth │ sepalLength_mean │\n",
       "│     │ \u001b[90mFloat64\u001b[39m    │ \u001b[90mFloat64\u001b[39m          │\n",
       "├─────┼────────────┼──────────────────┤\n",
       "│ 1   │ 4.4        │ 5.7              │\n",
       "│ 2   │ 4.2        │ 5.5              │\n",
       "│ 3   │ 4.1        │ 5.2              │\n",
       "│ 4   │ 4.0        │ 5.8              │\n",
       "│ 5   │ 3.9        │ 5.4              │\n",
       "│ 6   │ 3.8        │ 6.1              │\n",
       "│ 7   │ 3.7        │ 5.26667          │\n",
       "│ 8   │ 3.6        │ 5.425            │\n",
       "│ 9   │ 3.5        │ 5.15             │\n",
       "│ 10  │ 3.4        │ 5.31667          │\n",
       "│ 11  │ 3.3        │ 6.01667          │\n",
       "│ 12  │ 3.2        │ 5.88462          │\n",
       "│ 13  │ 3.1        │ 6.03636          │\n",
       "│ 14  │ 3.0        │ 6.01538          │\n",
       "│ 15  │ 2.9        │ 6.06             │\n",
       "│ 16  │ 2.8        │ 6.33571          │\n",
       "│ 17  │ 2.7        │ 5.85556          │\n",
       "│ 18  │ 2.6        │ 6.16             │\n",
       "│ 19  │ 2.5        │ 5.7625           │\n",
       "│ 20  │ 2.4        │ 5.3              │\n",
       "│ 21  │ 2.3        │ 5.325            │\n",
       "│ 22  │ 2.2        │ 6.06667          │\n",
       "│ 23  │ 2.0        │ 5.0              │"
      ]
     },
     "execution_count": 17,
     "metadata": {},
     "output_type": "execute_result"
    }
   ],
   "source": [
    "manipulated_iris = iris |>\n",
    "    @groupby(_.sepalWidth) |>\n",
    "    @map({sepalWidth=key(_), sepalLength_mean=mean(_.sepalLength)})|>\n",
    "    @filter(_.sepalWidth > 0) |>\n",
    "    @orderby_descending(_.sepalWidth) |>\n",
    "    DataFrame"
   ]
  },
  {
   "cell_type": "markdown",
   "metadata": {},
   "source": [
    "With the function **groupjoin** we can take columns from different datasets and see how they match. This can be of value when we try to compare two datasets and analyse them based on similiarities. <br />\n",
    "The **first** function is the outer structure (the dataset by which we group) *iris* in this case. <br />\n",
    "The **second** function is the inner structure (the dataset that gets grouped) *cars* in this case. <br />\n",
    "The **third** function specifies by which column of the outer structure we want to group *sepalWidth* in this case. <br />\n",
    "The **fourth** function specifies which column of the inner structure is grouped *Acceleration* in this case. <br />\n",
    "The **fifth** function takes two arguments, the column by that we group and the way how we present our match. <br /> "
   ]
  },
  {
   "cell_type": "code",
   "execution_count": 18,
   "metadata": {},
   "outputs": [
    {
     "data": {
      "text/html": [
       "<table class=\"data-frame\"><thead><tr><th></th><th>Width</th><th>Matches</th></tr><tr><th></th><th>Float64</th><th>Int64</th></tr></thead><tbody><p>150 rows × 2 columns</p><tr><th>1</th><td>3.5</td><td>0</td></tr><tr><th>2</th><td>3.0</td><td>0</td></tr><tr><th>3</th><td>3.2</td><td>0</td></tr><tr><th>4</th><td>3.1</td><td>0</td></tr><tr><th>5</th><td>3.6</td><td>0</td></tr><tr><th>6</th><td>3.9</td><td>0</td></tr><tr><th>7</th><td>3.4</td><td>0</td></tr><tr><th>8</th><td>3.4</td><td>0</td></tr><tr><th>9</th><td>2.9</td><td>0</td></tr><tr><th>10</th><td>3.1</td><td>0</td></tr><tr><th>11</th><td>3.7</td><td>0</td></tr><tr><th>12</th><td>3.4</td><td>0</td></tr><tr><th>13</th><td>3.0</td><td>0</td></tr><tr><th>14</th><td>3.0</td><td>0</td></tr><tr><th>15</th><td>4.0</td><td>0</td></tr><tr><th>16</th><td>4.4</td><td>0</td></tr><tr><th>17</th><td>3.9</td><td>0</td></tr><tr><th>18</th><td>3.5</td><td>0</td></tr><tr><th>19</th><td>3.8</td><td>0</td></tr><tr><th>20</th><td>3.8</td><td>0</td></tr><tr><th>21</th><td>3.4</td><td>0</td></tr><tr><th>22</th><td>3.7</td><td>0</td></tr><tr><th>23</th><td>3.6</td><td>0</td></tr><tr><th>24</th><td>3.3</td><td>0</td></tr><tr><th>25</th><td>3.4</td><td>0</td></tr><tr><th>26</th><td>3.0</td><td>0</td></tr><tr><th>27</th><td>3.4</td><td>0</td></tr><tr><th>28</th><td>3.5</td><td>0</td></tr><tr><th>29</th><td>3.4</td><td>0</td></tr><tr><th>30</th><td>3.2</td><td>0</td></tr><tr><th>&vellip;</th><td>&vellip;</td><td>&vellip;</td></tr></tbody></table>"
      ],
      "text/latex": [
       "\\begin{tabular}{r|cc}\n",
       "\t& Width & Matches\\\\\n",
       "\t\\hline\n",
       "\t& Float64 & Int64\\\\\n",
       "\t\\hline\n",
       "\t1 & 3.5 & 0 \\\\\n",
       "\t2 & 3.0 & 0 \\\\\n",
       "\t3 & 3.2 & 0 \\\\\n",
       "\t4 & 3.1 & 0 \\\\\n",
       "\t5 & 3.6 & 0 \\\\\n",
       "\t6 & 3.9 & 0 \\\\\n",
       "\t7 & 3.4 & 0 \\\\\n",
       "\t8 & 3.4 & 0 \\\\\n",
       "\t9 & 2.9 & 0 \\\\\n",
       "\t10 & 3.1 & 0 \\\\\n",
       "\t11 & 3.7 & 0 \\\\\n",
       "\t12 & 3.4 & 0 \\\\\n",
       "\t13 & 3.0 & 0 \\\\\n",
       "\t14 & 3.0 & 0 \\\\\n",
       "\t15 & 4.0 & 0 \\\\\n",
       "\t16 & 4.4 & 0 \\\\\n",
       "\t17 & 3.9 & 0 \\\\\n",
       "\t18 & 3.5 & 0 \\\\\n",
       "\t19 & 3.8 & 0 \\\\\n",
       "\t20 & 3.8 & 0 \\\\\n",
       "\t21 & 3.4 & 0 \\\\\n",
       "\t22 & 3.7 & 0 \\\\\n",
       "\t23 & 3.6 & 0 \\\\\n",
       "\t24 & 3.3 & 0 \\\\\n",
       "\t25 & 3.4 & 0 \\\\\n",
       "\t26 & 3.0 & 0 \\\\\n",
       "\t27 & 3.4 & 0 \\\\\n",
       "\t28 & 3.5 & 0 \\\\\n",
       "\t29 & 3.4 & 0 \\\\\n",
       "\t30 & 3.2 & 0 \\\\\n",
       "\t$\\dots$ & $\\dots$ & $\\dots$ \\\\\n",
       "\\end{tabular}\n"
      ],
      "text/plain": [
       "150×2 DataFrame\n",
       "│ Row │ Width   │ Matches │\n",
       "│     │ \u001b[90mFloat64\u001b[39m │ \u001b[90mInt64\u001b[39m   │\n",
       "├─────┼─────────┼─────────┤\n",
       "│ 1   │ 3.5     │ 0       │\n",
       "│ 2   │ 3.0     │ 0       │\n",
       "│ 3   │ 3.2     │ 0       │\n",
       "│ 4   │ 3.1     │ 0       │\n",
       "│ 5   │ 3.6     │ 0       │\n",
       "│ 6   │ 3.9     │ 0       │\n",
       "│ 7   │ 3.4     │ 0       │\n",
       "│ 8   │ 3.4     │ 0       │\n",
       "│ 9   │ 2.9     │ 0       │\n",
       "│ 10  │ 3.1     │ 0       │\n",
       "⋮\n",
       "│ 140 │ 3.1     │ 0       │\n",
       "│ 141 │ 3.1     │ 0       │\n",
       "│ 142 │ 3.1     │ 0       │\n",
       "│ 143 │ 2.7     │ 0       │\n",
       "│ 144 │ 3.2     │ 0       │\n",
       "│ 145 │ 3.3     │ 0       │\n",
       "│ 146 │ 3.0     │ 0       │\n",
       "│ 147 │ 2.5     │ 0       │\n",
       "│ 148 │ 3.0     │ 0       │\n",
       "│ 149 │ 3.4     │ 0       │\n",
       "│ 150 │ 3.0     │ 0       │"
      ]
     },
     "execution_count": 18,
     "metadata": {},
     "output_type": "execute_result"
    }
   ],
   "source": [
    "groupjoined_dataset=iris |>\n",
    "    @groupjoin(cars, _.sepalWidth, _.Acceleration, {Width=_.sepalWidth, Matches=count(__)}) |>\n",
    "    DataFrame"
   ]
  },
  {
   "cell_type": "markdown",
   "metadata": {},
   "source": [
    "The function **join** is in its structure similar to **groupjoin**.\n",
    "However the main difference is, that we can include one additional column per dataset. Thereby the join mechanism makes it possible to compare two columns from different datasets based on a grouping mechanism with the other two columns. The example shows this clearly. \n",
    "To illustrate it is best to explain the meaning of the variables.\n",
    "*ProductID*: This variable acts as our baseline. It shows the possible values that the numbers can take. \n",
    "*Price*: This is just some logical connection to *ProductID*. In this case it is just the square root. In reality it could be anything(here it must be a value). The logic behind this is: if range == 1, then connect0 == something\n",
    "*ProductsoldID*: This is just an array of random numbers within the range of our baseline.\n",
    "*NumberProductsSold*: Again this is just some logical connection to *randomnumbers1*. \n",
    "When we use the **join** function it matches the random numbers with the baseline. \n",
    "In a second step, both *ProductsoldID* and *ProductID* then match this with the other column within their dataset. \n",
    "Hence we could calculate a next column that shows the revenue that was created. "
   ]
  },
  {
   "cell_type": "code",
   "execution_count": 19,
   "metadata": {},
   "outputs": [
    {
     "data": {
      "text/html": [
       "<table class=\"data-frame\"><thead><tr><th></th><th>ProductID</th><th>Price</th><th>ProductsoldID</th><th>NumberProductsSold</th><th>Revenue</th></tr><tr><th></th><th>Int64</th><th>Float64</th><th>Int64</th><th>Int64</th><th>Float64</th></tr></thead><tbody><p>6 rows × 5 columns</p><tr><th>1</th><td>2</td><td>4.0</td><td>2</td><td>6</td><td>24.0</td></tr><tr><th>2</th><td>3</td><td>9.0</td><td>3</td><td>2</td><td>18.0</td></tr><tr><th>3</th><td>3</td><td>9.0</td><td>3</td><td>4</td><td>36.0</td></tr><tr><th>4</th><td>4</td><td>16.0</td><td>4</td><td>5</td><td>80.0</td></tr><tr><th>5</th><td>6</td><td>36.0</td><td>6</td><td>1</td><td>36.0</td></tr><tr><th>6</th><td>6</td><td>36.0</td><td>6</td><td>3</td><td>108.0</td></tr></tbody></table>"
      ],
      "text/latex": [
       "\\begin{tabular}{r|ccccc}\n",
       "\t& ProductID & Price & ProductsoldID & NumberProductsSold & Revenue\\\\\n",
       "\t\\hline\n",
       "\t& Int64 & Float64 & Int64 & Int64 & Float64\\\\\n",
       "\t\\hline\n",
       "\t1 & 2 & 4.0 & 2 & 6 & 24.0 \\\\\n",
       "\t2 & 3 & 9.0 & 3 & 2 & 18.0 \\\\\n",
       "\t3 & 3 & 9.0 & 3 & 4 & 36.0 \\\\\n",
       "\t4 & 4 & 16.0 & 4 & 5 & 80.0 \\\\\n",
       "\t5 & 6 & 36.0 & 6 & 1 & 36.0 \\\\\n",
       "\t6 & 6 & 36.0 & 6 & 3 & 108.0 \\\\\n",
       "\\end{tabular}\n"
      ],
      "text/plain": [
       "6×5 DataFrame\n",
       "│ Row │ ProductID │ Price   │ ProductsoldID │ NumberProductsSold │ Revenue │\n",
       "│     │ \u001b[90mInt64\u001b[39m     │ \u001b[90mFloat64\u001b[39m │ \u001b[90mInt64\u001b[39m         │ \u001b[90mInt64\u001b[39m              │ \u001b[90mFloat64\u001b[39m │\n",
       "├─────┼───────────┼─────────┼───────────────┼────────────────────┼─────────┤\n",
       "│ 1   │ 2         │ 4.0     │ 2             │ 6                  │ 24.0    │\n",
       "│ 2   │ 3         │ 9.0     │ 3             │ 2                  │ 18.0    │\n",
       "│ 3   │ 3         │ 9.0     │ 3             │ 4                  │ 36.0    │\n",
       "│ 4   │ 4         │ 16.0    │ 4             │ 5                  │ 80.0    │\n",
       "│ 5   │ 6         │ 36.0    │ 6             │ 1                  │ 36.0    │\n",
       "│ 6   │ 6         │ 36.0    │ 6             │ 3                  │ 108.0   │"
      ]
     },
     "execution_count": 19,
     "metadata": {},
     "output_type": "execute_result"
    }
   ],
   "source": [
    "df1= DataFrame(ProductID=[1,2,3,4,5,6], Price=[1.0,4.0,9.0,16.0,25.0,36.0])\n",
    "df2= DataFrame(ProductsoldID=[rand(1:6),rand(1:6),rand(1:6),rand(1:6),rand(1:6),rand(1:6),], \n",
    "    NumberProductsSold=[1,2,3,4,5,6])\n",
    "joined_dataset= df1 |>\n",
    "        @join(df2, _.ProductID, _.ProductsoldID,\n",
    "    {_.ProductID, _.Price,\n",
    "    __.ProductsoldID, __.NumberProductsSold,})|>\n",
    "        DataFrame\n",
    "y=joined_dataset[:Price]\n",
    "x=joined_dataset[:NumberProductsSold]\n",
    "revenue=DataFrame(Revenue=joined_dataset[:Price].*joined_dataset[:NumberProductsSold])\n",
    "joined_dataset=hcat(joined_dataset, revenue)"
   ]
  },
  {
   "cell_type": "markdown",
   "metadata": {},
   "source": [
    "**mapmany** is a function that works similar to a multiple **filter**. In the example beneath it takes a key and then for that key it iterates over the three different variables that were inserted as an argument. Hence what we get is a column that goes through every variable named in the collection_selector for the key(s) that we defined. <br />"
   ]
  },
  {
   "cell_type": "code",
   "execution_count": 20,
   "metadata": {},
   "outputs": [
    {
     "data": {
      "text/html": [
       "<table class=\"data-frame\"><thead><tr><th></th><th>Key</th><th>Value</th></tr><tr><th></th><th>Date</th><th>Float64</th></tr></thead><tbody><p>4,383 rows × 2 columns</p><tr><th>1</th><td>2012-01-01</td><td>12.8</td></tr><tr><th>2</th><td>2012-01-01</td><td>5.0</td></tr><tr><th>3</th><td>2012-01-01</td><td>4.7</td></tr><tr><th>4</th><td>2012-01-02</td><td>10.6</td></tr><tr><th>5</th><td>2012-01-02</td><td>2.8</td></tr><tr><th>6</th><td>2012-01-02</td><td>4.5</td></tr><tr><th>7</th><td>2012-01-03</td><td>11.7</td></tr><tr><th>8</th><td>2012-01-03</td><td>7.2</td></tr><tr><th>9</th><td>2012-01-03</td><td>2.3</td></tr><tr><th>10</th><td>2012-01-04</td><td>12.2</td></tr><tr><th>11</th><td>2012-01-04</td><td>5.6</td></tr><tr><th>12</th><td>2012-01-04</td><td>4.7</td></tr><tr><th>13</th><td>2012-01-05</td><td>8.9</td></tr><tr><th>14</th><td>2012-01-05</td><td>2.8</td></tr><tr><th>15</th><td>2012-01-05</td><td>6.1</td></tr><tr><th>16</th><td>2012-01-06</td><td>4.4</td></tr><tr><th>17</th><td>2012-01-06</td><td>2.2</td></tr><tr><th>18</th><td>2012-01-06</td><td>2.2</td></tr><tr><th>19</th><td>2012-01-07</td><td>7.2</td></tr><tr><th>20</th><td>2012-01-07</td><td>2.8</td></tr><tr><th>21</th><td>2012-01-07</td><td>2.3</td></tr><tr><th>22</th><td>2012-01-08</td><td>10.0</td></tr><tr><th>23</th><td>2012-01-08</td><td>2.8</td></tr><tr><th>24</th><td>2012-01-08</td><td>2.0</td></tr><tr><th>25</th><td>2012-01-09</td><td>9.4</td></tr><tr><th>26</th><td>2012-01-09</td><td>5.0</td></tr><tr><th>27</th><td>2012-01-09</td><td>3.4</td></tr><tr><th>28</th><td>2012-01-10</td><td>6.1</td></tr><tr><th>29</th><td>2012-01-10</td><td>0.6</td></tr><tr><th>30</th><td>2012-01-10</td><td>3.4</td></tr><tr><th>&vellip;</th><td>&vellip;</td><td>&vellip;</td></tr></tbody></table>"
      ],
      "text/latex": [
       "\\begin{tabular}{r|cc}\n",
       "\t& Key & Value\\\\\n",
       "\t\\hline\n",
       "\t& Date & Float64\\\\\n",
       "\t\\hline\n",
       "\t1 & 2012-01-01 & 12.8 \\\\\n",
       "\t2 & 2012-01-01 & 5.0 \\\\\n",
       "\t3 & 2012-01-01 & 4.7 \\\\\n",
       "\t4 & 2012-01-02 & 10.6 \\\\\n",
       "\t5 & 2012-01-02 & 2.8 \\\\\n",
       "\t6 & 2012-01-02 & 4.5 \\\\\n",
       "\t7 & 2012-01-03 & 11.7 \\\\\n",
       "\t8 & 2012-01-03 & 7.2 \\\\\n",
       "\t9 & 2012-01-03 & 2.3 \\\\\n",
       "\t10 & 2012-01-04 & 12.2 \\\\\n",
       "\t11 & 2012-01-04 & 5.6 \\\\\n",
       "\t12 & 2012-01-04 & 4.7 \\\\\n",
       "\t13 & 2012-01-05 & 8.9 \\\\\n",
       "\t14 & 2012-01-05 & 2.8 \\\\\n",
       "\t15 & 2012-01-05 & 6.1 \\\\\n",
       "\t16 & 2012-01-06 & 4.4 \\\\\n",
       "\t17 & 2012-01-06 & 2.2 \\\\\n",
       "\t18 & 2012-01-06 & 2.2 \\\\\n",
       "\t19 & 2012-01-07 & 7.2 \\\\\n",
       "\t20 & 2012-01-07 & 2.8 \\\\\n",
       "\t21 & 2012-01-07 & 2.3 \\\\\n",
       "\t22 & 2012-01-08 & 10.0 \\\\\n",
       "\t23 & 2012-01-08 & 2.8 \\\\\n",
       "\t24 & 2012-01-08 & 2.0 \\\\\n",
       "\t25 & 2012-01-09 & 9.4 \\\\\n",
       "\t26 & 2012-01-09 & 5.0 \\\\\n",
       "\t27 & 2012-01-09 & 3.4 \\\\\n",
       "\t28 & 2012-01-10 & 6.1 \\\\\n",
       "\t29 & 2012-01-10 & 0.6 \\\\\n",
       "\t30 & 2012-01-10 & 3.4 \\\\\n",
       "\t$\\dots$ & $\\dots$ & $\\dots$ \\\\\n",
       "\\end{tabular}\n"
      ],
      "text/plain": [
       "4383×2 DataFrame\n",
       "│ Row  │ Key        │ Value   │\n",
       "│      │ \u001b[90mDate\u001b[39m       │ \u001b[90mFloat64\u001b[39m │\n",
       "├──────┼────────────┼─────────┤\n",
       "│ 1    │ 2012-01-01 │ 12.8    │\n",
       "│ 2    │ 2012-01-01 │ 5.0     │\n",
       "│ 3    │ 2012-01-01 │ 4.7     │\n",
       "│ 4    │ 2012-01-02 │ 10.6    │\n",
       "│ 5    │ 2012-01-02 │ 2.8     │\n",
       "│ 6    │ 2012-01-02 │ 4.5     │\n",
       "│ 7    │ 2012-01-03 │ 11.7    │\n",
       "│ 8    │ 2012-01-03 │ 7.2     │\n",
       "│ 9    │ 2012-01-03 │ 2.3     │\n",
       "│ 10   │ 2012-01-04 │ 12.2    │\n",
       "⋮\n",
       "│ 4373 │ 2015-12-28 │ 1.7     │\n",
       "│ 4374 │ 2015-12-28 │ 1.3     │\n",
       "│ 4375 │ 2015-12-29 │ 7.2     │\n",
       "│ 4376 │ 2015-12-29 │ 0.6     │\n",
       "│ 4377 │ 2015-12-29 │ 2.6     │\n",
       "│ 4378 │ 2015-12-30 │ 5.6     │\n",
       "│ 4379 │ 2015-12-30 │ -1.0    │\n",
       "│ 4380 │ 2015-12-30 │ 3.4     │\n",
       "│ 4381 │ 2015-12-31 │ 5.6     │\n",
       "│ 4382 │ 2015-12-31 │ -2.1    │\n",
       "│ 4383 │ 2015-12-31 │ 3.5     │"
      ]
     },
     "execution_count": 20,
     "metadata": {},
     "output_type": "execute_result"
    }
   ],
   "source": [
    "df1= DataFrame(dataset(\"seattle-weather\"))\n",
    "df = df1 |>\n",
    "        @mapmany((_.temp_max,_.temp_min, _.wind) , {Key=_.date, Value=__}) |>\n",
    "        DataFrame"
   ]
  },
  {
   "cell_type": "markdown",
   "metadata": {},
   "source": [
    "Further commands that are useful for queries: <br />\n",
    "1. take() => This takes the first n elements. For example, take(5) will take the first five elements.\n",
    "2. drop() => This drops the first n elements. For example, drop(5) will drop the first five elements.\n",
    "3. unique() => This gets rid of all the duplicates.\n",
    "4. select() => This selects different elements from different sources and can put them together in one dataframe.\n",
    "5. rename() => This renames the header of a column. \n",
    "6. mutate() => This transforms the content of a column by various commands (e.g. multiplying, adding...).\n",
    "\n"
   ]
  },
  {
   "cell_type": "markdown",
   "metadata": {},
   "source": [
    "<a id=\"small\"></a> \n",
    "# Mutations\n",
    "\n",
    "## Missing Values\n",
    "\n",
    "It is now time to introduce how to work with missing values. Although we would prefere to only see complete datasets without any missing values it is essention to know how to handle them if they occur. Otherwise we end up easily with annoying error messeges or in the worst case with completly wrong results. Before going to code examples we want to illustrate the problem. Let us have a look at the results of a survey about salarys.\n",
    "<img src=\"./img/examplemissing.png\">\n",
    "The Table shows the Salary of Anna, Fritz and Max. For illustration purpose we assume we know the true salary of them which is shown in the second column. But in reality Fritz refused to answer the question about his salary therefore in column three to five show often used ways to encode missing values are shown. (Na, ., -1). \n",
    "When we want to calculate mean salary we can not get the true value of 33333.33 but typically would calculate the mean of those who answered and end up with 35000. The problem is that we currently don't handle missing values appropriatly. While the error massage we get for columns three and four are just annoying we see immediatly that there is a problem in our analysis. On the other hand if we end up with a result as illustrated in the last column we are in huge trouble. Clearly we do not wan't to present an mean salary of 23333. \n",
    "Therefore if we work with a dataset generated by someone else we should have a close lock at the dumumentation to see how missing values are encoded. This allows us to replace those by \"missing\" the proper type to handle missing values within Julia. As soon as we encoded the missing values properly we can sue the skipmissing function therby ignoring all entries with missing values which is often the standard approach to handle missing values. In the code below we import the dataset show in the table above. Then we show the problems with missing values and how to solve those using the last column as example. The code can be addapted without problem."
   ]
  },
  {
   "cell_type": "code",
   "execution_count": 21,
   "metadata": {},
   "outputs": [
    {
     "name": "stdout",
     "output_type": "stream",
     "text": [
      "This is our result if we ignore the encoding of missing values 23333.0\n",
      "This is our result if we encode the missing values properly 35000.0\n"
     ]
    }
   ],
   "source": [
    "# load packages\n",
    "using Statistics\n",
    "# Import example Data\n",
    "df = DataFrame(load(\".//data//examplemissing.xlsx\", \"Sheet1\"))\n",
    "# Change the dataframe to allow it to contain missing values\n",
    "allowmissing!(df)\n",
    "avgsalary = mean(df[:,5])\n",
    "println(\"This is our result if we ignore the encoding of missing values \",avgsalary)\n",
    "# Recode -1 as missing \n",
    "nRows, nCols = size(df)\n",
    "        for row in 1:nRows\n",
    "            for col in 1:nCols\n",
    "                auxValue = df[row,col]\n",
    "                if auxValue == -1\n",
    "                    df[row,col] = missing\n",
    "                end\n",
    "            end\n",
    "        end\n",
    "avgsalary = mean(skipmissing(df[:,5]))\n",
    "println(\"This is our result if we encode the missing values properly \",avgsalary)"
   ]
  },
  {
   "cell_type": "markdown",
   "metadata": {},
   "source": [
    "## Date Problems\n",
    "This section talks about problems that may incurr because of different time/date formatting of datasets. When merging such datasets or performing any tasks it might cause faulty operations due to the formatting differences. For example imagine that we use stock data from the SMI and stock data from the NYSE. When we download this data, the distributors of the data use different date formats. When we merge the data we are faced with the following problem: <br />\n",
    "**European Format**: 10.01.2000 (Indicating January 10th) <br />\n",
    "**US Format**: 10.01.200 (Indicating October 1st) <br />\n",
    "Hence for ambigous Data (uptil number 12 it could be either month or day) we could face wrong categorization. Therefore it is crucial to pay attention to such details to ensure the validity of your data. <br />\n",
    "A good approach in this case is to analyse it mechanically, meaning that you take a look at the dates yourself, and then, if needed, you change the type of data of both to ensure correctness. \n",
    "The package to change the type of data is most commonly **Dates.jl**. <br /> \n",
    "In the following code we use this package: <br /> \n",
    "What happens in this code is that we try to merge two different datasets, however for one dataset the Date is formatted in strings. With the *Dates.DateTime* we change the type of format from string to date and then pursue to join the datasets based on the date. \n",
    "As the length of the columns for dataset *climate* and *seattle* differs we perform a *left_outer_join* command that takes the \"left\" dataset and matches the other dataset to it. Because of the different lengths at some point one dataset does not have any further values. The left_outer_join command fills these with *missing*."
   ]
  },
  {
   "cell_type": "code",
   "execution_count": 22,
   "metadata": {},
   "outputs": [
    {
     "data": {
      "text/html": [
       "<table class=\"data-frame\"><thead><tr><th></th><th>date</th><th>temp</th><th>ELEVATION</th></tr><tr><th></th><th>DateTime</th><th>Float64</th><th>Float64⍰</th></tr></thead><tbody><p>8,759 rows × 3 columns</p><tr><th>1</th><td>2010-01-01T00:00:00</td><td>39.4</td><td>645.3</td></tr><tr><th>2</th><td>2010-01-01T01:00:00</td><td>39.2</td><td>645.3</td></tr><tr><th>3</th><td>2010-01-01T02:00:00</td><td>39.0</td><td>645.3</td></tr><tr><th>4</th><td>2010-01-01T03:00:00</td><td>38.9</td><td>645.3</td></tr><tr><th>5</th><td>2010-01-01T04:00:00</td><td>38.8</td><td>645.3</td></tr><tr><th>6</th><td>2010-01-01T05:00:00</td><td>38.7</td><td>645.3</td></tr><tr><th>7</th><td>2010-01-01T06:00:00</td><td>38.7</td><td>645.3</td></tr><tr><th>8</th><td>2010-01-01T07:00:00</td><td>38.6</td><td>645.3</td></tr><tr><th>9</th><td>2010-01-01T08:00:00</td><td>38.7</td><td>645.3</td></tr><tr><th>10</th><td>2010-01-01T09:00:00</td><td>39.2</td><td>645.3</td></tr><tr><th>11</th><td>2010-01-01T10:00:00</td><td>40.1</td><td>645.3</td></tr><tr><th>12</th><td>2010-01-01T11:00:00</td><td>41.3</td><td>645.3</td></tr><tr><th>13</th><td>2010-01-01T12:00:00</td><td>42.5</td><td>645.3</td></tr><tr><th>14</th><td>2010-01-01T13:00:00</td><td>43.2</td><td>645.3</td></tr><tr><th>15</th><td>2010-01-01T14:00:00</td><td>43.5</td><td>645.3</td></tr><tr><th>16</th><td>2010-01-01T15:00:00</td><td>43.3</td><td>645.3</td></tr><tr><th>17</th><td>2010-01-01T16:00:00</td><td>42.7</td><td>645.3</td></tr><tr><th>18</th><td>2010-01-01T17:00:00</td><td>41.7</td><td>645.3</td></tr><tr><th>19</th><td>2010-01-01T18:00:00</td><td>41.2</td><td>645.3</td></tr><tr><th>20</th><td>2010-01-01T19:00:00</td><td>40.9</td><td>645.3</td></tr><tr><th>21</th><td>2010-01-01T20:00:00</td><td>40.7</td><td>645.3</td></tr><tr><th>22</th><td>2010-01-01T21:00:00</td><td>40.4</td><td>645.3</td></tr><tr><th>23</th><td>2010-01-01T22:00:00</td><td>40.2</td><td>645.3</td></tr><tr><th>24</th><td>2010-01-01T23:00:00</td><td>39.9</td><td>645.3</td></tr><tr><th>25</th><td>2010-01-02T00:00:00</td><td>39.6</td><td>645.3</td></tr><tr><th>26</th><td>2010-01-02T01:00:00</td><td>39.4</td><td>645.3</td></tr><tr><th>27</th><td>2010-01-02T02:00:00</td><td>39.3</td><td>645.3</td></tr><tr><th>28</th><td>2010-01-02T03:00:00</td><td>39.1</td><td>645.3</td></tr><tr><th>29</th><td>2010-01-02T04:00:00</td><td>39.0</td><td>645.3</td></tr><tr><th>30</th><td>2010-01-02T05:00:00</td><td>38.9</td><td>645.3</td></tr><tr><th>&vellip;</th><td>&vellip;</td><td>&vellip;</td><td>&vellip;</td></tr></tbody></table>"
      ],
      "text/latex": [
       "\\begin{tabular}{r|ccc}\n",
       "\t& date & temp & ELEVATION\\\\\n",
       "\t\\hline\n",
       "\t& DateTime & Float64 & Float64⍰\\\\\n",
       "\t\\hline\n",
       "\t1 & 2010-01-01T00:00:00 & 39.4 & 645.3 \\\\\n",
       "\t2 & 2010-01-01T01:00:00 & 39.2 & 645.3 \\\\\n",
       "\t3 & 2010-01-01T02:00:00 & 39.0 & 645.3 \\\\\n",
       "\t4 & 2010-01-01T03:00:00 & 38.9 & 645.3 \\\\\n",
       "\t5 & 2010-01-01T04:00:00 & 38.8 & 645.3 \\\\\n",
       "\t6 & 2010-01-01T05:00:00 & 38.7 & 645.3 \\\\\n",
       "\t7 & 2010-01-01T06:00:00 & 38.7 & 645.3 \\\\\n",
       "\t8 & 2010-01-01T07:00:00 & 38.6 & 645.3 \\\\\n",
       "\t9 & 2010-01-01T08:00:00 & 38.7 & 645.3 \\\\\n",
       "\t10 & 2010-01-01T09:00:00 & 39.2 & 645.3 \\\\\n",
       "\t11 & 2010-01-01T10:00:00 & 40.1 & 645.3 \\\\\n",
       "\t12 & 2010-01-01T11:00:00 & 41.3 & 645.3 \\\\\n",
       "\t13 & 2010-01-01T12:00:00 & 42.5 & 645.3 \\\\\n",
       "\t14 & 2010-01-01T13:00:00 & 43.2 & 645.3 \\\\\n",
       "\t15 & 2010-01-01T14:00:00 & 43.5 & 645.3 \\\\\n",
       "\t16 & 2010-01-01T15:00:00 & 43.3 & 645.3 \\\\\n",
       "\t17 & 2010-01-01T16:00:00 & 42.7 & 645.3 \\\\\n",
       "\t18 & 2010-01-01T17:00:00 & 41.7 & 645.3 \\\\\n",
       "\t19 & 2010-01-01T18:00:00 & 41.2 & 645.3 \\\\\n",
       "\t20 & 2010-01-01T19:00:00 & 40.9 & 645.3 \\\\\n",
       "\t21 & 2010-01-01T20:00:00 & 40.7 & 645.3 \\\\\n",
       "\t22 & 2010-01-01T21:00:00 & 40.4 & 645.3 \\\\\n",
       "\t23 & 2010-01-01T22:00:00 & 40.2 & 645.3 \\\\\n",
       "\t24 & 2010-01-01T23:00:00 & 39.9 & 645.3 \\\\\n",
       "\t25 & 2010-01-02T00:00:00 & 39.6 & 645.3 \\\\\n",
       "\t26 & 2010-01-02T01:00:00 & 39.4 & 645.3 \\\\\n",
       "\t27 & 2010-01-02T02:00:00 & 39.3 & 645.3 \\\\\n",
       "\t28 & 2010-01-02T03:00:00 & 39.1 & 645.3 \\\\\n",
       "\t29 & 2010-01-02T04:00:00 & 39.0 & 645.3 \\\\\n",
       "\t30 & 2010-01-02T05:00:00 & 38.9 & 645.3 \\\\\n",
       "\t$\\dots$ & $\\dots$ & $\\dots$ & $\\dots$ \\\\\n",
       "\\end{tabular}\n"
      ],
      "text/plain": [
       "8759×3 DataFrame\n",
       "│ Row  │ date                │ temp    │ ELEVATION │\n",
       "│      │ \u001b[90mDateTime\u001b[39m            │ \u001b[90mFloat64\u001b[39m │ \u001b[90mFloat64⍰\u001b[39m  │\n",
       "├──────┼─────────────────────┼─────────┼───────────┤\n",
       "│ 1    │ 2010-01-01T00:00:00 │ 39.4    │ 645.3     │\n",
       "│ 2    │ 2010-01-01T01:00:00 │ 39.2    │ 645.3     │\n",
       "│ 3    │ 2010-01-01T02:00:00 │ 39.0    │ 645.3     │\n",
       "│ 4    │ 2010-01-01T03:00:00 │ 38.9    │ 645.3     │\n",
       "│ 5    │ 2010-01-01T04:00:00 │ 38.8    │ 645.3     │\n",
       "│ 6    │ 2010-01-01T05:00:00 │ 38.7    │ 645.3     │\n",
       "│ 7    │ 2010-01-01T06:00:00 │ 38.7    │ 645.3     │\n",
       "│ 8    │ 2010-01-01T07:00:00 │ 38.6    │ 645.3     │\n",
       "│ 9    │ 2010-01-01T08:00:00 │ 38.7    │ 645.3     │\n",
       "│ 10   │ 2010-01-01T09:00:00 │ 39.2    │ 645.3     │\n",
       "⋮\n",
       "│ 8749 │ 2010-12-31T13:00:00 │ 43.0    │ \u001b[90mmissing\u001b[39m   │\n",
       "│ 8750 │ 2010-12-31T14:00:00 │ 43.3    │ \u001b[90mmissing\u001b[39m   │\n",
       "│ 8751 │ 2010-12-31T15:00:00 │ 43.1    │ \u001b[90mmissing\u001b[39m   │\n",
       "│ 8752 │ 2010-12-31T16:00:00 │ 42.5    │ \u001b[90mmissing\u001b[39m   │\n",
       "│ 8753 │ 2010-12-31T17:00:00 │ 41.5    │ \u001b[90mmissing\u001b[39m   │\n",
       "│ 8754 │ 2010-12-31T18:00:00 │ 41.0    │ \u001b[90mmissing\u001b[39m   │\n",
       "│ 8755 │ 2010-12-31T19:00:00 │ 40.7    │ \u001b[90mmissing\u001b[39m   │\n",
       "│ 8756 │ 2010-12-31T20:00:00 │ 40.5    │ \u001b[90mmissing\u001b[39m   │\n",
       "│ 8757 │ 2010-12-31T21:00:00 │ 40.2    │ \u001b[90mmissing\u001b[39m   │\n",
       "│ 8758 │ 2010-12-31T22:00:00 │ 40.0    │ \u001b[90mmissing\u001b[39m   │\n",
       "│ 8759 │ 2010-12-31T23:00:00 │ 39.6    │ \u001b[90mmissing\u001b[39m   │"
      ]
     },
     "execution_count": 22,
     "metadata": {},
     "output_type": "execute_result"
    }
   ],
   "source": [
    "climate=DataFrame(dataset(\"climate\"))\n",
    "climate[:DATE]=Dates.DateTime.(climate[:DATE], \"yyyymmdd HH:MM\")\n",
    "# typeof(climate[:DATE])\n",
    "# climate\n",
    "seattle=DataFrame(dataset(\"seattle-temps\"))\n",
    "joined_dataset = @from i in seattle begin\n",
    "    @left_outer_join j in climate on i.date equals j.DATE\n",
    "    @select {i.date,i.temp,j.ELEVATION}\n",
    "    @collect DataFrame\n",
    "end\n",
    "joined_dataset"
   ]
  },
  {
   "cell_type": "markdown",
   "metadata": {},
   "source": [
    "## Change Column Types of a Dataframe\n",
    "Sometimes it can be usefull to change the column type in a Dataframe. How to do this is shown in the code below\n"
   ]
  },
  {
   "cell_type": "code",
   "execution_count": 23,
   "metadata": {},
   "outputs": [
    {
     "data": {
      "text/plain": [
       "typeof(mean)"
      ]
     },
     "execution_count": 23,
     "metadata": {},
     "output_type": "execute_result"
    }
   ],
   "source": [
    "typeof(mean)"
   ]
  },
  {
   "cell_type": "markdown",
   "metadata": {},
   "source": [
    "<a id=\"documentation\"></a> \n",
    "# Appendix \n",
    "As our short tutorial can not mention all the option of the packages we provide here links to the documentaion of packages we think are important in our tutorial.<br>\n",
    "DataFrame [https://juliadata.github.io/DataFrames.jl/stable/] <br>\n",
    "Query [http://www.queryverse.org/Query.jl/stable/]<br>\n",
    "VegaLite [http://fredo-dedup.github.io/VegaLite.jl/stable/]<br>\n",
    "StatsBase[http://juliastats.github.io/StatsBase.jl/stable/]<br>\n",
    "Dates[https://docs.julialang.org/en/v1/stdlib/Dates/index.html]<br>"
   ]
  }
 ],
 "metadata": {
  "kernelspec": {
   "display_name": "Julia 1.1.0",
   "language": "julia",
   "name": "julia-1.1"
  },
  "language_info": {
   "file_extension": ".jl",
   "mimetype": "application/julia",
   "name": "julia",
   "version": "1.1.0"
  }
 },
 "nbformat": 4,
 "nbformat_minor": 2
}
